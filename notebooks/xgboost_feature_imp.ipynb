{
 "cells": [
  {
   "cell_type": "code",
   "execution_count": 227,
   "metadata": {},
   "outputs": [],
   "source": [
    "# Import necessary libraries\n",
    "import pandas as pd\n",
    "from xgboost import XGBRegressor\n",
    "from sklearn.model_selection import train_test_split\n",
    "from sklearn.metrics import mean_squared_error\n",
    "import matplotlib.pyplot as plt\n",
    "import numpy as np\n",
    "import regex"
   ]
  },
  {
   "cell_type": "code",
   "execution_count": 228,
   "metadata": {},
   "outputs": [],
   "source": [
    "# load data\n",
    "data = pd.read_parquet('../data/curated/features_domain.parquet')  "
   ]
  },
  {
   "cell_type": "code",
   "execution_count": 229,
   "metadata": {},
   "outputs": [],
   "source": [
    "data.drop(columns=['url','price','latitude','longitude','geometry', 'geometry_proj', 'index_right','bond'], inplace=True)"
   ]
  },
  {
   "cell_type": "code",
   "execution_count": 230,
   "metadata": {},
   "outputs": [],
   "source": [
    "data.columns = [regex.sub(\"_\", col) if any(x in str(col) for x in set(('[', ']', '<'))) else col for col in data.columns.values]"
   ]
  },
  {
   "cell_type": "code",
   "execution_count": 231,
   "metadata": {},
   "outputs": [
    {
     "name": "stderr",
     "output_type": "stream",
     "text": [
      "/var/folders/b6/nv55vzd50gz6bs69664021z00000gn/T/ipykernel_96392/2789691663.py:1: FutureWarning: The default value of numeric_only in DataFrame.corr is deprecated. In a future version, it will default to False. Select only valid columns or specify the value of numeric_only to silence this warning.\n",
      "  corr_matrix = data.corr().abs()\n"
     ]
    },
    {
     "name": "stdout",
     "output_type": "stream",
     "text": [
      "Top 20 pairs with the highest correlation:\n",
      "sa3_code and SA2 code_x: 1.0000\n",
      "SA2 code_x and sa3_code: 1.0000\n",
      "areasqkm and area_km2: 1.0000\n",
      "area_km2 and areasqkm: 1.0000\n",
      "sa3_code and sa4_code: 1.0000\n",
      "sa4_code and sa3_code: 1.0000\n",
      "sa4_code and SA2 code_x: 1.0000\n",
      "SA2 code_x and sa4_code: 1.0000\n",
      "OCC_2031 and OCC_2036: 0.9996\n",
      "OCC_2036 and OCC_2031: 0.9996\n",
      "HHS_2031 and HHS_2036: 0.9992\n",
      "HHS_2036 and HHS_2031: 0.9992\n",
      "HHS_2026 and HHS_2031: 0.9987\n",
      "HHS_2031 and HHS_2026: 0.9987\n",
      "OCC_2026 and OCC_2031: 0.9984\n",
      "OCC_2031 and OCC_2026: 0.9984\n",
      "OCC_2026 and OCC_2036: 0.9974\n",
      "OCC_2036 and OCC_2026: 0.9974\n",
      "ERP_2036 and POPD_2036: 0.9974\n",
      "POPD_2036 and ERP_2036: 0.9974\n",
      "HHS_2026 and HHS_2036: 0.9967\n",
      "HHS_2036 and HHS_2026: 0.9967\n",
      "ERP_2031 and POPD_2031: 0.9962\n",
      "POPD_2031 and ERP_2031: 0.9962\n",
      "Top 5% and Top 10%: 0.9942\n",
      "Top 10% and Top 5%: 0.9942\n",
      "PNPD_2031 and PNPD_2036: 0.9941\n",
      "PNPD_2036 and PNPD_2031: 0.9941\n",
      "ERP_2021 and POPD_2021: 0.9936\n",
      "POPD_2021 and ERP_2021: 0.9936\n",
      "ERP_2026 and POPD_2026: 0.9936\n",
      "POPD_2026 and ERP_2026: 0.9936\n",
      "OPD_2036 and SPD_2036: 0.9915\n",
      "SPD_2036 and OPD_2036: 0.9915\n",
      "OPD_2026 and SPD_2026: 0.9914\n",
      "SPD_2026 and OPD_2026: 0.9914\n",
      "OPD_2031 and SPD_2031: 0.9913\n",
      "SPD_2031 and OPD_2031: 0.9913\n",
      "PNPD_2026 and PNPD_2031: 0.9902\n",
      "PNPD_2031 and PNPD_2026: 0.9902\n",
      "HHS_2021 and HHS_2026: 0.9891\n",
      "HHS_2026 and HHS_2021: 0.9891\n",
      "erp_2022_no. and erp_2023_no.: 0.9873\n",
      "erp_2023_no. and erp_2022_no.: 0.9873\n",
      "SPD_2031 and SPD_2036: 0.9864\n",
      "SPD_2036 and SPD_2031: 0.9864\n",
      "ERP_2031 and ERP_2036: 0.9863\n",
      "ERP_2036 and ERP_2031: 0.9863\n",
      "POPD_2031 and POPD_2036: 0.9863\n",
      "POPD_2036 and POPD_2031: 0.9863\n",
      "PNPD_2021 and PNPD_2026: 0.9861\n",
      "PNPD_2026 and PNPD_2021: 0.9861\n",
      "ERP_2021 and erp_2022_no.: 0.9850\n",
      "erp_2022_no. and ERP_2021: 0.9850\n",
      "OPD_2031 and SPD_2036: 0.9848\n",
      "SPD_2036 and OPD_2031: 0.9848\n",
      "HHS_2021 and HHS_2031: 0.9848\n",
      "HHS_2031 and HHS_2021: 0.9848\n",
      "OPD_2031 and OPD_2036: 0.9846\n",
      "OPD_2036 and OPD_2031: 0.9846\n",
      "ERP_2031 and POPD_2036: 0.9839\n",
      "POPD_2036 and ERP_2031: 0.9839\n",
      "ERP_2036 and POPD_2031: 0.9824\n",
      "POPD_2031 and ERP_2036: 0.9824\n",
      "HHS_2021 and HHS_2036: 0.9817\n",
      "HHS_2036 and HHS_2021: 0.9817\n",
      "Top 1% and Top 5%: 0.9788\n",
      "Top 5% and Top 1%: 0.9788\n",
      "population_growth_2021_2026 and total_population_growth: 0.9763\n",
      "total_population_growth and population_growth_2021_2026: 0.9763\n"
     ]
    }
   ],
   "source": [
    "corr_matrix = data.corr().abs()\n",
    "\n",
    "# Identify pairs of highly correlated features (greater than the threshold, e.g., 0.9)\n",
    "threshold = 0.9\n",
    "high_corr_var = [(i, j, corr_matrix[i][j]) for i in corr_matrix.columns for j in corr_matrix.columns if i != j and corr_matrix[i][j] > threshold]\n",
    "\n",
    "# Sort the pairs by correlation in descending order and select the top 20\n",
    "sorted_high_corr = sorted(high_corr_var, key=lambda x: x[2], reverse=True)[:70]\n",
    "\n",
    "# Print out the top 20 pairs with their correlation values\n",
    "print(\"Top 20 pairs with the highest correlation:\")\n",
    "for i, j, corr_value in sorted_high_corr:\n",
    "    print(f\"{i} and {j}: {corr_value:.4f}\")"
   ]
  },
  {
   "cell_type": "code",
   "execution_count": 232,
   "metadata": {},
   "outputs": [
    {
     "name": "stdout",
     "output_type": "stream",
     "text": [
      "Features dropped: {'OCC_2026', 'SPD_2031', 'OCC_2031', 'HHS_2021', 'POPD_2031', 'HHS_2031', 'POPD_2036', 'POPD_2026', 'population_growth_2021_2026', 'Top 5%', 'HHS_2026', 'sa3_code', 'OPD_2031', 'SPD_2036', 'sa4_code', 'POPD_2021', 'erp_2022_no.', 'ERP_2031', 'PNPD_2021', 'SPD_2026', 'area_km2', 'PNPD_2031'}\n"
     ]
    },
    {
     "name": "stderr",
     "output_type": "stream",
     "text": [
      "/var/folders/b6/nv55vzd50gz6bs69664021z00000gn/T/ipykernel_96392/3623021894.py:2: FutureWarning: The default value of numeric_only in DataFrame.corr is deprecated. In a future version, it will default to False. Select only valid columns or specify the value of numeric_only to silence this warning.\n",
      "  corr_with_target = data.corr()['extracted_price'].abs()\n"
     ]
    }
   ],
   "source": [
    "# Step 1: Calculate the correlation between each feature and 'extracted_price'\n",
    "corr_with_target = data.corr()['extracted_price'].abs()\n",
    "\n",
    "# Step 2: Set to keep track of dropped features\n",
    "dropped_features = set()\n",
    "\n",
    "# Step 3: Iterate over the sorted high-correlation pairs\n",
    "for i, j, corr_value in sorted_high_corr:\n",
    "    # Check if either feature has already been dropped\n",
    "    if i in dropped_features or j in dropped_features:\n",
    "        continue  # Skip this pair if one of them is already dropped\n",
    "\n",
    "    # Get the correlation of both features with the target variable, ensuring scalar values are used\n",
    "    corr_i = corr_with_target[i] if i in corr_with_target else 0\n",
    "    corr_j = corr_with_target[j] if j in corr_with_target else 0\n",
    "\n",
    "    # Drop the feature with the lower correlation with the target\n",
    "    if corr_i < corr_j:\n",
    "        dropped_features.add(i)\n",
    "    else:\n",
    "        dropped_features.add(j)\n",
    "\n",
    "# Step 4: Drop the selected features from the DataFrame\n",
    "cleaned_df_dropped = data.drop(columns=list(dropped_features))\n",
    "\n",
    "# Step 5: Print the features that were dropped\n",
    "print(f\"Features dropped: {dropped_features}\")\n"
   ]
  },
  {
   "cell_type": "code",
   "execution_count": 233,
   "metadata": {},
   "outputs": [],
   "source": [
    "y = cleaned_df_dropped['extracted_price']\n",
    "cleaned_df_dropped = cleaned_df_dropped.drop(columns=['extracted_price'])"
   ]
  },
  {
   "cell_type": "code",
   "execution_count": 234,
   "metadata": {},
   "outputs": [
    {
     "name": "stdout",
     "output_type": "stream",
     "text": [
      "RMSE: 125.99\n"
     ]
    },
    {
     "name": "stderr",
     "output_type": "stream",
     "text": [
      "/opt/anaconda3/lib/python3.11/site-packages/sklearn/metrics/_regression.py:483: FutureWarning: 'squared' is deprecated in version 1.4 and will be removed in 1.6. To calculate the root mean squared error, use the function'root_mean_squared_error'.\n",
      "  warnings.warn(\n"
     ]
    }
   ],
   "source": [
    "X = cleaned_df_dropped  # Features\n",
    "\n",
    "# Step 2: Convert categorical columns if any\n",
    "# Convert categorical columns to category dtype or one-hot encode them if necessary\n",
    "X = pd.get_dummies(X, drop_first=True)  # One-hot encoding categorical features\n",
    "\n",
    "# Step 3: Split into training and testing sets\n",
    "X_train, X_test, y_train, y_test = train_test_split(X, y, test_size=0.2, random_state=42)\n",
    "\n",
    "# Step 4: Initialize and train the XGBoost Regressor\n",
    "model = XGBRegressor()\n",
    "model.fit(X_train, y_train)\n",
    "\n",
    "# Step 5: Make predictions and evaluate the model\n",
    "y_pred = model.predict(X_test)\n",
    "rmse = mean_squared_error(y_test, y_pred, squared=False)\n",
    "print(f\"RMSE: {rmse:.2f}\")\n",
    "\n",
    "# Step 6: Get Feature Importance\n",
    "importance = model.feature_importances_\n"
   ]
  },
  {
   "cell_type": "code",
   "execution_count": 235,
   "metadata": {},
   "outputs": [
    {
     "name": "stdout",
     "output_type": "stream",
     "text": [
      "Top 20 Most Important Features:\n",
      "                                                Feature  Importance\n",
      "14                                           SA2 code_x    0.144212\n",
      "1                                                 Baths    0.071697\n",
      "50                                                 Mean    0.060716\n",
      "61                                     Highest Quartile    0.053222\n",
      "55                                     Gini coefficient    0.036351\n",
      "60                                       Third Quartile    0.025725\n",
      "23                                             HHS_2036    0.021432\n",
      "0                                                  Beds    0.018021\n",
      "9488                                property_type_House    0.014671\n",
      "25                                             OCC_2021    0.011539\n",
      "10558                                        suburb_NaN    0.011536\n",
      "49                                               Median    0.010883\n",
      "34                          pop_change_natural_increase    0.010577\n",
      "57                                              Top 10%    0.010491\n",
      "11371  nearest_parkres_name_Lower Maribyrnong Parklands    0.009354\n",
      "47                                Median age of earners    0.008584\n",
      "59                                      Second Quartile    0.008371\n",
      "9528                                 sa2_code_206051134    0.007610\n",
      "10067                           sa3_name_Melbourne City    0.007142\n",
      "9                                       cbd_distance_km    0.006919\n"
     ]
    }
   ],
   "source": [
    "# Create a DataFrame for better visualization\n",
    "feature_importance_df = pd.DataFrame({\n",
    "    'Feature': X.columns,\n",
    "    'Importance': importance\n",
    "})\n",
    "\n",
    "# Sort the DataFrame by Importance and select the top 10 features\n",
    "top_features = feature_importance_df.sort_values(by='Importance', ascending=False).head(20)\n",
    "feature_importance_df.to_csv('../data/curated/feature_importance_xgboost.csv')\n",
    "# Print the top 10 most important features\n",
    "print(\"Top 20 Most Important Features:\")\n",
    "print(top_features)\n"
   ]
  }
 ],
 "metadata": {
  "kernelspec": {
   "display_name": "base",
   "language": "python",
   "name": "python3"
  },
  "language_info": {
   "codemirror_mode": {
    "name": "ipython",
    "version": 3
   },
   "file_extension": ".py",
   "mimetype": "text/x-python",
   "name": "python",
   "nbconvert_exporter": "python",
   "pygments_lexer": "ipython3",
   "version": "3.11.3"
  }
 },
 "nbformat": 4,
 "nbformat_minor": 2
}
