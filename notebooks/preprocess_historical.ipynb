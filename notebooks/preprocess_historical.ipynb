{
 "cells": [
  {
   "cell_type": "code",
   "execution_count": 25,
   "id": "initial_id",
   "metadata": {
    "collapsed": true,
    "ExecuteTime": {
     "end_time": "2024-09-19T02:55:04.580135Z",
     "start_time": "2024-09-19T02:55:04.566603Z"
    }
   },
   "outputs": [],
   "source": [
    "import pandas as pd"
   ]
  },
  {
   "cell_type": "code",
   "outputs": [],
   "source": [
    "# Load the data\n",
    "pd_excel_file = pd.ExcelFile(\"../data/landing/historical_data.xlsx\")"
   ],
   "metadata": {
    "collapsed": false,
    "ExecuteTime": {
     "end_time": "2024-09-19T02:55:04.616516Z",
     "start_time": "2024-09-19T02:55:04.582622Z"
    }
   },
   "id": "ce938727484681d8",
   "execution_count": 26
  },
  {
   "cell_type": "code",
   "outputs": [],
   "source": [
    "processed_data = []"
   ],
   "metadata": {
    "collapsed": false,
    "ExecuteTime": {
     "end_time": "2024-09-19T02:55:04.619735Z",
     "start_time": "2024-09-19T02:55:04.617264Z"
    }
   },
   "id": "3da5e92a774cc0a6",
   "execution_count": 27
  },
  {
   "cell_type": "code",
   "outputs": [],
   "source": [
    "def parse_sheet(df_sheet):\n",
    "    # sheet_0 = pd_excel_file.parse(0, header=None)\n",
    "    df_sheet[0] = df_sheet[0].ffill()\n",
    "    \n",
    "    # forward fill the first row\n",
    "    df = df_sheet.ffill(axis=1)\n",
    "    \n",
    "    print(df.head())\n",
    "    return df"
   ],
   "metadata": {
    "collapsed": false,
    "ExecuteTime": {
     "end_time": "2024-09-19T02:55:04.622980Z",
     "start_time": "2024-09-19T02:55:04.620641Z"
    }
   },
   "id": "12f971ed9f1d43d6",
   "execution_count": 28
  },
  {
   "cell_type": "code",
   "outputs": [],
   "source": [
    "for sheet in range(len(pd_excel_file.sheet_names)):\n",
    "    df_sheet = pd_excel_file.parse(sheet, header=None)\n",
    "    break"
   ],
   "metadata": {
    "collapsed": false,
    "ExecuteTime": {
     "end_time": "2024-09-19T02:55:04.824670Z",
     "start_time": "2024-09-19T02:55:04.624418Z"
    }
   },
   "id": "8e0539ae722562ff",
   "execution_count": 29
  },
  {
   "cell_type": "code",
   "outputs": [
    {
     "data": {
      "text/plain": "                                                 0    \\\n0  Moving annual rent by suburb Moving annual ren...   \n1                      1 bedroom flat 1 bedroom flat   \n2                      1 bedroom flat 1 bedroom flat   \n3  Inner Melbourne Albert Park-Middle Park-West S...   \n4                           Inner Melbourne Armadale   \n\n                                     1                                2    \\\n0           Moving annual rent by suburb  Lease commenced in year ending    \n1                         1 bedroom flat                         Mar 2000   \n2                         1 bedroom flat                            Count   \n3  Albert Park-Middle Park-West St Kilda                              352   \n4                               Armadale                              210   \n\n                               3                                4    \\\n0  Lease commenced in year ending   Lease commenced in year ending    \n1                         Mar 2000                         Jun 2000   \n2                           Median                            Count   \n3                              165                              347   \n4                              150                              212   \n\n                               5                                6    \\\n0  Lease commenced in year ending   Lease commenced in year ending    \n1                         Jun 2000                         Sep 2000   \n2                           Median                            Count   \n3                              165                              378   \n4                              150                              213   \n\n                               7                                8    \\\n0  Lease commenced in year ending   Lease commenced in year ending    \n1                         Sep 2000                         Dec 2000   \n2                           Median                            Count   \n3                              170                              369   \n4                              155                              213   \n\n                               9    ...                              178  \\\n0  Lease commenced in year ending   ...  Lease commenced in year ending    \n1                         Dec 2000  ...                         Mar 2022   \n2                           Median  ...                            Count   \n3                              175  ...                              269   \n4                              160  ...                              223   \n\n                               179                              180  \\\n0  Lease commenced in year ending   Lease commenced in year ending    \n1                         Mar 2022                         Jun 2022   \n2                           Median                            Count   \n3                              315                              262   \n4                              310                              233   \n\n                               181                              182  \\\n0  Lease commenced in year ending   Lease commenced in year ending    \n1                         Jun 2022                         Sep 2022   \n2                           Median                            Count   \n3                              325                              277   \n4                              320                              237   \n\n                               183                              184  \\\n0  Lease commenced in year ending   Lease commenced in year ending    \n1                         Sep 2022                         Dec 2022   \n2                           Median                            Count   \n3                              340                              260   \n4                              340                              238   \n\n                               185                              186  \\\n0  Lease commenced in year ending   Lease commenced in year ending    \n1                         Dec 2022                         Mar 2023   \n2                           Median                            Count   \n3                              350                              262   \n4                              350                              204   \n\n                               187  \n0  Lease commenced in year ending   \n1                         Mar 2023  \n2                           Median  \n3                              360  \n4                              360  \n\n[5 rows x 188 columns]",
      "text/html": "<div>\n<style scoped>\n    .dataframe tbody tr th:only-of-type {\n        vertical-align: middle;\n    }\n\n    .dataframe tbody tr th {\n        vertical-align: top;\n    }\n\n    .dataframe thead th {\n        text-align: right;\n    }\n</style>\n<table border=\"1\" class=\"dataframe\">\n  <thead>\n    <tr style=\"text-align: right;\">\n      <th></th>\n      <th>0</th>\n      <th>1</th>\n      <th>2</th>\n      <th>3</th>\n      <th>4</th>\n      <th>5</th>\n      <th>6</th>\n      <th>7</th>\n      <th>8</th>\n      <th>9</th>\n      <th>...</th>\n      <th>178</th>\n      <th>179</th>\n      <th>180</th>\n      <th>181</th>\n      <th>182</th>\n      <th>183</th>\n      <th>184</th>\n      <th>185</th>\n      <th>186</th>\n      <th>187</th>\n    </tr>\n  </thead>\n  <tbody>\n    <tr>\n      <th>0</th>\n      <td>Moving annual rent by suburb Moving annual ren...</td>\n      <td>Moving annual rent by suburb</td>\n      <td>Lease commenced in year ending</td>\n      <td>Lease commenced in year ending</td>\n      <td>Lease commenced in year ending</td>\n      <td>Lease commenced in year ending</td>\n      <td>Lease commenced in year ending</td>\n      <td>Lease commenced in year ending</td>\n      <td>Lease commenced in year ending</td>\n      <td>Lease commenced in year ending</td>\n      <td>...</td>\n      <td>Lease commenced in year ending</td>\n      <td>Lease commenced in year ending</td>\n      <td>Lease commenced in year ending</td>\n      <td>Lease commenced in year ending</td>\n      <td>Lease commenced in year ending</td>\n      <td>Lease commenced in year ending</td>\n      <td>Lease commenced in year ending</td>\n      <td>Lease commenced in year ending</td>\n      <td>Lease commenced in year ending</td>\n      <td>Lease commenced in year ending</td>\n    </tr>\n    <tr>\n      <th>1</th>\n      <td>1 bedroom flat 1 bedroom flat</td>\n      <td>1 bedroom flat</td>\n      <td>Mar 2000</td>\n      <td>Mar 2000</td>\n      <td>Jun 2000</td>\n      <td>Jun 2000</td>\n      <td>Sep 2000</td>\n      <td>Sep 2000</td>\n      <td>Dec 2000</td>\n      <td>Dec 2000</td>\n      <td>...</td>\n      <td>Mar 2022</td>\n      <td>Mar 2022</td>\n      <td>Jun 2022</td>\n      <td>Jun 2022</td>\n      <td>Sep 2022</td>\n      <td>Sep 2022</td>\n      <td>Dec 2022</td>\n      <td>Dec 2022</td>\n      <td>Mar 2023</td>\n      <td>Mar 2023</td>\n    </tr>\n    <tr>\n      <th>2</th>\n      <td>1 bedroom flat 1 bedroom flat</td>\n      <td>1 bedroom flat</td>\n      <td>Count</td>\n      <td>Median</td>\n      <td>Count</td>\n      <td>Median</td>\n      <td>Count</td>\n      <td>Median</td>\n      <td>Count</td>\n      <td>Median</td>\n      <td>...</td>\n      <td>Count</td>\n      <td>Median</td>\n      <td>Count</td>\n      <td>Median</td>\n      <td>Count</td>\n      <td>Median</td>\n      <td>Count</td>\n      <td>Median</td>\n      <td>Count</td>\n      <td>Median</td>\n    </tr>\n    <tr>\n      <th>3</th>\n      <td>Inner Melbourne Albert Park-Middle Park-West S...</td>\n      <td>Albert Park-Middle Park-West St Kilda</td>\n      <td>352</td>\n      <td>165</td>\n      <td>347</td>\n      <td>165</td>\n      <td>378</td>\n      <td>170</td>\n      <td>369</td>\n      <td>175</td>\n      <td>...</td>\n      <td>269</td>\n      <td>315</td>\n      <td>262</td>\n      <td>325</td>\n      <td>277</td>\n      <td>340</td>\n      <td>260</td>\n      <td>350</td>\n      <td>262</td>\n      <td>360</td>\n    </tr>\n    <tr>\n      <th>4</th>\n      <td>Inner Melbourne Armadale</td>\n      <td>Armadale</td>\n      <td>210</td>\n      <td>150</td>\n      <td>212</td>\n      <td>150</td>\n      <td>213</td>\n      <td>155</td>\n      <td>213</td>\n      <td>160</td>\n      <td>...</td>\n      <td>223</td>\n      <td>310</td>\n      <td>233</td>\n      <td>320</td>\n      <td>237</td>\n      <td>340</td>\n      <td>238</td>\n      <td>350</td>\n      <td>204</td>\n      <td>360</td>\n    </tr>\n  </tbody>\n</table>\n<p>5 rows × 188 columns</p>\n</div>"
     },
     "execution_count": 30,
     "metadata": {},
     "output_type": "execute_result"
    }
   ],
   "source": [
    "# Concatenate the processed data\n",
    "df_sheet.head()\n",
    "df_sheet[0] = df_sheet[0].ffill()\n",
    "df_sheet = df_sheet.ffill(axis=1)\n",
    "# Combine the first two rows\n",
    "df_sheet[0] = df_sheet[1] + \" \" + df_sheet[2]\n",
    "df_sheet.head()"
   ],
   "metadata": {
    "collapsed": false,
    "ExecuteTime": {
     "end_time": "2024-09-19T02:55:04.835967Z",
     "start_time": "2024-09-19T02:55:04.825451Z"
    }
   },
   "id": "104efbf06064e372",
   "execution_count": 30
  },
  {
   "cell_type": "code",
   "outputs": [],
   "source": [],
   "metadata": {
    "collapsed": false,
    "ExecuteTime": {
     "end_time": "2024-09-19T02:55:04.837913Z",
     "start_time": "2024-09-19T02:55:04.836606Z"
    }
   },
   "id": "342607fee957cb8c",
   "execution_count": 30
  }
 ],
 "metadata": {
  "kernelspec": {
   "display_name": "Python 3",
   "language": "python",
   "name": "python3"
  },
  "language_info": {
   "codemirror_mode": {
    "name": "ipython",
    "version": 2
   },
   "file_extension": ".py",
   "mimetype": "text/x-python",
   "name": "python",
   "nbconvert_exporter": "python",
   "pygments_lexer": "ipython2",
   "version": "2.7.6"
  }
 },
 "nbformat": 4,
 "nbformat_minor": 5
}
