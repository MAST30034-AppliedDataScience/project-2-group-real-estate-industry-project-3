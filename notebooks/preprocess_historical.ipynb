{
 "cells": [
  {
   "cell_type": "code",
   "execution_count": 5,
   "id": "initial_id",
   "metadata": {
    "collapsed": true,
    "ExecuteTime": {
     "end_time": "2024-09-12T03:57:31.853331Z",
     "start_time": "2024-09-12T03:57:31.845576Z"
    }
   },
   "outputs": [],
   "source": [
    "import pandas as pd"
   ]
  },
  {
   "cell_type": "code",
   "outputs": [],
   "source": [
    "# Load the data\n",
    "pd_excel_file = pd.ExcelFile(\"../data/landing/historical_data.xlsx\")"
   ],
   "metadata": {
    "collapsed": false,
    "ExecuteTime": {
     "end_time": "2024-09-12T03:57:31.896201Z",
     "start_time": "2024-09-12T03:57:31.855909Z"
    }
   },
   "id": "ce938727484681d8",
   "execution_count": 6
  },
  {
   "cell_type": "code",
   "outputs": [],
   "source": [
    "processed_data = []"
   ],
   "metadata": {
    "collapsed": false
   },
   "id": "3da5e92a774cc0a6"
  },
  {
   "cell_type": "code",
   "outputs": [],
   "source": [],
   "metadata": {
    "collapsed": false
   },
   "id": "12f971ed9f1d43d6"
  },
  {
   "cell_type": "code",
   "outputs": [
    {
     "name": "stdout",
     "output_type": "stream",
     "text": [
      "1 bedroom flat\n",
      "               0                                      1         2       3    \\\n",
      "1   1 bedroom flat                                    NaN  Mar 2000     NaN   \n",
      "2   1 bedroom flat                                    NaN     Count  Median   \n",
      "3  Inner Melbourne  Albert Park-Middle Park-West St Kilda       352     165   \n",
      "4  Inner Melbourne                               Armadale       210     150   \n",
      "5  Inner Melbourne                          Carlton North        87     150   \n",
      "\n",
      "        4       5         6       7         8       9    ...       178  \\\n",
      "1  Jun 2000     NaN  Sep 2000     NaN  Dec 2000     NaN  ...  Mar 2022   \n",
      "2     Count  Median     Count  Median     Count  Median  ...     Count   \n",
      "3       347     165       378     170       369     175  ...       269   \n",
      "4       212     150       213     155       213     160  ...       223   \n",
      "5        78     155        74     150        65     150  ...        79   \n",
      "\n",
      "      179       180     181       182     183       184     185       186  \\\n",
      "1     NaN  Jun 2022     NaN  Sep 2022     NaN  Dec 2022     NaN  Mar 2023   \n",
      "2  Median     Count  Median     Count  Median     Count  Median     Count   \n",
      "3     315       262     325       277     340       260     350       262   \n",
      "4     310       233     320       237     340       238     350       204   \n",
      "5     300        68     320        72     320        71     330        64   \n",
      "\n",
      "      187  \n",
      "1     NaN  \n",
      "2  Median  \n",
      "3     360  \n",
      "4     360  \n",
      "5     373  \n",
      "\n",
      "[5 rows x 188 columns]\n"
     ]
    },
    {
     "name": "stderr",
     "output_type": "stream",
     "text": [
      "/var/folders/_7/sr3p02zn35v2xg1fm8dsbz6c0000gn/T/ipykernel_5588/3029093133.py:5: FutureWarning: Series.fillna with 'method' is deprecated and will raise in a future version. Use obj.ffill() or obj.bfill() instead.\n",
      "  df_sheet[0] = df_sheet[0].fillna(method='ffill')\n"
     ]
    }
   ],
   "source": [
    "for sheet in pd_excel_file.sheet_names:\n",
    "    print(sheet)\n",
    "    \n",
    "    break"
   ],
   "metadata": {
    "collapsed": false,
    "ExecuteTime": {
     "end_time": "2024-09-12T04:09:48.974815Z",
     "start_time": "2024-09-12T04:09:48.723004Z"
    }
   },
   "id": "8e0539ae722562ff",
   "execution_count": 9
  },
  {
   "cell_type": "code",
   "outputs": [
    {
     "data": {
      "text/plain": "               0                                      1         2       3    \\\n1   1 bedroom flat                                    NaN  Mar 2000     NaN   \n2   1 bedroom flat                                    NaN     Count  Median   \n3  Inner Melbourne  Albert Park-Middle Park-West St Kilda       352     165   \n4  Inner Melbourne                               Armadale       210     150   \n5  Inner Melbourne                          Carlton North        87     150   \n\n        4       5         6       7         8       9    ...       178  \\\n1  Jun 2000     NaN  Sep 2000     NaN  Dec 2000     NaN  ...  Mar 2022   \n2     Count  Median     Count  Median     Count  Median  ...     Count   \n3       347     165       378     170       369     175  ...       269   \n4       212     150       213     155       213     160  ...       223   \n5        78     155        74     150        65     150  ...        79   \n\n      179       180     181       182     183       184     185       186  \\\n1     NaN  Jun 2022     NaN  Sep 2022     NaN  Dec 2022     NaN  Mar 2023   \n2  Median     Count  Median     Count  Median     Count  Median     Count   \n3     315       262     325       277     340       260     350       262   \n4     310       233     320       237     340       238     350       204   \n5     300        68     320        72     320        71     330        64   \n\n      187  \n1     NaN  \n2  Median  \n3     360  \n4     360  \n5     373  \n\n[5 rows x 188 columns]",
      "text/html": "<div>\n<style scoped>\n    .dataframe tbody tr th:only-of-type {\n        vertical-align: middle;\n    }\n\n    .dataframe tbody tr th {\n        vertical-align: top;\n    }\n\n    .dataframe thead th {\n        text-align: right;\n    }\n</style>\n<table border=\"1\" class=\"dataframe\">\n  <thead>\n    <tr style=\"text-align: right;\">\n      <th></th>\n      <th>0</th>\n      <th>1</th>\n      <th>2</th>\n      <th>3</th>\n      <th>4</th>\n      <th>5</th>\n      <th>6</th>\n      <th>7</th>\n      <th>8</th>\n      <th>9</th>\n      <th>...</th>\n      <th>178</th>\n      <th>179</th>\n      <th>180</th>\n      <th>181</th>\n      <th>182</th>\n      <th>183</th>\n      <th>184</th>\n      <th>185</th>\n      <th>186</th>\n      <th>187</th>\n    </tr>\n  </thead>\n  <tbody>\n    <tr>\n      <th>1</th>\n      <td>1 bedroom flat</td>\n      <td>NaN</td>\n      <td>Mar 2000</td>\n      <td>NaN</td>\n      <td>Jun 2000</td>\n      <td>NaN</td>\n      <td>Sep 2000</td>\n      <td>NaN</td>\n      <td>Dec 2000</td>\n      <td>NaN</td>\n      <td>...</td>\n      <td>Mar 2022</td>\n      <td>NaN</td>\n      <td>Jun 2022</td>\n      <td>NaN</td>\n      <td>Sep 2022</td>\n      <td>NaN</td>\n      <td>Dec 2022</td>\n      <td>NaN</td>\n      <td>Mar 2023</td>\n      <td>NaN</td>\n    </tr>\n    <tr>\n      <th>2</th>\n      <td>1 bedroom flat</td>\n      <td>NaN</td>\n      <td>Count</td>\n      <td>Median</td>\n      <td>Count</td>\n      <td>Median</td>\n      <td>Count</td>\n      <td>Median</td>\n      <td>Count</td>\n      <td>Median</td>\n      <td>...</td>\n      <td>Count</td>\n      <td>Median</td>\n      <td>Count</td>\n      <td>Median</td>\n      <td>Count</td>\n      <td>Median</td>\n      <td>Count</td>\n      <td>Median</td>\n      <td>Count</td>\n      <td>Median</td>\n    </tr>\n    <tr>\n      <th>3</th>\n      <td>Inner Melbourne</td>\n      <td>Albert Park-Middle Park-West St Kilda</td>\n      <td>352</td>\n      <td>165</td>\n      <td>347</td>\n      <td>165</td>\n      <td>378</td>\n      <td>170</td>\n      <td>369</td>\n      <td>175</td>\n      <td>...</td>\n      <td>269</td>\n      <td>315</td>\n      <td>262</td>\n      <td>325</td>\n      <td>277</td>\n      <td>340</td>\n      <td>260</td>\n      <td>350</td>\n      <td>262</td>\n      <td>360</td>\n    </tr>\n    <tr>\n      <th>4</th>\n      <td>Inner Melbourne</td>\n      <td>Armadale</td>\n      <td>210</td>\n      <td>150</td>\n      <td>212</td>\n      <td>150</td>\n      <td>213</td>\n      <td>155</td>\n      <td>213</td>\n      <td>160</td>\n      <td>...</td>\n      <td>223</td>\n      <td>310</td>\n      <td>233</td>\n      <td>320</td>\n      <td>237</td>\n      <td>340</td>\n      <td>238</td>\n      <td>350</td>\n      <td>204</td>\n      <td>360</td>\n    </tr>\n    <tr>\n      <th>5</th>\n      <td>Inner Melbourne</td>\n      <td>Carlton North</td>\n      <td>87</td>\n      <td>150</td>\n      <td>78</td>\n      <td>155</td>\n      <td>74</td>\n      <td>150</td>\n      <td>65</td>\n      <td>150</td>\n      <td>...</td>\n      <td>79</td>\n      <td>300</td>\n      <td>68</td>\n      <td>320</td>\n      <td>72</td>\n      <td>320</td>\n      <td>71</td>\n      <td>330</td>\n      <td>64</td>\n      <td>373</td>\n    </tr>\n  </tbody>\n</table>\n<p>5 rows × 188 columns</p>\n</div>"
     },
     "execution_count": 13,
     "metadata": {},
     "output_type": "execute_result"
    }
   ],
   "source": [
    "sheet_0 = pd_excel_file.parse(0, header=None)\n",
    "df_sheet = pd_excel_file.parse(sheet, header=None)\n",
    "df_sheet = df_sheet.drop([0])\n",
    "df_sheet[0] = df_sheet[0].ffill()\n",
    "df_sheet[[1]] = df_sheet[[1]].ffill()\n",
    "df_sheet.head()"
   ],
   "metadata": {
    "collapsed": false,
    "ExecuteTime": {
     "end_time": "2024-09-12T04:12:33.841772Z",
     "start_time": "2024-09-12T04:12:33.445902Z"
    }
   },
   "id": "abf889c9fb672987",
   "execution_count": 13
  },
  {
   "cell_type": "code",
   "outputs": [],
   "source": [],
   "metadata": {
    "collapsed": false
   },
   "id": "342607fee957cb8c"
  }
 ],
 "metadata": {
  "kernelspec": {
   "display_name": "Python 3",
   "language": "python",
   "name": "python3"
  },
  "language_info": {
   "codemirror_mode": {
    "name": "ipython",
    "version": 2
   },
   "file_extension": ".py",
   "mimetype": "text/x-python",
   "name": "python",
   "nbconvert_exporter": "python",
   "pygments_lexer": "ipython2",
   "version": "2.7.6"
  }
 },
 "nbformat": 4,
 "nbformat_minor": 5
}
