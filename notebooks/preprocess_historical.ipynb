{
 "cells": [
  {
   "cell_type": "code",
   "execution_count": 154,
   "id": "initial_id",
   "metadata": {
    "collapsed": true,
    "ExecuteTime": {
     "end_time": "2024-09-28T12:39:06.526123Z",
     "start_time": "2024-09-28T12:39:06.515078Z"
    }
   },
   "outputs": [],
   "source": [
    "import pandas as pd"
   ]
  },
  {
   "cell_type": "code",
   "execution_count": 155,
   "id": "ce938727484681d8",
   "metadata": {
    "collapsed": false,
    "ExecuteTime": {
     "end_time": "2024-09-28T12:39:06.568917Z",
     "start_time": "2024-09-28T12:39:06.539287Z"
    }
   },
   "outputs": [],
   "source": [
    "# Load the data\n",
    "pd_excel_file = pd.ExcelFile(\"../data/landing/historical_data.xlsx\")"
   ]
  },
  {
   "cell_type": "code",
   "execution_count": 156,
   "id": "3da5e92a774cc0a6",
   "metadata": {
    "collapsed": false,
    "ExecuteTime": {
     "end_time": "2024-09-28T12:39:06.573259Z",
     "start_time": "2024-09-28T12:39:06.570773Z"
    }
   },
   "outputs": [],
   "source": [
    "processed_data = []"
   ]
  },
  {
   "cell_type": "code",
   "execution_count": 157,
   "id": "12f971ed9f1d43d6",
   "metadata": {
    "collapsed": false,
    "ExecuteTime": {
     "end_time": "2024-09-28T12:39:06.576710Z",
     "start_time": "2024-09-28T12:39:06.574002Z"
    }
   },
   "outputs": [],
   "source": [
    "def parse_sheet(df_sheet):\n",
    "    # sheet_0 = pd_excel_file.parse(0, header=None)\n",
    "    df_sheet[0] = df_sheet[0].ffill()\n",
    "    \n",
    "    # forward fill the first row\n",
    "    df = df_sheet.ffill(axis=1)\n",
    "    \n",
    "    print(df.head())\n",
    "    return df"
   ]
  },
  {
   "cell_type": "code",
   "outputs": [],
   "source": [
    "new_df = []"
   ],
   "metadata": {
    "collapsed": false,
    "ExecuteTime": {
     "end_time": "2024-09-28T12:39:06.582262Z",
     "start_time": "2024-09-28T12:39:06.579280Z"
    }
   },
   "id": "8e396d107ce6d79",
   "execution_count": 158
  },
  {
   "cell_type": "code",
   "execution_count": 159,
   "id": "8e0539ae722562ff",
   "metadata": {
    "collapsed": false,
    "ExecuteTime": {
     "end_time": "2024-09-28T12:39:11.705022Z",
     "start_time": "2024-09-28T12:39:06.583068Z"
    }
   },
   "outputs": [],
   "source": [
    "for sheet in range(len(pd_excel_file.sheet_names)):\n",
    "    df_sheet = pd_excel_file.parse(sheet, header=[0, 1, 2])\n",
    "    suburb_names = df_sheet.iloc[:, 1]\n",
    "    for column in df_sheet.iloc[:, 2:]:\n",
    "        for item in range(0, len(df_sheet[column])):\n",
    "            new_df.append([pd_excel_file.sheet_names[sheet], column, suburb_names[item], df_sheet[column][item]])"
   ]
  },
  {
   "cell_type": "code",
   "execution_count": 160,
   "id": "104efbf06064e372",
   "metadata": {
    "collapsed": false,
    "ExecuteTime": {
     "end_time": "2024-09-28T12:39:11.735326Z",
     "start_time": "2024-09-28T12:39:11.705729Z"
    }
   },
   "outputs": [
    {
     "data": {
      "text/plain": "                     0                                                  1  \\\n0       1 bedroom flat  (Lease commenced in year ending , Mar 2000, Co...   \n1       1 bedroom flat  (Lease commenced in year ending , Mar 2000, Co...   \n2       1 bedroom flat  (Lease commenced in year ending , Mar 2000, Co...   \n3       1 bedroom flat  (Lease commenced in year ending , Mar 2000, Co...   \n4       1 bedroom flat  (Lease commenced in year ending , Mar 2000, Co...   \n...                ...                                                ...   \n207013  All properties  (Lease commenced in year ending , Mar 2023, Me...   \n207014  All properties  (Lease commenced in year ending , Mar 2023, Me...   \n207015  All properties  (Lease commenced in year ending , Mar 2023, Me...   \n207016  All properties  (Lease commenced in year ending , Mar 2023, Me...   \n207017  All properties  (Lease commenced in year ending , Mar 2023, Me...   \n\n                                            2    3  \n0       Albert Park-Middle Park-West St Kilda  352  \n1                                    Armadale  210  \n2                               Carlton North   87  \n3                           Carlton-Parkville  303  \n4                             CBD-St Kilda Rd  755  \n...                                       ...  ...  \n207013                            Wanagaratta  380  \n207014                               Warragul  440  \n207015                            Warrnambool  420  \n207016                                Wodonga  410  \n207017                            Group Total  390  \n\n[207018 rows x 4 columns]",
      "text/html": "<div>\n<style scoped>\n    .dataframe tbody tr th:only-of-type {\n        vertical-align: middle;\n    }\n\n    .dataframe tbody tr th {\n        vertical-align: top;\n    }\n\n    .dataframe thead th {\n        text-align: right;\n    }\n</style>\n<table border=\"1\" class=\"dataframe\">\n  <thead>\n    <tr style=\"text-align: right;\">\n      <th></th>\n      <th>0</th>\n      <th>1</th>\n      <th>2</th>\n      <th>3</th>\n    </tr>\n  </thead>\n  <tbody>\n    <tr>\n      <th>0</th>\n      <td>1 bedroom flat</td>\n      <td>(Lease commenced in year ending , Mar 2000, Co...</td>\n      <td>Albert Park-Middle Park-West St Kilda</td>\n      <td>352</td>\n    </tr>\n    <tr>\n      <th>1</th>\n      <td>1 bedroom flat</td>\n      <td>(Lease commenced in year ending , Mar 2000, Co...</td>\n      <td>Armadale</td>\n      <td>210</td>\n    </tr>\n    <tr>\n      <th>2</th>\n      <td>1 bedroom flat</td>\n      <td>(Lease commenced in year ending , Mar 2000, Co...</td>\n      <td>Carlton North</td>\n      <td>87</td>\n    </tr>\n    <tr>\n      <th>3</th>\n      <td>1 bedroom flat</td>\n      <td>(Lease commenced in year ending , Mar 2000, Co...</td>\n      <td>Carlton-Parkville</td>\n      <td>303</td>\n    </tr>\n    <tr>\n      <th>4</th>\n      <td>1 bedroom flat</td>\n      <td>(Lease commenced in year ending , Mar 2000, Co...</td>\n      <td>CBD-St Kilda Rd</td>\n      <td>755</td>\n    </tr>\n    <tr>\n      <th>...</th>\n      <td>...</td>\n      <td>...</td>\n      <td>...</td>\n      <td>...</td>\n    </tr>\n    <tr>\n      <th>207013</th>\n      <td>All properties</td>\n      <td>(Lease commenced in year ending , Mar 2023, Me...</td>\n      <td>Wanagaratta</td>\n      <td>380</td>\n    </tr>\n    <tr>\n      <th>207014</th>\n      <td>All properties</td>\n      <td>(Lease commenced in year ending , Mar 2023, Me...</td>\n      <td>Warragul</td>\n      <td>440</td>\n    </tr>\n    <tr>\n      <th>207015</th>\n      <td>All properties</td>\n      <td>(Lease commenced in year ending , Mar 2023, Me...</td>\n      <td>Warrnambool</td>\n      <td>420</td>\n    </tr>\n    <tr>\n      <th>207016</th>\n      <td>All properties</td>\n      <td>(Lease commenced in year ending , Mar 2023, Me...</td>\n      <td>Wodonga</td>\n      <td>410</td>\n    </tr>\n    <tr>\n      <th>207017</th>\n      <td>All properties</td>\n      <td>(Lease commenced in year ending , Mar 2023, Me...</td>\n      <td>Group Total</td>\n      <td>390</td>\n    </tr>\n  </tbody>\n</table>\n<p>207018 rows × 4 columns</p>\n</div>"
     },
     "execution_count": 160,
     "metadata": {},
     "output_type": "execute_result"
    }
   ],
   "source": [
    "new_df = pd.DataFrame(new_df)\n",
    "new_df"
   ]
  },
  {
   "cell_type": "code",
   "outputs": [],
   "source": [
    "new_df.columns = [\"type\", \"info\", \"suburb\", \"value\"]"
   ],
   "metadata": {
    "collapsed": false,
    "ExecuteTime": {
     "end_time": "2024-09-28T12:39:11.738192Z",
     "start_time": "2024-09-28T12:39:11.736097Z"
    }
   },
   "id": "42faf00728e5a312",
   "execution_count": 161
  },
  {
   "cell_type": "markdown",
   "source": [],
   "metadata": {
    "collapsed": false
   },
   "id": "ec618da46beec9ce"
  },
  {
   "cell_type": "code",
   "outputs": [
    {
     "data": {
      "text/plain": "                  type                                               info  \\\n0       1 bedroom flat  (Lease commenced in year ending , Mar 2000, Co...   \n1       1 bedroom flat  (Lease commenced in year ending , Mar 2000, Co...   \n2       1 bedroom flat  (Lease commenced in year ending , Mar 2000, Co...   \n3       1 bedroom flat  (Lease commenced in year ending , Mar 2000, Co...   \n4       1 bedroom flat  (Lease commenced in year ending , Mar 2000, Co...   \n...                ...                                                ...   \n207013  All properties  (Lease commenced in year ending , Mar 2023, Me...   \n207014  All properties  (Lease commenced in year ending , Mar 2023, Me...   \n207015  All properties  (Lease commenced in year ending , Mar 2023, Me...   \n207016  All properties  (Lease commenced in year ending , Mar 2023, Me...   \n207017  All properties  (Lease commenced in year ending , Mar 2023, Me...   \n\n                                       suburb value  \\\n0       Albert Park-Middle Park-West St Kilda   352   \n1                                    Armadale   210   \n2                               Carlton North    87   \n3                           Carlton-Parkville   303   \n4                             CBD-St Kilda Rd   755   \n...                                       ...   ...   \n207013                            Wanagaratta   380   \n207014                               Warragul   440   \n207015                            Warrnambool   420   \n207016                                Wodonga   410   \n207017                            Group Total   390   \n\n                             Lease Info      Date Count Median  \n0       Lease commenced in year ending   Mar 2000        Count  \n1       Lease commenced in year ending   Mar 2000        Count  \n2       Lease commenced in year ending   Mar 2000        Count  \n3       Lease commenced in year ending   Mar 2000        Count  \n4       Lease commenced in year ending   Mar 2000        Count  \n...                                 ...       ...          ...  \n207013  Lease commenced in year ending   Mar 2023       Median  \n207014  Lease commenced in year ending   Mar 2023       Median  \n207015  Lease commenced in year ending   Mar 2023       Median  \n207016  Lease commenced in year ending   Mar 2023       Median  \n207017  Lease commenced in year ending   Mar 2023       Median  \n\n[207018 rows x 7 columns]",
      "text/html": "<div>\n<style scoped>\n    .dataframe tbody tr th:only-of-type {\n        vertical-align: middle;\n    }\n\n    .dataframe tbody tr th {\n        vertical-align: top;\n    }\n\n    .dataframe thead th {\n        text-align: right;\n    }\n</style>\n<table border=\"1\" class=\"dataframe\">\n  <thead>\n    <tr style=\"text-align: right;\">\n      <th></th>\n      <th>type</th>\n      <th>info</th>\n      <th>suburb</th>\n      <th>value</th>\n      <th>Lease Info</th>\n      <th>Date</th>\n      <th>Count Median</th>\n    </tr>\n  </thead>\n  <tbody>\n    <tr>\n      <th>0</th>\n      <td>1 bedroom flat</td>\n      <td>(Lease commenced in year ending , Mar 2000, Co...</td>\n      <td>Albert Park-Middle Park-West St Kilda</td>\n      <td>352</td>\n      <td>Lease commenced in year ending</td>\n      <td>Mar 2000</td>\n      <td>Count</td>\n    </tr>\n    <tr>\n      <th>1</th>\n      <td>1 bedroom flat</td>\n      <td>(Lease commenced in year ending , Mar 2000, Co...</td>\n      <td>Armadale</td>\n      <td>210</td>\n      <td>Lease commenced in year ending</td>\n      <td>Mar 2000</td>\n      <td>Count</td>\n    </tr>\n    <tr>\n      <th>2</th>\n      <td>1 bedroom flat</td>\n      <td>(Lease commenced in year ending , Mar 2000, Co...</td>\n      <td>Carlton North</td>\n      <td>87</td>\n      <td>Lease commenced in year ending</td>\n      <td>Mar 2000</td>\n      <td>Count</td>\n    </tr>\n    <tr>\n      <th>3</th>\n      <td>1 bedroom flat</td>\n      <td>(Lease commenced in year ending , Mar 2000, Co...</td>\n      <td>Carlton-Parkville</td>\n      <td>303</td>\n      <td>Lease commenced in year ending</td>\n      <td>Mar 2000</td>\n      <td>Count</td>\n    </tr>\n    <tr>\n      <th>4</th>\n      <td>1 bedroom flat</td>\n      <td>(Lease commenced in year ending , Mar 2000, Co...</td>\n      <td>CBD-St Kilda Rd</td>\n      <td>755</td>\n      <td>Lease commenced in year ending</td>\n      <td>Mar 2000</td>\n      <td>Count</td>\n    </tr>\n    <tr>\n      <th>...</th>\n      <td>...</td>\n      <td>...</td>\n      <td>...</td>\n      <td>...</td>\n      <td>...</td>\n      <td>...</td>\n      <td>...</td>\n    </tr>\n    <tr>\n      <th>207013</th>\n      <td>All properties</td>\n      <td>(Lease commenced in year ending , Mar 2023, Me...</td>\n      <td>Wanagaratta</td>\n      <td>380</td>\n      <td>Lease commenced in year ending</td>\n      <td>Mar 2023</td>\n      <td>Median</td>\n    </tr>\n    <tr>\n      <th>207014</th>\n      <td>All properties</td>\n      <td>(Lease commenced in year ending , Mar 2023, Me...</td>\n      <td>Warragul</td>\n      <td>440</td>\n      <td>Lease commenced in year ending</td>\n      <td>Mar 2023</td>\n      <td>Median</td>\n    </tr>\n    <tr>\n      <th>207015</th>\n      <td>All properties</td>\n      <td>(Lease commenced in year ending , Mar 2023, Me...</td>\n      <td>Warrnambool</td>\n      <td>420</td>\n      <td>Lease commenced in year ending</td>\n      <td>Mar 2023</td>\n      <td>Median</td>\n    </tr>\n    <tr>\n      <th>207016</th>\n      <td>All properties</td>\n      <td>(Lease commenced in year ending , Mar 2023, Me...</td>\n      <td>Wodonga</td>\n      <td>410</td>\n      <td>Lease commenced in year ending</td>\n      <td>Mar 2023</td>\n      <td>Median</td>\n    </tr>\n    <tr>\n      <th>207017</th>\n      <td>All properties</td>\n      <td>(Lease commenced in year ending , Mar 2023, Me...</td>\n      <td>Group Total</td>\n      <td>390</td>\n      <td>Lease commenced in year ending</td>\n      <td>Mar 2023</td>\n      <td>Median</td>\n    </tr>\n  </tbody>\n</table>\n<p>207018 rows × 7 columns</p>\n</div>"
     },
     "execution_count": 162,
     "metadata": {},
     "output_type": "execute_result"
    }
   ],
   "source": [
    "# Store the number of splits made\n",
    "new_df[['Lease Info', 'Date', 'Count Median']] = pd.DataFrame(new_df['info'].tolist(), index=new_df.index)\n",
    "new_df"
   ],
   "metadata": {
    "collapsed": false,
    "ExecuteTime": {
     "end_time": "2024-09-28T12:39:11.761382Z",
     "start_time": "2024-09-28T12:39:11.738940Z"
    }
   },
   "id": "3cd8ab6a9b572ce5",
   "execution_count": 162
  },
  {
   "cell_type": "code",
   "outputs": [],
   "source": [
    "# Split the df into two based on Count Median\n",
    "new_df_1 = new_df[new_df['Count Median'] == 'Count'].rename(columns={'value': 'Count'})\n",
    "new_df_2 = new_df[new_df['Count Median'] == 'Median'].rename(columns={'value': 'Median'})"
   ],
   "metadata": {
    "collapsed": false,
    "ExecuteTime": {
     "end_time": "2024-09-28T12:39:11.821022Z",
     "start_time": "2024-09-28T12:39:11.761952Z"
    }
   },
   "id": "750c1eb81e42edcd",
   "execution_count": 163
  },
  {
   "cell_type": "code",
   "outputs": [],
   "source": [
    "# Merge the two dataframes based on the type, suburb and date\n",
    "new_df_1 = new_df_1.merge(new_df_2[['type', 'suburb', 'Date', \"Median\"]], on=['type', 'suburb', 'Date'])"
   ],
   "metadata": {
    "collapsed": false,
    "ExecuteTime": {
     "end_time": "2024-09-28T12:39:11.880993Z",
     "start_time": "2024-09-28T12:39:11.822983Z"
    }
   },
   "id": "c88207a757ae7c4",
   "execution_count": 164
  },
  {
   "cell_type": "code",
   "outputs": [
    {
     "data": {
      "text/plain": "                  type                                 suburb  Count  \\\n0       1 bedroom flat  Albert Park-Middle Park-West St Kilda    352   \n1       1 bedroom flat                               Armadale    210   \n2       1 bedroom flat                          Carlton North     87   \n3       1 bedroom flat                      Carlton-Parkville    303   \n4       1 bedroom flat                        CBD-St Kilda Rd    755   \n...                ...                                    ...    ...   \n202855  All properties                            Group Total  11944   \n202856  All properties                            Group Total  11944   \n202857  All properties                            Group Total  11944   \n202858  All properties                            Group Total  11944   \n202859  All properties                            Group Total  11944   \n\n            Date Median  \n0       Mar 2000    165  \n1       Mar 2000    150  \n2       Mar 2000    150  \n3       Mar 2000    165  \n4       Mar 2000    250  \n...          ...    ...  \n202855  Mar 2023    485  \n202856  Mar 2023    425  \n202857  Mar 2023    380  \n202858  Mar 2023    400  \n202859  Mar 2023    390  \n\n[202860 rows x 5 columns]",
      "text/html": "<div>\n<style scoped>\n    .dataframe tbody tr th:only-of-type {\n        vertical-align: middle;\n    }\n\n    .dataframe tbody tr th {\n        vertical-align: top;\n    }\n\n    .dataframe thead th {\n        text-align: right;\n    }\n</style>\n<table border=\"1\" class=\"dataframe\">\n  <thead>\n    <tr style=\"text-align: right;\">\n      <th></th>\n      <th>type</th>\n      <th>suburb</th>\n      <th>Count</th>\n      <th>Date</th>\n      <th>Median</th>\n    </tr>\n  </thead>\n  <tbody>\n    <tr>\n      <th>0</th>\n      <td>1 bedroom flat</td>\n      <td>Albert Park-Middle Park-West St Kilda</td>\n      <td>352</td>\n      <td>Mar 2000</td>\n      <td>165</td>\n    </tr>\n    <tr>\n      <th>1</th>\n      <td>1 bedroom flat</td>\n      <td>Armadale</td>\n      <td>210</td>\n      <td>Mar 2000</td>\n      <td>150</td>\n    </tr>\n    <tr>\n      <th>2</th>\n      <td>1 bedroom flat</td>\n      <td>Carlton North</td>\n      <td>87</td>\n      <td>Mar 2000</td>\n      <td>150</td>\n    </tr>\n    <tr>\n      <th>3</th>\n      <td>1 bedroom flat</td>\n      <td>Carlton-Parkville</td>\n      <td>303</td>\n      <td>Mar 2000</td>\n      <td>165</td>\n    </tr>\n    <tr>\n      <th>4</th>\n      <td>1 bedroom flat</td>\n      <td>CBD-St Kilda Rd</td>\n      <td>755</td>\n      <td>Mar 2000</td>\n      <td>250</td>\n    </tr>\n    <tr>\n      <th>...</th>\n      <td>...</td>\n      <td>...</td>\n      <td>...</td>\n      <td>...</td>\n      <td>...</td>\n    </tr>\n    <tr>\n      <th>202855</th>\n      <td>All properties</td>\n      <td>Group Total</td>\n      <td>11944</td>\n      <td>Mar 2023</td>\n      <td>485</td>\n    </tr>\n    <tr>\n      <th>202856</th>\n      <td>All properties</td>\n      <td>Group Total</td>\n      <td>11944</td>\n      <td>Mar 2023</td>\n      <td>425</td>\n    </tr>\n    <tr>\n      <th>202857</th>\n      <td>All properties</td>\n      <td>Group Total</td>\n      <td>11944</td>\n      <td>Mar 2023</td>\n      <td>380</td>\n    </tr>\n    <tr>\n      <th>202858</th>\n      <td>All properties</td>\n      <td>Group Total</td>\n      <td>11944</td>\n      <td>Mar 2023</td>\n      <td>400</td>\n    </tr>\n    <tr>\n      <th>202859</th>\n      <td>All properties</td>\n      <td>Group Total</td>\n      <td>11944</td>\n      <td>Mar 2023</td>\n      <td>390</td>\n    </tr>\n  </tbody>\n</table>\n<p>202860 rows × 5 columns</p>\n</div>"
     },
     "execution_count": 165,
     "metadata": {},
     "output_type": "execute_result"
    }
   ],
   "source": [
    "new_df_1.drop(columns=['info', 'Count Median', 'Lease Info'], inplace=True)\n",
    "new_df_1"
   ],
   "metadata": {
    "collapsed": false,
    "ExecuteTime": {
     "end_time": "2024-09-28T12:39:11.896213Z",
     "start_time": "2024-09-28T12:39:11.881710Z"
    }
   },
   "id": "becac790fa5c496b",
   "execution_count": 165
  },
  {
   "cell_type": "code",
   "outputs": [],
   "source": [
    "# Set \"-\" to NaN\n",
    "new_df_1 = new_df_1.replace(\"-\", pd.NA)"
   ],
   "metadata": {
    "collapsed": false,
    "ExecuteTime": {
     "end_time": "2024-09-28T12:39:12.094442Z",
     "start_time": "2024-09-28T12:39:11.896915Z"
    }
   },
   "id": "8c5e3db2ed829df9",
   "execution_count": 166
  },
  {
   "cell_type": "code",
   "outputs": [],
   "source": [
    "# Save the data\n",
    "new_df_1.to_csv(\"../data/raw/historical_data.csv\", index=False)"
   ],
   "metadata": {
    "collapsed": false,
    "ExecuteTime": {
     "end_time": "2024-09-28T12:39:12.312060Z",
     "start_time": "2024-09-28T12:39:12.095047Z"
    }
   },
   "id": "2d97909609f5d41f",
   "execution_count": 167
  }
 ],
 "metadata": {
  "kernelspec": {
   "display_name": "Python 3",
   "language": "python",
   "name": "python3"
  },
  "language_info": {
   "codemirror_mode": {
    "name": "ipython",
    "version": 3
   },
   "file_extension": ".py",
   "mimetype": "text/x-python",
   "name": "python",
   "nbconvert_exporter": "python",
   "pygments_lexer": "ipython3",
   "version": "3.10.12"
  }
 },
 "nbformat": 4,
 "nbformat_minor": 5
}
