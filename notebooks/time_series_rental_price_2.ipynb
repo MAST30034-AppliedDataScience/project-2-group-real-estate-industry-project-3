{
 "cells": [
  {
   "cell_type": "markdown",
   "source": [
    "# Time Series Analysis Part 2\n",
    "Fitting the model from Part 1 for all available suburbs, and forecasting their growth over next 3 years.\n",
    "Written by Daksh Agrawal."
   ],
   "metadata": {
    "collapsed": false
   },
   "id": "ab4bb6f9e69d27ce"
  },
  {
   "cell_type": "code",
   "execution_count": 45,
   "id": "initial_id",
   "metadata": {
    "collapsed": true,
    "ExecuteTime": {
     "end_time": "2024-10-05T06:22:16.618359Z",
     "start_time": "2024-10-05T06:22:16.600102Z"
    }
   },
   "outputs": [],
   "source": [
    "import pandas as pd\n",
    "import numpy as np\n",
    "import matplotlib.pyplot as plt\n",
    "import seaborn as sns\n",
    "from statsmodels.graphics.tsaplots import plot_acf, plot_pacf\n",
    "from statsmodels.tsa.stattools import adfuller\n",
    "from statsmodels.tsa.arima.model import ARIMA\n",
    "from pandas.tseries.offsets import DateOffset\n",
    "import warnings"
   ]
  },
  {
   "cell_type": "code",
   "outputs": [],
   "source": [
    "warnings.filterwarnings('ignore')"
   ],
   "metadata": {
    "collapsed": false,
    "ExecuteTime": {
     "end_time": "2024-10-05T06:22:16.626644Z",
     "start_time": "2024-10-05T06:22:16.622278Z"
    }
   },
   "id": "df9c1cad0f193f6f",
   "execution_count": 46
  },
  {
   "cell_type": "code",
   "outputs": [],
   "source": [
    "FORECAST_PERIOD = 12  # 12 Quarters"
   ],
   "metadata": {
    "collapsed": false,
    "ExecuteTime": {
     "end_time": "2024-10-05T06:22:16.632551Z",
     "start_time": "2024-10-05T06:22:16.629844Z"
    }
   },
   "id": "fd81e0a723405513",
   "execution_count": 47
  },
  {
   "cell_type": "code",
   "outputs": [
    {
     "data": {
      "text/plain": "                 type   suburb   Count        Date  Median  year_completed  \\\n0      1 bedroom flat   Altona    87.0  2000-03-01    95.0            2000   \n1      1 bedroom flat   Altona    94.0  2000-06-01   100.0            2000   \n2      1 bedroom flat   Altona    97.0  2000-09-01   105.0            2000   \n3      1 bedroom flat   Altona    98.0  2000-12-01   105.0            2000   \n4      1 bedroom flat   Altona    89.0  2001-03-01   105.0            2001   \n...               ...      ...     ...         ...     ...             ...   \n29619  All properties  Wodonga  1233.0  2022-03-01   380.0            2022   \n29620  All properties  Wodonga  1267.0  2022-06-01   390.0            2022   \n29621  All properties  Wodonga  1251.0  2022-09-01   400.0            2022   \n29622  All properties  Wodonga  1191.0  2022-12-01   410.0            2022   \n29623  All properties  Wodonga  1173.0  2023-03-01   410.0            2023   \n\n      sa2_name   sa2_code  Unnamed: 0   SA2_CODE    Population  \\\n0       Altona  213021341         930  213021341  12297.095890   \n1       Altona  213021341        1452  213021341  12271.915068   \n2       Altona  213021341        1974  213021341  12246.457534   \n3       Altona  213021341        2496  213021341  12221.000000   \n4       Altona  213021341        3018  213021341  12196.095890   \n...        ...        ...         ...        ...           ...   \n29619  Wodonga  204031492       46538  204031492  14863.726027   \n29620  Wodonga  204031492       47060  204031492  14847.271233   \n29621  Wodonga  204031492       47582  204031492  14830.635616   \n29622  Wodonga  204031492       48104  204031492  14814.000000   \n29623  Wodonga  204031492       48626  204031492  14797.726027   \n\n       percentage_change_rental_price  percentage_change_population  \n0                                 NaN                           NaN  \n1                            0.052632                     -0.002048  \n2                            0.050000                     -0.002074  \n3                            0.000000                     -0.002079  \n4                            0.000000                     -0.002038  \n...                               ...                           ...  \n29619                        0.027027                     -0.001094  \n29620                        0.026316                     -0.001107  \n29621                        0.025641                     -0.001120  \n29622                        0.025000                     -0.001122  \n29623                        0.000000                     -0.001099  \n\n[29624 rows x 13 columns]",
      "text/html": "<div>\n<style scoped>\n    .dataframe tbody tr th:only-of-type {\n        vertical-align: middle;\n    }\n\n    .dataframe tbody tr th {\n        vertical-align: top;\n    }\n\n    .dataframe thead th {\n        text-align: right;\n    }\n</style>\n<table border=\"1\" class=\"dataframe\">\n  <thead>\n    <tr style=\"text-align: right;\">\n      <th></th>\n      <th>type</th>\n      <th>suburb</th>\n      <th>Count</th>\n      <th>Date</th>\n      <th>Median</th>\n      <th>year_completed</th>\n      <th>sa2_name</th>\n      <th>sa2_code</th>\n      <th>Unnamed: 0</th>\n      <th>SA2_CODE</th>\n      <th>Population</th>\n      <th>percentage_change_rental_price</th>\n      <th>percentage_change_population</th>\n    </tr>\n  </thead>\n  <tbody>\n    <tr>\n      <th>0</th>\n      <td>1 bedroom flat</td>\n      <td>Altona</td>\n      <td>87.0</td>\n      <td>2000-03-01</td>\n      <td>95.0</td>\n      <td>2000</td>\n      <td>Altona</td>\n      <td>213021341</td>\n      <td>930</td>\n      <td>213021341</td>\n      <td>12297.095890</td>\n      <td>NaN</td>\n      <td>NaN</td>\n    </tr>\n    <tr>\n      <th>1</th>\n      <td>1 bedroom flat</td>\n      <td>Altona</td>\n      <td>94.0</td>\n      <td>2000-06-01</td>\n      <td>100.0</td>\n      <td>2000</td>\n      <td>Altona</td>\n      <td>213021341</td>\n      <td>1452</td>\n      <td>213021341</td>\n      <td>12271.915068</td>\n      <td>0.052632</td>\n      <td>-0.002048</td>\n    </tr>\n    <tr>\n      <th>2</th>\n      <td>1 bedroom flat</td>\n      <td>Altona</td>\n      <td>97.0</td>\n      <td>2000-09-01</td>\n      <td>105.0</td>\n      <td>2000</td>\n      <td>Altona</td>\n      <td>213021341</td>\n      <td>1974</td>\n      <td>213021341</td>\n      <td>12246.457534</td>\n      <td>0.050000</td>\n      <td>-0.002074</td>\n    </tr>\n    <tr>\n      <th>3</th>\n      <td>1 bedroom flat</td>\n      <td>Altona</td>\n      <td>98.0</td>\n      <td>2000-12-01</td>\n      <td>105.0</td>\n      <td>2000</td>\n      <td>Altona</td>\n      <td>213021341</td>\n      <td>2496</td>\n      <td>213021341</td>\n      <td>12221.000000</td>\n      <td>0.000000</td>\n      <td>-0.002079</td>\n    </tr>\n    <tr>\n      <th>4</th>\n      <td>1 bedroom flat</td>\n      <td>Altona</td>\n      <td>89.0</td>\n      <td>2001-03-01</td>\n      <td>105.0</td>\n      <td>2001</td>\n      <td>Altona</td>\n      <td>213021341</td>\n      <td>3018</td>\n      <td>213021341</td>\n      <td>12196.095890</td>\n      <td>0.000000</td>\n      <td>-0.002038</td>\n    </tr>\n    <tr>\n      <th>...</th>\n      <td>...</td>\n      <td>...</td>\n      <td>...</td>\n      <td>...</td>\n      <td>...</td>\n      <td>...</td>\n      <td>...</td>\n      <td>...</td>\n      <td>...</td>\n      <td>...</td>\n      <td>...</td>\n      <td>...</td>\n      <td>...</td>\n    </tr>\n    <tr>\n      <th>29619</th>\n      <td>All properties</td>\n      <td>Wodonga</td>\n      <td>1233.0</td>\n      <td>2022-03-01</td>\n      <td>380.0</td>\n      <td>2022</td>\n      <td>Wodonga</td>\n      <td>204031492</td>\n      <td>46538</td>\n      <td>204031492</td>\n      <td>14863.726027</td>\n      <td>0.027027</td>\n      <td>-0.001094</td>\n    </tr>\n    <tr>\n      <th>29620</th>\n      <td>All properties</td>\n      <td>Wodonga</td>\n      <td>1267.0</td>\n      <td>2022-06-01</td>\n      <td>390.0</td>\n      <td>2022</td>\n      <td>Wodonga</td>\n      <td>204031492</td>\n      <td>47060</td>\n      <td>204031492</td>\n      <td>14847.271233</td>\n      <td>0.026316</td>\n      <td>-0.001107</td>\n    </tr>\n    <tr>\n      <th>29621</th>\n      <td>All properties</td>\n      <td>Wodonga</td>\n      <td>1251.0</td>\n      <td>2022-09-01</td>\n      <td>400.0</td>\n      <td>2022</td>\n      <td>Wodonga</td>\n      <td>204031492</td>\n      <td>47582</td>\n      <td>204031492</td>\n      <td>14830.635616</td>\n      <td>0.025641</td>\n      <td>-0.001120</td>\n    </tr>\n    <tr>\n      <th>29622</th>\n      <td>All properties</td>\n      <td>Wodonga</td>\n      <td>1191.0</td>\n      <td>2022-12-01</td>\n      <td>410.0</td>\n      <td>2022</td>\n      <td>Wodonga</td>\n      <td>204031492</td>\n      <td>48104</td>\n      <td>204031492</td>\n      <td>14814.000000</td>\n      <td>0.025000</td>\n      <td>-0.001122</td>\n    </tr>\n    <tr>\n      <th>29623</th>\n      <td>All properties</td>\n      <td>Wodonga</td>\n      <td>1173.0</td>\n      <td>2023-03-01</td>\n      <td>410.0</td>\n      <td>2023</td>\n      <td>Wodonga</td>\n      <td>204031492</td>\n      <td>48626</td>\n      <td>204031492</td>\n      <td>14797.726027</td>\n      <td>0.000000</td>\n      <td>-0.001099</td>\n    </tr>\n  </tbody>\n</table>\n<p>29624 rows × 13 columns</p>\n</div>"
     },
     "execution_count": 48,
     "metadata": {},
     "output_type": "execute_result"
    }
   ],
   "source": [
    "# Load the data\n",
    "df = pd.read_csv('../data/curated/historical_data.csv')\n",
    "df"
   ],
   "metadata": {
    "collapsed": false,
    "ExecuteTime": {
     "end_time": "2024-10-05T06:22:16.677960Z",
     "start_time": "2024-10-05T06:22:16.634102Z"
    }
   },
   "id": "28a4d75c747e61e2",
   "execution_count": 48
  },
  {
   "cell_type": "code",
   "outputs": [],
   "source": [
    "df['Date'] = pd.to_datetime(df['Date'])"
   ],
   "metadata": {
    "collapsed": false,
    "ExecuteTime": {
     "end_time": "2024-10-05T06:22:16.686518Z",
     "start_time": "2024-10-05T06:22:16.679263Z"
    }
   },
   "id": "903e7d889f9f489d",
   "execution_count": 49
  },
  {
   "cell_type": "code",
   "outputs": [],
   "source": [
    "suburbs = df['suburb'].unique()\n",
    "types = df['type'].unique()"
   ],
   "metadata": {
    "collapsed": false,
    "ExecuteTime": {
     "end_time": "2024-10-05T06:22:16.691594Z",
     "start_time": "2024-10-05T06:22:16.687347Z"
    }
   },
   "id": "c5d00006b6726946",
   "execution_count": 50
  },
  {
   "cell_type": "code",
   "outputs": [],
   "source": [
    "full_forecast_df = pd.DataFrame()"
   ],
   "metadata": {
    "collapsed": false,
    "ExecuteTime": {
     "end_time": "2024-10-05T06:22:16.696033Z",
     "start_time": "2024-10-05T06:22:16.693486Z"
    }
   },
   "id": "69b6409fae2353ff",
   "execution_count": 51
  },
  {
   "cell_type": "code",
   "outputs": [],
   "source": [
    "def get_arima_forecast(data, order=(4, 1, 3)):\n",
    "    model = ARIMA(data, order=order)\n",
    "    model_fit = model.fit()\n",
    "    forecast = model_fit.get_forecast(steps=FORECAST_PERIOD)\n",
    "    forecast_mean = forecast.predicted_mean\n",
    "    forecast_ci = forecast.conf_int()\n",
    "    return forecast_mean, forecast_ci"
   ],
   "metadata": {
    "collapsed": false,
    "ExecuteTime": {
     "end_time": "2024-10-05T06:22:16.701082Z",
     "start_time": "2024-10-05T06:22:16.697935Z"
    }
   },
   "id": "b6f55d72f7d48085",
   "execution_count": 52
  },
  {
   "cell_type": "code",
   "outputs": [
    {
     "name": "stdout",
     "output_type": "stream",
     "text": [
      "Failed to forecast Castlemaine - 3 bedroom flat\n",
      "Failed to forecast Docklands - 2 bedroom house\n",
      "Failed to forecast Docklands - 3 bedroom house\n",
      "Failed to forecast Docklands - 4 bedroom house\n",
      "Failed to forecast Keilor - 1 bedroom flat\n",
      "Failed to forecast Seymour - 3 bedroom flat\n",
      "Failed to forecast 6 suburbs\n"
     ]
    }
   ],
   "source": [
    "num_failed = 0\n",
    "\n",
    "for suburb in suburbs:\n",
    "    for type in types:\n",
    "        data = df[(df['suburb'] == suburb) & (df['type'] == type)]\n",
    "        data = data[['Date', 'Median']].set_index('Date')\n",
    "        data = data.dropna()\n",
    "\n",
    "        try:\n",
    "            forecast_mean, forecast_ci = get_arima_forecast(data)\n",
    "        except:\n",
    "            print(f'Failed to forecast {suburb} - {type}')\n",
    "            num_failed += 1\n",
    "            continue\n",
    "\n",
    "        forecast_df = pd.DataFrame({\n",
    "            'Date': pd.date_range(start=data.index[-1], periods=FORECAST_PERIOD, freq='QE'),\n",
    "            'Median': forecast_mean.values,\n",
    "            'Lower': forecast_ci['lower Median'].values,\n",
    "            'Upper': forecast_ci['upper Median'].values,\n",
    "            'suburb': suburb,\n",
    "            'type': type\n",
    "        })\n",
    "        full_forecast_df = pd.concat([full_forecast_df, forecast_df])\n",
    "\n",
    "print(f'Failed to forecast {num_failed} suburbs')"
   ],
   "metadata": {
    "collapsed": false,
    "ExecuteTime": {
     "end_time": "2024-10-05T06:22:39.837708Z",
     "start_time": "2024-10-05T06:22:16.701970Z"
    }
   },
   "id": "b00048458a9561a3",
   "execution_count": 53
  },
  {
   "cell_type": "code",
   "outputs": [
    {
     "data": {
      "text/plain": "         Date      Median       Lower       Upper   suburb            type\n0  2023-03-31  289.022035  280.701145  297.342924   Altona  1 bedroom flat\n1  2023-06-30  288.479435  276.868189  300.090682   Altona  1 bedroom flat\n2  2023-09-30  288.948965  274.518198  303.379732   Altona  1 bedroom flat\n3  2023-12-31  290.866958  272.913161  308.820755   Altona  1 bedroom flat\n4  2024-03-31  289.736599  268.633055  310.840143   Altona  1 bedroom flat\n..        ...         ...         ...         ...      ...             ...\n7  2024-12-31  462.832023  431.574580  494.089466  Wodonga  All properties\n8  2025-03-31  468.880317  433.996520  503.764113  Wodonga  All properties\n9  2025-06-30  474.307386  435.641862  512.972909  Wodonga  All properties\n10 2025-09-30  481.091210  438.388929  523.793491  Wodonga  All properties\n11 2025-12-31  486.696762  440.073949  533.319576  Wodonga  All properties\n\n[3792 rows x 6 columns]",
      "text/html": "<div>\n<style scoped>\n    .dataframe tbody tr th:only-of-type {\n        vertical-align: middle;\n    }\n\n    .dataframe tbody tr th {\n        vertical-align: top;\n    }\n\n    .dataframe thead th {\n        text-align: right;\n    }\n</style>\n<table border=\"1\" class=\"dataframe\">\n  <thead>\n    <tr style=\"text-align: right;\">\n      <th></th>\n      <th>Date</th>\n      <th>Median</th>\n      <th>Lower</th>\n      <th>Upper</th>\n      <th>suburb</th>\n      <th>type</th>\n    </tr>\n  </thead>\n  <tbody>\n    <tr>\n      <th>0</th>\n      <td>2023-03-31</td>\n      <td>289.022035</td>\n      <td>280.701145</td>\n      <td>297.342924</td>\n      <td>Altona</td>\n      <td>1 bedroom flat</td>\n    </tr>\n    <tr>\n      <th>1</th>\n      <td>2023-06-30</td>\n      <td>288.479435</td>\n      <td>276.868189</td>\n      <td>300.090682</td>\n      <td>Altona</td>\n      <td>1 bedroom flat</td>\n    </tr>\n    <tr>\n      <th>2</th>\n      <td>2023-09-30</td>\n      <td>288.948965</td>\n      <td>274.518198</td>\n      <td>303.379732</td>\n      <td>Altona</td>\n      <td>1 bedroom flat</td>\n    </tr>\n    <tr>\n      <th>3</th>\n      <td>2023-12-31</td>\n      <td>290.866958</td>\n      <td>272.913161</td>\n      <td>308.820755</td>\n      <td>Altona</td>\n      <td>1 bedroom flat</td>\n    </tr>\n    <tr>\n      <th>4</th>\n      <td>2024-03-31</td>\n      <td>289.736599</td>\n      <td>268.633055</td>\n      <td>310.840143</td>\n      <td>Altona</td>\n      <td>1 bedroom flat</td>\n    </tr>\n    <tr>\n      <th>...</th>\n      <td>...</td>\n      <td>...</td>\n      <td>...</td>\n      <td>...</td>\n      <td>...</td>\n      <td>...</td>\n    </tr>\n    <tr>\n      <th>7</th>\n      <td>2024-12-31</td>\n      <td>462.832023</td>\n      <td>431.574580</td>\n      <td>494.089466</td>\n      <td>Wodonga</td>\n      <td>All properties</td>\n    </tr>\n    <tr>\n      <th>8</th>\n      <td>2025-03-31</td>\n      <td>468.880317</td>\n      <td>433.996520</td>\n      <td>503.764113</td>\n      <td>Wodonga</td>\n      <td>All properties</td>\n    </tr>\n    <tr>\n      <th>9</th>\n      <td>2025-06-30</td>\n      <td>474.307386</td>\n      <td>435.641862</td>\n      <td>512.972909</td>\n      <td>Wodonga</td>\n      <td>All properties</td>\n    </tr>\n    <tr>\n      <th>10</th>\n      <td>2025-09-30</td>\n      <td>481.091210</td>\n      <td>438.388929</td>\n      <td>523.793491</td>\n      <td>Wodonga</td>\n      <td>All properties</td>\n    </tr>\n    <tr>\n      <th>11</th>\n      <td>2025-12-31</td>\n      <td>486.696762</td>\n      <td>440.073949</td>\n      <td>533.319576</td>\n      <td>Wodonga</td>\n      <td>All properties</td>\n    </tr>\n  </tbody>\n</table>\n<p>3792 rows × 6 columns</p>\n</div>"
     },
     "execution_count": 54,
     "metadata": {},
     "output_type": "execute_result"
    }
   ],
   "source": [
    "full_forecast_df"
   ],
   "metadata": {
    "collapsed": false,
    "ExecuteTime": {
     "end_time": "2024-10-05T06:22:39.843448Z",
     "start_time": "2024-10-05T06:22:39.838406Z"
    }
   },
   "id": "a0738651153e3800",
   "execution_count": 54
  },
  {
   "cell_type": "code",
   "outputs": [],
   "source": [
    "full_forecast_df.to_csv('../data/curated/forecast_data.csv', index=False)"
   ],
   "metadata": {
    "collapsed": false,
    "ExecuteTime": {
     "end_time": "2024-10-05T06:22:51.198412Z",
     "start_time": "2024-10-05T06:22:51.172286Z"
    }
   },
   "id": "79010780bad0dd89",
   "execution_count": 55
  },
  {
   "cell_type": "code",
   "outputs": [],
   "source": [],
   "metadata": {
    "collapsed": false
   },
   "id": "85f724fe34dc2558"
  }
 ],
 "metadata": {
  "kernelspec": {
   "display_name": "Python 3",
   "language": "python",
   "name": "python3"
  },
  "language_info": {
   "codemirror_mode": {
    "name": "ipython",
    "version": 2
   },
   "file_extension": ".py",
   "mimetype": "text/x-python",
   "name": "python",
   "nbconvert_exporter": "python",
   "pygments_lexer": "ipython2",
   "version": "2.7.6"
  }
 },
 "nbformat": 4,
 "nbformat_minor": 5
}
