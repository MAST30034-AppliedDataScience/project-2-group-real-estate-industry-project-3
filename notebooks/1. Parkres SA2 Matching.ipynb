{
 "cells": [
  {
   "cell_type": "code",
   "execution_count": 22,
   "metadata": {
    "ExecuteTime": {
     "end_time": "2024-09-26T11:37:16.222752Z",
     "start_time": "2024-09-26T11:37:16.171590Z"
    }
   },
   "outputs": [],
   "source": [
    "from pyspark.sql import SparkSession\n",
    "from pyspark.sql import functions as func\n",
    "import matplotlib.pyplot as plt\n",
    "import seaborn as sns\n",
    "import os\n",
    "import sys\n",
    "from pyspark.sql import functions as F  #filtering\n",
    "import pandas as pd\n",
    "import geopandas as gpd"
   ]
  },
  {
   "cell_type": "code",
   "execution_count": 23,
   "metadata": {
    "ExecuteTime": {
     "end_time": "2024-09-26T11:37:16.312148Z",
     "start_time": "2024-09-26T11:37:16.227924Z"
    }
   },
   "outputs": [],
   "source": [
    "# Starting a Spark session\n",
    "spark = (\n",
    "    SparkSession.builder.appName('ParkresFirstCleaning')\n",
    "    .config(\"spark.sql.repl.eagerEval.enabled\", True)\n",
    "    .config(\"spark.sql.session.timeZone\", \"Etc/UTC\")\n",
    "    .config(\"spark.driver.memory\", \"2g\")\n",
    "    .config(\"spark.executor.memory\", \"4g\")\n",
    "    .getOrCreate()\n",
    ")"
   ]
  },
  {
   "cell_type": "code",
   "execution_count": 24,
   "metadata": {
    "ExecuteTime": {
     "end_time": "2024-09-26T11:37:16.997946Z",
     "start_time": "2024-09-26T11:37:16.317536Z"
    }
   },
   "outputs": [
    {
     "data": {
      "text/plain": "      prims_id                                               name  \\\n1         3223                           Glenmaggie Regional Park   \n2          352                    Yarrara Flora and Fauna Reserve   \n3         2746                Murray River K15 Streamside Reserve   \n4         5075  Nooramunga Marine and Coastal Park (addition) ...   \n5         3193                     Phillip Island Coastal Reserve   \n...        ...                                                ...   \n8782      2857    Puffing Billy Historic & Cultural Features Res.   \n8783      1109                             Natya Bushland Reserve   \n8784      1600                          Toolangi Bushland Reserve   \n8785      1770                   Crib Point G229 Bushland Reserve   \n8786      1838                  Tarranginnie I48 Bushland Reserve   \n\n                                              area_type  \\\n1     REGIONAL PARK - NOT SCHEDULED UNDER NATIONAL P...   \n2     NATURE CONSERVATION RESERVE - FLORA AND FAUNA ...   \n3         NATURAL FEATURES RESERVE - STREAMSIDE RESERVE   \n4     PROPOSED NATIONAL PARKS ACT PARK OR PARK ADDITION   \n5                                       COASTAL RESERVE   \n...                                                 ...   \n8782                                   HISTORIC RESERVE   \n8783        NATURAL FEATURES RESERVE - BUSHLAND RESERVE   \n8784        NATURAL FEATURES RESERVE - BUSHLAND RESERVE   \n8785        NATURAL FEATURES RESERVE - BUSHLAND RESERVE   \n8786        NATURAL FEATURES RESERVE - BUSHLAND RESERVE   \n\n                                             name_short     area_src  \\\n1                                         Glenmaggie RP  GIS PARKRES   \n2                                           Yarrara FFR  GIS PARKRES   \n3                                  Murray River K15 SSR  GIS PARKRES   \n4     Nooramunga Marine and Coastal Park (addition) NHP  GIS PARKRES   \n5                              Phillip Island Coast Res  GIS PARKRES   \n...                                                 ...          ...   \n8782                                   Puffing Billy HR  GIS PARKRES   \n8783                                           Natya BR  GIS PARKRES   \n8784                                        Toolangi BR  GIS PARKRES   \n8785                                 Crib Point G229 BR  GIS PARKRES   \n8786                                Tarranginnie I48 BR  GIS PARKRES   \n\n                         manager veac_rec                         veac_study  \\\n1                 Parks Victoria       A4  Gippsland Lakes Hinterland (1983)   \n2                 Parks Victoria       G1               Mallee Review (1989)   \n3                 Parks Victoria       H4  Box-Ironbark Investigation (2001)   \n4                          DEECA     none              No LCC Recommendation   \n5        Committee of Management       J3                   Melbourne (1977)   \n...                          ...      ...                                ...   \n8782  Other Government Authority       F4          Melbourne 2 Review (1994)   \n8783              Parks Victoria      I55               Mallee Review (1989)   \n8784              Parks Victoria      G59          Melbourne 2 Review (1994)   \n8785     Committee of Management     G229          Melbourne 2 Review (1994)   \n8786              Parks Victoria      I48                     Wimmera (1986)   \n\n                      iucn  total_area                            poly_src  \\\n1     Not a Protected Area     570.861                             HOLDING   \n2                       Ia    2267.804                             HOLDING   \n3                      III       3.702  VM PARCEL EDITED WITH 25K FEATURES   \n4     Not a Protected Area       8.633                             HOLDING   \n5     Not a Protected Area     147.009  VM PARCEL EDITED WITH 25K FEATURES   \n...                    ...         ...                                 ...   \n8782  Not a Protected Area      88.696  VM PARCEL EDITED WITH 25K FEATURES   \n8783                    IV      30.963  VM PARCEL EDITED WITH 25K FEATURES   \n8784                    IV      30.059  VM PARCEL EDITED WITH 25K FEATURES   \n8785                    IV       0.693  VM PARCEL EDITED WITH 25K FEATURES   \n8786                    IV       3.817  VM PARCEL EDITED WITH 25K FEATURES   \n\n      areatypeid                                           srchname  hectares  \\\n1             30                   GLENMAGGIE RP REGIONAL PARK R.P.     18.80   \n2             21         YARRARA FFR FLORA AND FAUNA RESERVE F.F.R.      1.29   \n3             18      MURRAY RIVER K15 SSR STREAMSIDE RESERVE SS.R.      3.70   \n4             33  NOORAMUNGA MARINE AND COASTAL PARK (ADDITION) ...      8.63   \n5              1  PHILLIP ISLAND COAST RES COASTAL RESERVE COAST...     15.06   \n...          ...                                                ...       ...   \n8782           4  PUFFING BILLY HR HISTORIC & CULTURAL FEATURES ...      0.65   \n8783           9                     NATYA BR BUSHLAND RESERVE B.R.      0.83   \n8784           9                  TOOLANGI BR BUSHLAND RESERVE B.R.     12.56   \n8785           9           CRIB POINT G229 BR BUSHLAND RESERVE B.R.      0.69   \n8786           9          TARRANGINNIE I48 BR BUSHLAND RESERVE B.R.      3.82   \n\n        areasqm                                           geometry  \n1     188008.61  MULTIPOLYGON (((146.75825 -37.9299, 146.75828 ...  \n2      12893.57  POLYGON ((141.42817 -34.39947, 141.42734 -34.3...  \n3      37022.24  POLYGON ((146.61136 -36.00962, 146.61143 -36.0...  \n4      86329.22  POLYGON ((146.79819 -38.64209, 146.79498 -38.6...  \n5     150629.34  POLYGON ((145.33998 -38.53203, 145.34001 -38.5...  \n...         ...                                                ...  \n8782    6476.31  POLYGON ((145.50782 -37.94836, 145.50774 -37.9...  \n8783    8281.31  POLYGON ((143.22939 -34.95553, 143.22926 -34.9...  \n8784  125619.56  POLYGON ((145.4715 -37.54081, 145.4715 -37.540...  \n8785    6926.96  POLYGON ((145.20117 -38.36092, 145.2012 -38.36...  \n8786   38168.82  POLYGON ((141.5208 -36.26728, 141.51914 -36.26...  \n\n[8452 rows x 16 columns]",
      "text/html": "<div>\n<style scoped>\n    .dataframe tbody tr th:only-of-type {\n        vertical-align: middle;\n    }\n\n    .dataframe tbody tr th {\n        vertical-align: top;\n    }\n\n    .dataframe thead th {\n        text-align: right;\n    }\n</style>\n<table border=\"1\" class=\"dataframe\">\n  <thead>\n    <tr style=\"text-align: right;\">\n      <th></th>\n      <th>prims_id</th>\n      <th>name</th>\n      <th>area_type</th>\n      <th>name_short</th>\n      <th>area_src</th>\n      <th>manager</th>\n      <th>veac_rec</th>\n      <th>veac_study</th>\n      <th>iucn</th>\n      <th>total_area</th>\n      <th>poly_src</th>\n      <th>areatypeid</th>\n      <th>srchname</th>\n      <th>hectares</th>\n      <th>areasqm</th>\n      <th>geometry</th>\n    </tr>\n  </thead>\n  <tbody>\n    <tr>\n      <th>1</th>\n      <td>3223</td>\n      <td>Glenmaggie Regional Park</td>\n      <td>REGIONAL PARK - NOT SCHEDULED UNDER NATIONAL P...</td>\n      <td>Glenmaggie RP</td>\n      <td>GIS PARKRES</td>\n      <td>Parks Victoria</td>\n      <td>A4</td>\n      <td>Gippsland Lakes Hinterland (1983)</td>\n      <td>Not a Protected Area</td>\n      <td>570.861</td>\n      <td>HOLDING</td>\n      <td>30</td>\n      <td>GLENMAGGIE RP REGIONAL PARK R.P.</td>\n      <td>18.80</td>\n      <td>188008.61</td>\n      <td>MULTIPOLYGON (((146.75825 -37.9299, 146.75828 ...</td>\n    </tr>\n    <tr>\n      <th>2</th>\n      <td>352</td>\n      <td>Yarrara Flora and Fauna Reserve</td>\n      <td>NATURE CONSERVATION RESERVE - FLORA AND FAUNA ...</td>\n      <td>Yarrara FFR</td>\n      <td>GIS PARKRES</td>\n      <td>Parks Victoria</td>\n      <td>G1</td>\n      <td>Mallee Review (1989)</td>\n      <td>Ia</td>\n      <td>2267.804</td>\n      <td>HOLDING</td>\n      <td>21</td>\n      <td>YARRARA FFR FLORA AND FAUNA RESERVE F.F.R.</td>\n      <td>1.29</td>\n      <td>12893.57</td>\n      <td>POLYGON ((141.42817 -34.39947, 141.42734 -34.3...</td>\n    </tr>\n    <tr>\n      <th>3</th>\n      <td>2746</td>\n      <td>Murray River K15 Streamside Reserve</td>\n      <td>NATURAL FEATURES RESERVE - STREAMSIDE RESERVE</td>\n      <td>Murray River K15 SSR</td>\n      <td>GIS PARKRES</td>\n      <td>Parks Victoria</td>\n      <td>H4</td>\n      <td>Box-Ironbark Investigation (2001)</td>\n      <td>III</td>\n      <td>3.702</td>\n      <td>VM PARCEL EDITED WITH 25K FEATURES</td>\n      <td>18</td>\n      <td>MURRAY RIVER K15 SSR STREAMSIDE RESERVE SS.R.</td>\n      <td>3.70</td>\n      <td>37022.24</td>\n      <td>POLYGON ((146.61136 -36.00962, 146.61143 -36.0...</td>\n    </tr>\n    <tr>\n      <th>4</th>\n      <td>5075</td>\n      <td>Nooramunga Marine and Coastal Park (addition) ...</td>\n      <td>PROPOSED NATIONAL PARKS ACT PARK OR PARK ADDITION</td>\n      <td>Nooramunga Marine and Coastal Park (addition) NHP</td>\n      <td>GIS PARKRES</td>\n      <td>DEECA</td>\n      <td>none</td>\n      <td>No LCC Recommendation</td>\n      <td>Not a Protected Area</td>\n      <td>8.633</td>\n      <td>HOLDING</td>\n      <td>33</td>\n      <td>NOORAMUNGA MARINE AND COASTAL PARK (ADDITION) ...</td>\n      <td>8.63</td>\n      <td>86329.22</td>\n      <td>POLYGON ((146.79819 -38.64209, 146.79498 -38.6...</td>\n    </tr>\n    <tr>\n      <th>5</th>\n      <td>3193</td>\n      <td>Phillip Island Coastal Reserve</td>\n      <td>COASTAL RESERVE</td>\n      <td>Phillip Island Coast Res</td>\n      <td>GIS PARKRES</td>\n      <td>Committee of Management</td>\n      <td>J3</td>\n      <td>Melbourne (1977)</td>\n      <td>Not a Protected Area</td>\n      <td>147.009</td>\n      <td>VM PARCEL EDITED WITH 25K FEATURES</td>\n      <td>1</td>\n      <td>PHILLIP ISLAND COAST RES COASTAL RESERVE COAST...</td>\n      <td>15.06</td>\n      <td>150629.34</td>\n      <td>POLYGON ((145.33998 -38.53203, 145.34001 -38.5...</td>\n    </tr>\n    <tr>\n      <th>...</th>\n      <td>...</td>\n      <td>...</td>\n      <td>...</td>\n      <td>...</td>\n      <td>...</td>\n      <td>...</td>\n      <td>...</td>\n      <td>...</td>\n      <td>...</td>\n      <td>...</td>\n      <td>...</td>\n      <td>...</td>\n      <td>...</td>\n      <td>...</td>\n      <td>...</td>\n      <td>...</td>\n    </tr>\n    <tr>\n      <th>8782</th>\n      <td>2857</td>\n      <td>Puffing Billy Historic &amp; Cultural Features Res.</td>\n      <td>HISTORIC RESERVE</td>\n      <td>Puffing Billy HR</td>\n      <td>GIS PARKRES</td>\n      <td>Other Government Authority</td>\n      <td>F4</td>\n      <td>Melbourne 2 Review (1994)</td>\n      <td>Not a Protected Area</td>\n      <td>88.696</td>\n      <td>VM PARCEL EDITED WITH 25K FEATURES</td>\n      <td>4</td>\n      <td>PUFFING BILLY HR HISTORIC &amp; CULTURAL FEATURES ...</td>\n      <td>0.65</td>\n      <td>6476.31</td>\n      <td>POLYGON ((145.50782 -37.94836, 145.50774 -37.9...</td>\n    </tr>\n    <tr>\n      <th>8783</th>\n      <td>1109</td>\n      <td>Natya Bushland Reserve</td>\n      <td>NATURAL FEATURES RESERVE - BUSHLAND RESERVE</td>\n      <td>Natya BR</td>\n      <td>GIS PARKRES</td>\n      <td>Parks Victoria</td>\n      <td>I55</td>\n      <td>Mallee Review (1989)</td>\n      <td>IV</td>\n      <td>30.963</td>\n      <td>VM PARCEL EDITED WITH 25K FEATURES</td>\n      <td>9</td>\n      <td>NATYA BR BUSHLAND RESERVE B.R.</td>\n      <td>0.83</td>\n      <td>8281.31</td>\n      <td>POLYGON ((143.22939 -34.95553, 143.22926 -34.9...</td>\n    </tr>\n    <tr>\n      <th>8784</th>\n      <td>1600</td>\n      <td>Toolangi Bushland Reserve</td>\n      <td>NATURAL FEATURES RESERVE - BUSHLAND RESERVE</td>\n      <td>Toolangi BR</td>\n      <td>GIS PARKRES</td>\n      <td>Parks Victoria</td>\n      <td>G59</td>\n      <td>Melbourne 2 Review (1994)</td>\n      <td>IV</td>\n      <td>30.059</td>\n      <td>VM PARCEL EDITED WITH 25K FEATURES</td>\n      <td>9</td>\n      <td>TOOLANGI BR BUSHLAND RESERVE B.R.</td>\n      <td>12.56</td>\n      <td>125619.56</td>\n      <td>POLYGON ((145.4715 -37.54081, 145.4715 -37.540...</td>\n    </tr>\n    <tr>\n      <th>8785</th>\n      <td>1770</td>\n      <td>Crib Point G229 Bushland Reserve</td>\n      <td>NATURAL FEATURES RESERVE - BUSHLAND RESERVE</td>\n      <td>Crib Point G229 BR</td>\n      <td>GIS PARKRES</td>\n      <td>Committee of Management</td>\n      <td>G229</td>\n      <td>Melbourne 2 Review (1994)</td>\n      <td>IV</td>\n      <td>0.693</td>\n      <td>VM PARCEL EDITED WITH 25K FEATURES</td>\n      <td>9</td>\n      <td>CRIB POINT G229 BR BUSHLAND RESERVE B.R.</td>\n      <td>0.69</td>\n      <td>6926.96</td>\n      <td>POLYGON ((145.20117 -38.36092, 145.2012 -38.36...</td>\n    </tr>\n    <tr>\n      <th>8786</th>\n      <td>1838</td>\n      <td>Tarranginnie I48 Bushland Reserve</td>\n      <td>NATURAL FEATURES RESERVE - BUSHLAND RESERVE</td>\n      <td>Tarranginnie I48 BR</td>\n      <td>GIS PARKRES</td>\n      <td>Parks Victoria</td>\n      <td>I48</td>\n      <td>Wimmera (1986)</td>\n      <td>IV</td>\n      <td>3.817</td>\n      <td>VM PARCEL EDITED WITH 25K FEATURES</td>\n      <td>9</td>\n      <td>TARRANGINNIE I48 BR BUSHLAND RESERVE B.R.</td>\n      <td>3.82</td>\n      <td>38168.82</td>\n      <td>POLYGON ((141.5208 -36.26728, 141.51914 -36.26...</td>\n    </tr>\n  </tbody>\n</table>\n<p>8452 rows × 16 columns</p>\n</div>"
     },
     "execution_count": 24,
     "metadata": {},
     "output_type": "execute_result"
    }
   ],
   "source": [
    "# Read parkres shapefile into GeoPandas (only when necessary for geospatial operations)\n",
    "parkres_gdf = gpd.read_file(\"../data/landing/parkres/parkres.shp\")\n",
    "\n",
    "# Convert all column names to lowercase and clean the dataframe\n",
    "parkres_gdf.columns = parkres_gdf.columns.str.lower()\n",
    "parkres_gdf = parkres_gdf.dropna().drop_duplicates()\n",
    "\n",
    "# Drop unnecessary columns\n",
    "parkres_gdf = parkres_gdf.drop(['estab_date', 'last_mod', 'vers_date'], axis=1)\n",
    "\n",
    "parkres_gdf"
   ]
  },
  {
   "cell_type": "code",
   "execution_count": 25,
   "metadata": {
    "ExecuteTime": {
     "end_time": "2024-09-26T11:37:17.003577Z",
     "start_time": "2024-09-26T11:37:16.999358Z"
    }
   },
   "outputs": [
    {
     "name": "stdout",
     "output_type": "stream",
     "text": [
      "Shape of the parkres shapefile: (8452, 16)\n"
     ]
    }
   ],
   "source": [
    "print(f\"Shape of the parkres shapefile: {parkres_gdf.shape}\")"
   ]
  },
  {
   "cell_type": "code",
   "execution_count": 26,
   "metadata": {
    "ExecuteTime": {
     "end_time": "2024-09-26T11:37:17.046821Z",
     "start_time": "2024-09-26T11:37:17.004270Z"
    }
   },
   "outputs": [],
   "source": [
    "# Read victoria district boundaries shapefile\n",
    "victoria_gdf = gpd.read_file('../data/landing/boundaries/Victoria/vic_dist_boundaries.shp')"
   ]
  },
  {
   "cell_type": "code",
   "execution_count": 27,
   "metadata": {
    "ExecuteTime": {
     "end_time": "2024-09-26T11:37:17.302615Z",
     "start_time": "2024-09-26T11:37:17.047630Z"
    }
   },
   "outputs": [],
   "source": [
    "# Define the target CRS for accurate area calculations in Australia\n",
    "target_crs = 'EPSG:3112'  # GDA94 / Geoscience Australia Lambert\n",
    "\n",
    "# Project both GeoDataFrames to the target CRS\n",
    "parkres_gdf = parkres_gdf.to_crs(target_crs)\n",
    "victoria_gdf = victoria_gdf.to_crs(target_crs)\n"
   ]
  },
  {
   "cell_type": "code",
   "execution_count": 28,
   "metadata": {
    "ExecuteTime": {
     "end_time": "2024-09-26T11:37:17.308075Z",
     "start_time": "2024-09-26T11:37:17.304255Z"
    }
   },
   "outputs": [],
   "source": [
    "# Function to find the district with the largest overlap\n",
    "def find_largest_overlap(park_geometry, districts_gdf):\n",
    "    overlaps = districts_gdf.intersection(park_geometry)\n",
    "    overlap_areas = overlaps.area\n",
    "    if overlap_areas.max() > 0:\n",
    "        return districts_gdf.iloc[overlap_areas.idxmax()]['sa2_name']\n",
    "    else:\n",
    "        # If no overlap, find the nearest district\n",
    "        distances = districts_gdf.distance(park_geometry)\n",
    "        return districts_gdf.iloc[distances.idxmin()]['sa2_name']"
   ]
  },
  {
   "cell_type": "code",
   "execution_count": 29,
   "metadata": {
    "ExecuteTime": {
     "end_time": "2024-09-26T11:37:27.692252Z",
     "start_time": "2024-09-26T11:37:17.309144Z"
    }
   },
   "outputs": [
    {
     "data": {
      "text/plain": "   prims_id                                               name  \\\n1      3223                           Glenmaggie Regional Park   \n2       352                    Yarrara Flora and Fauna Reserve   \n3      2746                Murray River K15 Streamside Reserve   \n4      5075  Nooramunga Marine and Coastal Park (addition) ...   \n5      3193                     Phillip Island Coastal Reserve   \n\n                                           area_type  \\\n1  REGIONAL PARK - NOT SCHEDULED UNDER NATIONAL P...   \n2  NATURE CONSERVATION RESERVE - FLORA AND FAUNA ...   \n3      NATURAL FEATURES RESERVE - STREAMSIDE RESERVE   \n4  PROPOSED NATIONAL PARKS ACT PARK OR PARK ADDITION   \n5                                    COASTAL RESERVE   \n\n                                          name_short     area_src  \\\n1                                      Glenmaggie RP  GIS PARKRES   \n2                                        Yarrara FFR  GIS PARKRES   \n3                               Murray River K15 SSR  GIS PARKRES   \n4  Nooramunga Marine and Coastal Park (addition) NHP  GIS PARKRES   \n5                           Phillip Island Coast Res  GIS PARKRES   \n\n                   manager veac_rec                         veac_study  \\\n1           Parks Victoria       A4  Gippsland Lakes Hinterland (1983)   \n2           Parks Victoria       G1               Mallee Review (1989)   \n3           Parks Victoria       H4  Box-Ironbark Investigation (2001)   \n4                    DEECA     none              No LCC Recommendation   \n5  Committee of Management       J3                   Melbourne (1977)   \n\n                   iucn  total_area                            poly_src  \\\n1  Not a Protected Area     570.861                             HOLDING   \n2                    Ia    2267.804                             HOLDING   \n3                   III       3.702  VM PARCEL EDITED WITH 25K FEATURES   \n4  Not a Protected Area       8.633                             HOLDING   \n5  Not a Protected Area     147.009  VM PARCEL EDITED WITH 25K FEATURES   \n\n   areatypeid                                           srchname  hectares  \\\n1          30                   GLENMAGGIE RP REGIONAL PARK R.P.     18.80   \n2          21         YARRARA FFR FLORA AND FAUNA RESERVE F.F.R.      1.29   \n3          18      MURRAY RIVER K15 SSR STREAMSIDE RESERVE SS.R.      3.70   \n4          33  NOORAMUNGA MARINE AND COASTAL PARK (ADDITION) ...      8.63   \n5           1  PHILLIP ISLAND COAST RES COASTAL RESERVE COAST...     15.06   \n\n     areasqm                                           geometry  \\\n1  188008.61  MULTIPOLYGON (((1126585.815 -4322470.846, 1126...   \n2   12893.57  POLYGON ((679829.1 -3893333.379, 679752.495 -3...   \n3   37022.24  POLYGON ((1135072.166 -4108497.785, 1135077.68...   \n4   86329.22  POLYGON ((1122004.523 -4402057.395, 1121728.61...   \n5  150629.34  POLYGON ((995644.224 -4377506.647, 995647.782 ...   \n\n            sa2_name  \n1             Maffra  \n2  Mildura Surrounds  \n3         Rutherglen  \n4             Yarram  \n5     Phillip Island  ",
      "text/html": "<div>\n<style scoped>\n    .dataframe tbody tr th:only-of-type {\n        vertical-align: middle;\n    }\n\n    .dataframe tbody tr th {\n        vertical-align: top;\n    }\n\n    .dataframe thead th {\n        text-align: right;\n    }\n</style>\n<table border=\"1\" class=\"dataframe\">\n  <thead>\n    <tr style=\"text-align: right;\">\n      <th></th>\n      <th>prims_id</th>\n      <th>name</th>\n      <th>area_type</th>\n      <th>name_short</th>\n      <th>area_src</th>\n      <th>manager</th>\n      <th>veac_rec</th>\n      <th>veac_study</th>\n      <th>iucn</th>\n      <th>total_area</th>\n      <th>poly_src</th>\n      <th>areatypeid</th>\n      <th>srchname</th>\n      <th>hectares</th>\n      <th>areasqm</th>\n      <th>geometry</th>\n      <th>sa2_name</th>\n    </tr>\n  </thead>\n  <tbody>\n    <tr>\n      <th>1</th>\n      <td>3223</td>\n      <td>Glenmaggie Regional Park</td>\n      <td>REGIONAL PARK - NOT SCHEDULED UNDER NATIONAL P...</td>\n      <td>Glenmaggie RP</td>\n      <td>GIS PARKRES</td>\n      <td>Parks Victoria</td>\n      <td>A4</td>\n      <td>Gippsland Lakes Hinterland (1983)</td>\n      <td>Not a Protected Area</td>\n      <td>570.861</td>\n      <td>HOLDING</td>\n      <td>30</td>\n      <td>GLENMAGGIE RP REGIONAL PARK R.P.</td>\n      <td>18.80</td>\n      <td>188008.61</td>\n      <td>MULTIPOLYGON (((1126585.815 -4322470.846, 1126...</td>\n      <td>Maffra</td>\n    </tr>\n    <tr>\n      <th>2</th>\n      <td>352</td>\n      <td>Yarrara Flora and Fauna Reserve</td>\n      <td>NATURE CONSERVATION RESERVE - FLORA AND FAUNA ...</td>\n      <td>Yarrara FFR</td>\n      <td>GIS PARKRES</td>\n      <td>Parks Victoria</td>\n      <td>G1</td>\n      <td>Mallee Review (1989)</td>\n      <td>Ia</td>\n      <td>2267.804</td>\n      <td>HOLDING</td>\n      <td>21</td>\n      <td>YARRARA FFR FLORA AND FAUNA RESERVE F.F.R.</td>\n      <td>1.29</td>\n      <td>12893.57</td>\n      <td>POLYGON ((679829.1 -3893333.379, 679752.495 -3...</td>\n      <td>Mildura Surrounds</td>\n    </tr>\n    <tr>\n      <th>3</th>\n      <td>2746</td>\n      <td>Murray River K15 Streamside Reserve</td>\n      <td>NATURAL FEATURES RESERVE - STREAMSIDE RESERVE</td>\n      <td>Murray River K15 SSR</td>\n      <td>GIS PARKRES</td>\n      <td>Parks Victoria</td>\n      <td>H4</td>\n      <td>Box-Ironbark Investigation (2001)</td>\n      <td>III</td>\n      <td>3.702</td>\n      <td>VM PARCEL EDITED WITH 25K FEATURES</td>\n      <td>18</td>\n      <td>MURRAY RIVER K15 SSR STREAMSIDE RESERVE SS.R.</td>\n      <td>3.70</td>\n      <td>37022.24</td>\n      <td>POLYGON ((1135072.166 -4108497.785, 1135077.68...</td>\n      <td>Rutherglen</td>\n    </tr>\n    <tr>\n      <th>4</th>\n      <td>5075</td>\n      <td>Nooramunga Marine and Coastal Park (addition) ...</td>\n      <td>PROPOSED NATIONAL PARKS ACT PARK OR PARK ADDITION</td>\n      <td>Nooramunga Marine and Coastal Park (addition) NHP</td>\n      <td>GIS PARKRES</td>\n      <td>DEECA</td>\n      <td>none</td>\n      <td>No LCC Recommendation</td>\n      <td>Not a Protected Area</td>\n      <td>8.633</td>\n      <td>HOLDING</td>\n      <td>33</td>\n      <td>NOORAMUNGA MARINE AND COASTAL PARK (ADDITION) ...</td>\n      <td>8.63</td>\n      <td>86329.22</td>\n      <td>POLYGON ((1122004.523 -4402057.395, 1121728.61...</td>\n      <td>Yarram</td>\n    </tr>\n    <tr>\n      <th>5</th>\n      <td>3193</td>\n      <td>Phillip Island Coastal Reserve</td>\n      <td>COASTAL RESERVE</td>\n      <td>Phillip Island Coast Res</td>\n      <td>GIS PARKRES</td>\n      <td>Committee of Management</td>\n      <td>J3</td>\n      <td>Melbourne (1977)</td>\n      <td>Not a Protected Area</td>\n      <td>147.009</td>\n      <td>VM PARCEL EDITED WITH 25K FEATURES</td>\n      <td>1</td>\n      <td>PHILLIP ISLAND COAST RES COASTAL RESERVE COAST...</td>\n      <td>15.06</td>\n      <td>150629.34</td>\n      <td>POLYGON ((995644.224 -4377506.647, 995647.782 ...</td>\n      <td>Phillip Island</td>\n    </tr>\n  </tbody>\n</table>\n</div>"
     },
     "execution_count": 29,
     "metadata": {},
     "output_type": "execute_result"
    }
   ],
   "source": [
    "# Add SA2 name to parkres_gdf based on largest overlap\n",
    "parkres_gdf['sa2_name'] = parkres_gdf.apply(lambda row: find_largest_overlap(row['geometry'], victoria_gdf), axis=1)\n",
    "\n",
    "parkres_gdf.head()"
   ]
  },
  {
   "cell_type": "code",
   "execution_count": 30,
   "metadata": {
    "ExecuteTime": {
     "end_time": "2024-09-26T11:37:28.059643Z",
     "start_time": "2024-09-26T11:37:27.693416Z"
    }
   },
   "outputs": [],
   "source": [
    "# Read suburb parquet data into a Spark DataFrame\n",
    "suburb_spark_df = spark.read.parquet('../data/landing/suburb_match/suburb_match.parquet')"
   ]
  },
  {
   "cell_type": "code",
   "execution_count": 31,
   "metadata": {
    "ExecuteTime": {
     "end_time": "2024-09-26T11:37:28.083244Z",
     "start_time": "2024-09-26T11:37:28.065157Z"
    }
   },
   "outputs": [],
   "source": [
    "# Filter the Spark DataFrame to only include rows where the state is 'VIC'\n",
    "suburb_spark_df = suburb_spark_df.filter(suburb_spark_df['state'] == 'VIC')"
   ]
  },
  {
   "cell_type": "code",
   "execution_count": 32,
   "metadata": {
    "ExecuteTime": {
     "end_time": "2024-09-26T11:37:38.889915Z",
     "start_time": "2024-09-26T11:37:28.084215Z"
    }
   },
   "outputs": [
    {
     "name": "stdout",
     "output_type": "stream",
     "text": [
      "Unique unmatched sa2_names:\n"
     ]
    },
    {
     "data": {
      "text/plain": "                                                name           sa2_name  \\\n1                           Glenmaggie Regional Park             Maffra   \n2                    Yarrara Flora and Fauna Reserve  Mildura Surrounds   \n3                Murray River K15 Streamside Reserve         Rutherglen   \n4  Nooramunga Marine and Coastal Park (addition) ...             Yarram   \n5                     Phillip Island Coastal Reserve     Phillip Island   \n\n   postcode                                           geometry  \n1      3825  MULTIPOLYGON (((1126585.815 -4322470.846, 1126...  \n2      3489  POLYGON ((679829.1 -3893333.379, 679752.495 -3...  \n3      3685  POLYGON ((1135072.166 -4108497.785, 1135077.68...  \n4      3844  POLYGON ((1122004.523 -4402057.395, 1121728.61...  \n5      3922  POLYGON ((995644.224 -4377506.647, 995647.782 ...  ",
      "text/html": "<div>\n<style scoped>\n    .dataframe tbody tr th:only-of-type {\n        vertical-align: middle;\n    }\n\n    .dataframe tbody tr th {\n        vertical-align: top;\n    }\n\n    .dataframe thead th {\n        text-align: right;\n    }\n</style>\n<table border=\"1\" class=\"dataframe\">\n  <thead>\n    <tr style=\"text-align: right;\">\n      <th></th>\n      <th>name</th>\n      <th>sa2_name</th>\n      <th>postcode</th>\n      <th>geometry</th>\n    </tr>\n  </thead>\n  <tbody>\n    <tr>\n      <th>1</th>\n      <td>Glenmaggie Regional Park</td>\n      <td>Maffra</td>\n      <td>3825</td>\n      <td>MULTIPOLYGON (((1126585.815 -4322470.846, 1126...</td>\n    </tr>\n    <tr>\n      <th>2</th>\n      <td>Yarrara Flora and Fauna Reserve</td>\n      <td>Mildura Surrounds</td>\n      <td>3489</td>\n      <td>POLYGON ((679829.1 -3893333.379, 679752.495 -3...</td>\n    </tr>\n    <tr>\n      <th>3</th>\n      <td>Murray River K15 Streamside Reserve</td>\n      <td>Rutherglen</td>\n      <td>3685</td>\n      <td>POLYGON ((1135072.166 -4108497.785, 1135077.68...</td>\n    </tr>\n    <tr>\n      <th>4</th>\n      <td>Nooramunga Marine and Coastal Park (addition) ...</td>\n      <td>Yarram</td>\n      <td>3844</td>\n      <td>POLYGON ((1122004.523 -4402057.395, 1121728.61...</td>\n    </tr>\n    <tr>\n      <th>5</th>\n      <td>Phillip Island Coastal Reserve</td>\n      <td>Phillip Island</td>\n      <td>3922</td>\n      <td>POLYGON ((995644.224 -4377506.647, 995647.782 ...</td>\n    </tr>\n  </tbody>\n</table>\n</div>"
     },
     "execution_count": 32,
     "metadata": {},
     "output_type": "execute_result"
    }
   ],
   "source": [
    "# Matching postcode function optimized for Spark DataFrame\n",
    "def match_postcode(final_df, suburb_spark_df):\n",
    "    manual_updates = {\n",
    "        'Horsham Surrounds': 3400,\n",
    "        'Bacchus Marsh Surrounds': 3340,\n",
    "    }\n",
    "\n",
    "    # Broadcast the suburb Spark DataFrame to avoid converting it to Pandas\n",
    "    suburb_broadcast = spark.sparkContext.broadcast(suburb_spark_df.toPandas())\n",
    "\n",
    "    def find_postcode(sa2_name):\n",
    "        if pd.isna(sa2_name):\n",
    "            return None\n",
    "        \n",
    "        # Check if there's a manual update for this sa2_name\n",
    "        if sa2_name in manual_updates:\n",
    "            return manual_updates[sa2_name]\n",
    "        \n",
    "        sa2_name_lower = sa2_name.lower()\n",
    "\n",
    "        # Access the broadcasted Pandas DataFrame for matching\n",
    "        suburb_df_pd = suburb_broadcast.value\n",
    "\n",
    "        # Exact match or partial match in both SA2_NAME_2021 and locality\n",
    "        match = suburb_df_pd[\n",
    "            (suburb_df_pd['SA2_NAME_2021'].fillna('').str.lower() == sa2_name_lower) |\n",
    "            (suburb_df_pd['locality'].fillna('').str.lower() == sa2_name_lower)\n",
    "        ]\n",
    "        \n",
    "        if not match.empty:\n",
    "            return match['postcode'].iloc[0]\n",
    "\n",
    "        # Partial match based on the main part of the name\n",
    "        main_part = sa2_name_lower.split('-')[0].strip().split('(')[0].strip()\n",
    "        match = suburb_df_pd[\n",
    "            (suburb_df_pd['SA2_NAME_2021'].fillna('').str.lower().str.startswith(main_part)) |\n",
    "            (suburb_df_pd['locality'].fillna('').str.lower().str.startswith(main_part))\n",
    "        ]\n",
    "        \n",
    "        if not match.empty:\n",
    "            return match['postcode'].iloc[0]\n",
    "\n",
    "        return None\n",
    "\n",
    "    # Apply the find_postcode function to final_df\n",
    "    final_df['postcode'] = final_df['sa2_name'].apply(find_postcode)\n",
    "    final_df['postcode'] = pd.to_numeric(final_df['postcode'], errors='coerce').astype('Int64')\n",
    "\n",
    "    # Identify and display unmatched SA2 names\n",
    "    unmatched = final_df[final_df['postcode'].isna()]['sa2_name'].unique().tolist()\n",
    "    print(\"Unique unmatched sa2_names:\")\n",
    "    for name in unmatched:\n",
    "        print(name)\n",
    "\n",
    "    return final_df[['name', 'sa2_name', 'postcode', 'geometry']]\n",
    "\n",
    "# Perform postcode matching and filtering\n",
    "result_df = match_postcode(parkres_gdf, suburb_spark_df)\n",
    "result_df.head()"
   ]
  },
  {
   "cell_type": "code",
   "execution_count": 33,
   "metadata": {
    "ExecuteTime": {
     "end_time": "2024-09-26T11:37:38.906282Z",
     "start_time": "2024-09-26T11:37:38.896419Z"
    }
   },
   "outputs": [
    {
     "data": {
      "text/plain": "                              name                     sa2_name  postcode  \\\n1    Lilydale-Warburton Rail Trail                 Yarra Valley      3139   \n2         Nangana Bushland Reserve                 Yarra Valley      3139   \n3  Nillumbik G139 Bushland Reserve  Wattle Glen - Diamond Creek      3089   \n4    Lilydale-Warburton Rail Trail        Lilydale - Coldstream      3140   \n5           Plenty Gorge Parklands           Plenty - Yarrambat      3088   \n\n                                            geometry  \n1  POLYGON ((1034153.618 -4293796.631, 1034157.80...  \n2  POLYGON ((1022203.959 -4305504.818, 1022103.44...  \n3  POLYGON ((989912.759 -4282407.536, 989863.055 ...  \n4  POLYGON ((1005216.889 -4291459.212, 1005220.85...  \n5  POLYGON ((983018.706 -4280186.305, 982890.744 ...  ",
      "text/html": "<div>\n<style scoped>\n    .dataframe tbody tr th:only-of-type {\n        vertical-align: middle;\n    }\n\n    .dataframe tbody tr th {\n        vertical-align: top;\n    }\n\n    .dataframe thead th {\n        text-align: right;\n    }\n</style>\n<table border=\"1\" class=\"dataframe\">\n  <thead>\n    <tr style=\"text-align: right;\">\n      <th></th>\n      <th>name</th>\n      <th>sa2_name</th>\n      <th>postcode</th>\n      <th>geometry</th>\n    </tr>\n  </thead>\n  <tbody>\n    <tr>\n      <th>1</th>\n      <td>Lilydale-Warburton Rail Trail</td>\n      <td>Yarra Valley</td>\n      <td>3139</td>\n      <td>POLYGON ((1034153.618 -4293796.631, 1034157.80...</td>\n    </tr>\n    <tr>\n      <th>2</th>\n      <td>Nangana Bushland Reserve</td>\n      <td>Yarra Valley</td>\n      <td>3139</td>\n      <td>POLYGON ((1022203.959 -4305504.818, 1022103.44...</td>\n    </tr>\n    <tr>\n      <th>3</th>\n      <td>Nillumbik G139 Bushland Reserve</td>\n      <td>Wattle Glen - Diamond Creek</td>\n      <td>3089</td>\n      <td>POLYGON ((989912.759 -4282407.536, 989863.055 ...</td>\n    </tr>\n    <tr>\n      <th>4</th>\n      <td>Lilydale-Warburton Rail Trail</td>\n      <td>Lilydale - Coldstream</td>\n      <td>3140</td>\n      <td>POLYGON ((1005216.889 -4291459.212, 1005220.85...</td>\n    </tr>\n    <tr>\n      <th>5</th>\n      <td>Plenty Gorge Parklands</td>\n      <td>Plenty - Yarrambat</td>\n      <td>3088</td>\n      <td>POLYGON ((983018.706 -4280186.305, 982890.744 ...</td>\n    </tr>\n  </tbody>\n</table>\n</div>"
     },
     "execution_count": 33,
     "metadata": {},
     "output_type": "execute_result"
    }
   ],
   "source": [
    "# Filter the DataFrame for postcodes between 3000 and 3200\n",
    "filtered_df = result_df[(result_df['postcode'] >= 3000) & (result_df['postcode'] <= 3200)]\n",
    "\n",
    "# Reset the index and start from 1\n",
    "filtered_df = filtered_df.reset_index(drop=True)\n",
    "filtered_df.index += 1\n",
    "\n",
    "filtered_df.head()"
   ]
  },
  {
   "cell_type": "code",
   "execution_count": 34,
   "metadata": {
    "ExecuteTime": {
     "end_time": "2024-09-26T11:37:38.981435Z",
     "start_time": "2024-09-26T11:37:38.907025Z"
    }
   },
   "outputs": [],
   "source": [
    "output_dir = '../data/curated/parkres/'\n",
    "\n",
    "# Ensure the output directory exists\n",
    "if not os.path.exists(output_dir):\n",
    "    os.makedirs(output_dir)\n",
    "\n",
    "# Save the filtered data to a new shapefile\n",
    "filtered_df.to_csv('../data/curated/parkres/parkres.csv')"
   ]
  }
 ],
 "metadata": {
  "kernelspec": {
   "display_name": "Python 3",
   "language": "python",
   "name": "python3"
  },
  "language_info": {
   "codemirror_mode": {
    "name": "ipython",
    "version": 3
   },
   "file_extension": ".py",
   "mimetype": "text/x-python",
   "name": "python",
   "nbconvert_exporter": "python",
   "pygments_lexer": "ipython3",
   "version": "3.10.12"
  }
 },
 "nbformat": 4,
 "nbformat_minor": 2
}
