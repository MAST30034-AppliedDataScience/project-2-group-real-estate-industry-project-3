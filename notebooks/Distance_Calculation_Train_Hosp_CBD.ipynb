{
 "cells": [
  {
   "cell_type": "markdown",
   "metadata": {},
   "source": [
    "#### Anushka"
   ]
  },
  {
   "cell_type": "markdown",
   "metadata": {},
   "source": [
    "# Calculating Distances from Properties to CBD, Train Stations & Nearest Hospitals\n"
   ]
  },
  {
   "cell_type": "markdown",
   "metadata": {},
   "source": [
    "#### Starting the Spark Session"
   ]
  },
  {
   "cell_type": "code",
   "execution_count": 2,
   "metadata": {},
   "outputs": [],
   "source": [
    "import geopandas as gpd\n",
    "gdf_train_stations = gpd.read_file(\"../data/landing/Order_G6Z8LX (1)/ll_gda94/esrishape/whole_of_dataset/victoria/PTV/PTV_METRO_TRAIN_STATION.shp\")"
   ]
  },
  {
   "cell_type": "markdown",
   "metadata": {},
   "source": [
    "#### Extracting suburb names from train data"
   ]
  },
  {
   "cell_type": "code",
   "execution_count": 5,
   "metadata": {},
   "outputs": [],
   "source": [
    "\n",
    "gdf_train_stations['suburb'] = gdf_train_stations['STOP_NAME'].apply(extract_suburb)"
   ]
  },
  {
   "cell_type": "markdown",
   "metadata": {},
   "source": [
    "#### Extracting suburb names from properties data"
   ]
  },
  {
   "cell_type": "code",
   "execution_count": 6,
   "metadata": {},
   "outputs": [
    {
     "name": "stderr",
     "output_type": "stream",
     "text": [
      "24/10/05 23:04:57 WARN SparkSession: Using an existing Spark session; only runtime SQL configurations will take effect.\n",
      "24/10/05 23:05:03 WARN SparkStringUtils: Truncated the string representation of a plan since it was too large. This behavior can be adjusted by setting 'spark.sql.debug.maxToStringFields'.\n"
     ]
    },
    {
     "name": "stdout",
     "output_type": "stream",
     "text": [
      "+--------------------+-----------------+--------------------+--------------------+------------------+-----------+----+-----+-------+------+---------------+--------------------+-----------+---------+--------------------+--------+---------+--------+-----------------+--------+--------------------+--------+-----------------+--------+--------+--------+---------+--------+--------------------+--------------------+\n",
      "|                 url|            price|             address|       property_type|          latitude|  longitude|Beds|Baths|Parking|  bond|extracted_price|            geometry|index_right| sa2_code|            sa2_name|chg_flag|  chg_lbl|sa3_code|         sa3_name|sa4_code|            sa4_name|gcc_code|         gcc_name|ste_code|ste_name|aus_code| aus_name|areasqkm|            loci_uri|       geometry_proj|\n",
      "+--------------------+-----------------+--------------------+--------------------+------------------+-----------+----+-----+-------+------+---------------+--------------------+-----------+---------+--------------------+--------+---------+--------+-----------------+--------+--------------------+--------+-----------------+--------+--------+--------+---------+--------+--------------------+--------------------+\n",
      "|https://www.domai...|        $1,400.00|10 Allara Court, ...|           Townhouse|-37.77427300000001|145.1811258| 4.0|  3.0|    2.0|9125.0|         1400.0|POINT (145.181125...|      310.0|211021261|Donvale - Park Or...|       0|No change|   21102|Manningham - East|     211|Melbourne - Outer...|   2GMEL|Greater Melbourne|       2|Victoria|     AUS|Australia| 20.8028|http://linked.dat...|POINT (989259.417...|\n",
      "|https://www.domai...|    $750 per week|7 Pine Ridge, Don...|               House|       -37.7912513|145.1756489| 4.0|  2.0|    0.0|3259.0|          750.0|POINT (145.175648...|      310.0|211021261|Donvale - Park Or...|       0|No change|   21102|Manningham - East|     211|Melbourne - Outer...|   2GMEL|Greater Melbourne|       2|Victoria|     AUS|Australia| 20.8028|http://linked.dat...|POINT (988607.823...|\n",
      "|https://www.domai...|   $1300 per week|20 Mulsanne Way, ...|               House|       -37.7972323|145.1812636| 5.0|  2.0|    2.0|5649.0|         1300.0|POINT (145.181263...|      310.0|211021261|Donvale - Park Or...|       0|No change|   21102|Manningham - East|     211|Melbourne - Outer...|   2GMEL|Greater Melbourne|       2|Victoria|     AUS|Australia| 20.8028|http://linked.dat...|POINT (989043.874...|\n",
      "|https://www.domai...|$825pw / $3585pcm|3 Monterey Cresce...|               House|        -37.792402|145.1743233| 3.0|  1.0|    5.0|3585.0|          825.0|POINT (145.174323...|      310.0|211021261|Donvale - Park Or...|       0|No change|   21102|Manningham - East|     211|Melbourne - Outer...|   2GMEL|Greater Melbourne|       2|Victoria|     AUS|Australia| 20.8028|http://linked.dat...|POINT (988479.463...|\n",
      "|https://www.domai...|          $680.00|3/49 Leslie Stree...|           Townhouse|       -37.7810117| 145.180705| 3.0|  2.0|    2.0|2955.0|          680.0|POINT (145.180705...|      310.0|211021261|Donvale - Park Or...|       0|No change|   21102|Manningham - East|     211|Melbourne - Outer...|   2GMEL|Greater Melbourne|       2|Victoria|     AUS|Australia| 20.8028|http://linked.dat...|POINT (989155.458...|\n",
      "|https://www.domai...|          $575.00|6/81-97 Mitcham R...|           Townhouse|       -37.7978137|145.1813965| 2.0|  1.0|    2.0|2499.0|          575.0|POINT (145.181396...|      310.0|211021261|Donvale - Park Or...|       0|No change|   21102|Manningham - East|     211|Melbourne - Outer...|   2GMEL|Greater Melbourne|       2|Victoria|     AUS|Australia| 20.8028|http://linked.dat...|POINT (989049.832...|\n",
      "|https://www.domai...|          $680.00|4/49 Leslie Stree...|           Townhouse|       -37.7808415| 145.180724| 3.0|  2.0|    2.0|2955.0|          680.0|POINT (145.180724...|      310.0|211021261|Donvale - Park Or...|       0|No change|   21102|Manningham - East|     211|Melbourne - Outer...|   2GMEL|Greater Melbourne|       2|Victoria|     AUS|Australia| 20.8028|http://linked.dat...|POINT (989158.822...|\n",
      "|https://www.domai...|    $500 Per Week|10/51-55 Leslie S...|Apartment / Unit ...|        -37.781431| 145.181474| 2.0|  1.0|    1.0|2173.0|          500.0|POINT (145.181474...|      310.0|211021261|Donvale - Park Or...|       0|No change|   21102|Manningham - East|     211|Melbourne - Outer...|   2GMEL|Greater Melbourne|       2|Victoria|     AUS|Australia| 20.8028|http://linked.dat...|POINT (989219.153...|\n",
      "|https://www.domai...|    $695 per week|6 Martha Street, ...|Apartment / Unit ...|        -37.795872|145.1743186| 3.0|  2.0|    1.0|3020.0|          695.0|POINT (145.174318...|      310.0|211021261|Donvale - Park Or...|       0|No change|   21102|Manningham - East|     211|Melbourne - Outer...|   2GMEL|Greater Melbourne|       2|Victoria|     AUS|Australia| 20.8028|http://linked.dat...|POINT (988444.654...|\n",
      "|https://www.domai...|          $800.00|55 Darvall Street...|               House|        -37.802745|145.1756185| 4.0|  2.0|    2.0|3476.0|          800.0|POINT (145.175618...|      310.0|211021261|Donvale - Park Or...|       0|No change|   21102|Manningham - East|     211|Melbourne - Outer...|   2GMEL|Greater Melbourne|       2|Victoria|     AUS|Australia| 20.8028|http://linked.dat...|POINT (988491.203...|\n",
      "|https://www.domai...|             $800|1/9 Standring Clo...|           Townhouse|       -37.7828514|145.1766753| 3.0|  2.0|    2.0|3476.0|          800.0|POINT (145.176675...|      310.0|211021261|Donvale - Park Or...|       0|No change|   21102|Manningham - East|     211|Melbourne - Outer...|   2GMEL|Greater Melbourne|       2|Victoria|     AUS|Australia| 20.8028|http://linked.dat...|POINT (988781.653...|\n",
      "|https://www.domai...|             $770|2 The Elms, Donva...|               House|       -37.7745679|145.1799075| 3.0|  2.0|    2.0|3345.0|          770.0|POINT (145.179907...|      310.0|211021261|Donvale - Park Or...|       0|No change|   21102|Manningham - East|     211|Melbourne - Outer...|   2GMEL|Greater Melbourne|       2|Victoria|     AUS|Australia| 20.8028|http://linked.dat...|POINT (989148.987...|\n",
      "|https://www.domai...|             $785|84 Melissa Street...|               House|       -37.7822545|145.1800824| 3.0|  2.0|    2.0|3411.0|          785.0|POINT (145.180082...|      310.0|211021261|Donvale - Park Or...|       0|No change|   21102|Manningham - East|     211|Melbourne - Outer...|   2GMEL|Greater Melbourne|       2|Victoria|     AUS|Australia| 20.8028|http://linked.dat...|POINT (989088.198...|\n",
      "|https://www.domai...|    $800 per week|30a Lynne Street,...|           Townhouse|       -37.7968813|145.1730744| 3.0|  2.0|    2.0|3476.0|          800.0|POINT (145.173074...|      310.0|211021261|Donvale - Park Or...|       0|No change|   21102|Manningham - East|     211|Melbourne - Outer...|   2GMEL|Greater Melbourne|       2|Victoria|     AUS|Australia| 20.8028|http://linked.dat...|POINT (988324.884...|\n",
      "|https://www.domai...|$1100pw, $4780pcm|438 Canning Stree...|               House|       -37.7867864|144.9750664| 3.0|  1.0|    1.0|6600.0|         1100.0|POINT (144.975066...|      157.0|206071140|Carlton North - P...|       0|No change|   20607|            Yarra|     206|   Melbourne - Inner|   2GMEL|Greater Melbourne|       2|Victoria|     AUS|Australia|  2.3042|http://linked.dat...|POINT (970953.130...|\n",
      "|https://www.domai...|          $840 pw|68 Pigdon Street,...|               House|-37.78215840000001|144.9749862| 2.0|  1.0|    0.0|3650.0|          840.0|POINT (144.974986...|      157.0|206071140|Carlton North - P...|       0|No change|   20607|            Yarra|     206|   Melbourne - Inner|   2GMEL|Greater Melbourne|       2|Victoria|     AUS|Australia|  2.3042|http://linked.dat...|POINT (970991.107...|\n",
      "|https://www.domai...| $680.00 per week|449 Station Stree...|               House|        -37.785975|144.9756663| 2.0|  1.0|    0.0|2955.0|          680.0|POINT (144.975666...|      157.0|206071140|Carlton North - P...|       0|No change|   20607|            Yarra|     206|   Melbourne - Inner|   2GMEL|Greater Melbourne|       2|Victoria|     AUS|Australia|  2.3042|http://linked.dat...|POINT (971013.968...|\n",
      "|https://www.domai...|$600pw / $2607pcm|2/545-549 Nichols...|Apartment / Unit ...|       -37.7866617|144.9766719| 2.0|  1.0|    1.0|2607.0|          600.0|POINT (144.976671...|      157.0|206071140|Carlton North - P...|       0|No change|   20607|            Yarra|     206|   Melbourne - Inner|   2GMEL|Greater Melbourne|       2|Victoria|     AUS|Australia|  2.3042|http://linked.dat...|POINT (971096.020...|\n",
      "|https://www.domai...|          $580.00|9/1068 Lygon Stre...|Apartment / Unit ...|       -37.7809417|144.9705344| 2.0|  1.0|    1.0|  NULL|          580.0|POINT (144.970534...|      157.0|206071140|Carlton North - P...|       0|No change|   20607|            Yarra|     206|   Melbourne - Inner|   2GMEL|Greater Melbourne|       2|Victoria|     AUS|Australia|  2.3042|http://linked.dat...|POINT (970610.084...|\n",
      "|https://www.domai...|          $630.00|293 Richardson St...|               House|       -37.7840809|144.9656152| 2.0|  1.0|    0.0|2738.0|          630.0|POINT (144.965615...|      157.0|206071140|Carlton North - P...|       0|No change|   20607|            Yarra|     206|   Melbourne - Inner|   2GMEL|Greater Melbourne|       2|Victoria|     AUS|Australia|  2.3042|http://linked.dat...|POINT (970145.432...|\n",
      "+--------------------+-----------------+--------------------+--------------------+------------------+-----------+----+-----+-------+------+---------------+--------------------+-----------+---------+--------------------+--------+---------+--------+-----------------+--------+--------------------+--------+-----------------+--------+--------+--------+---------+--------+--------------------+--------------------+\n",
      "only showing top 20 rows\n",
      "\n"
     ]
    },
    {
     "name": "stderr",
     "output_type": "stream",
     "text": [
      "                                                                                \r"
     ]
    },
    {
     "name": "stdout",
     "output_type": "stream",
     "text": [
      "+--------------------+-----------------+--------------------+--------------------+------------------+-----------+----+-----+-------+------+---------------+--------------------+-----------+---------+--------------------+--------+---------+--------+-----------------+--------+--------------------+--------+-----------------+--------+--------+--------+---------+--------+--------------------+--------------------+-------------+\n",
      "|                 url|            price|             address|       property_type|          latitude|  longitude|Beds|Baths|Parking|  bond|extracted_price|            geometry|index_right| sa2_code|            sa2_name|chg_flag|  chg_lbl|sa3_code|         sa3_name|sa4_code|            sa4_name|gcc_code|         gcc_name|ste_code|ste_name|aus_code| aus_name|areasqkm|            loci_uri|       geometry_proj|       suburb|\n",
      "+--------------------+-----------------+--------------------+--------------------+------------------+-----------+----+-----+-------+------+---------------+--------------------+-----------+---------+--------------------+--------+---------+--------+-----------------+--------+--------------------+--------+-----------------+--------+--------+--------+---------+--------+--------------------+--------------------+-------------+\n",
      "|https://www.domai...|        $1,400.00|10 Allara Court, ...|           Townhouse|-37.77427300000001|145.1811258| 4.0|  3.0|    2.0|9125.0|         1400.0|POINT (145.181125...|      310.0|211021261|Donvale - Park Or...|       0|No change|   21102|Manningham - East|     211|Melbourne - Outer...|   2GMEL|Greater Melbourne|       2|Victoria|     AUS|Australia| 20.8028|http://linked.dat...|POINT (989259.417...|      Donvale|\n",
      "|https://www.domai...|    $750 per week|7 Pine Ridge, Don...|               House|       -37.7912513|145.1756489| 4.0|  2.0|    0.0|3259.0|          750.0|POINT (145.175648...|      310.0|211021261|Donvale - Park Or...|       0|No change|   21102|Manningham - East|     211|Melbourne - Outer...|   2GMEL|Greater Melbourne|       2|Victoria|     AUS|Australia| 20.8028|http://linked.dat...|POINT (988607.823...|      Donvale|\n",
      "|https://www.domai...|   $1300 per week|20 Mulsanne Way, ...|               House|       -37.7972323|145.1812636| 5.0|  2.0|    2.0|5649.0|         1300.0|POINT (145.181263...|      310.0|211021261|Donvale - Park Or...|       0|No change|   21102|Manningham - East|     211|Melbourne - Outer...|   2GMEL|Greater Melbourne|       2|Victoria|     AUS|Australia| 20.8028|http://linked.dat...|POINT (989043.874...|      Donvale|\n",
      "|https://www.domai...|$825pw / $3585pcm|3 Monterey Cresce...|               House|        -37.792402|145.1743233| 3.0|  1.0|    5.0|3585.0|          825.0|POINT (145.174323...|      310.0|211021261|Donvale - Park Or...|       0|No change|   21102|Manningham - East|     211|Melbourne - Outer...|   2GMEL|Greater Melbourne|       2|Victoria|     AUS|Australia| 20.8028|http://linked.dat...|POINT (988479.463...|      Donvale|\n",
      "|https://www.domai...|          $680.00|3/49 Leslie Stree...|           Townhouse|       -37.7810117| 145.180705| 3.0|  2.0|    2.0|2955.0|          680.0|POINT (145.180705...|      310.0|211021261|Donvale - Park Or...|       0|No change|   21102|Manningham - East|     211|Melbourne - Outer...|   2GMEL|Greater Melbourne|       2|Victoria|     AUS|Australia| 20.8028|http://linked.dat...|POINT (989155.458...|      Donvale|\n",
      "|https://www.domai...|          $575.00|6/81-97 Mitcham R...|           Townhouse|       -37.7978137|145.1813965| 2.0|  1.0|    2.0|2499.0|          575.0|POINT (145.181396...|      310.0|211021261|Donvale - Park Or...|       0|No change|   21102|Manningham - East|     211|Melbourne - Outer...|   2GMEL|Greater Melbourne|       2|Victoria|     AUS|Australia| 20.8028|http://linked.dat...|POINT (989049.832...|      Donvale|\n",
      "|https://www.domai...|          $680.00|4/49 Leslie Stree...|           Townhouse|       -37.7808415| 145.180724| 3.0|  2.0|    2.0|2955.0|          680.0|POINT (145.180724...|      310.0|211021261|Donvale - Park Or...|       0|No change|   21102|Manningham - East|     211|Melbourne - Outer...|   2GMEL|Greater Melbourne|       2|Victoria|     AUS|Australia| 20.8028|http://linked.dat...|POINT (989158.822...|      Donvale|\n",
      "|https://www.domai...|    $500 Per Week|10/51-55 Leslie S...|Apartment / Unit ...|        -37.781431| 145.181474| 2.0|  1.0|    1.0|2173.0|          500.0|POINT (145.181474...|      310.0|211021261|Donvale - Park Or...|       0|No change|   21102|Manningham - East|     211|Melbourne - Outer...|   2GMEL|Greater Melbourne|       2|Victoria|     AUS|Australia| 20.8028|http://linked.dat...|POINT (989219.153...|      Donvale|\n",
      "|https://www.domai...|    $695 per week|6 Martha Street, ...|Apartment / Unit ...|        -37.795872|145.1743186| 3.0|  2.0|    1.0|3020.0|          695.0|POINT (145.174318...|      310.0|211021261|Donvale - Park Or...|       0|No change|   21102|Manningham - East|     211|Melbourne - Outer...|   2GMEL|Greater Melbourne|       2|Victoria|     AUS|Australia| 20.8028|http://linked.dat...|POINT (988444.654...|      Donvale|\n",
      "|https://www.domai...|          $800.00|55 Darvall Street...|               House|        -37.802745|145.1756185| 4.0|  2.0|    2.0|3476.0|          800.0|POINT (145.175618...|      310.0|211021261|Donvale - Park Or...|       0|No change|   21102|Manningham - East|     211|Melbourne - Outer...|   2GMEL|Greater Melbourne|       2|Victoria|     AUS|Australia| 20.8028|http://linked.dat...|POINT (988491.203...|      Donvale|\n",
      "|https://www.domai...|             $800|1/9 Standring Clo...|           Townhouse|       -37.7828514|145.1766753| 3.0|  2.0|    2.0|3476.0|          800.0|POINT (145.176675...|      310.0|211021261|Donvale - Park Or...|       0|No change|   21102|Manningham - East|     211|Melbourne - Outer...|   2GMEL|Greater Melbourne|       2|Victoria|     AUS|Australia| 20.8028|http://linked.dat...|POINT (988781.653...|      Donvale|\n",
      "|https://www.domai...|             $770|2 The Elms, Donva...|               House|       -37.7745679|145.1799075| 3.0|  2.0|    2.0|3345.0|          770.0|POINT (145.179907...|      310.0|211021261|Donvale - Park Or...|       0|No change|   21102|Manningham - East|     211|Melbourne - Outer...|   2GMEL|Greater Melbourne|       2|Victoria|     AUS|Australia| 20.8028|http://linked.dat...|POINT (989148.987...|      Donvale|\n",
      "|https://www.domai...|             $785|84 Melissa Street...|               House|       -37.7822545|145.1800824| 3.0|  2.0|    2.0|3411.0|          785.0|POINT (145.180082...|      310.0|211021261|Donvale - Park Or...|       0|No change|   21102|Manningham - East|     211|Melbourne - Outer...|   2GMEL|Greater Melbourne|       2|Victoria|     AUS|Australia| 20.8028|http://linked.dat...|POINT (989088.198...|      Donvale|\n",
      "|https://www.domai...|    $800 per week|30a Lynne Street,...|           Townhouse|       -37.7968813|145.1730744| 3.0|  2.0|    2.0|3476.0|          800.0|POINT (145.173074...|      310.0|211021261|Donvale - Park Or...|       0|No change|   21102|Manningham - East|     211|Melbourne - Outer...|   2GMEL|Greater Melbourne|       2|Victoria|     AUS|Australia| 20.8028|http://linked.dat...|POINT (988324.884...|      Donvale|\n",
      "|https://www.domai...|$1100pw, $4780pcm|438 Canning Stree...|               House|       -37.7867864|144.9750664| 3.0|  1.0|    1.0|6600.0|         1100.0|POINT (144.975066...|      157.0|206071140|Carlton North - P...|       0|No change|   20607|            Yarra|     206|   Melbourne - Inner|   2GMEL|Greater Melbourne|       2|Victoria|     AUS|Australia|  2.3042|http://linked.dat...|POINT (970953.130...|Carlton North|\n",
      "|https://www.domai...|          $840 pw|68 Pigdon Street,...|               House|-37.78215840000001|144.9749862| 2.0|  1.0|    0.0|3650.0|          840.0|POINT (144.974986...|      157.0|206071140|Carlton North - P...|       0|No change|   20607|            Yarra|     206|   Melbourne - Inner|   2GMEL|Greater Melbourne|       2|Victoria|     AUS|Australia|  2.3042|http://linked.dat...|POINT (970991.107...|Carlton North|\n",
      "|https://www.domai...| $680.00 per week|449 Station Stree...|               House|        -37.785975|144.9756663| 2.0|  1.0|    0.0|2955.0|          680.0|POINT (144.975666...|      157.0|206071140|Carlton North - P...|       0|No change|   20607|            Yarra|     206|   Melbourne - Inner|   2GMEL|Greater Melbourne|       2|Victoria|     AUS|Australia|  2.3042|http://linked.dat...|POINT (971013.968...|Carlton North|\n",
      "|https://www.domai...|$600pw / $2607pcm|2/545-549 Nichols...|Apartment / Unit ...|       -37.7866617|144.9766719| 2.0|  1.0|    1.0|2607.0|          600.0|POINT (144.976671...|      157.0|206071140|Carlton North - P...|       0|No change|   20607|            Yarra|     206|   Melbourne - Inner|   2GMEL|Greater Melbourne|       2|Victoria|     AUS|Australia|  2.3042|http://linked.dat...|POINT (971096.020...|Carlton North|\n",
      "|https://www.domai...|          $580.00|9/1068 Lygon Stre...|Apartment / Unit ...|       -37.7809417|144.9705344| 2.0|  1.0|    1.0|  NULL|          580.0|POINT (144.970534...|      157.0|206071140|Carlton North - P...|       0|No change|   20607|            Yarra|     206|   Melbourne - Inner|   2GMEL|Greater Melbourne|       2|Victoria|     AUS|Australia|  2.3042|http://linked.dat...|POINT (970610.084...|Carlton North|\n",
      "|https://www.domai...|          $630.00|293 Richardson St...|               House|       -37.7840809|144.9656152| 2.0|  1.0|    0.0|2738.0|          630.0|POINT (144.965615...|      157.0|206071140|Carlton North - P...|       0|No change|   20607|            Yarra|     206|   Melbourne - Inner|   2GMEL|Greater Melbourne|       2|Victoria|     AUS|Australia|  2.3042|http://linked.dat...|POINT (970145.432...|Carlton North|\n",
      "+--------------------+-----------------+--------------------+--------------------+------------------+-----------+----+-----+-------+------+---------------+--------------------+-----------+---------+--------------------+--------+---------+--------+-----------------+--------+--------------------+--------+-----------------+--------+--------+--------+---------+--------+--------------------+--------------------+-------------+\n",
      "only showing top 20 rows\n",
      "\n"
     ]
    }
   ],
   "source": [
    "from pyspark.sql import SparkSession\n",
    "from pyspark.sql.functions import udf\n",
    "from pyspark.sql.types import StringType\n",
    "import re\n",
    "\n",
    "# Initialise Spark session with required settings\n",
    "spark = SparkSession.builder \\\n",
    "    .appName(\"Address Processing\") \\\n",
    "    .config(\"spark.executor.memory\", \"4g\") \\\n",
    "    .config(\"spark.executor.cores\", \"2\") \\\n",
    "    .config(\"spark.memory.fraction\", \"0.9\") \\\n",
    "    .getOrCreate()\n",
    "\n",
    "\n",
    "# Define a user-defined function (UDF) to extract the suburb\n",
    "def extract_suburb(address):\n",
    "    # Using regex to find the pattern between ', ' and ' VIC'\n",
    "    match = re.search(r',\\s*([^,]+)\\s+VIC', address)\n",
    "    if match:\n",
    "        return match.group(1)\n",
    "    return None\n",
    "\n",
    "# Register the UDF\n",
    "extract_suburb_udf = udf(extract_suburb, StringType())\n",
    "\n",
    "# Load property data\n",
    "properties_df = spark.read.format(\"csv\") \\\n",
    "    .option(\"header\", \"true\") \\\n",
    "    .option(\"inferSchema\", \"true\") \\\n",
    "    .load(\"../data/curated/domain_data.csv\")\n",
    "\n",
    "# Drop the first column (index)\n",
    "properties_df = properties_df.drop('_c0')\n",
    "\n",
    "# Apply the UDF to create a new column for the suburb\n",
    "properties_df = properties_df.withColumn('suburb', extract_suburb_udf(properties_df['address']))\n",
    "\n",
    "# Show the updated DataFrame to verify the suburb extraction\n",
    "properties_df.show()\n"
   ]
  },
  {
   "cell_type": "markdown",
   "metadata": {},
   "source": [
    "#### Assigning a Property_ID to each property"
   ]
  },
  {
   "cell_type": "code",
   "execution_count": 7,
   "metadata": {},
   "outputs": [],
   "source": [
    "from pyspark.sql import functions as F\n",
    "\n",
    "properties_df = properties_df.withColumn(\"property_id\", F.monotonically_increasing_id())"
   ]
  },
  {
   "cell_type": "code",
   "execution_count": 8,
   "metadata": {},
   "outputs": [
    {
     "name": "stdout",
     "output_type": "stream",
     "text": [
      "+--------------------+-----------------+--------------------+--------------------+------------------+-----------+----+-----+-------+------+---------------+--------------------+-----------+---------+--------------------+--------+---------+--------+-----------------+--------+--------------------+--------+-----------------+--------+--------+--------+---------+--------+--------------------+--------------------+-------------+-----------+\n",
      "|                 url|            price|             address|       property_type|          latitude|  longitude|Beds|Baths|Parking|  bond|extracted_price|            geometry|index_right| sa2_code|            sa2_name|chg_flag|  chg_lbl|sa3_code|         sa3_name|sa4_code|            sa4_name|gcc_code|         gcc_name|ste_code|ste_name|aus_code| aus_name|areasqkm|            loci_uri|       geometry_proj|       suburb|property_id|\n",
      "+--------------------+-----------------+--------------------+--------------------+------------------+-----------+----+-----+-------+------+---------------+--------------------+-----------+---------+--------------------+--------+---------+--------+-----------------+--------+--------------------+--------+-----------------+--------+--------+--------+---------+--------+--------------------+--------------------+-------------+-----------+\n",
      "|https://www.domai...|        $1,400.00|10 Allara Court, ...|           Townhouse|-37.77427300000001|145.1811258| 4.0|  3.0|    2.0|9125.0|         1400.0|POINT (145.181125...|      310.0|211021261|Donvale - Park Or...|       0|No change|   21102|Manningham - East|     211|Melbourne - Outer...|   2GMEL|Greater Melbourne|       2|Victoria|     AUS|Australia| 20.8028|http://linked.dat...|POINT (989259.417...|      Donvale|          0|\n",
      "|https://www.domai...|    $750 per week|7 Pine Ridge, Don...|               House|       -37.7912513|145.1756489| 4.0|  2.0|    0.0|3259.0|          750.0|POINT (145.175648...|      310.0|211021261|Donvale - Park Or...|       0|No change|   21102|Manningham - East|     211|Melbourne - Outer...|   2GMEL|Greater Melbourne|       2|Victoria|     AUS|Australia| 20.8028|http://linked.dat...|POINT (988607.823...|      Donvale|          1|\n",
      "|https://www.domai...|   $1300 per week|20 Mulsanne Way, ...|               House|       -37.7972323|145.1812636| 5.0|  2.0|    2.0|5649.0|         1300.0|POINT (145.181263...|      310.0|211021261|Donvale - Park Or...|       0|No change|   21102|Manningham - East|     211|Melbourne - Outer...|   2GMEL|Greater Melbourne|       2|Victoria|     AUS|Australia| 20.8028|http://linked.dat...|POINT (989043.874...|      Donvale|          2|\n",
      "|https://www.domai...|$825pw / $3585pcm|3 Monterey Cresce...|               House|        -37.792402|145.1743233| 3.0|  1.0|    5.0|3585.0|          825.0|POINT (145.174323...|      310.0|211021261|Donvale - Park Or...|       0|No change|   21102|Manningham - East|     211|Melbourne - Outer...|   2GMEL|Greater Melbourne|       2|Victoria|     AUS|Australia| 20.8028|http://linked.dat...|POINT (988479.463...|      Donvale|          3|\n",
      "|https://www.domai...|          $680.00|3/49 Leslie Stree...|           Townhouse|       -37.7810117| 145.180705| 3.0|  2.0|    2.0|2955.0|          680.0|POINT (145.180705...|      310.0|211021261|Donvale - Park Or...|       0|No change|   21102|Manningham - East|     211|Melbourne - Outer...|   2GMEL|Greater Melbourne|       2|Victoria|     AUS|Australia| 20.8028|http://linked.dat...|POINT (989155.458...|      Donvale|          4|\n",
      "|https://www.domai...|          $575.00|6/81-97 Mitcham R...|           Townhouse|       -37.7978137|145.1813965| 2.0|  1.0|    2.0|2499.0|          575.0|POINT (145.181396...|      310.0|211021261|Donvale - Park Or...|       0|No change|   21102|Manningham - East|     211|Melbourne - Outer...|   2GMEL|Greater Melbourne|       2|Victoria|     AUS|Australia| 20.8028|http://linked.dat...|POINT (989049.832...|      Donvale|          5|\n",
      "|https://www.domai...|          $680.00|4/49 Leslie Stree...|           Townhouse|       -37.7808415| 145.180724| 3.0|  2.0|    2.0|2955.0|          680.0|POINT (145.180724...|      310.0|211021261|Donvale - Park Or...|       0|No change|   21102|Manningham - East|     211|Melbourne - Outer...|   2GMEL|Greater Melbourne|       2|Victoria|     AUS|Australia| 20.8028|http://linked.dat...|POINT (989158.822...|      Donvale|          6|\n",
      "|https://www.domai...|    $500 Per Week|10/51-55 Leslie S...|Apartment / Unit ...|        -37.781431| 145.181474| 2.0|  1.0|    1.0|2173.0|          500.0|POINT (145.181474...|      310.0|211021261|Donvale - Park Or...|       0|No change|   21102|Manningham - East|     211|Melbourne - Outer...|   2GMEL|Greater Melbourne|       2|Victoria|     AUS|Australia| 20.8028|http://linked.dat...|POINT (989219.153...|      Donvale|          7|\n",
      "|https://www.domai...|    $695 per week|6 Martha Street, ...|Apartment / Unit ...|        -37.795872|145.1743186| 3.0|  2.0|    1.0|3020.0|          695.0|POINT (145.174318...|      310.0|211021261|Donvale - Park Or...|       0|No change|   21102|Manningham - East|     211|Melbourne - Outer...|   2GMEL|Greater Melbourne|       2|Victoria|     AUS|Australia| 20.8028|http://linked.dat...|POINT (988444.654...|      Donvale|          8|\n",
      "|https://www.domai...|          $800.00|55 Darvall Street...|               House|        -37.802745|145.1756185| 4.0|  2.0|    2.0|3476.0|          800.0|POINT (145.175618...|      310.0|211021261|Donvale - Park Or...|       0|No change|   21102|Manningham - East|     211|Melbourne - Outer...|   2GMEL|Greater Melbourne|       2|Victoria|     AUS|Australia| 20.8028|http://linked.dat...|POINT (988491.203...|      Donvale|          9|\n",
      "|https://www.domai...|             $800|1/9 Standring Clo...|           Townhouse|       -37.7828514|145.1766753| 3.0|  2.0|    2.0|3476.0|          800.0|POINT (145.176675...|      310.0|211021261|Donvale - Park Or...|       0|No change|   21102|Manningham - East|     211|Melbourne - Outer...|   2GMEL|Greater Melbourne|       2|Victoria|     AUS|Australia| 20.8028|http://linked.dat...|POINT (988781.653...|      Donvale|         10|\n",
      "|https://www.domai...|             $770|2 The Elms, Donva...|               House|       -37.7745679|145.1799075| 3.0|  2.0|    2.0|3345.0|          770.0|POINT (145.179907...|      310.0|211021261|Donvale - Park Or...|       0|No change|   21102|Manningham - East|     211|Melbourne - Outer...|   2GMEL|Greater Melbourne|       2|Victoria|     AUS|Australia| 20.8028|http://linked.dat...|POINT (989148.987...|      Donvale|         11|\n",
      "|https://www.domai...|             $785|84 Melissa Street...|               House|       -37.7822545|145.1800824| 3.0|  2.0|    2.0|3411.0|          785.0|POINT (145.180082...|      310.0|211021261|Donvale - Park Or...|       0|No change|   21102|Manningham - East|     211|Melbourne - Outer...|   2GMEL|Greater Melbourne|       2|Victoria|     AUS|Australia| 20.8028|http://linked.dat...|POINT (989088.198...|      Donvale|         12|\n",
      "|https://www.domai...|    $800 per week|30a Lynne Street,...|           Townhouse|       -37.7968813|145.1730744| 3.0|  2.0|    2.0|3476.0|          800.0|POINT (145.173074...|      310.0|211021261|Donvale - Park Or...|       0|No change|   21102|Manningham - East|     211|Melbourne - Outer...|   2GMEL|Greater Melbourne|       2|Victoria|     AUS|Australia| 20.8028|http://linked.dat...|POINT (988324.884...|      Donvale|         13|\n",
      "|https://www.domai...|$1100pw, $4780pcm|438 Canning Stree...|               House|       -37.7867864|144.9750664| 3.0|  1.0|    1.0|6600.0|         1100.0|POINT (144.975066...|      157.0|206071140|Carlton North - P...|       0|No change|   20607|            Yarra|     206|   Melbourne - Inner|   2GMEL|Greater Melbourne|       2|Victoria|     AUS|Australia|  2.3042|http://linked.dat...|POINT (970953.130...|Carlton North|         14|\n",
      "|https://www.domai...|          $840 pw|68 Pigdon Street,...|               House|-37.78215840000001|144.9749862| 2.0|  1.0|    0.0|3650.0|          840.0|POINT (144.974986...|      157.0|206071140|Carlton North - P...|       0|No change|   20607|            Yarra|     206|   Melbourne - Inner|   2GMEL|Greater Melbourne|       2|Victoria|     AUS|Australia|  2.3042|http://linked.dat...|POINT (970991.107...|Carlton North|         15|\n",
      "|https://www.domai...| $680.00 per week|449 Station Stree...|               House|        -37.785975|144.9756663| 2.0|  1.0|    0.0|2955.0|          680.0|POINT (144.975666...|      157.0|206071140|Carlton North - P...|       0|No change|   20607|            Yarra|     206|   Melbourne - Inner|   2GMEL|Greater Melbourne|       2|Victoria|     AUS|Australia|  2.3042|http://linked.dat...|POINT (971013.968...|Carlton North|         16|\n",
      "|https://www.domai...|$600pw / $2607pcm|2/545-549 Nichols...|Apartment / Unit ...|       -37.7866617|144.9766719| 2.0|  1.0|    1.0|2607.0|          600.0|POINT (144.976671...|      157.0|206071140|Carlton North - P...|       0|No change|   20607|            Yarra|     206|   Melbourne - Inner|   2GMEL|Greater Melbourne|       2|Victoria|     AUS|Australia|  2.3042|http://linked.dat...|POINT (971096.020...|Carlton North|         17|\n",
      "|https://www.domai...|          $580.00|9/1068 Lygon Stre...|Apartment / Unit ...|       -37.7809417|144.9705344| 2.0|  1.0|    1.0|  NULL|          580.0|POINT (144.970534...|      157.0|206071140|Carlton North - P...|       0|No change|   20607|            Yarra|     206|   Melbourne - Inner|   2GMEL|Greater Melbourne|       2|Victoria|     AUS|Australia|  2.3042|http://linked.dat...|POINT (970610.084...|Carlton North|         18|\n",
      "|https://www.domai...|          $630.00|293 Richardson St...|               House|       -37.7840809|144.9656152| 2.0|  1.0|    0.0|2738.0|          630.0|POINT (144.965615...|      157.0|206071140|Carlton North - P...|       0|No change|   20607|            Yarra|     206|   Melbourne - Inner|   2GMEL|Greater Melbourne|       2|Victoria|     AUS|Australia|  2.3042|http://linked.dat...|POINT (970145.432...|Carlton North|         19|\n",
      "+--------------------+-----------------+--------------------+--------------------+------------------+-----------+----+-----+-------+------+---------------+--------------------+-----------+---------+--------------------+--------+---------+--------+-----------------+--------+--------------------+--------+-----------------+--------+--------+--------+---------+--------+--------------------+--------------------+-------------+-----------+\n",
      "only showing top 20 rows\n",
      "\n"
     ]
    }
   ],
   "source": [
    "properties_df.show()"
   ]
  },
  {
   "cell_type": "code",
   "execution_count": 9,
   "metadata": {},
   "outputs": [],
   "source": [
    "#Drop the geometry column for distance calculation as we have latitude and longitude columns\n",
    "gdf_train_stations = gdf_train_stations.drop(columns=['geometry'])"
   ]
  },
  {
   "cell_type": "markdown",
   "metadata": {},
   "source": [
    "#### UDF to calculate the haversine distance between 2 points"
   ]
  },
  {
   "cell_type": "code",
   "execution_count": 10,
   "metadata": {},
   "outputs": [],
   "source": [
    "from pyspark.sql.types import DoubleType\n",
    "\n",
    "# Define the Haversine function\n",
    "def haversine(lon1, lat1, lon2, lat2):\n",
    "    import math\n",
    "    lon1, lat1, lon2, lat2 = map(math.radians, [lon1, lat1, lon2, lat2])\n",
    "    dlon = lon2 - lon1\n",
    "    dlat = lat2 - lat1\n",
    "    a = math.sin(dlat / 2) ** 2 + math.cos(lat1) * math.cos(lat2) * math.sin(dlon / 2) ** 2\n",
    "    c = 2 * math.asin(math.sqrt(a))\n",
    "    r = 6371  # Radius of Earth in kilometers\n",
    "    return c * r\n",
    "\n",
    "haversine_udf = udf(haversine, DoubleType())"
   ]
  },
  {
   "cell_type": "markdown",
   "metadata": {},
   "source": [
    "#### Calculating the nearest train station per property based on haversine distance"
   ]
  },
  {
   "cell_type": "code",
   "execution_count": 11,
   "metadata": {},
   "outputs": [
    {
     "name": "stderr",
     "output_type": "stream",
     "text": [
      "[Stage 7:>                                                        (0 + 12) / 12]\r"
     ]
    },
    {
     "name": "stdout",
     "output_type": "stream",
     "text": [
      "+--------------------+-----------------+--------------------+--------------------+------------------+-----------+----+-----+-------+------+---------------+--------------------+-----------+---------+--------------------+--------+---------+--------+------------------+--------+--------------------+--------+-----------------+--------+--------+--------+---------+--------+--------------------+--------------------+-------------+-----------+------------------+------------------------+\n",
      "|                 url|            price|             address|       property_type|          latitude|  longitude|Beds|Baths|Parking|  bond|extracted_price|            geometry|index_right| sa2_code|            sa2_name|chg_flag|  chg_lbl|sa3_code|          sa3_name|sa4_code|            sa4_name|gcc_code|         gcc_name|ste_code|ste_name|aus_code| aus_name|areasqkm|            loci_uri|       geometry_proj|       suburb|property_id|nearest_station_id|nearest_station_distance|\n",
      "+--------------------+-----------------+--------------------+--------------------+------------------+-----------+----+-----+-------+------+---------------+--------------------+-----------+---------+--------------------+--------+---------+--------+------------------+--------+--------------------+--------+-----------------+--------+--------+--------+---------+--------+--------------------+--------------------+-------------+-----------+------------------+------------------------+\n",
      "|https://www.domai...|        $1,400.00|10 Allara Court, ...|           Townhouse|-37.77427300000001|145.1811258| 4.0|  3.0|    2.0|9125.0|         1400.0|POINT (145.181125...|      310.0|211021261|Donvale - Park Or...|       0|No change|   21102| Manningham - East|     211|Melbourne - Outer...|   2GMEL|Greater Melbourne|       2|Victoria|     AUS|Australia| 20.8028|http://linked.dat...|POINT (989259.417...|      Donvale|          0|             19900|       4.980380918686207|\n",
      "|https://www.domai...|    $750 per week|7 Pine Ridge, Don...|               House|       -37.7912513|145.1756489| 4.0|  2.0|    0.0|3259.0|          750.0|POINT (145.175648...|      310.0|211021261|Donvale - Park Or...|       0|No change|   21102| Manningham - East|     211|Melbourne - Outer...|   2GMEL|Greater Melbourne|       2|Victoria|     AUS|Australia| 20.8028|http://linked.dat...|POINT (988607.823...|      Donvale|          1|             19899|      3.2445028272050473|\n",
      "|https://www.domai...|          $575.00|6/81-97 Mitcham R...|           Townhouse|       -37.7978137|145.1813965| 2.0|  1.0|    2.0|2499.0|          575.0|POINT (145.181396...|      310.0|211021261|Donvale - Park Or...|       0|No change|   21102| Manningham - East|     211|Melbourne - Outer...|   2GMEL|Greater Melbourne|       2|Victoria|     AUS|Australia| 20.8028|http://linked.dat...|POINT (989049.832...|      Donvale|          5|             19900|      2.4701645518720565|\n",
      "|https://www.domai...|          $680.00|4/49 Leslie Stree...|           Townhouse|       -37.7808415| 145.180724| 3.0|  2.0|    2.0|2955.0|          680.0|POINT (145.180724...|      310.0|211021261|Donvale - Park Or...|       0|No change|   21102| Manningham - East|     211|Melbourne - Outer...|   2GMEL|Greater Melbourne|       2|Victoria|     AUS|Australia| 20.8028|http://linked.dat...|POINT (989158.822...|      Donvale|          6|             19900|       4.277276223033014|\n",
      "|https://www.domai...|    $500 Per Week|10/51-55 Leslie S...|Apartment / Unit ...|        -37.781431| 145.181474| 2.0|  1.0|    1.0|2173.0|          500.0|POINT (145.181474...|      310.0|211021261|Donvale - Park Or...|       0|No change|   21102| Manningham - East|     211|Melbourne - Outer...|   2GMEL|Greater Melbourne|       2|Victoria|     AUS|Australia| 20.8028|http://linked.dat...|POINT (989219.153...|      Donvale|          7|             19900|        4.19760356406091|\n",
      "|https://www.domai...|          $800.00|55 Darvall Street...|               House|        -37.802745|145.1756185| 4.0|  2.0|    2.0|3476.0|          800.0|POINT (145.175618...|      310.0|211021261|Donvale - Park Or...|       0|No change|   21102| Manningham - East|     211|Melbourne - Outer...|   2GMEL|Greater Melbourne|       2|Victoria|     AUS|Australia| 20.8028|http://linked.dat...|POINT (988491.203...|      Donvale|          9|             19899|      1.9665454791005996|\n",
      "|https://www.domai...|             $800|1/9 Standring Clo...|           Townhouse|       -37.7828514|145.1766753| 3.0|  2.0|    2.0|3476.0|          800.0|POINT (145.176675...|      310.0|211021261|Donvale - Park Or...|       0|No change|   21102| Manningham - East|     211|Melbourne - Outer...|   2GMEL|Greater Melbourne|       2|Victoria|     AUS|Australia| 20.8028|http://linked.dat...|POINT (988781.653...|      Donvale|         10|             19900|       4.169048347548643|\n",
      "|https://www.domai...|$600pw / $2607pcm|2/545-549 Nichols...|Apartment / Unit ...|       -37.7866617|144.9766719| 2.0|  1.0|    1.0|2607.0|          600.0|POINT (144.976671...|      157.0|206071140|Carlton North - P...|       0|No change|   20607|             Yarra|     206|   Melbourne - Inner|   2GMEL|Greater Melbourne|       2|Victoria|     AUS|Australia|  2.3042|http://linked.dat...|POINT (971096.020...|Carlton North|         17|             20019|      1.4348569397212605|\n",
      "|https://www.domai...|          $630.00|293 Richardson St...|               House|       -37.7840809|144.9656152| 2.0|  1.0|    0.0|2738.0|          630.0|POINT (144.965615...|      157.0|206071140|Carlton North - P...|       0|No change|   20607|             Yarra|     206|   Melbourne - Inner|   2GMEL|Greater Melbourne|       2|Victoria|     AUS|Australia|  2.3042|http://linked.dat...|POINT (970145.432...|Carlton North|         19|             19969|      1.1790072844089043|\n",
      "|https://www.domai...|          $720.00|786 Drummond Stre...|               House|        -37.786146|144.9712576| 3.0|  1.0|    0.0|3129.0|          720.0|POINT (144.971257...|      157.0|206071140|Carlton North - P...|       0|No change|   20607|             Yarra|     206|   Melbourne - Inner|   2GMEL|Greater Melbourne|       2|Victoria|     AUS|Australia|  2.3042|http://linked.dat...|POINT (970623.259...|Carlton North|         22|             19969|      1.6596139051837977|\n",
      "|https://www.domai...|             $750|16 O'Grady Street...|               House|       -37.7903938|144.9734333| 2.0|  1.0|    0.0|3259.0|          750.0|POINT (144.973433...|      157.0|206071140|Carlton North - P...|       0|No change|   20607|             Yarra|     206|   Melbourne - Inner|   2GMEL|Greater Melbourne|       2|Victoria|     AUS|Australia|  2.3042|http://linked.dat...|POINT (970773.905...|Carlton North|         25|             20019|      1.8484856042019364|\n",
      "|https://www.domai...|          $750 pw|8/1068 Lygon Stre...|Apartment / Unit ...|       -37.7809417|144.9705344| 3.0|  2.0|    2.0|3260.0|          750.0|POINT (144.970534...|      157.0|206071140|Carlton North - P...|       0|No change|   20607|             Yarra|     206|   Melbourne - Inner|   2GMEL|Greater Melbourne|       2|Victoria|     AUS|Australia|  2.3042|http://linked.dat...|POINT (970610.084...|Carlton North|         26|             19969|      1.2317107158217866|\n",
      "|https://www.domai...|$795pw / $3454pcm|904 Lygon Street,...|               House|       -37.7848136|144.9699818| 2.0|  1.0|    1.0|3454.0|          795.0|POINT (144.969981...|      157.0|206071140|Carlton North - P...|       0|No change|   20607|             Yarra|     206|   Melbourne - Inner|   2GMEL|Greater Melbourne|       2|Victoria|     AUS|Australia|  2.3042|http://linked.dat...|POINT (970523.641...|Carlton North|         27|             19969|       1.474462676057996|\n",
      "|https://www.domai...|          $550.00|1405/570 Lygon St...|Apartment / Unit ...|       -37.7830707|144.9699457| 2.0|  1.0|    0.0|2390.0|          550.0|POINT (144.969945...|      157.0|206071140|Carlton North - P...|       0|No change|   20607|             Yarra|     206|   Melbourne - Inner|   2GMEL|Greater Melbourne|       2|Victoria|     AUS|Australia|  2.3042|http://linked.dat...|POINT (970537.415...|Carlton North|         28|             19969|      1.3348515495800066|\n",
      "|https://www.domai...|          $550 pw|1/28 Queens Parad...|Apartment / Unit ...|       -37.8524461|145.0920614| 3.0|  1.0|    1.0|2390.0|          550.0|POINT (145.092061...|      168.0|207011150|    Glen Iris - East|       0|No change|   20701|        Boroondara|     207|Melbourne - Inner...|   2GMEL|Greater Melbourne|       2|Victoria|     AUS|Australia|  5.7049|http://linked.dat...|POINT (980630.723...|    Glen Iris|         29|             19849|       1.018860470985015|\n",
      "|https://www.domai...|          $850.00|12 Walerna Road, ...|               House|       -37.8556023|145.0679018| 3.0|  2.0|    1.0|3693.0|          850.0|POINT (145.067901...|      168.0|207011150|    Glen Iris - East|       0|No change|   20701|        Boroondara|     207|Melbourne - Inner...|   2GMEL|Greater Melbourne|       2|Victoria|     AUS|Australia|  5.7049|http://linked.dat...|POINT (978469.351...|    Glen Iris|         31|             19835|      0.9442091827232341|\n",
      "|https://www.domai...|          $850.00|12 Walerna Road, ...|               House|       -37.8556023|145.0679018| 3.0|  2.0|    1.0|3693.0|          850.0|POINT (145.067901...|      168.0|207011150|    Glen Iris - East|       0|No change|   20701|        Boroondara|     207|Melbourne - Inner...|   2GMEL|Greater Melbourne|       2|Victoria|     AUS|Australia|  5.7049|http://linked.dat...|POINT (978469.351...|    Glen Iris|         32|             19835|      0.9442091827232341|\n",
      "|https://www.domai...|          $895.00|51 Ferndale Road,...|               House|        -37.855363|145.0747789| 3.0|  1.0|    2.0|3888.0|          895.0|POINT (145.074778...|      168.0|207011150|    Glen Iris - East|       0|No change|   20701|        Boroondara|     207|Melbourne - Inner...|   2GMEL|Greater Melbourne|       2|Victoria|     AUS|Australia|  5.7049|http://linked.dat...|POINT (979078.105...|    Glen Iris|         33|             19849|      0.6571270239937385|\n",
      "|https://www.domai...|        $1,190.00|2/3 Creswick Stre...|           Townhouse|        -37.852644|145.0433944| 3.0|  2.0|    2.0|7500.0|         1190.0|POINT (145.043394...|      216.0|208041194| Malvern - Glen Iris|       0|No change|   20804|Stonnington - East|     208|Melbourne - Inner...|   2GMEL|Greater Melbourne|       2|Victoria|     AUS|Australia|  6.1552|http://linked.dat...|POINT (976337.321...|    Glen Iris|         34|             19911|     0.39256975526793614|\n",
      "|https://www.domai...|          $770 pw|G08/1555 Malvern ...|Apartment / Unit ...|       -37.8536224|145.0477641| 2.0|  1.0|    1.0|3346.0|          770.0|POINT (145.047764...|      216.0|208041194| Malvern - Glen Iris|       0|No change|   20804|Stonnington - East|     208|Melbourne - Inner...|   2GMEL|Greater Melbourne|       2|Victoria|     AUS|Australia|  6.1552|http://linked.dat...|POINT (976713.057...|    Glen Iris|         39|             19912|      0.3437391692152923|\n",
      "+--------------------+-----------------+--------------------+--------------------+------------------+-----------+----+-----+-------+------+---------------+--------------------+-----------+---------+--------------------+--------+---------+--------+------------------+--------+--------------------+--------+-----------------+--------+--------+--------+---------+--------+--------------------+--------------------+-------------+-----------+------------------+------------------------+\n",
      "only showing top 20 rows\n",
      "\n"
     ]
    },
    {
     "name": "stderr",
     "output_type": "stream",
     "text": [
      "                                                                                \r"
     ]
    }
   ],
   "source": [
    "from pyspark.sql import SparkSession\n",
    "from pyspark.sql.functions import col, udf, min, row_number\n",
    "from pyspark.sql.types import DoubleType\n",
    "from pyspark.sql.window import Window\n",
    "import geopandas as gpd\n",
    "\n",
    "# Check if 'geometry' column exists and drop it\n",
    "if 'geometry' in gdf_train_stations.columns:\n",
    "    gdf_train_stations = gdf_train_stations.drop(columns=['geometry'])\n",
    "\n",
    "# Convert GeoDataFrame to Spark DataFrame after dropping 'geometry'\n",
    "train_stations_df = spark.createDataFrame(gdf_train_stations)\\\n",
    "    .withColumnRenamed('longitude', 'station_longitude')\\\n",
    "    .withColumnRenamed('latitude', 'station_latitude')\n",
    "\n",
    "# Perform the cross join and calculate distances\n",
    "distances_df = properties_df.crossJoin(train_stations_df)\\\n",
    "    .withColumn(\"distance\", haversine_udf(col(\"longitude\"), col(\"latitude\"), col(\"station_longitude\"), col(\"station_latitude\")))\n",
    "\n",
    "# Define a window spec to partition by property and order by distance\n",
    "windowSpec = Window.partitionBy(\"property_id\").orderBy(\"distance\")\n",
    "\n",
    "# Determine the nearest station for each property using the window spec\n",
    "nearest_stations_df = distances_df.withColumn(\"rank\", row_number().over(windowSpec))\\\n",
    "    .filter(col(\"rank\") == 1)\\\n",
    "    .select(\"property_id\", \"STOP_ID\", \"distance\")\n",
    "\n",
    "# Join the nearest station information back to the original properties DataFrame\n",
    "result_df = properties_df.join(nearest_stations_df, \"property_id\")\\\n",
    "    .select(properties_df[\"*\"], nearest_stations_df[\"STOP_ID\"].alias(\"nearest_station_id\"), nearest_stations_df[\"distance\"].alias(\"nearest_station_distance\"))\n",
    "\n",
    "# Show the result\n",
    "result_df.show()\n"
   ]
  },
  {
   "cell_type": "code",
   "execution_count": 12,
   "metadata": {},
   "outputs": [
    {
     "name": "stderr",
     "output_type": "stream",
     "text": [
      "                                                                                \r"
     ]
    }
   ],
   "source": [
    "result_df.write.parquet(\"../data/curated/with_train_distance_haversine\", mode=\"overwrite\")"
   ]
  },
  {
   "cell_type": "code",
   "execution_count": 13,
   "metadata": {},
   "outputs": [],
   "source": [
    "import pandas as pd\n",
    "properties_updated = pd.read_parquet(\"../data/curated/with_train_distance_haversine\")"
   ]
  },
  {
   "cell_type": "code",
   "execution_count": 14,
   "metadata": {},
   "outputs": [],
   "source": [
    "import openrouteservice\n",
    "api_key = 'your_key'\n",
    "client = openrouteservice.Client(key=api_key)"
   ]
  },
  {
   "cell_type": "markdown",
   "metadata": {},
   "source": [
    "#### Function to calculate the car route distance from each property to its nearest train station"
   ]
  },
  {
   "cell_type": "code",
   "execution_count": 15,
   "metadata": {},
   "outputs": [],
   "source": [
    "import time\n",
    "import openrouteservice\n",
    "import numpy as np\n",
    "import pandas as pd\n",
    "import os\n",
    "import builtins\n",
    "\n",
    "def calculate_route_distance(house, school, id_col_name, key, output_file='calculated_distances_1.csv', resume_file='last_index.txt', api_limit=1940, batch_size=40):\n",
    "    start_index = 0\n",
    "    \n",
    "    if not isinstance(house, pd.DataFrame):\n",
    "        house = house.toPandas()\n",
    "\n",
    "    # Check if we need to resume from a previous state\n",
    "    if os.path.exists(resume_file):\n",
    "        with open(resume_file, 'r') as f:\n",
    "            start_index = int(f.read().strip())\n",
    "            print(f\"Resuming from index {start_index}\")\n",
    "\n",
    "    total_houses = len(house)\n",
    "    distances = [None] * total_houses\n",
    "\n",
    "    # Load any previously calculated distances if available\n",
    "    if os.path.exists(output_file):\n",
    "        existing_data = pd.read_csv(output_file)\n",
    "        for idx in range(builtins.min(len(existing_data), total_houses)):\n",
    "            distances[idx] = existing_data.at[idx, 'distance']\n",
    "\n",
    "    processed_houses = start_index\n",
    "    remaining_requests = api_limit\n",
    "\n",
    "    while processed_houses < total_houses:\n",
    "        batch_houses = builtins.min(batch_size, total_houses - processed_houses, remaining_requests)\n",
    "        for i in range(batch_houses):\n",
    "            house_idx = processed_houses + i\n",
    "            house_coords = (house.iloc[house_idx]['longitude'], house.iloc[house_idx]['latitude'])\n",
    "            closest_school_id = house.iloc[house_idx][id_col_name]\n",
    "            school_coords = school[school[key] == closest_school_id][['LONGITUDE', 'LATITUDE']].values[0]\n",
    "\n",
    "            try:\n",
    "                route = client.directions(\n",
    "                    coordinates=[house_coords, tuple(school_coords)],\n",
    "                    profile='driving-car',\n",
    "                    format='geojson'\n",
    "                )\n",
    "                distance_meters = route['features'][0]['properties']['segments'][0]['distance']\n",
    "                distances[house_idx] = distance_meters / 1000\n",
    "            except Exception as e:\n",
    "                if \"quota\" in str(e).lower():  # Check if the error message is related to API quota\n",
    "                    print(f\"API quota exceeded at index {house_idx}. Saving progress and pausing.\")\n",
    "                    with open(resume_file, 'w') as f:\n",
    "                        f.write(str(house_idx))\n",
    "                    pd.DataFrame({'distance': distances}).to_csv(output_file, index=False)\n",
    "                    return\n",
    "                print(f\"Error calculating distance for house {house_idx}: {e}\")\n",
    "\n",
    "        processed_houses += batch_houses\n",
    "        remaining_requests -= batch_houses\n",
    "\n",
    "        # Save progress after each batch\n",
    "        if processed_houses % 100 == 0 or processed_houses == total_houses:\n",
    "            pd.DataFrame({'distance': distances}).to_csv(output_file, index=False)\n",
    "            print(f\"Progress saved at index {house_idx}\")\n",
    "\n",
    "        # Sleep for 60 seconds after each batch to avoid hitting API rate limits\n",
    "        print(\"Sleeping for 60 seconds to manage API call frequency...\")\n",
    "        time.sleep(60)\n",
    "\n",
    "        if remaining_requests <= 0 and processed_houses < total_houses:\n",
    "            print(\"Waiting to reset API limit...\")\n",
    "            time.sleep(60)  # Sleep time could be adjusted based on your API's reset time\n",
    "            remaining_requests = api_limit\n",
    "\n",
    "        if processed_houses >= total_houses:\n",
    "            with open(resume_file, 'w') as f:\n",
    "                f.write(\"completed\")\n",
    "            print(\"All distances calculated and saved.\")\n"
   ]
  },
  {
   "cell_type": "code",
   "execution_count": 16,
   "metadata": {},
   "outputs": [],
   "source": [
    "calculated_distances = calculate_route_distance(result_df, gdf_train_stations, 'nearest_station_id', \"STOP_ID\")"
   ]
  },
  {
   "cell_type": "code",
   "execution_count": 17,
   "metadata": {},
   "outputs": [],
   "source": [
    "train_distance_df = pd.read_csv('calculated_distances.csv')"
   ]
  },
  {
   "cell_type": "code",
   "execution_count": 18,
   "metadata": {},
   "outputs": [
    {
     "data": {
      "text/html": [
       "<div>\n",
       "<style scoped>\n",
       "    .dataframe tbody tr th:only-of-type {\n",
       "        vertical-align: middle;\n",
       "    }\n",
       "\n",
       "    .dataframe tbody tr th {\n",
       "        vertical-align: top;\n",
       "    }\n",
       "\n",
       "    .dataframe thead th {\n",
       "        text-align: right;\n",
       "    }\n",
       "</style>\n",
       "<table border=\"1\" class=\"dataframe\">\n",
       "  <thead>\n",
       "    <tr style=\"text-align: right;\">\n",
       "      <th></th>\n",
       "      <th>distance</th>\n",
       "    </tr>\n",
       "  </thead>\n",
       "  <tbody>\n",
       "    <tr>\n",
       "      <th>0</th>\n",
       "      <td>5.6596</td>\n",
       "    </tr>\n",
       "    <tr>\n",
       "      <th>1</th>\n",
       "      <td>4.6923</td>\n",
       "    </tr>\n",
       "    <tr>\n",
       "      <th>2</th>\n",
       "      <td>1.4377</td>\n",
       "    </tr>\n",
       "    <tr>\n",
       "      <th>3</th>\n",
       "      <td>2.2956</td>\n",
       "    </tr>\n",
       "    <tr>\n",
       "      <th>4</th>\n",
       "      <td>1.7662</td>\n",
       "    </tr>\n",
       "    <tr>\n",
       "      <th>5</th>\n",
       "      <td>1.6396</td>\n",
       "    </tr>\n",
       "    <tr>\n",
       "      <th>6</th>\n",
       "      <td>0.8211</td>\n",
       "    </tr>\n",
       "    <tr>\n",
       "      <th>7</th>\n",
       "      <td>0.4065</td>\n",
       "    </tr>\n",
       "    <tr>\n",
       "      <th>8</th>\n",
       "      <td>1.3080</td>\n",
       "    </tr>\n",
       "    <tr>\n",
       "      <th>9</th>\n",
       "      <td>0.8074</td>\n",
       "    </tr>\n",
       "  </tbody>\n",
       "</table>\n",
       "</div>"
      ],
      "text/plain": [
       "   distance\n",
       "0    5.6596\n",
       "1    4.6923\n",
       "2    1.4377\n",
       "3    2.2956\n",
       "4    1.7662\n",
       "5    1.6396\n",
       "6    0.8211\n",
       "7    0.4065\n",
       "8    1.3080\n",
       "9    0.8074"
      ]
     },
     "execution_count": 18,
     "metadata": {},
     "output_type": "execute_result"
    }
   ],
   "source": [
    "train_distance_df.head(10)"
   ]
  },
  {
   "cell_type": "code",
   "execution_count": 19,
   "metadata": {},
   "outputs": [],
   "source": [
    "import pandas as pd\n",
    "\n",
    "\n",
    "if not isinstance(properties_updated, pd.DataFrame):\n",
    "        properties_updated = properties_updated.toPandas()\n",
    "        \n",
    "# Ensure both DataFrames have the same index length and order\n",
    "train_distance_df = train_distance_df.reset_index(drop=True)\n",
    "properties_updated = properties_updated.reset_index(drop=True)\n",
    "\n",
    "# Add the distance column to properties_updated with the new name\n",
    "properties_updated['train_station_distance_km'] = train_distance_df['distance']\n"
   ]
  },
  {
   "cell_type": "code",
   "execution_count": 20,
   "metadata": {},
   "outputs": [
    {
     "data": {
      "text/html": [
       "<div>\n",
       "<style scoped>\n",
       "    .dataframe tbody tr th:only-of-type {\n",
       "        vertical-align: middle;\n",
       "    }\n",
       "\n",
       "    .dataframe tbody tr th {\n",
       "        vertical-align: top;\n",
       "    }\n",
       "\n",
       "    .dataframe thead th {\n",
       "        text-align: right;\n",
       "    }\n",
       "</style>\n",
       "<table border=\"1\" class=\"dataframe\">\n",
       "  <thead>\n",
       "    <tr style=\"text-align: right;\">\n",
       "      <th></th>\n",
       "      <th>url</th>\n",
       "      <th>price</th>\n",
       "      <th>address</th>\n",
       "      <th>property_type</th>\n",
       "      <th>latitude</th>\n",
       "      <th>longitude</th>\n",
       "      <th>Beds</th>\n",
       "      <th>Baths</th>\n",
       "      <th>Parking</th>\n",
       "      <th>bond</th>\n",
       "      <th>...</th>\n",
       "      <th>aus_code</th>\n",
       "      <th>aus_name</th>\n",
       "      <th>areasqkm</th>\n",
       "      <th>loci_uri</th>\n",
       "      <th>geometry_proj</th>\n",
       "      <th>suburb</th>\n",
       "      <th>property_id</th>\n",
       "      <th>nearest_station_id</th>\n",
       "      <th>nearest_station_distance</th>\n",
       "      <th>train_station_distance_km</th>\n",
       "    </tr>\n",
       "  </thead>\n",
       "  <tbody>\n",
       "    <tr>\n",
       "      <th>0</th>\n",
       "      <td>https://www.domain.com.au/10-allara-court-donv...</td>\n",
       "      <td>$1,400.00</td>\n",
       "      <td>10 Allara Court, Donvale VIC 3111</td>\n",
       "      <td>Townhouse</td>\n",
       "      <td>-37.774273</td>\n",
       "      <td>145.181126</td>\n",
       "      <td>4.0</td>\n",
       "      <td>3.0</td>\n",
       "      <td>2.0</td>\n",
       "      <td>9125.0</td>\n",
       "      <td>...</td>\n",
       "      <td>AUS</td>\n",
       "      <td>Australia</td>\n",
       "      <td>20.8028</td>\n",
       "      <td>http://linked.data.gov.au/dataset/asgsed3/SA2/...</td>\n",
       "      <td>POINT (989259.4173701588 -4291898.086618988)</td>\n",
       "      <td>Donvale</td>\n",
       "      <td>0</td>\n",
       "      <td>19900</td>\n",
       "      <td>4.980381</td>\n",
       "      <td>5.6596</td>\n",
       "    </tr>\n",
       "    <tr>\n",
       "      <th>1</th>\n",
       "      <td>https://www.domain.com.au/7-pine-ridge-donvale...</td>\n",
       "      <td>$750 per week</td>\n",
       "      <td>7 Pine Ridge, Donvale VIC 3111</td>\n",
       "      <td>House</td>\n",
       "      <td>-37.791251</td>\n",
       "      <td>145.175649</td>\n",
       "      <td>4.0</td>\n",
       "      <td>2.0</td>\n",
       "      <td>0.0</td>\n",
       "      <td>3259.0</td>\n",
       "      <td>...</td>\n",
       "      <td>AUS</td>\n",
       "      <td>Australia</td>\n",
       "      <td>20.8028</td>\n",
       "      <td>http://linked.data.gov.au/dataset/asgsed3/SA2/...</td>\n",
       "      <td>POINT (988607.8235432974 -4293742.529802319)</td>\n",
       "      <td>Donvale</td>\n",
       "      <td>1</td>\n",
       "      <td>19899</td>\n",
       "      <td>3.244503</td>\n",
       "      <td>4.6923</td>\n",
       "    </tr>\n",
       "    <tr>\n",
       "      <th>2</th>\n",
       "      <td>https://www.domain.com.au/6-81-97-mitcham-road...</td>\n",
       "      <td>$575.00</td>\n",
       "      <td>6/81-97 Mitcham Road, Donvale VIC 3111</td>\n",
       "      <td>Townhouse</td>\n",
       "      <td>-37.797814</td>\n",
       "      <td>145.181397</td>\n",
       "      <td>2.0</td>\n",
       "      <td>1.0</td>\n",
       "      <td>2.0</td>\n",
       "      <td>2499.0</td>\n",
       "      <td>...</td>\n",
       "      <td>AUS</td>\n",
       "      <td>Australia</td>\n",
       "      <td>20.8028</td>\n",
       "      <td>http://linked.data.gov.au/dataset/asgsed3/SA2/...</td>\n",
       "      <td>POINT (989049.8328347596 -4294517.3520170655)</td>\n",
       "      <td>Donvale</td>\n",
       "      <td>5</td>\n",
       "      <td>19900</td>\n",
       "      <td>2.470165</td>\n",
       "      <td>1.4377</td>\n",
       "    </tr>\n",
       "    <tr>\n",
       "      <th>3</th>\n",
       "      <td>https://www.domain.com.au/4-49-leslie-street-d...</td>\n",
       "      <td>$680.00</td>\n",
       "      <td>4/49 Leslie Street, Donvale VIC 3111</td>\n",
       "      <td>Townhouse</td>\n",
       "      <td>-37.780842</td>\n",
       "      <td>145.180724</td>\n",
       "      <td>3.0</td>\n",
       "      <td>2.0</td>\n",
       "      <td>2.0</td>\n",
       "      <td>2955.0</td>\n",
       "      <td>...</td>\n",
       "      <td>AUS</td>\n",
       "      <td>Australia</td>\n",
       "      <td>20.8028</td>\n",
       "      <td>http://linked.data.gov.au/dataset/asgsed3/SA2/...</td>\n",
       "      <td>POINT (989158.8225332311 -4292625.153907349)</td>\n",
       "      <td>Donvale</td>\n",
       "      <td>6</td>\n",
       "      <td>19900</td>\n",
       "      <td>4.277276</td>\n",
       "      <td>2.2956</td>\n",
       "    </tr>\n",
       "    <tr>\n",
       "      <th>4</th>\n",
       "      <td>https://www.domain.com.au/10-51-55-leslie-stre...</td>\n",
       "      <td>$500 Per Week</td>\n",
       "      <td>10/51-55 Leslie Street, Donvale VIC 3111</td>\n",
       "      <td>Apartment / Unit / Flat</td>\n",
       "      <td>-37.781431</td>\n",
       "      <td>145.181474</td>\n",
       "      <td>2.0</td>\n",
       "      <td>1.0</td>\n",
       "      <td>1.0</td>\n",
       "      <td>2173.0</td>\n",
       "      <td>...</td>\n",
       "      <td>AUS</td>\n",
       "      <td>Australia</td>\n",
       "      <td>20.8028</td>\n",
       "      <td>http://linked.data.gov.au/dataset/asgsed3/SA2/...</td>\n",
       "      <td>POINT (989219.1533940694 -4292696.593780912)</td>\n",
       "      <td>Donvale</td>\n",
       "      <td>7</td>\n",
       "      <td>19900</td>\n",
       "      <td>4.197604</td>\n",
       "      <td>1.7662</td>\n",
       "    </tr>\n",
       "  </tbody>\n",
       "</table>\n",
       "<p>5 rows × 35 columns</p>\n",
       "</div>"
      ],
      "text/plain": [
       "                                                 url          price  \\\n",
       "0  https://www.domain.com.au/10-allara-court-donv...      $1,400.00   \n",
       "1  https://www.domain.com.au/7-pine-ridge-donvale...  $750 per week   \n",
       "2  https://www.domain.com.au/6-81-97-mitcham-road...        $575.00   \n",
       "3  https://www.domain.com.au/4-49-leslie-street-d...        $680.00   \n",
       "4  https://www.domain.com.au/10-51-55-leslie-stre...  $500 Per Week   \n",
       "\n",
       "                                    address            property_type  \\\n",
       "0         10 Allara Court, Donvale VIC 3111                Townhouse   \n",
       "1            7 Pine Ridge, Donvale VIC 3111                    House   \n",
       "2    6/81-97 Mitcham Road, Donvale VIC 3111                Townhouse   \n",
       "3      4/49 Leslie Street, Donvale VIC 3111                Townhouse   \n",
       "4  10/51-55 Leslie Street, Donvale VIC 3111  Apartment / Unit / Flat   \n",
       "\n",
       "    latitude   longitude  Beds  Baths  Parking    bond  ...  aus_code  \\\n",
       "0 -37.774273  145.181126   4.0    3.0      2.0  9125.0  ...       AUS   \n",
       "1 -37.791251  145.175649   4.0    2.0      0.0  3259.0  ...       AUS   \n",
       "2 -37.797814  145.181397   2.0    1.0      2.0  2499.0  ...       AUS   \n",
       "3 -37.780842  145.180724   3.0    2.0      2.0  2955.0  ...       AUS   \n",
       "4 -37.781431  145.181474   2.0    1.0      1.0  2173.0  ...       AUS   \n",
       "\n",
       "    aus_name  areasqkm                                           loci_uri  \\\n",
       "0  Australia   20.8028  http://linked.data.gov.au/dataset/asgsed3/SA2/...   \n",
       "1  Australia   20.8028  http://linked.data.gov.au/dataset/asgsed3/SA2/...   \n",
       "2  Australia   20.8028  http://linked.data.gov.au/dataset/asgsed3/SA2/...   \n",
       "3  Australia   20.8028  http://linked.data.gov.au/dataset/asgsed3/SA2/...   \n",
       "4  Australia   20.8028  http://linked.data.gov.au/dataset/asgsed3/SA2/...   \n",
       "\n",
       "                                   geometry_proj   suburb property_id  \\\n",
       "0   POINT (989259.4173701588 -4291898.086618988)  Donvale           0   \n",
       "1   POINT (988607.8235432974 -4293742.529802319)  Donvale           1   \n",
       "2  POINT (989049.8328347596 -4294517.3520170655)  Donvale           5   \n",
       "3   POINT (989158.8225332311 -4292625.153907349)  Donvale           6   \n",
       "4   POINT (989219.1533940694 -4292696.593780912)  Donvale           7   \n",
       "\n",
       "   nearest_station_id nearest_station_distance  train_station_distance_km  \n",
       "0               19900                 4.980381                     5.6596  \n",
       "1               19899                 3.244503                     4.6923  \n",
       "2               19900                 2.470165                     1.4377  \n",
       "3               19900                 4.277276                     2.2956  \n",
       "4               19900                 4.197604                     1.7662  \n",
       "\n",
       "[5 rows x 35 columns]"
      ]
     },
     "execution_count": 20,
     "metadata": {},
     "output_type": "execute_result"
    }
   ],
   "source": [
    "properties_updated.head(5)"
   ]
  },
  {
   "cell_type": "code",
   "execution_count": 21,
   "metadata": {},
   "outputs": [],
   "source": [
    "# dropping haversine distance of nearest station\n",
    "if 'nearest_station_distance' in properties_updated.columns:\n",
    "    properties_updated = properties_updated.drop('nearest_station_distance', axis=1)\n"
   ]
  },
  {
   "cell_type": "code",
   "execution_count": 22,
   "metadata": {},
   "outputs": [],
   "source": [
    "# Save to Parquet in a specific directory\n",
    "properties_updated.to_parquet('../data/curated/train_car_route_final', engine='pyarrow', index=False)"
   ]
  },
  {
   "cell_type": "code",
   "execution_count": 23,
   "metadata": {},
   "outputs": [
    {
     "data": {
      "text/html": [
       "<div>\n",
       "<style scoped>\n",
       "    .dataframe tbody tr th:only-of-type {\n",
       "        vertical-align: middle;\n",
       "    }\n",
       "\n",
       "    .dataframe tbody tr th {\n",
       "        vertical-align: top;\n",
       "    }\n",
       "\n",
       "    .dataframe thead th {\n",
       "        text-align: right;\n",
       "    }\n",
       "</style>\n",
       "<table border=\"1\" class=\"dataframe\">\n",
       "  <thead>\n",
       "    <tr style=\"text-align: right;\">\n",
       "      <th></th>\n",
       "      <th>url</th>\n",
       "      <th>price</th>\n",
       "      <th>address</th>\n",
       "      <th>property_type</th>\n",
       "      <th>latitude</th>\n",
       "      <th>longitude</th>\n",
       "      <th>Beds</th>\n",
       "      <th>Baths</th>\n",
       "      <th>Parking</th>\n",
       "      <th>bond</th>\n",
       "      <th>...</th>\n",
       "      <th>ste_name</th>\n",
       "      <th>aus_code</th>\n",
       "      <th>aus_name</th>\n",
       "      <th>areasqkm</th>\n",
       "      <th>loci_uri</th>\n",
       "      <th>geometry_proj</th>\n",
       "      <th>suburb</th>\n",
       "      <th>property_id</th>\n",
       "      <th>nearest_station_id</th>\n",
       "      <th>train_station_distance_km</th>\n",
       "    </tr>\n",
       "  </thead>\n",
       "  <tbody>\n",
       "    <tr>\n",
       "      <th>0</th>\n",
       "      <td>https://www.domain.com.au/10-allara-court-donv...</td>\n",
       "      <td>$1,400.00</td>\n",
       "      <td>10 Allara Court, Donvale VIC 3111</td>\n",
       "      <td>Townhouse</td>\n",
       "      <td>-37.774273</td>\n",
       "      <td>145.181126</td>\n",
       "      <td>4.0</td>\n",
       "      <td>3.0</td>\n",
       "      <td>2.0</td>\n",
       "      <td>9125.0</td>\n",
       "      <td>...</td>\n",
       "      <td>Victoria</td>\n",
       "      <td>AUS</td>\n",
       "      <td>Australia</td>\n",
       "      <td>20.8028</td>\n",
       "      <td>http://linked.data.gov.au/dataset/asgsed3/SA2/...</td>\n",
       "      <td>POINT (989259.4173701588 -4291898.086618988)</td>\n",
       "      <td>Donvale</td>\n",
       "      <td>0</td>\n",
       "      <td>19900</td>\n",
       "      <td>5.6596</td>\n",
       "    </tr>\n",
       "    <tr>\n",
       "      <th>1</th>\n",
       "      <td>https://www.domain.com.au/7-pine-ridge-donvale...</td>\n",
       "      <td>$750 per week</td>\n",
       "      <td>7 Pine Ridge, Donvale VIC 3111</td>\n",
       "      <td>House</td>\n",
       "      <td>-37.791251</td>\n",
       "      <td>145.175649</td>\n",
       "      <td>4.0</td>\n",
       "      <td>2.0</td>\n",
       "      <td>0.0</td>\n",
       "      <td>3259.0</td>\n",
       "      <td>...</td>\n",
       "      <td>Victoria</td>\n",
       "      <td>AUS</td>\n",
       "      <td>Australia</td>\n",
       "      <td>20.8028</td>\n",
       "      <td>http://linked.data.gov.au/dataset/asgsed3/SA2/...</td>\n",
       "      <td>POINT (988607.8235432974 -4293742.529802319)</td>\n",
       "      <td>Donvale</td>\n",
       "      <td>1</td>\n",
       "      <td>19899</td>\n",
       "      <td>4.6923</td>\n",
       "    </tr>\n",
       "    <tr>\n",
       "      <th>2</th>\n",
       "      <td>https://www.domain.com.au/6-81-97-mitcham-road...</td>\n",
       "      <td>$575.00</td>\n",
       "      <td>6/81-97 Mitcham Road, Donvale VIC 3111</td>\n",
       "      <td>Townhouse</td>\n",
       "      <td>-37.797814</td>\n",
       "      <td>145.181397</td>\n",
       "      <td>2.0</td>\n",
       "      <td>1.0</td>\n",
       "      <td>2.0</td>\n",
       "      <td>2499.0</td>\n",
       "      <td>...</td>\n",
       "      <td>Victoria</td>\n",
       "      <td>AUS</td>\n",
       "      <td>Australia</td>\n",
       "      <td>20.8028</td>\n",
       "      <td>http://linked.data.gov.au/dataset/asgsed3/SA2/...</td>\n",
       "      <td>POINT (989049.8328347596 -4294517.3520170655)</td>\n",
       "      <td>Donvale</td>\n",
       "      <td>5</td>\n",
       "      <td>19900</td>\n",
       "      <td>1.4377</td>\n",
       "    </tr>\n",
       "    <tr>\n",
       "      <th>3</th>\n",
       "      <td>https://www.domain.com.au/4-49-leslie-street-d...</td>\n",
       "      <td>$680.00</td>\n",
       "      <td>4/49 Leslie Street, Donvale VIC 3111</td>\n",
       "      <td>Townhouse</td>\n",
       "      <td>-37.780842</td>\n",
       "      <td>145.180724</td>\n",
       "      <td>3.0</td>\n",
       "      <td>2.0</td>\n",
       "      <td>2.0</td>\n",
       "      <td>2955.0</td>\n",
       "      <td>...</td>\n",
       "      <td>Victoria</td>\n",
       "      <td>AUS</td>\n",
       "      <td>Australia</td>\n",
       "      <td>20.8028</td>\n",
       "      <td>http://linked.data.gov.au/dataset/asgsed3/SA2/...</td>\n",
       "      <td>POINT (989158.8225332311 -4292625.153907349)</td>\n",
       "      <td>Donvale</td>\n",
       "      <td>6</td>\n",
       "      <td>19900</td>\n",
       "      <td>2.2956</td>\n",
       "    </tr>\n",
       "    <tr>\n",
       "      <th>4</th>\n",
       "      <td>https://www.domain.com.au/10-51-55-leslie-stre...</td>\n",
       "      <td>$500 Per Week</td>\n",
       "      <td>10/51-55 Leslie Street, Donvale VIC 3111</td>\n",
       "      <td>Apartment / Unit / Flat</td>\n",
       "      <td>-37.781431</td>\n",
       "      <td>145.181474</td>\n",
       "      <td>2.0</td>\n",
       "      <td>1.0</td>\n",
       "      <td>1.0</td>\n",
       "      <td>2173.0</td>\n",
       "      <td>...</td>\n",
       "      <td>Victoria</td>\n",
       "      <td>AUS</td>\n",
       "      <td>Australia</td>\n",
       "      <td>20.8028</td>\n",
       "      <td>http://linked.data.gov.au/dataset/asgsed3/SA2/...</td>\n",
       "      <td>POINT (989219.1533940694 -4292696.593780912)</td>\n",
       "      <td>Donvale</td>\n",
       "      <td>7</td>\n",
       "      <td>19900</td>\n",
       "      <td>1.7662</td>\n",
       "    </tr>\n",
       "  </tbody>\n",
       "</table>\n",
       "<p>5 rows × 34 columns</p>\n",
       "</div>"
      ],
      "text/plain": [
       "                                                 url          price  \\\n",
       "0  https://www.domain.com.au/10-allara-court-donv...      $1,400.00   \n",
       "1  https://www.domain.com.au/7-pine-ridge-donvale...  $750 per week   \n",
       "2  https://www.domain.com.au/6-81-97-mitcham-road...        $575.00   \n",
       "3  https://www.domain.com.au/4-49-leslie-street-d...        $680.00   \n",
       "4  https://www.domain.com.au/10-51-55-leslie-stre...  $500 Per Week   \n",
       "\n",
       "                                    address            property_type  \\\n",
       "0         10 Allara Court, Donvale VIC 3111                Townhouse   \n",
       "1            7 Pine Ridge, Donvale VIC 3111                    House   \n",
       "2    6/81-97 Mitcham Road, Donvale VIC 3111                Townhouse   \n",
       "3      4/49 Leslie Street, Donvale VIC 3111                Townhouse   \n",
       "4  10/51-55 Leslie Street, Donvale VIC 3111  Apartment / Unit / Flat   \n",
       "\n",
       "    latitude   longitude  Beds  Baths  Parking    bond  ...  ste_name  \\\n",
       "0 -37.774273  145.181126   4.0    3.0      2.0  9125.0  ...  Victoria   \n",
       "1 -37.791251  145.175649   4.0    2.0      0.0  3259.0  ...  Victoria   \n",
       "2 -37.797814  145.181397   2.0    1.0      2.0  2499.0  ...  Victoria   \n",
       "3 -37.780842  145.180724   3.0    2.0      2.0  2955.0  ...  Victoria   \n",
       "4 -37.781431  145.181474   2.0    1.0      1.0  2173.0  ...  Victoria   \n",
       "\n",
       "  aus_code   aus_name  areasqkm  \\\n",
       "0      AUS  Australia   20.8028   \n",
       "1      AUS  Australia   20.8028   \n",
       "2      AUS  Australia   20.8028   \n",
       "3      AUS  Australia   20.8028   \n",
       "4      AUS  Australia   20.8028   \n",
       "\n",
       "                                            loci_uri  \\\n",
       "0  http://linked.data.gov.au/dataset/asgsed3/SA2/...   \n",
       "1  http://linked.data.gov.au/dataset/asgsed3/SA2/...   \n",
       "2  http://linked.data.gov.au/dataset/asgsed3/SA2/...   \n",
       "3  http://linked.data.gov.au/dataset/asgsed3/SA2/...   \n",
       "4  http://linked.data.gov.au/dataset/asgsed3/SA2/...   \n",
       "\n",
       "                                   geometry_proj   suburb  property_id  \\\n",
       "0   POINT (989259.4173701588 -4291898.086618988)  Donvale            0   \n",
       "1   POINT (988607.8235432974 -4293742.529802319)  Donvale            1   \n",
       "2  POINT (989049.8328347596 -4294517.3520170655)  Donvale            5   \n",
       "3   POINT (989158.8225332311 -4292625.153907349)  Donvale            6   \n",
       "4   POINT (989219.1533940694 -4292696.593780912)  Donvale            7   \n",
       "\n",
       "  nearest_station_id  train_station_distance_km  \n",
       "0              19900                     5.6596  \n",
       "1              19899                     4.6923  \n",
       "2              19900                     1.4377  \n",
       "3              19900                     2.2956  \n",
       "4              19900                     1.7662  \n",
       "\n",
       "[5 rows x 34 columns]"
      ]
     },
     "execution_count": 23,
     "metadata": {},
     "output_type": "execute_result"
    }
   ],
   "source": [
    "properties_train = pd.read_parquet('../data/curated/train_car_route_final', engine='pyarrow')\n",
    "properties_train.head()"
   ]
  },
  {
   "cell_type": "code",
   "execution_count": 24,
   "metadata": {},
   "outputs": [
    {
     "name": "stdout",
     "output_type": "stream",
     "text": [
      "+--------------------+-----------------+--------------------+--------------------+------------------+-----------+----+-----+-------+------+---------------+--------------------+-----------+---------+--------------------+--------+---------+--------+------------------+--------+--------------------+--------+-----------------+--------+--------+--------+---------+--------+--------------------+--------------------+-------------+-----------+------------------+-------------------------+\n",
      "|                 url|            price|             address|       property_type|          latitude|  longitude|Beds|Baths|Parking|  bond|extracted_price|            geometry|index_right| sa2_code|            sa2_name|chg_flag|  chg_lbl|sa3_code|          sa3_name|sa4_code|            sa4_name|gcc_code|         gcc_name|ste_code|ste_name|aus_code| aus_name|areasqkm|            loci_uri|       geometry_proj|       suburb|property_id|nearest_station_id|train_station_distance_km|\n",
      "+--------------------+-----------------+--------------------+--------------------+------------------+-----------+----+-----+-------+------+---------------+--------------------+-----------+---------+--------------------+--------+---------+--------+------------------+--------+--------------------+--------+-----------------+--------+--------+--------+---------+--------+--------------------+--------------------+-------------+-----------+------------------+-------------------------+\n",
      "|https://www.domai...|        $1,400.00|10 Allara Court, ...|           Townhouse|-37.77427300000001|145.1811258| 4.0|  3.0|    2.0|9125.0|         1400.0|POINT (145.181125...|      310.0|211021261|Donvale - Park Or...|       0|No change|   21102| Manningham - East|     211|Melbourne - Outer...|   2GMEL|Greater Melbourne|       2|Victoria|     AUS|Australia| 20.8028|http://linked.dat...|POINT (989259.417...|      Donvale|          0|             19900|                   5.6596|\n",
      "|https://www.domai...|    $750 per week|7 Pine Ridge, Don...|               House|       -37.7912513|145.1756489| 4.0|  2.0|    0.0|3259.0|          750.0|POINT (145.175648...|      310.0|211021261|Donvale - Park Or...|       0|No change|   21102| Manningham - East|     211|Melbourne - Outer...|   2GMEL|Greater Melbourne|       2|Victoria|     AUS|Australia| 20.8028|http://linked.dat...|POINT (988607.823...|      Donvale|          1|             19899|                   4.6923|\n",
      "|https://www.domai...|          $575.00|6/81-97 Mitcham R...|           Townhouse|       -37.7978137|145.1813965| 2.0|  1.0|    2.0|2499.0|          575.0|POINT (145.181396...|      310.0|211021261|Donvale - Park Or...|       0|No change|   21102| Manningham - East|     211|Melbourne - Outer...|   2GMEL|Greater Melbourne|       2|Victoria|     AUS|Australia| 20.8028|http://linked.dat...|POINT (989049.832...|      Donvale|          5|             19900|                   1.4377|\n",
      "|https://www.domai...|          $680.00|4/49 Leslie Stree...|           Townhouse|       -37.7808415| 145.180724| 3.0|  2.0|    2.0|2955.0|          680.0|POINT (145.180724...|      310.0|211021261|Donvale - Park Or...|       0|No change|   21102| Manningham - East|     211|Melbourne - Outer...|   2GMEL|Greater Melbourne|       2|Victoria|     AUS|Australia| 20.8028|http://linked.dat...|POINT (989158.822...|      Donvale|          6|             19900|                   2.2956|\n",
      "|https://www.domai...|    $500 Per Week|10/51-55 Leslie S...|Apartment / Unit ...|        -37.781431| 145.181474| 2.0|  1.0|    1.0|2173.0|          500.0|POINT (145.181474...|      310.0|211021261|Donvale - Park Or...|       0|No change|   21102| Manningham - East|     211|Melbourne - Outer...|   2GMEL|Greater Melbourne|       2|Victoria|     AUS|Australia| 20.8028|http://linked.dat...|POINT (989219.153...|      Donvale|          7|             19900|                   1.7662|\n",
      "|https://www.domai...|          $800.00|55 Darvall Street...|               House|        -37.802745|145.1756185| 4.0|  2.0|    2.0|3476.0|          800.0|POINT (145.175618...|      310.0|211021261|Donvale - Park Or...|       0|No change|   21102| Manningham - East|     211|Melbourne - Outer...|   2GMEL|Greater Melbourne|       2|Victoria|     AUS|Australia| 20.8028|http://linked.dat...|POINT (988491.203...|      Donvale|          9|             19899|                   1.6396|\n",
      "|https://www.domai...|             $800|1/9 Standring Clo...|           Townhouse|       -37.7828514|145.1766753| 3.0|  2.0|    2.0|3476.0|          800.0|POINT (145.176675...|      310.0|211021261|Donvale - Park Or...|       0|No change|   21102| Manningham - East|     211|Melbourne - Outer...|   2GMEL|Greater Melbourne|       2|Victoria|     AUS|Australia| 20.8028|http://linked.dat...|POINT (988781.653...|      Donvale|         10|             19900|                   0.8211|\n",
      "|https://www.domai...|$600pw / $2607pcm|2/545-549 Nichols...|Apartment / Unit ...|       -37.7866617|144.9766719| 2.0|  1.0|    1.0|2607.0|          600.0|POINT (144.976671...|      157.0|206071140|Carlton North - P...|       0|No change|   20607|             Yarra|     206|   Melbourne - Inner|   2GMEL|Greater Melbourne|       2|Victoria|     AUS|Australia|  2.3042|http://linked.dat...|POINT (971096.020...|Carlton North|         17|             20019|                   0.4065|\n",
      "|https://www.domai...|          $630.00|293 Richardson St...|               House|       -37.7840809|144.9656152| 2.0|  1.0|    0.0|2738.0|          630.0|POINT (144.965615...|      157.0|206071140|Carlton North - P...|       0|No change|   20607|             Yarra|     206|   Melbourne - Inner|   2GMEL|Greater Melbourne|       2|Victoria|     AUS|Australia|  2.3042|http://linked.dat...|POINT (970145.432...|Carlton North|         19|             19969|                    1.308|\n",
      "|https://www.domai...|          $720.00|786 Drummond Stre...|               House|        -37.786146|144.9712576| 3.0|  1.0|    0.0|3129.0|          720.0|POINT (144.971257...|      157.0|206071140|Carlton North - P...|       0|No change|   20607|             Yarra|     206|   Melbourne - Inner|   2GMEL|Greater Melbourne|       2|Victoria|     AUS|Australia|  2.3042|http://linked.dat...|POINT (970623.259...|Carlton North|         22|             19969|                   0.8074|\n",
      "|https://www.domai...|             $750|16 O'Grady Street...|               House|       -37.7903938|144.9734333| 2.0|  1.0|    0.0|3259.0|          750.0|POINT (144.973433...|      157.0|206071140|Carlton North - P...|       0|No change|   20607|             Yarra|     206|   Melbourne - Inner|   2GMEL|Greater Melbourne|       2|Victoria|     AUS|Australia|  2.3042|http://linked.dat...|POINT (970773.905...|Carlton North|         25|             20019|                   0.4622|\n",
      "|https://www.domai...|          $750 pw|8/1068 Lygon Stre...|Apartment / Unit ...|       -37.7809417|144.9705344| 3.0|  2.0|    2.0|3260.0|          750.0|POINT (144.970534...|      157.0|206071140|Carlton North - P...|       0|No change|   20607|             Yarra|     206|   Melbourne - Inner|   2GMEL|Greater Melbourne|       2|Victoria|     AUS|Australia|  2.3042|http://linked.dat...|POINT (970610.084...|Carlton North|         26|             19969|                   0.3238|\n",
      "|https://www.domai...|$795pw / $3454pcm|904 Lygon Street,...|               House|       -37.7848136|144.9699818| 2.0|  1.0|    1.0|3454.0|          795.0|POINT (144.969981...|      157.0|206071140|Carlton North - P...|       0|No change|   20607|             Yarra|     206|   Melbourne - Inner|   2GMEL|Greater Melbourne|       2|Victoria|     AUS|Australia|  2.3042|http://linked.dat...|POINT (970523.641...|Carlton North|         27|             19969|                   0.7544|\n",
      "|https://www.domai...|          $550.00|1405/570 Lygon St...|Apartment / Unit ...|       -37.7830707|144.9699457| 2.0|  1.0|    0.0|2390.0|          550.0|POINT (144.969945...|      157.0|206071140|Carlton North - P...|       0|No change|   20607|             Yarra|     206|   Melbourne - Inner|   2GMEL|Greater Melbourne|       2|Victoria|     AUS|Australia|  2.3042|http://linked.dat...|POINT (970537.415...|Carlton North|         28|             19969|       0.8637999999999999|\n",
      "|https://www.domai...|          $550 pw|1/28 Queens Parad...|Apartment / Unit ...|       -37.8524461|145.0920614| 3.0|  1.0|    1.0|2390.0|          550.0|POINT (145.092061...|      168.0|207011150|    Glen Iris - East|       0|No change|   20701|        Boroondara|     207|Melbourne - Inner...|   2GMEL|Greater Melbourne|       2|Victoria|     AUS|Australia|  5.7049|http://linked.dat...|POINT (980630.723...|    Glen Iris|         29|             19849|                   0.6512|\n",
      "|https://www.domai...|          $850.00|12 Walerna Road, ...|               House|       -37.8556023|145.0679018| 3.0|  2.0|    1.0|3693.0|          850.0|POINT (145.067901...|      168.0|207011150|    Glen Iris - East|       0|No change|   20701|        Boroondara|     207|Melbourne - Inner...|   2GMEL|Greater Melbourne|       2|Victoria|     AUS|Australia|  5.7049|http://linked.dat...|POINT (978469.351...|    Glen Iris|         31|             19835|                   1.0304|\n",
      "|https://www.domai...|          $850.00|12 Walerna Road, ...|               House|       -37.8556023|145.0679018| 3.0|  2.0|    1.0|3693.0|          850.0|POINT (145.067901...|      168.0|207011150|    Glen Iris - East|       0|No change|   20701|        Boroondara|     207|Melbourne - Inner...|   2GMEL|Greater Melbourne|       2|Victoria|     AUS|Australia|  5.7049|http://linked.dat...|POINT (978469.351...|    Glen Iris|         32|             19835|                   0.8745|\n",
      "|https://www.domai...|          $895.00|51 Ferndale Road,...|               House|        -37.855363|145.0747789| 3.0|  1.0|    2.0|3888.0|          895.0|POINT (145.074778...|      168.0|207011150|    Glen Iris - East|       0|No change|   20701|        Boroondara|     207|Melbourne - Inner...|   2GMEL|Greater Melbourne|       2|Victoria|     AUS|Australia|  5.7049|http://linked.dat...|POINT (979078.105...|    Glen Iris|         33|             19849|                   0.9326|\n",
      "|https://www.domai...|        $1,190.00|2/3 Creswick Stre...|           Townhouse|        -37.852644|145.0433944| 3.0|  2.0|    2.0|7500.0|         1190.0|POINT (145.043394...|      216.0|208041194| Malvern - Glen Iris|       0|No change|   20804|Stonnington - East|     208|Melbourne - Inner...|   2GMEL|Greater Melbourne|       2|Victoria|     AUS|Australia|  6.1552|http://linked.dat...|POINT (976337.321...|    Glen Iris|         34|             19911|                   1.0178|\n",
      "|https://www.domai...|          $770 pw|G08/1555 Malvern ...|Apartment / Unit ...|       -37.8536224|145.0477641| 2.0|  1.0|    1.0|3346.0|          770.0|POINT (145.047764...|      216.0|208041194| Malvern - Glen Iris|       0|No change|   20804|Stonnington - East|     208|Melbourne - Inner...|   2GMEL|Greater Melbourne|       2|Victoria|     AUS|Australia|  6.1552|http://linked.dat...|POINT (976713.057...|    Glen Iris|         39|             19912|                   1.0018|\n",
      "+--------------------+-----------------+--------------------+--------------------+------------------+-----------+----+-----+-------+------+---------------+--------------------+-----------+---------+--------------------+--------+---------+--------+------------------+--------+--------------------+--------+-----------------+--------+--------+--------+---------+--------+--------------------+--------------------+-------------+-----------+------------------+-------------------------+\n",
      "only showing top 20 rows\n",
      "\n"
     ]
    }
   ],
   "source": [
    "properties_train_sdf = spark.createDataFrame(properties_train)\n",
    "properties_train_sdf.show()"
   ]
  },
  {
   "cell_type": "markdown",
   "metadata": {},
   "source": [
    "#### Calculating the car route distance to the CBD for each property"
   ]
  },
  {
   "cell_type": "code",
   "execution_count": 25,
   "metadata": {},
   "outputs": [
    {
     "name": "stderr",
     "output_type": "stream",
     "text": [
      "24/10/05 23:05:22 WARN SparkSession: Using an existing Spark session; only runtime SQL configurations will take effect.\n"
     ]
    }
   ],
   "source": [
    "from pyspark.sql import SparkSession, Row\n",
    "from pyspark.sql.functions import monotonically_increasing_id\n",
    "\n",
    "# Initialize Spark session\n",
    "spark = SparkSession.builder.appName(\"Property Distance Calculation\").getOrCreate()\n",
    "\n",
    "melbourne_cbd_coords = [144.9631, -37.8136]\n",
    "\n",
    "# Convert Spark DataFrame to pandas DataFrame for iteration\n",
    "pandas_df = properties_train_sdf.select(\"longitude\", \"latitude\").toPandas()\n",
    "\n",
    "# Prepare property coordinates\n",
    "property_coords = list(zip(pandas_df['longitude'], pandas_df['latitude']))\n",
    "\n",
    "# Define maximum number of routes per batch\n",
    "max_destinations_per_batch = 3500\n",
    "\n",
    "# Split property coordinates into batches\n",
    "batches = [property_coords[i:i + max_destinations_per_batch] for i in range(0, len(property_coords), max_destinations_per_batch)]\n",
    "\n",
    "# Store results for all batches\n",
    "all_distances = []\n",
    "for batch in batches:\n",
    "    try:\n",
    "        response = client.distance_matrix(\n",
    "            locations=[melbourne_cbd_coords] + batch,\n",
    "            profile='driving-car',\n",
    "            metrics=['distance'],\n",
    "            sources=[0],\n",
    "            destinations=list(range(1, len(batch) + 1))\n",
    "        )\n",
    "        distances = response['distances'][0]\n",
    "        all_distances.extend(distances)\n",
    "    except Exception as e:\n",
    "        print(f\"Error making batch request: {e}\")\n",
    "        all_distances.extend([None] * len(batch))\n",
    "\n",
    "# Create a DataFrame for distances\n",
    "\n",
    "distances_pandas_df = pd.DataFrame(all_distances, columns=['cbd_distance_m'])\n",
    "# Reset index to add an increasing ID column starting from 0\n",
    "distances_pandas_df.reset_index(inplace=True)\n",
    "distances_pandas_df.rename(columns={'index': 'ID'}, inplace=True)\n",
    "\n",
    "# Add a sequential index to both DataFrames to ensure correct row alignment\n",
    "properties_train_sdf = properties_train_sdf.withColumn(\"row_index\", monotonically_increasing_id())\n",
    "\n",
    "properties_df_pandas = properties_train_sdf.toPandas()\n",
    "\n",
    "# Make sure both DataFrames have an 'ID' or 'row_index' that we will use to join\n",
    "properties_df_pandas['row_index'] = range(len(properties_df_pandas))\n",
    "distances_pandas_df['row_index'] = range(len(distances_pandas_df))\n",
    "\n",
    "# Join the DataFrames on 'row_index'\n",
    "properties_train_cbd = pd.merge(properties_df_pandas, distances_pandas_df, on='row_index')\n",
    "\n",
    "\n",
    "\n"
   ]
  },
  {
   "cell_type": "markdown",
   "metadata": {},
   "source": [
    "#### Ensuring that we have not lost any data"
   ]
  },
  {
   "cell_type": "code",
   "execution_count": 26,
   "metadata": {},
   "outputs": [
    {
     "name": "stdout",
     "output_type": "stream",
     "text": [
      "Count of entries in the read-back DataFrame:\n",
      "9565\n",
      "                                        address  cbd_distance_m\n",
      "0             10 Allara Court, Donvale VIC 3111        25934.87\n",
      "1                7 Pine Ridge, Donvale VIC 3111        23779.97\n",
      "2        6/81-97 Mitcham Road, Donvale VIC 3111        23958.96\n",
      "3          4/49 Leslie Street, Donvale VIC 3111        24814.36\n",
      "4      10/51-55 Leslie Street, Donvale VIC 3111        24889.39\n",
      "..                                          ...             ...\n",
      "95       326 Jells Road, Wheelers Hill VIC 3150        27468.40\n",
      "96     1/2 Vigil Avenue, Glen Waverley VIC 3150        28883.47\n",
      "97     10 Mandowie Road, Glen Waverley VIC 3150        26308.71\n",
      "98   37 Remington Drive, Glen Waverley VIC 3150        26232.15\n",
      "99  2/8 Campbell Street, Glen Waverley VIC 3150        26856.03\n",
      "\n",
      "[100 rows x 2 columns]\n"
     ]
    }
   ],
   "source": [
    "# Write to CSV\n",
    "properties_train_cbd.to_csv('../data/curated/pandas_dataset_with_property_distance_to_cbd.csv', index=False, header=True)\n",
    "# Read back the data\n",
    "df_check = pd.read_csv('../data/curated/pandas_dataset_with_property_distance_to_cbd.csv')\n",
    "\n",
    "# Print the number of entries in the read-back DataFrame\n",
    "print(\"Count of entries in the read-back DataFrame:\")\n",
    "print(df_check.shape[0])  \n",
    "print(properties_train_cbd[['address', 'cbd_distance_m']].head())\n"
   ]
  },
  {
   "cell_type": "code",
   "execution_count": 27,
   "metadata": {},
   "outputs": [
    {
     "name": "stdout",
     "output_type": "stream",
     "text": [
      "+--------------------+-----------------+--------------------+--------------------+------------------+-----------+----+-----+-------+------+---------------+--------------------+-----------+---------+--------------------+--------+---------+--------+------------------+--------+--------------------+--------+-----------------+--------+--------+--------+---------+--------+--------------------+--------------------+-------------+-----------+------------------+-------------------------+--------------+\n",
      "|                 url|            price|             address|       property_type|          latitude|  longitude|Beds|Baths|Parking|  bond|extracted_price|            geometry|index_right| sa2_code|            sa2_name|chg_flag|  chg_lbl|sa3_code|          sa3_name|sa4_code|            sa4_name|gcc_code|         gcc_name|ste_code|ste_name|aus_code| aus_name|areasqkm|            loci_uri|       geometry_proj|       suburb|property_id|nearest_station_id|train_station_distance_km|cbd_distance_m|\n",
      "+--------------------+-----------------+--------------------+--------------------+------------------+-----------+----+-----+-------+------+---------------+--------------------+-----------+---------+--------------------+--------+---------+--------+------------------+--------+--------------------+--------+-----------------+--------+--------+--------+---------+--------+--------------------+--------------------+-------------+-----------+------------------+-------------------------+--------------+\n",
      "|https://www.domai...|        $1,400.00|10 Allara Court, ...|           Townhouse|-37.77427300000001|145.1811258| 4.0|  3.0|    2.0|9125.0|         1400.0|POINT (145.181125...|      310.0|211021261|Donvale - Park Or...|       0|No change|   21102| Manningham - East|     211|Melbourne - Outer...|   2GMEL|Greater Melbourne|       2|Victoria|     AUS|Australia| 20.8028|http://linked.dat...|POINT (989259.417...|      Donvale|          0|             19900|                   5.6596|      25934.87|\n",
      "|https://www.domai...|    $750 per week|7 Pine Ridge, Don...|               House|       -37.7912513|145.1756489| 4.0|  2.0|    0.0|3259.0|          750.0|POINT (145.175648...|      310.0|211021261|Donvale - Park Or...|       0|No change|   21102| Manningham - East|     211|Melbourne - Outer...|   2GMEL|Greater Melbourne|       2|Victoria|     AUS|Australia| 20.8028|http://linked.dat...|POINT (988607.823...|      Donvale|          1|             19899|                   4.6923|      23779.97|\n",
      "|https://www.domai...|          $575.00|6/81-97 Mitcham R...|           Townhouse|       -37.7978137|145.1813965| 2.0|  1.0|    2.0|2499.0|          575.0|POINT (145.181396...|      310.0|211021261|Donvale - Park Or...|       0|No change|   21102| Manningham - East|     211|Melbourne - Outer...|   2GMEL|Greater Melbourne|       2|Victoria|     AUS|Australia| 20.8028|http://linked.dat...|POINT (989049.832...|      Donvale|          5|             19900|                   1.4377|      23958.96|\n",
      "|https://www.domai...|          $680.00|4/49 Leslie Stree...|           Townhouse|       -37.7808415| 145.180724| 3.0|  2.0|    2.0|2955.0|          680.0|POINT (145.180724...|      310.0|211021261|Donvale - Park Or...|       0|No change|   21102| Manningham - East|     211|Melbourne - Outer...|   2GMEL|Greater Melbourne|       2|Victoria|     AUS|Australia| 20.8028|http://linked.dat...|POINT (989158.822...|      Donvale|          6|             19900|                   2.2956|      24814.36|\n",
      "|https://www.domai...|    $500 Per Week|10/51-55 Leslie S...|Apartment / Unit ...|        -37.781431| 145.181474| 2.0|  1.0|    1.0|2173.0|          500.0|POINT (145.181474...|      310.0|211021261|Donvale - Park Or...|       0|No change|   21102| Manningham - East|     211|Melbourne - Outer...|   2GMEL|Greater Melbourne|       2|Victoria|     AUS|Australia| 20.8028|http://linked.dat...|POINT (989219.153...|      Donvale|          7|             19900|                   1.7662|      24889.39|\n",
      "|https://www.domai...|          $800.00|55 Darvall Street...|               House|        -37.802745|145.1756185| 4.0|  2.0|    2.0|3476.0|          800.0|POINT (145.175618...|      310.0|211021261|Donvale - Park Or...|       0|No change|   21102| Manningham - East|     211|Melbourne - Outer...|   2GMEL|Greater Melbourne|       2|Victoria|     AUS|Australia| 20.8028|http://linked.dat...|POINT (988491.203...|      Donvale|          9|             19899|                   1.6396|      23253.39|\n",
      "|https://www.domai...|             $800|1/9 Standring Clo...|           Townhouse|       -37.7828514|145.1766753| 3.0|  2.0|    2.0|3476.0|          800.0|POINT (145.176675...|      310.0|211021261|Donvale - Park Or...|       0|No change|   21102| Manningham - East|     211|Melbourne - Outer...|   2GMEL|Greater Melbourne|       2|Victoria|     AUS|Australia| 20.8028|http://linked.dat...|POINT (988781.653...|      Donvale|         10|             19900|                   0.8211|      24607.29|\n",
      "|https://www.domai...|$600pw / $2607pcm|2/545-549 Nichols...|Apartment / Unit ...|       -37.7866617|144.9766719| 2.0|  1.0|    1.0|2607.0|          600.0|POINT (144.976671...|      157.0|206071140|Carlton North - P...|       0|No change|   20607|             Yarra|     206|   Melbourne - Inner|   2GMEL|Greater Melbourne|       2|Victoria|     AUS|Australia|  2.3042|http://linked.dat...|POINT (971096.020...|Carlton North|         17|             20019|                   0.4065|       4243.41|\n",
      "|https://www.domai...|          $630.00|293 Richardson St...|               House|       -37.7840809|144.9656152| 2.0|  1.0|    0.0|2738.0|          630.0|POINT (144.965615...|      157.0|206071140|Carlton North - P...|       0|No change|   20607|             Yarra|     206|   Melbourne - Inner|   2GMEL|Greater Melbourne|       2|Victoria|     AUS|Australia|  2.3042|http://linked.dat...|POINT (970145.432...|Carlton North|         19|             19969|                    1.308|       4140.98|\n",
      "|https://www.domai...|          $720.00|786 Drummond Stre...|               House|        -37.786146|144.9712576| 3.0|  1.0|    0.0|3129.0|          720.0|POINT (144.971257...|      157.0|206071140|Carlton North - P...|       0|No change|   20607|             Yarra|     206|   Melbourne - Inner|   2GMEL|Greater Melbourne|       2|Victoria|     AUS|Australia|  2.3042|http://linked.dat...|POINT (970623.259...|Carlton North|         22|             19969|                   0.8074|       4030.91|\n",
      "|https://www.domai...|             $750|16 O'Grady Street...|               House|       -37.7903938|144.9734333| 2.0|  1.0|    0.0|3259.0|          750.0|POINT (144.973433...|      157.0|206071140|Carlton North - P...|       0|No change|   20607|             Yarra|     206|   Melbourne - Inner|   2GMEL|Greater Melbourne|       2|Victoria|     AUS|Australia|  2.3042|http://linked.dat...|POINT (970773.905...|Carlton North|         25|             20019|                   0.4622|        3572.0|\n",
      "|https://www.domai...|          $750 pw|8/1068 Lygon Stre...|Apartment / Unit ...|       -37.7809417|144.9705344| 3.0|  2.0|    2.0|3260.0|          750.0|POINT (144.970534...|      157.0|206071140|Carlton North - P...|       0|No change|   20607|             Yarra|     206|   Melbourne - Inner|   2GMEL|Greater Melbourne|       2|Victoria|     AUS|Australia|  2.3042|http://linked.dat...|POINT (970610.084...|Carlton North|         26|             19969|                   0.3238|       4225.06|\n",
      "|https://www.domai...|$795pw / $3454pcm|904 Lygon Street,...|               House|       -37.7848136|144.9699818| 2.0|  1.0|    1.0|3454.0|          795.0|POINT (144.969981...|      157.0|206071140|Carlton North - P...|       0|No change|   20607|             Yarra|     206|   Melbourne - Inner|   2GMEL|Greater Melbourne|       2|Victoria|     AUS|Australia|  2.3042|http://linked.dat...|POINT (970523.641...|Carlton North|         27|             19969|                   0.7544|       3859.79|\n",
      "|https://www.domai...|          $550.00|1405/570 Lygon St...|Apartment / Unit ...|       -37.7830707|144.9699457| 2.0|  1.0|    0.0|2390.0|          550.0|POINT (144.969945...|      157.0|206071140|Carlton North - P...|       0|No change|   20607|             Yarra|     206|   Melbourne - Inner|   2GMEL|Greater Melbourne|       2|Victoria|     AUS|Australia|  2.3042|http://linked.dat...|POINT (970537.415...|Carlton North|         28|             19969|       0.8637999999999999|       3960.17|\n",
      "|https://www.domai...|          $550 pw|1/28 Queens Parad...|Apartment / Unit ...|       -37.8524461|145.0920614| 3.0|  1.0|    1.0|2390.0|          550.0|POINT (145.092061...|      168.0|207011150|    Glen Iris - East|       0|No change|   20701|        Boroondara|     207|Melbourne - Inner...|   2GMEL|Greater Melbourne|       2|Victoria|     AUS|Australia|  5.7049|http://linked.dat...|POINT (980630.723...|    Glen Iris|         29|             19849|                   0.6512|      15107.33|\n",
      "|https://www.domai...|          $850.00|12 Walerna Road, ...|               House|       -37.8556023|145.0679018| 3.0|  2.0|    1.0|3693.0|          850.0|POINT (145.067901...|      168.0|207011150|    Glen Iris - East|       0|No change|   20701|        Boroondara|     207|Melbourne - Inner...|   2GMEL|Greater Melbourne|       2|Victoria|     AUS|Australia|  5.7049|http://linked.dat...|POINT (978469.351...|    Glen Iris|         31|             19835|                   1.0304|      14212.54|\n",
      "|https://www.domai...|          $850.00|12 Walerna Road, ...|               House|       -37.8556023|145.0679018| 3.0|  2.0|    1.0|3693.0|          850.0|POINT (145.067901...|      168.0|207011150|    Glen Iris - East|       0|No change|   20701|        Boroondara|     207|Melbourne - Inner...|   2GMEL|Greater Melbourne|       2|Victoria|     AUS|Australia|  5.7049|http://linked.dat...|POINT (978469.351...|    Glen Iris|         32|             19835|                   0.8745|      14212.54|\n",
      "|https://www.domai...|          $895.00|51 Ferndale Road,...|               House|        -37.855363|145.0747789| 3.0|  1.0|    2.0|3888.0|          895.0|POINT (145.074778...|      168.0|207011150|    Glen Iris - East|       0|No change|   20701|        Boroondara|     207|Melbourne - Inner...|   2GMEL|Greater Melbourne|       2|Victoria|     AUS|Australia|  5.7049|http://linked.dat...|POINT (979078.105...|    Glen Iris|         33|             19849|                   0.9326|      14881.49|\n",
      "|https://www.domai...|        $1,190.00|2/3 Creswick Stre...|           Townhouse|        -37.852644|145.0433944| 3.0|  2.0|    2.0|7500.0|         1190.0|POINT (145.043394...|      216.0|208041194| Malvern - Glen Iris|       0|No change|   20804|Stonnington - East|     208|Melbourne - Inner...|   2GMEL|Greater Melbourne|       2|Victoria|     AUS|Australia|  6.1552|http://linked.dat...|POINT (976337.321...|    Glen Iris|         34|             19911|                   1.0178|       11697.0|\n",
      "|https://www.domai...|          $770 pw|G08/1555 Malvern ...|Apartment / Unit ...|       -37.8536224|145.0477641| 2.0|  1.0|    1.0|3346.0|          770.0|POINT (145.047764...|      216.0|208041194| Malvern - Glen Iris|       0|No change|   20804|Stonnington - East|     208|Melbourne - Inner...|   2GMEL|Greater Melbourne|       2|Victoria|     AUS|Australia|  6.1552|http://linked.dat...|POINT (976713.057...|    Glen Iris|         39|             19912|                   1.0018|      11953.88|\n",
      "+--------------------+-----------------+--------------------+--------------------+------------------+-----------+----+-----+-------+------+---------------+--------------------+-----------+---------+--------------------+--------+---------+--------+------------------+--------+--------------------+--------+-----------------+--------+--------+--------+---------+--------+--------------------+--------------------+-------------+-----------+------------------+-------------------------+--------------+\n",
      "only showing top 20 rows\n",
      "\n"
     ]
    }
   ],
   "source": [
    "if \"ID\" in df_check.columns:\n",
    "    df_check = df_check.drop(\"ID\", axis=1)\n",
    "else:\n",
    "    print(\"Column 'ID' not found in the DataFrame.\")\n",
    "if \"row_index\" in df_check.columns:\n",
    "    df_check = df_check.drop(\"row_index\", axis=1)\n",
    "else:\n",
    "    print(\"Column 'row_index' not found in the DataFrame.\")\n",
    "    \n",
    "\n",
    "result_cbd_train = spark.createDataFrame(df_check)\n",
    "result_cbd_train.show()"
   ]
  },
  {
   "cell_type": "markdown",
   "metadata": {},
   "source": [
    "#### Converting CBD distance to KM for consistency"
   ]
  },
  {
   "cell_type": "code",
   "execution_count": 28,
   "metadata": {},
   "outputs": [
    {
     "name": "stdout",
     "output_type": "stream",
     "text": [
      "+--------------------+-----------------+--------------------+--------------------+------------------+-----------+----+-----+-------+------+---------------+--------------------+-----------+---------+--------------------+--------+---------+--------+------------------+--------+--------------------+--------+-----------------+--------+--------+--------+---------+--------+--------------------+--------------------+-------------+-----------+------------------+-------------------------+------------------+\n",
      "|                 url|            price|             address|       property_type|          latitude|  longitude|Beds|Baths|Parking|  bond|extracted_price|            geometry|index_right| sa2_code|            sa2_name|chg_flag|  chg_lbl|sa3_code|          sa3_name|sa4_code|            sa4_name|gcc_code|         gcc_name|ste_code|ste_name|aus_code| aus_name|areasqkm|            loci_uri|       geometry_proj|       suburb|property_id|nearest_station_id|train_station_distance_km|   cbd_distance_km|\n",
      "+--------------------+-----------------+--------------------+--------------------+------------------+-----------+----+-----+-------+------+---------------+--------------------+-----------+---------+--------------------+--------+---------+--------+------------------+--------+--------------------+--------+-----------------+--------+--------+--------+---------+--------+--------------------+--------------------+-------------+-----------+------------------+-------------------------+------------------+\n",
      "|https://www.domai...|        $1,400.00|10 Allara Court, ...|           Townhouse|-37.77427300000001|145.1811258| 4.0|  3.0|    2.0|9125.0|         1400.0|POINT (145.181125...|      310.0|211021261|Donvale - Park Or...|       0|No change|   21102| Manningham - East|     211|Melbourne - Outer...|   2GMEL|Greater Melbourne|       2|Victoria|     AUS|Australia| 20.8028|http://linked.dat...|POINT (989259.417...|      Donvale|          0|             19900|                   5.6596|          25.93487|\n",
      "|https://www.domai...|    $750 per week|7 Pine Ridge, Don...|               House|       -37.7912513|145.1756489| 4.0|  2.0|    0.0|3259.0|          750.0|POINT (145.175648...|      310.0|211021261|Donvale - Park Or...|       0|No change|   21102| Manningham - East|     211|Melbourne - Outer...|   2GMEL|Greater Melbourne|       2|Victoria|     AUS|Australia| 20.8028|http://linked.dat...|POINT (988607.823...|      Donvale|          1|             19899|                   4.6923|23.779970000000002|\n",
      "|https://www.domai...|          $575.00|6/81-97 Mitcham R...|           Townhouse|       -37.7978137|145.1813965| 2.0|  1.0|    2.0|2499.0|          575.0|POINT (145.181396...|      310.0|211021261|Donvale - Park Or...|       0|No change|   21102| Manningham - East|     211|Melbourne - Outer...|   2GMEL|Greater Melbourne|       2|Victoria|     AUS|Australia| 20.8028|http://linked.dat...|POINT (989049.832...|      Donvale|          5|             19900|                   1.4377|23.958959999999998|\n",
      "|https://www.domai...|          $680.00|4/49 Leslie Stree...|           Townhouse|       -37.7808415| 145.180724| 3.0|  2.0|    2.0|2955.0|          680.0|POINT (145.180724...|      310.0|211021261|Donvale - Park Or...|       0|No change|   21102| Manningham - East|     211|Melbourne - Outer...|   2GMEL|Greater Melbourne|       2|Victoria|     AUS|Australia| 20.8028|http://linked.dat...|POINT (989158.822...|      Donvale|          6|             19900|                   2.2956|          24.81436|\n",
      "|https://www.domai...|    $500 Per Week|10/51-55 Leslie S...|Apartment / Unit ...|        -37.781431| 145.181474| 2.0|  1.0|    1.0|2173.0|          500.0|POINT (145.181474...|      310.0|211021261|Donvale - Park Or...|       0|No change|   21102| Manningham - East|     211|Melbourne - Outer...|   2GMEL|Greater Melbourne|       2|Victoria|     AUS|Australia| 20.8028|http://linked.dat...|POINT (989219.153...|      Donvale|          7|             19900|                   1.7662|          24.88939|\n",
      "|https://www.domai...|          $800.00|55 Darvall Street...|               House|        -37.802745|145.1756185| 4.0|  2.0|    2.0|3476.0|          800.0|POINT (145.175618...|      310.0|211021261|Donvale - Park Or...|       0|No change|   21102| Manningham - East|     211|Melbourne - Outer...|   2GMEL|Greater Melbourne|       2|Victoria|     AUS|Australia| 20.8028|http://linked.dat...|POINT (988491.203...|      Donvale|          9|             19899|                   1.6396|          23.25339|\n",
      "|https://www.domai...|             $800|1/9 Standring Clo...|           Townhouse|       -37.7828514|145.1766753| 3.0|  2.0|    2.0|3476.0|          800.0|POINT (145.176675...|      310.0|211021261|Donvale - Park Or...|       0|No change|   21102| Manningham - East|     211|Melbourne - Outer...|   2GMEL|Greater Melbourne|       2|Victoria|     AUS|Australia| 20.8028|http://linked.dat...|POINT (988781.653...|      Donvale|         10|             19900|                   0.8211|24.607290000000003|\n",
      "|https://www.domai...|$600pw / $2607pcm|2/545-549 Nichols...|Apartment / Unit ...|       -37.7866617|144.9766719| 2.0|  1.0|    1.0|2607.0|          600.0|POINT (144.976671...|      157.0|206071140|Carlton North - P...|       0|No change|   20607|             Yarra|     206|   Melbourne - Inner|   2GMEL|Greater Melbourne|       2|Victoria|     AUS|Australia|  2.3042|http://linked.dat...|POINT (971096.020...|Carlton North|         17|             20019|                   0.4065|           4.24341|\n",
      "|https://www.domai...|          $630.00|293 Richardson St...|               House|       -37.7840809|144.9656152| 2.0|  1.0|    0.0|2738.0|          630.0|POINT (144.965615...|      157.0|206071140|Carlton North - P...|       0|No change|   20607|             Yarra|     206|   Melbourne - Inner|   2GMEL|Greater Melbourne|       2|Victoria|     AUS|Australia|  2.3042|http://linked.dat...|POINT (970145.432...|Carlton North|         19|             19969|                    1.308|           4.14098|\n",
      "|https://www.domai...|          $720.00|786 Drummond Stre...|               House|        -37.786146|144.9712576| 3.0|  1.0|    0.0|3129.0|          720.0|POINT (144.971257...|      157.0|206071140|Carlton North - P...|       0|No change|   20607|             Yarra|     206|   Melbourne - Inner|   2GMEL|Greater Melbourne|       2|Victoria|     AUS|Australia|  2.3042|http://linked.dat...|POINT (970623.259...|Carlton North|         22|             19969|                   0.8074|4.0309099999999995|\n",
      "|https://www.domai...|             $750|16 O'Grady Street...|               House|       -37.7903938|144.9734333| 2.0|  1.0|    0.0|3259.0|          750.0|POINT (144.973433...|      157.0|206071140|Carlton North - P...|       0|No change|   20607|             Yarra|     206|   Melbourne - Inner|   2GMEL|Greater Melbourne|       2|Victoria|     AUS|Australia|  2.3042|http://linked.dat...|POINT (970773.905...|Carlton North|         25|             20019|                   0.4622|             3.572|\n",
      "|https://www.domai...|          $750 pw|8/1068 Lygon Stre...|Apartment / Unit ...|       -37.7809417|144.9705344| 3.0|  2.0|    2.0|3260.0|          750.0|POINT (144.970534...|      157.0|206071140|Carlton North - P...|       0|No change|   20607|             Yarra|     206|   Melbourne - Inner|   2GMEL|Greater Melbourne|       2|Victoria|     AUS|Australia|  2.3042|http://linked.dat...|POINT (970610.084...|Carlton North|         26|             19969|                   0.3238|           4.22506|\n",
      "|https://www.domai...|$795pw / $3454pcm|904 Lygon Street,...|               House|       -37.7848136|144.9699818| 2.0|  1.0|    1.0|3454.0|          795.0|POINT (144.969981...|      157.0|206071140|Carlton North - P...|       0|No change|   20607|             Yarra|     206|   Melbourne - Inner|   2GMEL|Greater Melbourne|       2|Victoria|     AUS|Australia|  2.3042|http://linked.dat...|POINT (970523.641...|Carlton North|         27|             19969|                   0.7544|           3.85979|\n",
      "|https://www.domai...|          $550.00|1405/570 Lygon St...|Apartment / Unit ...|       -37.7830707|144.9699457| 2.0|  1.0|    0.0|2390.0|          550.0|POINT (144.969945...|      157.0|206071140|Carlton North - P...|       0|No change|   20607|             Yarra|     206|   Melbourne - Inner|   2GMEL|Greater Melbourne|       2|Victoria|     AUS|Australia|  2.3042|http://linked.dat...|POINT (970537.415...|Carlton North|         28|             19969|       0.8637999999999999|           3.96017|\n",
      "|https://www.domai...|          $550 pw|1/28 Queens Parad...|Apartment / Unit ...|       -37.8524461|145.0920614| 3.0|  1.0|    1.0|2390.0|          550.0|POINT (145.092061...|      168.0|207011150|    Glen Iris - East|       0|No change|   20701|        Boroondara|     207|Melbourne - Inner...|   2GMEL|Greater Melbourne|       2|Victoria|     AUS|Australia|  5.7049|http://linked.dat...|POINT (980630.723...|    Glen Iris|         29|             19849|                   0.6512|          15.10733|\n",
      "|https://www.domai...|          $850.00|12 Walerna Road, ...|               House|       -37.8556023|145.0679018| 3.0|  2.0|    1.0|3693.0|          850.0|POINT (145.067901...|      168.0|207011150|    Glen Iris - East|       0|No change|   20701|        Boroondara|     207|Melbourne - Inner...|   2GMEL|Greater Melbourne|       2|Victoria|     AUS|Australia|  5.7049|http://linked.dat...|POINT (978469.351...|    Glen Iris|         31|             19835|                   1.0304|          14.21254|\n",
      "|https://www.domai...|          $850.00|12 Walerna Road, ...|               House|       -37.8556023|145.0679018| 3.0|  2.0|    1.0|3693.0|          850.0|POINT (145.067901...|      168.0|207011150|    Glen Iris - East|       0|No change|   20701|        Boroondara|     207|Melbourne - Inner...|   2GMEL|Greater Melbourne|       2|Victoria|     AUS|Australia|  5.7049|http://linked.dat...|POINT (978469.351...|    Glen Iris|         32|             19835|                   0.8745|          14.21254|\n",
      "|https://www.domai...|          $895.00|51 Ferndale Road,...|               House|        -37.855363|145.0747789| 3.0|  1.0|    2.0|3888.0|          895.0|POINT (145.074778...|      168.0|207011150|    Glen Iris - East|       0|No change|   20701|        Boroondara|     207|Melbourne - Inner...|   2GMEL|Greater Melbourne|       2|Victoria|     AUS|Australia|  5.7049|http://linked.dat...|POINT (979078.105...|    Glen Iris|         33|             19849|                   0.9326|          14.88149|\n",
      "|https://www.domai...|        $1,190.00|2/3 Creswick Stre...|           Townhouse|        -37.852644|145.0433944| 3.0|  2.0|    2.0|7500.0|         1190.0|POINT (145.043394...|      216.0|208041194| Malvern - Glen Iris|       0|No change|   20804|Stonnington - East|     208|Melbourne - Inner...|   2GMEL|Greater Melbourne|       2|Victoria|     AUS|Australia|  6.1552|http://linked.dat...|POINT (976337.321...|    Glen Iris|         34|             19911|                   1.0178|            11.697|\n",
      "|https://www.domai...|          $770 pw|G08/1555 Malvern ...|Apartment / Unit ...|       -37.8536224|145.0477641| 2.0|  1.0|    1.0|3346.0|          770.0|POINT (145.047764...|      216.0|208041194| Malvern - Glen Iris|       0|No change|   20804|Stonnington - East|     208|Melbourne - Inner...|   2GMEL|Greater Melbourne|       2|Victoria|     AUS|Australia|  6.1552|http://linked.dat...|POINT (976713.057...|    Glen Iris|         39|             19912|                   1.0018|          11.95388|\n",
      "+--------------------+-----------------+--------------------+--------------------+------------------+-----------+----+-----+-------+------+---------------+--------------------+-----------+---------+--------------------+--------+---------+--------+------------------+--------+--------------------+--------+-----------------+--------+--------+--------+---------+--------+--------------------+--------------------+-------------+-----------+------------------+-------------------------+------------------+\n",
      "only showing top 20 rows\n",
      "\n"
     ]
    }
   ],
   "source": [
    "from pyspark.sql.functions import col\n",
    "\n",
    "# Convert 'cbd_distance_m' from meters to kilometers and rename it to 'cbd_distance_km'\n",
    "result_cbd_train = result_cbd_train.withColumn('cbd_distance_km', col('cbd_distance_m') / 1000) \\\n",
    "                     .drop('cbd_distance_m')\n",
    "\n",
    "# Show the updated DataFrame to verify the changes\n",
    "result_cbd_train.show()\n"
   ]
  },
  {
   "cell_type": "code",
   "execution_count": 29,
   "metadata": {},
   "outputs": [
    {
     "name": "stderr",
     "output_type": "stream",
     "text": [
      "                                                                                \r"
     ]
    }
   ],
   "source": [
    "result_cbd_train.write.parquet('../data/curated/train_cbd_distance_final',  mode='overwrite')"
   ]
  },
  {
   "cell_type": "code",
   "execution_count": 30,
   "metadata": {},
   "outputs": [],
   "source": [
    "sdf_cbd_train = spark.read.parquet('../data/curated/train_cbd_distance_final')"
   ]
  },
  {
   "cell_type": "markdown",
   "metadata": {},
   "source": [
    "#### Reading in the Hospital Data"
   ]
  },
  {
   "cell_type": "code",
   "execution_count": 31,
   "metadata": {},
   "outputs": [],
   "source": [
    "victoria_hospitals = pd.read_csv('../data/raw/vic_hospitals.csv')"
   ]
  },
  {
   "cell_type": "code",
   "execution_count": 32,
   "metadata": {},
   "outputs": [],
   "source": [
    "# The dataset has instances of \"closed\" hospitals, which have null values for latitude and longitude \n",
    "victoria_hospitals = victoria_hospitals.dropna(subset=['Latitude', 'Longitude'])"
   ]
  },
  {
   "cell_type": "markdown",
   "metadata": {},
   "source": [
    "#### Calculating the haversine distance to the nearest hospital for each property"
   ]
  },
  {
   "cell_type": "code",
   "execution_count": 33,
   "metadata": {},
   "outputs": [
    {
     "name": "stderr",
     "output_type": "stream",
     "text": [
      "[Stage 24:==============================================>         (10 + 2) / 12]\r"
     ]
    },
    {
     "name": "stdout",
     "output_type": "stream",
     "text": [
      "+--------------------+-----------------+--------------------+--------------------+------------------+-----------+----+-----+-------+------+---------------+--------------------+-----------+---------+--------------------+--------+---------+--------+------------------+--------+--------------------+--------+-----------------+--------+--------+--------+---------+--------+--------------------+--------------------+-------------+-----------+------------------+-------------------------+------------------+-------------------+-------------------------+\n",
      "|                 url|            price|             address|       property_type|          latitude|  longitude|Beds|Baths|Parking|  bond|extracted_price|            geometry|index_right| sa2_code|            sa2_name|chg_flag|  chg_lbl|sa3_code|          sa3_name|sa4_code|            sa4_name|gcc_code|         gcc_name|ste_code|ste_name|aus_code| aus_name|areasqkm|            loci_uri|       geometry_proj|       suburb|property_id|nearest_station_id|train_station_distance_km|   cbd_distance_km|nearest_hospital_id|nearest_hospital_distance|\n",
      "+--------------------+-----------------+--------------------+--------------------+------------------+-----------+----+-----+-------+------+---------------+--------------------+-----------+---------+--------------------+--------+---------+--------+------------------+--------+--------------------+--------+-----------------+--------+--------+--------+---------+--------+--------------------+--------------------+-------------+-----------+------------------+-------------------------+------------------+-------------------+-------------------------+\n",
      "|https://www.domai...|        $1,400.00|10 Allara Court, ...|           Townhouse|-37.77427300000001|145.1811258| 4.0|  3.0|    2.0|9125.0|         1400.0|POINT (145.181125...|      310.0|211021261|Donvale - Park Or...|       0|No change|   21102| Manningham - East|     211|Melbourne - Outer...|   2GMEL|Greater Melbourne|       2|Victoria|     AUS|Australia| 20.8028|http://linked.dat...|POINT (989259.417...|      Donvale|          0|             19900|                   5.6596|          25.93487|              H5063|       1.9202802171042126|\n",
      "|https://www.domai...|    $750 per week|7 Pine Ridge, Don...|               House|       -37.7912513|145.1756489| 4.0|  2.0|    0.0|3259.0|          750.0|POINT (145.175648...|      310.0|211021261|Donvale - Park Or...|       0|No change|   21102| Manningham - East|     211|Melbourne - Outer...|   2GMEL|Greater Melbourne|       2|Victoria|     AUS|Australia| 20.8028|http://linked.dat...|POINT (988607.823...|      Donvale|          1|             19899|                   4.6923|23.779970000000002|              H5063|      0.38462352817543977|\n",
      "|https://www.domai...|          $575.00|6/81-97 Mitcham R...|           Townhouse|       -37.7978137|145.1813965| 2.0|  1.0|    2.0|2499.0|          575.0|POINT (145.181396...|      310.0|211021261|Donvale - Park Or...|       0|No change|   21102| Manningham - East|     211|Melbourne - Outer...|   2GMEL|Greater Melbourne|       2|Victoria|     AUS|Australia| 20.8028|http://linked.dat...|POINT (989049.832...|      Donvale|          5|             19900|                   1.4377|23.958959999999998|              H5063|       1.2327197862240864|\n",
      "|https://www.domai...|          $680.00|4/49 Leslie Stree...|           Townhouse|       -37.7808415| 145.180724| 3.0|  2.0|    2.0|2955.0|          680.0|POINT (145.180724...|      310.0|211021261|Donvale - Park Or...|       0|No change|   21102| Manningham - East|     211|Melbourne - Outer...|   2GMEL|Greater Melbourne|       2|Victoria|     AUS|Australia| 20.8028|http://linked.dat...|POINT (989158.822...|      Donvale|          6|             19900|                   2.2956|          24.81436|              H5063|       1.2788468648161944|\n",
      "|https://www.domai...|    $500 Per Week|10/51-55 Leslie S...|Apartment / Unit ...|        -37.781431| 145.181474| 2.0|  1.0|    1.0|2173.0|          500.0|POINT (145.181474...|      310.0|211021261|Donvale - Park Or...|       0|No change|   21102| Manningham - East|     211|Melbourne - Outer...|   2GMEL|Greater Melbourne|       2|Victoria|     AUS|Australia| 20.8028|http://linked.dat...|POINT (989219.153...|      Donvale|          7|             19900|                   1.7662|          24.88939|              H5063|       1.2720148397104534|\n",
      "|https://www.domai...|          $800.00|55 Darvall Street...|               House|        -37.802745|145.1756185| 4.0|  2.0|    2.0|3476.0|          800.0|POINT (145.175618...|      310.0|211021261|Donvale - Park Or...|       0|No change|   21102| Manningham - East|     211|Melbourne - Outer...|   2GMEL|Greater Melbourne|       2|Victoria|     AUS|Australia| 20.8028|http://linked.dat...|POINT (988491.203...|      Donvale|          9|             19899|                   1.6396|          23.25339|              H5063|       1.4770575397508368|\n",
      "|https://www.domai...|             $800|1/9 Standring Clo...|           Townhouse|       -37.7828514|145.1766753| 3.0|  2.0|    2.0|3476.0|          800.0|POINT (145.176675...|      310.0|211021261|Donvale - Park Or...|       0|No change|   21102| Manningham - East|     211|Melbourne - Outer...|   2GMEL|Greater Melbourne|       2|Victoria|     AUS|Australia| 20.8028|http://linked.dat...|POINT (988781.653...|      Donvale|         10|             19900|                   0.8211|24.607290000000003|              H5063|       0.8932080065585946|\n",
      "|https://www.domai...|$600pw / $2607pcm|2/545-549 Nichols...|Apartment / Unit ...|       -37.7866617|144.9766719| 2.0|  1.0|    1.0|2607.0|          600.0|POINT (144.976671...|      157.0|206071140|Carlton North - P...|       0|No change|   20607|             Yarra|     206|   Melbourne - Inner|   2GMEL|Greater Melbourne|       2|Victoria|     AUS|Australia|  2.3042|http://linked.dat...|POINT (971096.020...|Carlton North|         17|             20019|                   0.4065|           4.24341|             LHN227|       1.6623401815871681|\n",
      "|https://www.domai...|          $630.00|293 Richardson St...|               House|       -37.7840809|144.9656152| 2.0|  1.0|    0.0|2738.0|          630.0|POINT (144.965615...|      157.0|206071140|Carlton North - P...|       0|No change|   20607|             Yarra|     206|   Melbourne - Inner|   2GMEL|Greater Melbourne|       2|Victoria|     AUS|Australia|  2.3042|http://linked.dat...|POINT (970145.432...|Carlton North|         19|             19969|                    1.308|           4.14098|              H0372|       1.6511698689204604|\n",
      "|https://www.domai...|          $720.00|786 Drummond Stre...|               House|        -37.786146|144.9712576| 3.0|  1.0|    0.0|3129.0|          720.0|POINT (144.971257...|      157.0|206071140|Carlton North - P...|       0|No change|   20607|             Yarra|     206|   Melbourne - Inner|   2GMEL|Greater Melbourne|       2|Victoria|     AUS|Australia|  2.3042|http://linked.dat...|POINT (970623.259...|Carlton North|         22|             19969|                   0.8074|4.0309099999999995|              H0381|       1.5775327643015629|\n",
      "|https://www.domai...|             $750|16 O'Grady Street...|               House|       -37.7903938|144.9734333| 2.0|  1.0|    0.0|3259.0|          750.0|POINT (144.973433...|      157.0|206071140|Carlton North - P...|       0|No change|   20607|             Yarra|     206|   Melbourne - Inner|   2GMEL|Greater Melbourne|       2|Victoria|     AUS|Australia|  2.3042|http://linked.dat...|POINT (970773.905...|Carlton North|         25|             20019|                   0.4622|             3.572|              H0381|       1.2620092974974313|\n",
      "|https://www.domai...|          $750 pw|8/1068 Lygon Stre...|Apartment / Unit ...|       -37.7809417|144.9705344| 3.0|  2.0|    2.0|3260.0|          750.0|POINT (144.970534...|      157.0|206071140|Carlton North - P...|       0|No change|   20607|             Yarra|     206|   Melbourne - Inner|   2GMEL|Greater Melbourne|       2|Victoria|     AUS|Australia|  2.3042|http://linked.dat...|POINT (970610.084...|Carlton North|         26|             19969|                   0.3238|           4.22506|              H0372|       1.9902584251654007|\n",
      "|https://www.domai...|$795pw / $3454pcm|904 Lygon Street,...|               House|       -37.7848136|144.9699818| 2.0|  1.0|    1.0|3454.0|          795.0|POINT (144.969981...|      157.0|206071140|Carlton North - P...|       0|No change|   20607|             Yarra|     206|   Melbourne - Inner|   2GMEL|Greater Melbourne|       2|Victoria|     AUS|Australia|  2.3042|http://linked.dat...|POINT (970523.641...|Carlton North|         27|             19969|                   0.7544|           3.85979|              H0381|       1.6804583999653055|\n",
      "|https://www.domai...|          $550.00|1405/570 Lygon St...|Apartment / Unit ...|       -37.7830707|144.9699457| 2.0|  1.0|    0.0|2390.0|          550.0|POINT (144.969945...|      157.0|206071140|Carlton North - P...|       0|No change|   20607|             Yarra|     206|   Melbourne - Inner|   2GMEL|Greater Melbourne|       2|Victoria|     AUS|Australia|  2.3042|http://linked.dat...|POINT (970537.415...|Carlton North|         28|             19969|       0.8637999999999999|           3.96017|              H0381|       1.8662231568259178|\n",
      "|https://www.domai...|          $550 pw|1/28 Queens Parad...|Apartment / Unit ...|       -37.8524461|145.0920614| 3.0|  1.0|    1.0|2390.0|          550.0|POINT (145.092061...|      168.0|207011150|    Glen Iris - East|       0|No change|   20701|        Boroondara|     207|Melbourne - Inner...|   2GMEL|Greater Melbourne|       2|Victoria|     AUS|Australia|  5.7049|http://linked.dat...|POINT (980630.723...|    Glen Iris|         29|             19849|                   0.6512|          15.10733|              H5383|       0.5203461259140577|\n",
      "|https://www.domai...|          $850.00|12 Walerna Road, ...|               House|       -37.8556023|145.0679018| 3.0|  2.0|    1.0|3693.0|          850.0|POINT (145.067901...|      168.0|207011150|    Glen Iris - East|       0|No change|   20701|        Boroondara|     207|Melbourne - Inner...|   2GMEL|Greater Melbourne|       2|Victoria|     AUS|Australia|  5.7049|http://linked.dat...|POINT (978469.351...|    Glen Iris|         31|             19835|                   1.0304|          14.21254|              H5073|       1.5599737622042837|\n",
      "|https://www.domai...|          $850.00|12 Walerna Road, ...|               House|       -37.8556023|145.0679018| 3.0|  2.0|    1.0|3693.0|          850.0|POINT (145.067901...|      168.0|207011150|    Glen Iris - East|       0|No change|   20701|        Boroondara|     207|Melbourne - Inner...|   2GMEL|Greater Melbourne|       2|Victoria|     AUS|Australia|  5.7049|http://linked.dat...|POINT (978469.351...|    Glen Iris|         32|             19835|                   0.8745|          14.21254|              H5073|       1.5599737622042837|\n",
      "|https://www.domai...|          $895.00|51 Ferndale Road,...|               House|        -37.855363|145.0747789| 3.0|  1.0|    2.0|3888.0|          895.0|POINT (145.074778...|      168.0|207011150|    Glen Iris - East|       0|No change|   20701|        Boroondara|     207|Melbourne - Inner...|   2GMEL|Greater Melbourne|       2|Victoria|     AUS|Australia|  5.7049|http://linked.dat...|POINT (979078.105...|    Glen Iris|         33|             19849|                   0.9326|          14.88149|              H5383|       1.7004253014756348|\n",
      "|https://www.domai...|        $1,190.00|2/3 Creswick Stre...|           Townhouse|        -37.852644|145.0433944| 3.0|  2.0|    2.0|7500.0|         1190.0|POINT (145.043394...|      216.0|208041194| Malvern - Glen Iris|       0|No change|   20804|Stonnington - East|     208|Melbourne - Inner...|   2GMEL|Greater Melbourne|       2|Victoria|     AUS|Australia|  6.1552|http://linked.dat...|POINT (976337.321...|    Glen Iris|         34|             19911|                   1.0178|            11.697|              H5408|       1.1294491065214753|\n",
      "|https://www.domai...|          $770 pw|G08/1555 Malvern ...|Apartment / Unit ...|       -37.8536224|145.0477641| 2.0|  1.0|    1.0|3346.0|          770.0|POINT (145.047764...|      216.0|208041194| Malvern - Glen Iris|       0|No change|   20804|Stonnington - East|     208|Melbourne - Inner...|   2GMEL|Greater Melbourne|       2|Victoria|     AUS|Australia|  6.1552|http://linked.dat...|POINT (976713.057...|    Glen Iris|         39|             19912|                   1.0018|          11.95388|              H5073|       1.0230575496420027|\n",
      "+--------------------+-----------------+--------------------+--------------------+------------------+-----------+----+-----+-------+------+---------------+--------------------+-----------+---------+--------------------+--------+---------+--------+------------------+--------+--------------------+--------+-----------------+--------+--------+--------+---------+--------+--------------------+--------------------+-------------+-----------+------------------+-------------------------+------------------+-------------------+-------------------------+\n",
      "only showing top 20 rows\n",
      "\n"
     ]
    },
    {
     "name": "stderr",
     "output_type": "stream",
     "text": [
      "                                                                                \r"
     ]
    }
   ],
   "source": [
    "from pyspark.sql import SparkSession\n",
    "from pyspark.sql.functions import col, row_number, monotonically_increasing_id\n",
    "from pyspark.sql.types import DoubleType\n",
    "from pyspark.sql.window import Window\n",
    "\n",
    "spark = SparkSession.builder.getOrCreate()\n",
    "\n",
    "if isinstance(victoria_hospitals, pd.DataFrame):\n",
    "    hospital_df_1 = spark.createDataFrame(victoria_hospitals)\n",
    "else:\n",
    "    hospital_df_1 = victoria_hospitals\n",
    "\n",
    "# Rename columns in hospital_df for easier handling\n",
    "hospital_df_1 = hospital_df_1.withColumnRenamed('Longitude', 'hospital_longitude')\\\n",
    "                             .withColumnRenamed('Latitude', 'hospital_latitude')\n",
    "\n",
    "\n",
    "# Convert string columns to double for calculation purposes\n",
    "sdf_cbd_train = sdf_cbd_train.withColumn(\"longitude\", col(\"longitude\").cast(DoubleType()))\\\n",
    "                             .withColumn(\"latitude\", col(\"latitude\").cast(DoubleType()))\n",
    "\n",
    "hospital_df_1 = hospital_df_1.withColumn(\"hospital_longitude\", col(\"hospital_longitude\").cast(DoubleType()))\\\n",
    "                             .withColumn(\"hospital_latitude\", col(\"hospital_latitude\").cast(DoubleType()))\n",
    "\n",
    "# Perform the cross join and calculate distances\n",
    "distances_df = sdf_cbd_train.crossJoin(hospital_df_1)\\\n",
    "    .withColumn(\"distance\", haversine_udf(col(\"longitude\"), col(\"latitude\"), col(\"hospital_longitude\"), col(\"hospital_latitude\")))\n",
    "\n",
    "# Define a window specification to partition by property and order by distance\n",
    "windowSpec = Window.partitionBy(\"property_id\").orderBy(\"distance\")\n",
    "\n",
    "# Determine the nearest hospital for each property using the window spec\n",
    "nearest_hospitals_df = distances_df.withColumn(\"rank\", row_number().over(windowSpec))\\\n",
    "    .filter(col(\"rank\") == 1)\\\n",
    "    .select(\"property_id\", \"Code\", \"distance\")\n",
    "\n",
    "# Join the nearest hospital information back to the original properties DataFrame\n",
    "final_df = sdf_cbd_train.join(nearest_hospitals_df, \"property_id\")\\\n",
    "    .select(sdf_cbd_train[\"*\"], nearest_hospitals_df[\"Code\"].alias(\"nearest_hospital_id\"), nearest_hospitals_df[\"distance\"].alias(\"nearest_hospital_distance\"))\n",
    "\n",
    "# Show the result\n",
    "final_df.show()\n"
   ]
  },
  {
   "cell_type": "markdown",
   "metadata": {},
   "source": [
    "#### Writing the final dataframe with train station, cbd and hospital distances"
   ]
  },
  {
   "cell_type": "code",
   "execution_count": 34,
   "metadata": {},
   "outputs": [],
   "source": [
    "from pyspark.sql import functions as F\n",
    "\n",
    "# Apply log transformation (log1p to handle values of 0)\n",
    "final_df = final_df.withColumn('log_nearest_station_distance', F.log1p('train_station_distance_km'))\n",
    "final_df = final_df.withColumn('log_nearest_hospital_distance', F.log1p('nearest_hospital_distance'))\n",
    "final_df = final_df.withColumn('log_cbd_distance', F.log1p('cbd_distance_km'))\n"
   ]
  },
  {
   "cell_type": "code",
   "execution_count": 35,
   "metadata": {},
   "outputs": [
    {
     "name": "stderr",
     "output_type": "stream",
     "text": [
      "[Stage 29:===================>                                     (4 + 8) / 12]\r"
     ]
    },
    {
     "name": "stdout",
     "output_type": "stream",
     "text": [
      "+--------------------+-----------------+--------------------+--------------------+------------------+-----------+----+-----+-------+------+---------------+--------------------+-----------+---------+--------------------+--------+---------+--------+------------------+--------+--------------------+--------+-----------------+--------+--------+--------+---------+--------+--------------------+--------------------+-------------+-----------+------------------+-------------------------+------------------+-------------------+-------------------------+----------------------------+-----------------------------+------------------+\n",
      "|                 url|            price|             address|       property_type|          latitude|  longitude|Beds|Baths|Parking|  bond|extracted_price|            geometry|index_right| sa2_code|            sa2_name|chg_flag|  chg_lbl|sa3_code|          sa3_name|sa4_code|            sa4_name|gcc_code|         gcc_name|ste_code|ste_name|aus_code| aus_name|areasqkm|            loci_uri|       geometry_proj|       suburb|property_id|nearest_station_id|train_station_distance_km|   cbd_distance_km|nearest_hospital_id|nearest_hospital_distance|log_nearest_station_distance|log_nearest_hospital_distance|  log_cbd_distance|\n",
      "+--------------------+-----------------+--------------------+--------------------+------------------+-----------+----+-----+-------+------+---------------+--------------------+-----------+---------+--------------------+--------+---------+--------+------------------+--------+--------------------+--------+-----------------+--------+--------+--------+---------+--------+--------------------+--------------------+-------------+-----------+------------------+-------------------------+------------------+-------------------+-------------------------+----------------------------+-----------------------------+------------------+\n",
      "|https://www.domai...|        $1,400.00|10 Allara Court, ...|           Townhouse|-37.77427300000001|145.1811258| 4.0|  3.0|    2.0|9125.0|         1400.0|POINT (145.181125...|      310.0|211021261|Donvale - Park Or...|       0|No change|   21102| Manningham - East|     211|Melbourne - Outer...|   2GMEL|Greater Melbourne|       2|Victoria|     AUS|Australia| 20.8028|http://linked.dat...|POINT (989259.417...|      Donvale|          0|             19900|                   5.6596|          25.93487|              H5063|       1.9202802171042126|            1.89605942268856|            1.071679576437584| 3.293421729686842|\n",
      "|https://www.domai...|    $750 per week|7 Pine Ridge, Don...|               House|       -37.7912513|145.1756489| 4.0|  2.0|    0.0|3259.0|          750.0|POINT (145.175648...|      310.0|211021261|Donvale - Park Or...|       0|No change|   21102| Manningham - East|     211|Melbourne - Outer...|   2GMEL|Greater Melbourne|       2|Victoria|     AUS|Australia| 20.8028|http://linked.dat...|POINT (988607.823...|      Donvale|          1|             19899|                   4.6923|23.779970000000002|              H5063|      0.38462352817543977|          1.7391143843903687|          0.32542828187737205|3.2100356655465108|\n",
      "|https://www.domai...|          $575.00|6/81-97 Mitcham R...|           Townhouse|       -37.7978137|145.1813965| 2.0|  1.0|    2.0|2499.0|          575.0|POINT (145.181396...|      310.0|211021261|Donvale - Park Or...|       0|No change|   21102| Manningham - East|     211|Melbourne - Outer...|   2GMEL|Greater Melbourne|       2|Victoria|     AUS|Australia| 20.8028|http://linked.dat...|POINT (989049.832...|      Donvale|          5|             19900|                   1.4377|23.958959999999998|              H5063|       1.2327197862240864|          0.8910549718058942|           0.8032204773994183|3.2172328759664803|\n",
      "|https://www.domai...|          $680.00|4/49 Leslie Stree...|           Townhouse|       -37.7808415| 145.180724| 3.0|  2.0|    2.0|2955.0|          680.0|POINT (145.180724...|      310.0|211021261|Donvale - Park Or...|       0|No change|   21102| Manningham - East|     211|Melbourne - Outer...|   2GMEL|Greater Melbourne|       2|Victoria|     AUS|Australia| 20.8028|http://linked.dat...|POINT (989158.822...|      Donvale|          6|             19900|                   2.2956|          24.81436|              H5063|       1.2788468648161944|           1.192588245459298|           0.8236695539805631| 3.250930926236571|\n",
      "|https://www.domai...|    $500 Per Week|10/51-55 Leslie S...|Apartment / Unit ...|        -37.781431| 145.181474| 2.0|  1.0|    1.0|2173.0|          500.0|POINT (145.181474...|      310.0|211021261|Donvale - Park Or...|       0|No change|   21102| Manningham - East|     211|Melbourne - Outer...|   2GMEL|Greater Melbourne|       2|Victoria|     AUS|Australia| 20.8028|http://linked.dat...|POINT (989219.153...|      Donvale|          7|             19900|                   1.7662|          24.88939|              H5063|       1.2720148397104534|          1.0174745372084706|           0.8206670324002738| 3.253833232265328|\n",
      "|https://www.domai...|          $800.00|55 Darvall Street...|               House|        -37.802745|145.1756185| 4.0|  2.0|    2.0|3476.0|          800.0|POINT (145.175618...|      310.0|211021261|Donvale - Park Or...|       0|No change|   21102| Manningham - East|     211|Melbourne - Outer...|   2GMEL|Greater Melbourne|       2|Victoria|     AUS|Australia| 20.8028|http://linked.dat...|POINT (988491.203...|      Donvale|          9|             19899|                   1.6396|          23.25339|              H5063|       1.4770575397508368|          0.9706273905271294|           0.9070713798501915|3.1885564014276806|\n",
      "|https://www.domai...|             $800|1/9 Standring Clo...|           Townhouse|       -37.7828514|145.1766753| 3.0|  2.0|    2.0|3476.0|          800.0|POINT (145.176675...|      310.0|211021261|Donvale - Park Or...|       0|No change|   21102| Manningham - East|     211|Melbourne - Outer...|   2GMEL|Greater Melbourne|       2|Victoria|     AUS|Australia| 20.8028|http://linked.dat...|POINT (988781.653...|      Donvale|         10|             19900|                   0.8211|24.607290000000003|              H5063|       0.8932080065585946|           0.599440714119637|           0.6382727481549972| 3.242877076572482|\n",
      "|https://www.domai...|$600pw / $2607pcm|2/545-549 Nichols...|Apartment / Unit ...|       -37.7866617|144.9766719| 2.0|  1.0|    1.0|2607.0|          600.0|POINT (144.976671...|      157.0|206071140|Carlton North - P...|       0|No change|   20607|             Yarra|     206|   Melbourne - Inner|   2GMEL|Greater Melbourne|       2|Victoria|     AUS|Australia|  2.3042|http://linked.dat...|POINT (971096.020...|Carlton North|         17|             20019|                   0.4065|           4.24341|             LHN227|       1.6623401815871681|         0.34110434894777447|           0.9792055035389691|1.6569720500370746|\n",
      "|https://www.domai...|          $630.00|293 Richardson St...|               House|       -37.7840809|144.9656152| 2.0|  1.0|    0.0|2738.0|          630.0|POINT (144.965615...|      157.0|206071140|Carlton North - P...|       0|No change|   20607|             Yarra|     206|   Melbourne - Inner|   2GMEL|Greater Melbourne|       2|Victoria|     AUS|Australia|  2.3042|http://linked.dat...|POINT (970145.432...|Carlton North|         19|             19969|                    1.308|           4.14098|              H0372|       1.6511698689204604|          0.8363813486458531|           0.9750010025533321|1.6372437227720833|\n",
      "|https://www.domai...|          $720.00|786 Drummond Stre...|               House|        -37.786146|144.9712576| 3.0|  1.0|    0.0|3129.0|          720.0|POINT (144.971257...|      157.0|206071140|Carlton North - P...|       0|No change|   20607|             Yarra|     206|   Melbourne - Inner|   2GMEL|Greater Melbourne|       2|Victoria|     AUS|Australia|  2.3042|http://linked.dat...|POINT (970623.259...|Carlton North|         22|             19969|                   0.8074|4.0309099999999995|              H0381|       1.5775327643015629|          0.5918893484857184|           0.9468326484873757|1.6156008822615133|\n",
      "|https://www.domai...|             $750|16 O'Grady Street...|               House|       -37.7903938|144.9734333| 2.0|  1.0|    0.0|3259.0|          750.0|POINT (144.973433...|      157.0|206071140|Carlton North - P...|       0|No change|   20607|             Yarra|     206|   Melbourne - Inner|   2GMEL|Greater Melbourne|       2|Victoria|     AUS|Australia|  2.3042|http://linked.dat...|POINT (970773.905...|Carlton North|         25|             20019|                   0.4622|             3.572|              H0381|       1.2620092974974313|          0.3799421508770785|           0.8162534879849648|1.5199507459325643|\n",
      "|https://www.domai...|          $750 pw|8/1068 Lygon Stre...|Apartment / Unit ...|       -37.7809417|144.9705344| 3.0|  2.0|    2.0|3260.0|          750.0|POINT (144.970534...|      157.0|206071140|Carlton North - P...|       0|No change|   20607|             Yarra|     206|   Melbourne - Inner|   2GMEL|Greater Melbourne|       2|Victoria|     AUS|Australia|  2.3042|http://linked.dat...|POINT (970610.084...|Carlton North|         26|             19969|                   0.3238|           4.22506|              H0372|       1.9902584251654007|         0.28050638870268535|           1.0953598134889575|1.6534662810385312|\n",
      "|https://www.domai...|$795pw / $3454pcm|904 Lygon Street,...|               House|       -37.7848136|144.9699818| 2.0|  1.0|    1.0|3454.0|          795.0|POINT (144.969981...|      157.0|206071140|Carlton North - P...|       0|No change|   20607|             Yarra|     206|   Melbourne - Inner|   2GMEL|Greater Melbourne|       2|Victoria|     AUS|Australia|  2.3042|http://linked.dat...|POINT (970523.641...|Carlton North|         27|             19969|                   0.7544|           3.85979|              H0381|       1.6804583999653055|          0.5621269181215414|           0.9859878246594513|1.5809952271022856|\n",
      "|https://www.domai...|          $550.00|1405/570 Lygon St...|Apartment / Unit ...|       -37.7830707|144.9699457| 2.0|  1.0|    0.0|2390.0|          550.0|POINT (144.969945...|      157.0|206071140|Carlton North - P...|       0|No change|   20607|             Yarra|     206|   Melbourne - Inner|   2GMEL|Greater Melbourne|       2|Victoria|     AUS|Australia|  2.3042|http://linked.dat...|POINT (970537.415...|Carlton North|         28|             19969|       0.8637999999999999|           3.96017|              H0381|       1.8662231568259178|           0.622617414369418|           1.0529951898869576|1.6014400143430378|\n",
      "|https://www.domai...|          $550 pw|1/28 Queens Parad...|Apartment / Unit ...|       -37.8524461|145.0920614| 3.0|  1.0|    1.0|2390.0|          550.0|POINT (145.092061...|      168.0|207011150|    Glen Iris - East|       0|No change|   20701|        Boroondara|     207|Melbourne - Inner...|   2GMEL|Greater Melbourne|       2|Victoria|     AUS|Australia|  5.7049|http://linked.dat...|POINT (980630.723...|    Glen Iris|         29|             19849|                   0.6512|          15.10733|              H5383|       0.5203461259140577|          0.5015022963051066|          0.41893802335233565| 2.779274447885256|\n",
      "|https://www.domai...|          $850.00|12 Walerna Road, ...|               House|       -37.8556023|145.0679018| 3.0|  2.0|    1.0|3693.0|          850.0|POINT (145.067901...|      168.0|207011150|    Glen Iris - East|       0|No change|   20701|        Boroondara|     207|Melbourne - Inner...|   2GMEL|Greater Melbourne|       2|Victoria|     AUS|Australia|  5.7049|http://linked.dat...|POINT (978469.351...|    Glen Iris|         31|             19835|                   1.0304|          14.21254|              H5073|       1.5599737622042837|          0.7082328179779862|           0.9399970092999966| 2.722120087726787|\n",
      "|https://www.domai...|          $850.00|12 Walerna Road, ...|               House|       -37.8556023|145.0679018| 3.0|  2.0|    1.0|3693.0|          850.0|POINT (145.067901...|      168.0|207011150|    Glen Iris - East|       0|No change|   20701|        Boroondara|     207|Melbourne - Inner...|   2GMEL|Greater Melbourne|       2|Victoria|     AUS|Australia|  5.7049|http://linked.dat...|POINT (978469.351...|    Glen Iris|         32|             19835|                   0.8745|          14.21254|              H5073|       1.5599737622042837|          0.6283419571938297|           0.9399970092999966| 2.722120087726787|\n",
      "|https://www.domai...|          $895.00|51 Ferndale Road,...|               House|        -37.855363|145.0747789| 3.0|  1.0|    2.0|3888.0|          895.0|POINT (145.074778...|      168.0|207011150|    Glen Iris - East|       0|No change|   20701|        Boroondara|     207|Melbourne - Inner...|   2GMEL|Greater Melbourne|       2|Victoria|     AUS|Australia|  5.7049|http://linked.dat...|POINT (979078.105...|    Glen Iris|         33|             19849|                   0.9326|          14.88149|              H5383|       1.7004253014756348|           0.658866246583071|           0.9934092796705081|2.7651542801327165|\n",
      "|https://www.domai...|        $1,190.00|2/3 Creswick Stre...|           Townhouse|        -37.852644|145.0433944| 3.0|  2.0|    2.0|7500.0|         1190.0|POINT (145.043394...|      216.0|208041194| Malvern - Glen Iris|       0|No change|   20804|Stonnington - East|     208|Melbourne - Inner...|   2GMEL|Greater Melbourne|       2|Victoria|     AUS|Australia|  6.1552|http://linked.dat...|POINT (976337.321...|    Glen Iris|         34|             19911|                   1.0178|            11.697|              H5408|       1.1294491065214753|          0.7020078089921419|           0.7558633108334943| 2.541365745087654|\n",
      "|https://www.domai...|          $770 pw|G08/1555 Malvern ...|Apartment / Unit ...|       -37.8536224|145.0477641| 2.0|  1.0|    1.0|3346.0|          770.0|POINT (145.047764...|      216.0|208041194| Malvern - Glen Iris|       0|No change|   20804|Stonnington - East|     208|Melbourne - Inner...|   2GMEL|Greater Melbourne|       2|Victoria|     AUS|Australia|  6.1552|http://linked.dat...|POINT (976713.057...|    Glen Iris|         39|             19912|                   1.0018|          11.95388|              H5073|       1.0230575496420027|          0.6940467758027814|           0.7046100054537456|2.5613953571698795|\n",
      "+--------------------+-----------------+--------------------+--------------------+------------------+-----------+----+-----+-------+------+---------------+--------------------+-----------+---------+--------------------+--------+---------+--------+------------------+--------+--------------------+--------+-----------------+--------+--------+--------+---------+--------+--------------------+--------------------+-------------+-----------+------------------+-------------------------+------------------+-------------------+-------------------------+----------------------------+-----------------------------+------------------+\n",
      "only showing top 20 rows\n",
      "\n"
     ]
    },
    {
     "name": "stderr",
     "output_type": "stream",
     "text": [
      "                                                                                \r"
     ]
    }
   ],
   "source": [
    "final_df.show()"
   ]
  },
  {
   "cell_type": "code",
   "execution_count": 36,
   "metadata": {},
   "outputs": [
    {
     "name": "stderr",
     "output_type": "stream",
     "text": [
      "                                                                                \r"
     ]
    }
   ],
   "source": [
    "final_df.write.parquet('../data/curated/final_train_hospital_cbd_dist_data',mode='overwrite')"
   ]
  },
  {
   "cell_type": "markdown",
   "metadata": {},
   "source": [
    "Please run the notebook titled `Distance_Features_Imp.ipynb` next."
   ]
  }
 ],
 "metadata": {
  "kernelspec": {
   "display_name": "Python 3",
   "language": "python",
   "name": "python3"
  },
  "language_info": {
   "codemirror_mode": {
    "name": "ipython",
    "version": 3
   },
   "file_extension": ".py",
   "mimetype": "text/x-python",
   "name": "python",
   "nbconvert_exporter": "python",
   "pygments_lexer": "ipython3",
   "version": "3.11.3"
  }
 },
 "nbformat": 4,
 "nbformat_minor": 2
}
