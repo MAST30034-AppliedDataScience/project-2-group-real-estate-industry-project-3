{
 "cells": [
  {
   "cell_type": "markdown",
   "metadata": {},
   "source": [
    "# School Download"
   ]
  },
  {
   "cell_type": "code",
   "execution_count": 1,
   "metadata": {},
   "outputs": [],
   "source": [
    "# ## Written by Hanshi Tang\n",
    "# The script downloads the school dataset from the web and saves it to the local directory\n",
    "\n",
    "# Importing necessary libraries\n",
    "import os\n",
    "import pandas as pd\n",
    "import requests\n",
    "from io import StringIO"
   ]
  },
  {
   "cell_type": "code",
   "execution_count": 2,
   "metadata": {},
   "outputs": [
    {
     "name": "stderr",
     "output_type": "stream",
     "text": [
      "/Library/Frameworks/Python.framework/Versions/3.12/lib/python3.12/site-packages/urllib3/connectionpool.py:1099: InsecureRequestWarning: Unverified HTTPS request is being made to host 'www.education.vic.gov.au'. Adding certificate verification is strongly advised. See: https://urllib3.readthedocs.io/en/latest/advanced-usage.html#tls-warnings\n",
      "  warnings.warn(\n"
     ]
    },
    {
     "name": "stdout",
     "output_type": "stream",
     "text": [
      "Dataset successfully downloaded and saved to ../data/landing/dv346-schoollocations2023.csv\n"
     ]
    }
   ],
   "source": [
    "# Step 1: URL for the school dataset\n",
    "url_school = \"https://www.education.vic.gov.au/Documents/about/research/datavic/dv346-schoollocations2023.csv\"\n",
    "\n",
    "# Step 2: Define the file path where the dataset will be saved\n",
    "file_path_school = \"../data/landing/dv346-schoollocations2023.csv\"\n",
    "\n",
    "# Step 3: Create the directories if they don't exist\n",
    "os.makedirs(os.path.dirname(file_path_school), exist_ok=True)\n",
    "\n",
    "try:\n",
    "    # Step 4: Downloading the dataset with SSL verification disabled\n",
    "    response = requests.get(url_school, verify=False)\n",
    "\n",
    "    # Step 5: Check if the request was successful\n",
    "    if response.status_code == 200:\n",
    "        # Step 6: Reading the content into a pandas DataFrame\n",
    "        school_locations_df = pd.read_csv(StringIO(response.text), encoding='ISO-8859-1')\n",
    "        \n",
    "        # Step 7: Saving the dataset to the specified location\n",
    "        school_locations_df.to_csv(file_path_school, index=False)\n",
    "        \n",
    "        # Output message\n",
    "        print(f\"Dataset successfully downloaded and saved to {file_path_school}\")\n",
    "    else:\n",
    "        print(f\"Failed to download the file. Status code: {response.status_code}\")\n",
    "except Exception as e:\n",
    "    print(f\"An error occurred: {e}\")\n"
   ]
  }
 ],
 "metadata": {
  "kernelspec": {
   "display_name": "Python 3",
   "language": "python",
   "name": "python3"
  },
  "language_info": {
   "codemirror_mode": {
    "name": "ipython",
    "version": 3
   },
   "file_extension": ".py",
   "mimetype": "text/x-python",
   "name": "python",
   "nbconvert_exporter": "python",
   "pygments_lexer": "ipython3",
   "version": "3.12.1"
  }
 },
 "nbformat": 4,
 "nbformat_minor": 2
}
