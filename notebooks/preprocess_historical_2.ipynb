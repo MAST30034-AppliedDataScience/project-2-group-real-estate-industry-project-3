{
 "cells": [
  {
   "cell_type": "markdown",
   "source": [
    "Combining the historical data with external data sources - Daksh Agrawal"
   ],
   "metadata": {
    "collapsed": false
   },
   "id": "6359ad868f5e564f"
  },
  {
   "cell_type": "code",
   "outputs": [],
   "source": [
    "import pandas as pd\n",
    "from sklearn.metrics import mean_absolute_error, mean_squared_error\n",
    "import numpy as np\n",
    "import geopandas as gpd"
   ],
   "metadata": {
    "collapsed": false,
    "ExecuteTime": {
     "end_time": "2024-10-04T00:54:43.468717Z",
     "start_time": "2024-10-04T00:54:43.460961Z"
    }
   },
   "id": "f6f8020a683d5cb9",
   "execution_count": 66
  },
  {
   "cell_type": "code",
   "outputs": [
    {
     "data": {
      "text/plain": "             type                                 suburb  Count      Date  \\\n0  1 bedroom flat  Albert Park-Middle Park-West St Kilda  352.0  Mar 2000   \n1  1 bedroom flat                               Armadale  210.0  Mar 2000   \n2  1 bedroom flat                          Carlton North   87.0  Mar 2000   \n3  1 bedroom flat                      Carlton-Parkville  303.0  Mar 2000   \n4  1 bedroom flat                        CBD-St Kilda Rd  755.0  Mar 2000   \n\n   Median  \n0   165.0  \n1   150.0  \n2   150.0  \n3   165.0  \n4   250.0  ",
      "text/html": "<div>\n<style scoped>\n    .dataframe tbody tr th:only-of-type {\n        vertical-align: middle;\n    }\n\n    .dataframe tbody tr th {\n        vertical-align: top;\n    }\n\n    .dataframe thead th {\n        text-align: right;\n    }\n</style>\n<table border=\"1\" class=\"dataframe\">\n  <thead>\n    <tr style=\"text-align: right;\">\n      <th></th>\n      <th>type</th>\n      <th>suburb</th>\n      <th>Count</th>\n      <th>Date</th>\n      <th>Median</th>\n    </tr>\n  </thead>\n  <tbody>\n    <tr>\n      <th>0</th>\n      <td>1 bedroom flat</td>\n      <td>Albert Park-Middle Park-West St Kilda</td>\n      <td>352.0</td>\n      <td>Mar 2000</td>\n      <td>165.0</td>\n    </tr>\n    <tr>\n      <th>1</th>\n      <td>1 bedroom flat</td>\n      <td>Armadale</td>\n      <td>210.0</td>\n      <td>Mar 2000</td>\n      <td>150.0</td>\n    </tr>\n    <tr>\n      <th>2</th>\n      <td>1 bedroom flat</td>\n      <td>Carlton North</td>\n      <td>87.0</td>\n      <td>Mar 2000</td>\n      <td>150.0</td>\n    </tr>\n    <tr>\n      <th>3</th>\n      <td>1 bedroom flat</td>\n      <td>Carlton-Parkville</td>\n      <td>303.0</td>\n      <td>Mar 2000</td>\n      <td>165.0</td>\n    </tr>\n    <tr>\n      <th>4</th>\n      <td>1 bedroom flat</td>\n      <td>CBD-St Kilda Rd</td>\n      <td>755.0</td>\n      <td>Mar 2000</td>\n      <td>250.0</td>\n    </tr>\n  </tbody>\n</table>\n</div>"
     },
     "execution_count": 67,
     "metadata": {},
     "output_type": "execute_result"
    }
   ],
   "source": [
    "# Load the historical data\n",
    "historical_data = pd.read_csv('../data/raw/historical_data.csv')\n",
    "historical_data.head()"
   ],
   "metadata": {
    "collapsed": false,
    "ExecuteTime": {
     "end_time": "2024-10-04T00:54:43.529309Z",
     "start_time": "2024-10-04T00:54:43.471368Z"
    }
   },
   "id": "d570328d625e5db",
   "execution_count": 67
  },
  {
   "cell_type": "code",
   "outputs": [
    {
     "name": "stderr",
     "output_type": "stream",
     "text": [
      "/var/folders/_7/sr3p02zn35v2xg1fm8dsbz6c0000gn/T/ipykernel_4701/2845172568.py:1: UserWarning: Could not infer format, so each element will be parsed individually, falling back to `dateutil`. To ensure parsing is consistent and as-expected, please specify a format.\n",
      "  historical_data['year_completed'] = pd.to_datetime(historical_data['Date']).dt.year\n"
     ]
    }
   ],
   "source": [
    "historical_data['year_completed'] = pd.to_datetime(historical_data['Date']).dt.year"
   ],
   "metadata": {
    "collapsed": false,
    "ExecuteTime": {
     "end_time": "2024-10-04T00:54:43.542361Z",
     "start_time": "2024-10-04T00:54:43.530805Z"
    }
   },
   "id": "eab8a254a8161ff6",
   "execution_count": 68
  },
  {
   "cell_type": "code",
   "outputs": [
    {
     "data": {
      "text/plain": "    sa2_code       sa2_name chg_flag    chg_lbl sa3_code  sa3_name sa4_code  \\\n0  201011001      Alfredton        0  No change    20101  Ballarat      201   \n1  201011002       Ballarat        0  No change    20101  Ballarat      201   \n2  201011005      Buninyong        0  No change    20101  Ballarat      201   \n3  201011006      Delacombe        0  No change    20101  Ballarat      201   \n4  201011007  Smythes Creek        0  No change    20101  Ballarat      201   \n\n   sa4_name gcc_code      gcc_name ste_code  ste_name aus_code   aus_name  \\\n0  Ballarat    2RVIC  Rest of Vic.        2  Victoria      AUS  Australia   \n1  Ballarat    2RVIC  Rest of Vic.        2  Victoria      AUS  Australia   \n2  Ballarat    2RVIC  Rest of Vic.        2  Victoria      AUS  Australia   \n3  Ballarat    2RVIC  Rest of Vic.        2  Victoria      AUS  Australia   \n4  Ballarat    2RVIC  Rest of Vic.        2  Victoria      AUS  Australia   \n\n   areasqkm                                           loci_uri  \\\n0   52.7109  http://linked.data.gov.au/dataset/asgsed3/SA2/...   \n1   12.3787  http://linked.data.gov.au/dataset/asgsed3/SA2/...   \n2   51.5855  http://linked.data.gov.au/dataset/asgsed3/SA2/...   \n3   34.1607  http://linked.data.gov.au/dataset/asgsed3/SA2/...   \n4  104.7274  http://linked.data.gov.au/dataset/asgsed3/SA2/...   \n\n                                            geometry  \n0  POLYGON ((143.78281 -37.56667, 143.75557 -37.5...  \n1  POLYGON ((143.81896 -37.55583, 143.81644 -37.5...  \n2  POLYGON ((143.8417 -37.61597, 143.84175 -37.61...  \n3  POLYGON ((143.75049 -37.5912, 143.75044 -37.59...  \n4  POLYGON ((143.73295 -37.62334, 143.73262 -37.6...  ",
      "text/html": "<div>\n<style scoped>\n    .dataframe tbody tr th:only-of-type {\n        vertical-align: middle;\n    }\n\n    .dataframe tbody tr th {\n        vertical-align: top;\n    }\n\n    .dataframe thead th {\n        text-align: right;\n    }\n</style>\n<table border=\"1\" class=\"dataframe\">\n  <thead>\n    <tr style=\"text-align: right;\">\n      <th></th>\n      <th>sa2_code</th>\n      <th>sa2_name</th>\n      <th>chg_flag</th>\n      <th>chg_lbl</th>\n      <th>sa3_code</th>\n      <th>sa3_name</th>\n      <th>sa4_code</th>\n      <th>sa4_name</th>\n      <th>gcc_code</th>\n      <th>gcc_name</th>\n      <th>ste_code</th>\n      <th>ste_name</th>\n      <th>aus_code</th>\n      <th>aus_name</th>\n      <th>areasqkm</th>\n      <th>loci_uri</th>\n      <th>geometry</th>\n    </tr>\n  </thead>\n  <tbody>\n    <tr>\n      <th>0</th>\n      <td>201011001</td>\n      <td>Alfredton</td>\n      <td>0</td>\n      <td>No change</td>\n      <td>20101</td>\n      <td>Ballarat</td>\n      <td>201</td>\n      <td>Ballarat</td>\n      <td>2RVIC</td>\n      <td>Rest of Vic.</td>\n      <td>2</td>\n      <td>Victoria</td>\n      <td>AUS</td>\n      <td>Australia</td>\n      <td>52.7109</td>\n      <td>http://linked.data.gov.au/dataset/asgsed3/SA2/...</td>\n      <td>POLYGON ((143.78281 -37.56667, 143.75557 -37.5...</td>\n    </tr>\n    <tr>\n      <th>1</th>\n      <td>201011002</td>\n      <td>Ballarat</td>\n      <td>0</td>\n      <td>No change</td>\n      <td>20101</td>\n      <td>Ballarat</td>\n      <td>201</td>\n      <td>Ballarat</td>\n      <td>2RVIC</td>\n      <td>Rest of Vic.</td>\n      <td>2</td>\n      <td>Victoria</td>\n      <td>AUS</td>\n      <td>Australia</td>\n      <td>12.3787</td>\n      <td>http://linked.data.gov.au/dataset/asgsed3/SA2/...</td>\n      <td>POLYGON ((143.81896 -37.55583, 143.81644 -37.5...</td>\n    </tr>\n    <tr>\n      <th>2</th>\n      <td>201011005</td>\n      <td>Buninyong</td>\n      <td>0</td>\n      <td>No change</td>\n      <td>20101</td>\n      <td>Ballarat</td>\n      <td>201</td>\n      <td>Ballarat</td>\n      <td>2RVIC</td>\n      <td>Rest of Vic.</td>\n      <td>2</td>\n      <td>Victoria</td>\n      <td>AUS</td>\n      <td>Australia</td>\n      <td>51.5855</td>\n      <td>http://linked.data.gov.au/dataset/asgsed3/SA2/...</td>\n      <td>POLYGON ((143.8417 -37.61597, 143.84175 -37.61...</td>\n    </tr>\n    <tr>\n      <th>3</th>\n      <td>201011006</td>\n      <td>Delacombe</td>\n      <td>0</td>\n      <td>No change</td>\n      <td>20101</td>\n      <td>Ballarat</td>\n      <td>201</td>\n      <td>Ballarat</td>\n      <td>2RVIC</td>\n      <td>Rest of Vic.</td>\n      <td>2</td>\n      <td>Victoria</td>\n      <td>AUS</td>\n      <td>Australia</td>\n      <td>34.1607</td>\n      <td>http://linked.data.gov.au/dataset/asgsed3/SA2/...</td>\n      <td>POLYGON ((143.75049 -37.5912, 143.75044 -37.59...</td>\n    </tr>\n    <tr>\n      <th>4</th>\n      <td>201011007</td>\n      <td>Smythes Creek</td>\n      <td>0</td>\n      <td>No change</td>\n      <td>20101</td>\n      <td>Ballarat</td>\n      <td>201</td>\n      <td>Ballarat</td>\n      <td>2RVIC</td>\n      <td>Rest of Vic.</td>\n      <td>2</td>\n      <td>Victoria</td>\n      <td>AUS</td>\n      <td>Australia</td>\n      <td>104.7274</td>\n      <td>http://linked.data.gov.au/dataset/asgsed3/SA2/...</td>\n      <td>POLYGON ((143.73295 -37.62334, 143.73262 -37.6...</td>\n    </tr>\n  </tbody>\n</table>\n</div>"
     },
     "execution_count": 69,
     "metadata": {},
     "output_type": "execute_result"
    }
   ],
   "source": [
    "# Read victoria district boundaries shapefile\n",
    "victoria_gdf = gpd.read_file('../data/landing/boundaries/Victoria/vic_dist_boundaries.shp')\n",
    "victoria_gdf.head()"
   ],
   "metadata": {
    "collapsed": false,
    "ExecuteTime": {
     "end_time": "2024-10-04T00:54:43.588012Z",
     "start_time": "2024-10-04T00:54:43.543067Z"
    }
   },
   "id": "402007241aa35b71",
   "execution_count": 69
  },
  {
   "cell_type": "code",
   "outputs": [
    {
     "data": {
      "text/plain": "                 type          suburb   Count      Date  Median  \\\n0      1 bedroom flat        Armadale   210.0  Mar 2000   150.0   \n1      1 bedroom flat       Docklands     NaN  Mar 2000     NaN   \n2      1 bedroom flat  East Melbourne   203.0  Mar 2000   180.0   \n3      1 bedroom flat          Elwood   585.0  Mar 2000   150.0   \n4      1 bedroom flat         Fitzroy   176.0  Mar 2000   140.0   \n...               ...             ...     ...       ...     ...   \n29619  All properties         Seymour   143.0  Mar 2023   365.0   \n29620  All properties       Swan Hill   299.0  Mar 2023   320.0   \n29621  All properties         Torquay   547.0  Mar 2023   620.0   \n29622  All properties        Warragul   497.0  Mar 2023   440.0   \n29623  All properties         Wodonga  1173.0  Mar 2023   410.0   \n\n       year_completed        sa2_name   sa2_code  \n0                2000        Armadale  206061135  \n1                2000       Docklands  206041118  \n2                2000  East Melbourne  206041119  \n3                2000          Elwood  206051129  \n4                2000         Fitzroy  206071142  \n...               ...             ...        ...  \n29619            2023         Seymour  204011059  \n29620            2023       Swan Hill  215031404  \n29621            2023         Torquay  203031053  \n29622            2023        Warragul  205011079  \n29623            2023         Wodonga  204031492  \n\n[29624 rows x 8 columns]",
      "text/html": "<div>\n<style scoped>\n    .dataframe tbody tr th:only-of-type {\n        vertical-align: middle;\n    }\n\n    .dataframe tbody tr th {\n        vertical-align: top;\n    }\n\n    .dataframe thead th {\n        text-align: right;\n    }\n</style>\n<table border=\"1\" class=\"dataframe\">\n  <thead>\n    <tr style=\"text-align: right;\">\n      <th></th>\n      <th>type</th>\n      <th>suburb</th>\n      <th>Count</th>\n      <th>Date</th>\n      <th>Median</th>\n      <th>year_completed</th>\n      <th>sa2_name</th>\n      <th>sa2_code</th>\n    </tr>\n  </thead>\n  <tbody>\n    <tr>\n      <th>0</th>\n      <td>1 bedroom flat</td>\n      <td>Armadale</td>\n      <td>210.0</td>\n      <td>Mar 2000</td>\n      <td>150.0</td>\n      <td>2000</td>\n      <td>Armadale</td>\n      <td>206061135</td>\n    </tr>\n    <tr>\n      <th>1</th>\n      <td>1 bedroom flat</td>\n      <td>Docklands</td>\n      <td>NaN</td>\n      <td>Mar 2000</td>\n      <td>NaN</td>\n      <td>2000</td>\n      <td>Docklands</td>\n      <td>206041118</td>\n    </tr>\n    <tr>\n      <th>2</th>\n      <td>1 bedroom flat</td>\n      <td>East Melbourne</td>\n      <td>203.0</td>\n      <td>Mar 2000</td>\n      <td>180.0</td>\n      <td>2000</td>\n      <td>East Melbourne</td>\n      <td>206041119</td>\n    </tr>\n    <tr>\n      <th>3</th>\n      <td>1 bedroom flat</td>\n      <td>Elwood</td>\n      <td>585.0</td>\n      <td>Mar 2000</td>\n      <td>150.0</td>\n      <td>2000</td>\n      <td>Elwood</td>\n      <td>206051129</td>\n    </tr>\n    <tr>\n      <th>4</th>\n      <td>1 bedroom flat</td>\n      <td>Fitzroy</td>\n      <td>176.0</td>\n      <td>Mar 2000</td>\n      <td>140.0</td>\n      <td>2000</td>\n      <td>Fitzroy</td>\n      <td>206071142</td>\n    </tr>\n    <tr>\n      <th>...</th>\n      <td>...</td>\n      <td>...</td>\n      <td>...</td>\n      <td>...</td>\n      <td>...</td>\n      <td>...</td>\n      <td>...</td>\n      <td>...</td>\n    </tr>\n    <tr>\n      <th>29619</th>\n      <td>All properties</td>\n      <td>Seymour</td>\n      <td>143.0</td>\n      <td>Mar 2023</td>\n      <td>365.0</td>\n      <td>2023</td>\n      <td>Seymour</td>\n      <td>204011059</td>\n    </tr>\n    <tr>\n      <th>29620</th>\n      <td>All properties</td>\n      <td>Swan Hill</td>\n      <td>299.0</td>\n      <td>Mar 2023</td>\n      <td>320.0</td>\n      <td>2023</td>\n      <td>Swan Hill</td>\n      <td>215031404</td>\n    </tr>\n    <tr>\n      <th>29621</th>\n      <td>All properties</td>\n      <td>Torquay</td>\n      <td>547.0</td>\n      <td>Mar 2023</td>\n      <td>620.0</td>\n      <td>2023</td>\n      <td>Torquay</td>\n      <td>203031053</td>\n    </tr>\n    <tr>\n      <th>29622</th>\n      <td>All properties</td>\n      <td>Warragul</td>\n      <td>497.0</td>\n      <td>Mar 2023</td>\n      <td>440.0</td>\n      <td>2023</td>\n      <td>Warragul</td>\n      <td>205011079</td>\n    </tr>\n    <tr>\n      <th>29623</th>\n      <td>All properties</td>\n      <td>Wodonga</td>\n      <td>1173.0</td>\n      <td>Mar 2023</td>\n      <td>410.0</td>\n      <td>2023</td>\n      <td>Wodonga</td>\n      <td>204031492</td>\n    </tr>\n  </tbody>\n</table>\n<p>29624 rows × 8 columns</p>\n</div>"
     },
     "execution_count": 70,
     "metadata": {},
     "output_type": "execute_result"
    }
   ],
   "source": [
    "# Merge the historical data with the district boundaries based on the name\n",
    "historical_data = historical_data.merge(victoria_gdf[[\"sa2_name\", \"sa2_code\"]], left_on='suburb', right_on='sa2_name')\n",
    "historical_data"
   ],
   "metadata": {
    "collapsed": false,
    "ExecuteTime": {
     "end_time": "2024-10-04T00:54:43.603203Z",
     "start_time": "2024-10-04T00:54:43.590139Z"
    }
   },
   "id": "7c7eaf356f4a3238",
   "execution_count": 70
  },
  {
   "cell_type": "code",
   "outputs": [],
   "source": [],
   "metadata": {
    "collapsed": false,
    "ExecuteTime": {
     "end_time": "2024-10-04T00:54:43.679773Z",
     "start_time": "2024-10-04T00:54:43.677660Z"
    }
   },
   "id": "e2d612f40ce349ad",
   "execution_count": 74
  }
 ],
 "metadata": {
  "kernelspec": {
   "display_name": "Python 3",
   "language": "python",
   "name": "python3"
  },
  "language_info": {
   "codemirror_mode": {
    "name": "ipython",
    "version": 2
   },
   "file_extension": ".py",
   "mimetype": "text/x-python",
   "name": "python",
   "nbconvert_exporter": "python",
   "pygments_lexer": "ipython2",
   "version": "2.7.6"
  }
 },
 "nbformat": 4,
 "nbformat_minor": 5
}
