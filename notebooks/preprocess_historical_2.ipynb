{
 "cells": [
  {
   "cell_type": "markdown",
   "source": [
    "Combining the historical data with external data sources - Daksh Agrawal"
   ],
   "metadata": {
    "collapsed": false
   },
   "id": "6359ad868f5e564f"
  },
  {
   "cell_type": "code",
   "outputs": [],
   "source": [
    "import pandas as pd\n",
    "import numpy as np"
   ],
   "metadata": {
    "collapsed": false
   },
   "id": "f6f8020a683d5cb9"
  },
  {
   "cell_type": "code",
   "outputs": [],
   "source": [
    "# Load the historical data\n",
    "historical_data = pd.read_csv('../data/raw/historical_data.csv')"
   ],
   "metadata": {
    "collapsed": false
   },
   "id": "d570328d625e5db"
  },
  {
   "cell_type": "code",
   "outputs": [],
   "source": [
    "# Load population data\n",
    "population_data = pd.read_csv('../data/raw/population_data.csv')"
   ],
   "metadata": {
    "collapsed": false
   },
   "id": "5a510e2d76a66eec"
  }
 ],
 "metadata": {
  "kernelspec": {
   "display_name": "Python 3",
   "language": "python",
   "name": "python3"
  },
  "language_info": {
   "codemirror_mode": {
    "name": "ipython",
    "version": 2
   },
   "file_extension": ".py",
   "mimetype": "text/x-python",
   "name": "python",
   "nbconvert_exporter": "python",
   "pygments_lexer": "ipython2",
   "version": "2.7.6"
  }
 },
 "nbformat": 4,
 "nbformat_minor": 5
}
