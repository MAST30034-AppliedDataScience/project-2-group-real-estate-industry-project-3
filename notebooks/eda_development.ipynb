{
 "cells": [
  {
   "cell_type": "markdown",
   "source": [
    "Written by Daksh Agrawal on 29 September 2024"
   ],
   "metadata": {
    "collapsed": false
   },
   "id": "4069621978bf1f75"
  },
  {
   "cell_type": "code",
   "execution_count": 4,
   "id": "initial_id",
   "metadata": {
    "collapsed": true,
    "ExecuteTime": {
     "end_time": "2024-09-29T06:53:44.553692Z",
     "start_time": "2024-09-29T06:53:44.547631Z"
    }
   },
   "outputs": [],
   "source": [
    "import pandas as pd\n",
    "import numpy as np\n",
    "import matplotlib.pyplot as plt\n",
    "import seaborn as sns"
   ]
  },
  {
   "cell_type": "code",
   "outputs": [
    {
     "name": "stdout",
     "output_type": "stream",
     "text": [
      "(1439, 42)\n"
     ]
    },
    {
     "data": {
      "text/plain": "  data_format development_key     status  year_completed  \\\n0  Pre May 16         X000479  COMPLETED          2006.0   \n1  Pre May 16         X000459  COMPLETED          2005.0   \n2  Pre May 16         X000573  COMPLETED          2013.0   \n3  Pre May 16         X000563  COMPLETED          2014.0   \n4  Pre May 16         X000997  COMPLETED          2007.0   \n\n                clue_small_area  clue_block  \\\n0               North Melbourne         342   \n1               North Melbourne         333   \n2  West Melbourne (Residential)         414   \n3  West Melbourne (Residential)         409   \n4               North Melbourne        1012   \n\n                                      street_address  property_id  \\\n0  191-201 Abbotsford Street NORTH MELBOURNE VIC ...       100023   \n1  218-224 Abbotsford Street NORTH MELBOURNE VIC ...       100119   \n2    56-62 Abbotsford Street WEST MELBOURNE VIC 3003       100144   \n3         1-9 Stawell Street WEST MELBOURNE VIC 3003       100441   \n4      229-235 Arden Street NORTH MELBOURNE VIC 3051       100556   \n\n   property_id_2  property_id_3  ...  hospital_flr  recreation_flr  \\\n0            NaN            NaN  ...             0               0   \n1            NaN            NaN  ...             0               0   \n2            NaN            NaN  ...             0               0   \n3            NaN            NaN  ...             0               0   \n4            NaN            NaN  ...             0               0   \n\n   publicdispaly_flr  community_flr  car_spaces  bike_spaces  \\\n0                  0              0           0            0   \n1                  0              0           0            0   \n2                  0              0           0            0   \n3                  0              0           0           28   \n4                  0              0           0            0   \n\n   town_planning_application   longitude   latitude                   geopoint  \n0                          0  144.945030 -37.802822  -37.80282184, 144.9450298  \n1                          0  144.945947 -37.802049  -37.80204879, 144.9459475  \n2                          0  144.944719 -37.806791  -37.80679128, 144.9447186  \n3                          0  144.942096 -37.806072  -37.80607242, 144.9420962  \n4                          0  144.939286 -37.800374  -37.80037382, 144.9392856  \n\n[5 rows x 42 columns]",
      "text/html": "<div>\n<style scoped>\n    .dataframe tbody tr th:only-of-type {\n        vertical-align: middle;\n    }\n\n    .dataframe tbody tr th {\n        vertical-align: top;\n    }\n\n    .dataframe thead th {\n        text-align: right;\n    }\n</style>\n<table border=\"1\" class=\"dataframe\">\n  <thead>\n    <tr style=\"text-align: right;\">\n      <th></th>\n      <th>data_format</th>\n      <th>development_key</th>\n      <th>status</th>\n      <th>year_completed</th>\n      <th>clue_small_area</th>\n      <th>clue_block</th>\n      <th>street_address</th>\n      <th>property_id</th>\n      <th>property_id_2</th>\n      <th>property_id_3</th>\n      <th>...</th>\n      <th>hospital_flr</th>\n      <th>recreation_flr</th>\n      <th>publicdispaly_flr</th>\n      <th>community_flr</th>\n      <th>car_spaces</th>\n      <th>bike_spaces</th>\n      <th>town_planning_application</th>\n      <th>longitude</th>\n      <th>latitude</th>\n      <th>geopoint</th>\n    </tr>\n  </thead>\n  <tbody>\n    <tr>\n      <th>0</th>\n      <td>Pre May 16</td>\n      <td>X000479</td>\n      <td>COMPLETED</td>\n      <td>2006.0</td>\n      <td>North Melbourne</td>\n      <td>342</td>\n      <td>191-201 Abbotsford Street NORTH MELBOURNE VIC ...</td>\n      <td>100023</td>\n      <td>NaN</td>\n      <td>NaN</td>\n      <td>...</td>\n      <td>0</td>\n      <td>0</td>\n      <td>0</td>\n      <td>0</td>\n      <td>0</td>\n      <td>0</td>\n      <td>0</td>\n      <td>144.945030</td>\n      <td>-37.802822</td>\n      <td>-37.80282184, 144.9450298</td>\n    </tr>\n    <tr>\n      <th>1</th>\n      <td>Pre May 16</td>\n      <td>X000459</td>\n      <td>COMPLETED</td>\n      <td>2005.0</td>\n      <td>North Melbourne</td>\n      <td>333</td>\n      <td>218-224 Abbotsford Street NORTH MELBOURNE VIC ...</td>\n      <td>100119</td>\n      <td>NaN</td>\n      <td>NaN</td>\n      <td>...</td>\n      <td>0</td>\n      <td>0</td>\n      <td>0</td>\n      <td>0</td>\n      <td>0</td>\n      <td>0</td>\n      <td>0</td>\n      <td>144.945947</td>\n      <td>-37.802049</td>\n      <td>-37.80204879, 144.9459475</td>\n    </tr>\n    <tr>\n      <th>2</th>\n      <td>Pre May 16</td>\n      <td>X000573</td>\n      <td>COMPLETED</td>\n      <td>2013.0</td>\n      <td>West Melbourne (Residential)</td>\n      <td>414</td>\n      <td>56-62 Abbotsford Street WEST MELBOURNE VIC 3003</td>\n      <td>100144</td>\n      <td>NaN</td>\n      <td>NaN</td>\n      <td>...</td>\n      <td>0</td>\n      <td>0</td>\n      <td>0</td>\n      <td>0</td>\n      <td>0</td>\n      <td>0</td>\n      <td>0</td>\n      <td>144.944719</td>\n      <td>-37.806791</td>\n      <td>-37.80679128, 144.9447186</td>\n    </tr>\n    <tr>\n      <th>3</th>\n      <td>Pre May 16</td>\n      <td>X000563</td>\n      <td>COMPLETED</td>\n      <td>2014.0</td>\n      <td>West Melbourne (Residential)</td>\n      <td>409</td>\n      <td>1-9 Stawell Street WEST MELBOURNE VIC 3003</td>\n      <td>100441</td>\n      <td>NaN</td>\n      <td>NaN</td>\n      <td>...</td>\n      <td>0</td>\n      <td>0</td>\n      <td>0</td>\n      <td>0</td>\n      <td>0</td>\n      <td>28</td>\n      <td>0</td>\n      <td>144.942096</td>\n      <td>-37.806072</td>\n      <td>-37.80607242, 144.9420962</td>\n    </tr>\n    <tr>\n      <th>4</th>\n      <td>Pre May 16</td>\n      <td>X000997</td>\n      <td>COMPLETED</td>\n      <td>2007.0</td>\n      <td>North Melbourne</td>\n      <td>1012</td>\n      <td>229-235 Arden Street NORTH MELBOURNE VIC 3051</td>\n      <td>100556</td>\n      <td>NaN</td>\n      <td>NaN</td>\n      <td>...</td>\n      <td>0</td>\n      <td>0</td>\n      <td>0</td>\n      <td>0</td>\n      <td>0</td>\n      <td>0</td>\n      <td>0</td>\n      <td>144.939286</td>\n      <td>-37.800374</td>\n      <td>-37.80037382, 144.9392856</td>\n    </tr>\n  </tbody>\n</table>\n<p>5 rows × 42 columns</p>\n</div>"
     },
     "execution_count": 5,
     "metadata": {},
     "output_type": "execute_result"
    }
   ],
   "source": [
    "# Load the data\n",
    "df = pd.read_csv('../data/landing/development_activity.csv')\n",
    "print(df.shape)\n",
    "df.head()"
   ],
   "metadata": {
    "collapsed": false,
    "ExecuteTime": {
     "end_time": "2024-09-29T06:53:44.592871Z",
     "start_time": "2024-09-29T06:53:44.556684Z"
    }
   },
   "id": "3a77caf1fcc7a3b5",
   "execution_count": 5
  },
  {
   "cell_type": "code",
   "outputs": [
    {
     "data": {
      "text/plain": "data_format                       0\ndevelopment_key                   0\nstatus                            0\nyear_completed                  391\nclue_small_area                   0\nclue_block                        0\nstreet_address                    0\nproperty_id                       0\nproperty_id_2                  1257\nproperty_id_3                  1398\nproperty_id_4                  1424\nproperty_id_5                  1436\nfloors_above                      0\nresi_dwellings                    0\nstudio_dwe                        0\none_bdrm_dwe                      0\ntwo_bdrm_dwe                      0\nthree_bdrm_dwe                    0\nstudent_apartments                0\nstudent_beds                      0\nstudent_accommodation_units       0\ninstitutional_accom_beds          0\nhotel_rooms                       0\nserviced_apartments               0\nhotels_serviced_apartments        0\nhostel_beds                       0\nchildcare_places                  0\noffice_flr                        0\nretail_flr                        0\nindustrial_flr                    0\nstorage_flr                       0\neducation_flr                     0\nhospital_flr                      0\nrecreation_flr                    0\npublicdispaly_flr                 0\ncommunity_flr                     0\ncar_spaces                        0\nbike_spaces                       0\ntown_planning_application         0\nlongitude                         0\nlatitude                          0\ngeopoint                          0\ndtype: int64"
     },
     "execution_count": 6,
     "metadata": {},
     "output_type": "execute_result"
    }
   ],
   "source": [
    "# Check for missing values\n",
    "df.isnull().sum()"
   ],
   "metadata": {
    "collapsed": false,
    "ExecuteTime": {
     "end_time": "2024-09-29T06:53:44.601430Z",
     "start_time": "2024-09-29T06:53:44.595769Z"
    }
   },
   "id": "32a32a282bb0cb17",
   "execution_count": 6
  },
  {
   "cell_type": "code",
   "outputs": [],
   "source": [],
   "metadata": {
    "collapsed": false,
    "ExecuteTime": {
     "end_time": "2024-09-29T06:53:44.605118Z",
     "start_time": "2024-09-29T06:53:44.603216Z"
    }
   },
   "id": "af59bc04a07268cf",
   "execution_count": 6
  }
 ],
 "metadata": {
  "kernelspec": {
   "display_name": "Python 3",
   "language": "python",
   "name": "python3"
  },
  "language_info": {
   "codemirror_mode": {
    "name": "ipython",
    "version": 2
   },
   "file_extension": ".py",
   "mimetype": "text/x-python",
   "name": "python",
   "nbconvert_exporter": "python",
   "pygments_lexer": "ipython2",
   "version": "2.7.6"
  }
 },
 "nbformat": 4,
 "nbformat_minor": 5
}
