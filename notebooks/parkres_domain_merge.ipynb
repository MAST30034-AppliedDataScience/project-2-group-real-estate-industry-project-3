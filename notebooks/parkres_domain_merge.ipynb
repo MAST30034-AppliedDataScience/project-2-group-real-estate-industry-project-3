{
 "cells": [
  {
   "cell_type": "markdown",
   "metadata": {},
   "source": [
    "#### Written Franklin (Koquiun) Li Lin "
   ]
  },
  {
   "cell_type": "markdown",
   "metadata": {},
   "source": [
    "## Parks/Reservations & Domain Merge"
   ]
  },
  {
   "cell_type": "markdown",
   "metadata": {},
   "source": [
    "In this notebook, we will merge 2 datasets: the parkres dataset and domain dataset, and calculate the Euclidian distance between each park/reservation to each property."
   ]
  },
  {
   "cell_type": "markdown",
   "metadata": {},
   "source": [
    "#### Import Libraries"
   ]
  },
  {
   "cell_type": "code",
   "execution_count": 3,
   "metadata": {
    "ExecuteTime": {
     "end_time": "2024-09-26T12:42:40.878541Z",
     "start_time": "2024-09-26T12:42:40.827006Z"
    }
   },
   "outputs": [],
   "source": [
    "from pyspark.sql import SparkSession\n",
    "from pyspark.sql import functions as func\n",
    "import os\n",
    "import sys\n",
    "from pyspark.sql import functions as F  #filtering\n",
    "import pandas as pd\n",
    "from pyspark.sql.window import Window\n",
    "from pyspark.sql.types import DoubleType, StringType\n",
    "from shapely import wkt\n",
    "from pyspark.sql.functions import udf\n",
    "from math import radians, sin, cos, sqrt, atan2"
   ]
  },
  {
   "cell_type": "markdown",
   "metadata": {},
   "source": [
    "### Inspect data"
   ]
  },
  {
   "cell_type": "code",
   "execution_count": 4,
   "metadata": {
    "ExecuteTime": {
     "end_time": "2024-09-26T12:42:42.762404Z",
     "start_time": "2024-09-26T12:42:40.880211Z"
    }
   },
   "outputs": [
    {
     "name": "stdout",
     "output_type": "stream",
     "text": [
      "+--------------------+--------------------+--------+--------------------+\n",
      "|                name|            sa2_name|postcode|            geometry|\n",
      "+--------------------+--------------------+--------+--------------------+\n",
      "|Lilydale-Warburto...|        Yarra Valley|    3139|POLYGON ((1034153...|\n",
      "|Nangana Bushland ...|        Yarra Valley|    3139|POLYGON ((1022203...|\n",
      "|Nillumbik G139 Bu...|Wattle Glen - Dia...|    3089|POLYGON ((989912....|\n",
      "|Lilydale-Warburto...|Lilydale - Coldst...|    3140|POLYGON ((1005216...|\n",
      "|Plenty Gorge Park...|  Plenty - Yarrambat|    3088|POLYGON ((983018....|\n",
      "+--------------------+--------------------+--------+--------------------+\n",
      "only showing top 5 rows\n",
      "\n"
     ]
    }
   ],
   "source": [
    "# starting a Spark session\n",
    "spark = (\n",
    "    SparkSession.builder.appName('Parkres Further Analysis')\n",
    "    .config(\"spark.sql.repl.eagerEval.enabled\", True)\n",
    "    .config(\"spark.sql.session.timeZone\", \"Etc/UTC\")\n",
    "    .config(\"spark.driver.memory\", \"2g\")\n",
    "    .config(\"spark.executor.memory\", \"4g\")\n",
    "    .getOrCreate()\n",
    ")\n",
    "\n",
    "# Read the dataset from a CSV file using PySpark\n",
    "parkres = spark.read.csv('../data/curated/parkres/parkres.csv', header=True, inferSchema=True)\n",
    "\n",
    "# Drop the extra index column (_c0) if it exists\n",
    "parkres = parkres.drop('_c0')\n",
    "\n",
    "# Show the first few rows of the dataset to confirm\n",
    "parkres.show(5)"
   ]
  },
  {
   "cell_type": "code",
   "execution_count": 5,
   "metadata": {
    "ExecuteTime": {
     "end_time": "2024-09-26T12:42:43.455390Z",
     "start_time": "2024-09-26T12:42:42.791250Z"
    }
   },
   "outputs": [
    {
     "name": "stderr",
     "output_type": "stream",
     "text": [
      "24/10/08 20:31:35 WARN SparkStringUtils: Truncated the string representation of a plan since it was too large. This behavior can be adjusted by setting 'spark.sql.debug.maxToStringFields'.\n"
     ]
    },
    {
     "data": {
      "text/html": [
       "<table border='1'>\n",
       "<tr><th>url</th><th>price</th><th>address</th><th>property_type</th><th>latitude</th><th>longitude</th><th>Beds</th><th>Baths</th><th>Parking</th><th>bond</th><th>extracted_price</th><th>geometry</th><th>index_right</th><th>sa2_code</th><th>sa2_name</th><th>chg_flag</th><th>chg_lbl</th><th>sa3_code</th><th>sa3_name</th><th>sa4_code</th><th>sa4_name</th><th>gcc_code</th><th>gcc_name</th><th>ste_code</th><th>ste_name</th><th>aus_code</th><th>aus_name</th><th>areasqkm</th><th>loci_uri</th><th>geometry_proj</th></tr>\n",
       "<tr><td>https://www.domai...</td><td>$1,400.00</td><td>10 Allara Court, ...</td><td>Townhouse</td><td>-37.77427300000001</td><td>145.1811258</td><td>4.0</td><td>3.0</td><td>2.0</td><td>9125.0</td><td>1400.0</td><td>POINT (145.181125...</td><td>310.0</td><td>211021261</td><td>Donvale - Park Or...</td><td>0</td><td>No change</td><td>21102</td><td>Manningham - East</td><td>211</td><td>Melbourne - Outer...</td><td>2GMEL</td><td>Greater Melbourne</td><td>2</td><td>Victoria</td><td>AUS</td><td>Australia</td><td>20.8028</td><td>http://linked.dat...</td><td>POINT (989259.417...</td></tr>\n",
       "<tr><td>https://www.domai...</td><td>$750 per week</td><td>7 Pine Ridge, Don...</td><td>House</td><td>-37.7912513</td><td>145.1756489</td><td>4.0</td><td>2.0</td><td>0.0</td><td>3259.0</td><td>750.0</td><td>POINT (145.175648...</td><td>310.0</td><td>211021261</td><td>Donvale - Park Or...</td><td>0</td><td>No change</td><td>21102</td><td>Manningham - East</td><td>211</td><td>Melbourne - Outer...</td><td>2GMEL</td><td>Greater Melbourne</td><td>2</td><td>Victoria</td><td>AUS</td><td>Australia</td><td>20.8028</td><td>http://linked.dat...</td><td>POINT (988607.823...</td></tr>\n",
       "<tr><td>https://www.domai...</td><td>$1300 per week</td><td>20 Mulsanne Way, ...</td><td>House</td><td>-37.7972323</td><td>145.1812636</td><td>5.0</td><td>2.0</td><td>2.0</td><td>5649.0</td><td>1300.0</td><td>POINT (145.181263...</td><td>310.0</td><td>211021261</td><td>Donvale - Park Or...</td><td>0</td><td>No change</td><td>21102</td><td>Manningham - East</td><td>211</td><td>Melbourne - Outer...</td><td>2GMEL</td><td>Greater Melbourne</td><td>2</td><td>Victoria</td><td>AUS</td><td>Australia</td><td>20.8028</td><td>http://linked.dat...</td><td>POINT (989043.874...</td></tr>\n",
       "<tr><td>https://www.domai...</td><td>$825pw / $3585pcm</td><td>3 Monterey Cresce...</td><td>House</td><td>-37.792402</td><td>145.1743233</td><td>3.0</td><td>1.0</td><td>5.0</td><td>3585.0</td><td>825.0</td><td>POINT (145.174323...</td><td>310.0</td><td>211021261</td><td>Donvale - Park Or...</td><td>0</td><td>No change</td><td>21102</td><td>Manningham - East</td><td>211</td><td>Melbourne - Outer...</td><td>2GMEL</td><td>Greater Melbourne</td><td>2</td><td>Victoria</td><td>AUS</td><td>Australia</td><td>20.8028</td><td>http://linked.dat...</td><td>POINT (988479.463...</td></tr>\n",
       "<tr><td>https://www.domai...</td><td>$680.00</td><td>3/49 Leslie Stree...</td><td>Townhouse</td><td>-37.7810117</td><td>145.180705</td><td>3.0</td><td>2.0</td><td>2.0</td><td>2955.0</td><td>680.0</td><td>POINT (145.180705...</td><td>310.0</td><td>211021261</td><td>Donvale - Park Or...</td><td>0</td><td>No change</td><td>21102</td><td>Manningham - East</td><td>211</td><td>Melbourne - Outer...</td><td>2GMEL</td><td>Greater Melbourne</td><td>2</td><td>Victoria</td><td>AUS</td><td>Australia</td><td>20.8028</td><td>http://linked.dat...</td><td>POINT (989155.458...</td></tr>\n",
       "</table>\n"
      ],
      "text/plain": [
       "+--------------------+-----------------+--------------------+-------------+------------------+-----------+----+-----+-------+------+---------------+--------------------+-----------+---------+--------------------+--------+---------+--------+-----------------+--------+--------------------+--------+-----------------+--------+--------+--------+---------+--------+--------------------+--------------------+\n",
       "|                 url|            price|             address|property_type|          latitude|  longitude|Beds|Baths|Parking|  bond|extracted_price|            geometry|index_right| sa2_code|            sa2_name|chg_flag|  chg_lbl|sa3_code|         sa3_name|sa4_code|            sa4_name|gcc_code|         gcc_name|ste_code|ste_name|aus_code| aus_name|areasqkm|            loci_uri|       geometry_proj|\n",
       "+--------------------+-----------------+--------------------+-------------+------------------+-----------+----+-----+-------+------+---------------+--------------------+-----------+---------+--------------------+--------+---------+--------+-----------------+--------+--------------------+--------+-----------------+--------+--------+--------+---------+--------+--------------------+--------------------+\n",
       "|https://www.domai...|        $1,400.00|10 Allara Court, ...|    Townhouse|-37.77427300000001|145.1811258| 4.0|  3.0|    2.0|9125.0|         1400.0|POINT (145.181125...|      310.0|211021261|Donvale - Park Or...|       0|No change|   21102|Manningham - East|     211|Melbourne - Outer...|   2GMEL|Greater Melbourne|       2|Victoria|     AUS|Australia| 20.8028|http://linked.dat...|POINT (989259.417...|\n",
       "|https://www.domai...|    $750 per week|7 Pine Ridge, Don...|        House|       -37.7912513|145.1756489| 4.0|  2.0|    0.0|3259.0|          750.0|POINT (145.175648...|      310.0|211021261|Donvale - Park Or...|       0|No change|   21102|Manningham - East|     211|Melbourne - Outer...|   2GMEL|Greater Melbourne|       2|Victoria|     AUS|Australia| 20.8028|http://linked.dat...|POINT (988607.823...|\n",
       "|https://www.domai...|   $1300 per week|20 Mulsanne Way, ...|        House|       -37.7972323|145.1812636| 5.0|  2.0|    2.0|5649.0|         1300.0|POINT (145.181263...|      310.0|211021261|Donvale - Park Or...|       0|No change|   21102|Manningham - East|     211|Melbourne - Outer...|   2GMEL|Greater Melbourne|       2|Victoria|     AUS|Australia| 20.8028|http://linked.dat...|POINT (989043.874...|\n",
       "|https://www.domai...|$825pw / $3585pcm|3 Monterey Cresce...|        House|        -37.792402|145.1743233| 3.0|  1.0|    5.0|3585.0|          825.0|POINT (145.174323...|      310.0|211021261|Donvale - Park Or...|       0|No change|   21102|Manningham - East|     211|Melbourne - Outer...|   2GMEL|Greater Melbourne|       2|Victoria|     AUS|Australia| 20.8028|http://linked.dat...|POINT (988479.463...|\n",
       "|https://www.domai...|          $680.00|3/49 Leslie Stree...|    Townhouse|       -37.7810117| 145.180705| 3.0|  2.0|    2.0|2955.0|          680.0|POINT (145.180705...|      310.0|211021261|Donvale - Park Or...|       0|No change|   21102|Manningham - East|     211|Melbourne - Outer...|   2GMEL|Greater Melbourne|       2|Victoria|     AUS|Australia| 20.8028|http://linked.dat...|POINT (989155.458...|\n",
       "+--------------------+-----------------+--------------------+-------------+------------------+-----------+----+-----+-------+------+---------------+--------------------+-----------+---------+--------------------+--------+---------+--------+-----------------+--------+--------------------+--------+-----------------+--------+--------+--------+---------+--------+--------------------+--------------------+"
      ]
     },
     "execution_count": 5,
     "metadata": {},
     "output_type": "execute_result"
    }
   ],
   "source": [
    "# read the domain parquet dataset\n",
    "domain = spark.read.csv('../data/curated/domain_data.csv', header=True, inferSchema=True)\n",
    "domain = domain.drop('_c0')\n",
    "domain.limit(5)"
   ]
  },
  {
   "cell_type": "code",
   "execution_count": 6,
   "metadata": {
    "ExecuteTime": {
     "end_time": "2024-09-26T12:42:43.821056Z",
     "start_time": "2024-09-26T12:42:43.466335Z"
    }
   },
   "outputs": [
    {
     "name": "stdout",
     "output_type": "stream",
     "text": [
      "+---+-----+-------+-------------+--------+---------+----+-----+-------+----+---------------+--------+-----------+--------+--------+--------+-------+--------+--------+--------+--------+--------+--------+--------+--------+--------+--------+--------+--------+-------------+\n",
      "|url|price|address|property_type|latitude|longitude|Beds|Baths|Parking|bond|extracted_price|geometry|index_right|sa2_code|sa2_name|chg_flag|chg_lbl|sa3_code|sa3_name|sa4_code|sa4_name|gcc_code|gcc_name|ste_code|ste_name|aus_code|aus_name|areasqkm|loci_uri|geometry_proj|\n",
      "+---+-----+-------+-------------+--------+---------+----+-----+-------+----+---------------+--------+-----------+--------+--------+--------+-------+--------+--------+--------+--------+--------+--------+--------+--------+--------+--------+--------+--------+-------------+\n",
      "|  0|    0|      0|            0|       0|        0| 136|   67|      9|1199|              0|       0|          0|       0|       0|       0|      0|       0|       0|       0|       0|       0|       0|       0|       0|       0|       0|       0|       0|            0|\n",
      "+---+-----+-------+-------------+--------+---------+----+-----+-------+----+---------------+--------+-----------+--------+--------+--------+-------+--------+--------+--------+--------+--------+--------+--------+--------+--------+--------+--------+--------+-------------+\n",
      "\n"
     ]
    }
   ],
   "source": [
    "# Check for null values in each column\n",
    "domain.select([F.count(F.when(F.col(c).isNull(), c)).alias(c) for c in domain.columns]).show()"
   ]
  },
  {
   "cell_type": "markdown",
   "metadata": {},
   "source": [
    "### Calculate the distance between parks/reservations and properties"
   ]
  },
  {
   "cell_type": "code",
   "execution_count": 7,
   "metadata": {
    "ExecuteTime": {
     "end_time": "2024-09-26T12:43:01.069385Z",
     "start_time": "2024-09-26T12:42:43.857247Z"
    }
   },
   "outputs": [],
   "source": [
    "# Function to calculate distance between two points (Haversine formula)\n",
    "def calculate_distance(lat1, lon1, lat2, lon2):\n",
    "    R = 6371  # Earth's radius in km\n",
    "    \n",
    "    lat1, lon1, lat2, lon2 = map(radians, [lat1, lon1, lat2, lon2])\n",
    "    dlat = lat2 - lat1\n",
    "    dlon = lon2 - lon1\n",
    "    \n",
    "    a = sin(dlat / 2) ** 2 + cos(lat1) * cos(lat2) * sin(dlon / 2) ** 2\n",
    "    c = 2 * atan2(sqrt(a), sqrt(1 - a))\n",
    "    return R * c\n",
    "\n",
    "def calculate_euclidean_distance(lat1, lon1, lat2, lon2):\n",
    "    return sqrt((lat1 - lat2) ** 2 + (lon1 - lon2) ** 2)\n",
    "\n",
    "# UDF to convert WKT geometry to centroid coordinates\n",
    "def get_centroid(geometry):\n",
    "    try:\n",
    "        shape = wkt.loads(geometry)\n",
    "        centroid = shape.centroid\n",
    "        return f\"{centroid.y},{centroid.x}\"\n",
    "    except:\n",
    "        return None"
   ]
  },
  {
   "cell_type": "markdown",
   "metadata": {},
   "source": [
    "### Merge datasets"
   ]
  },
  {
   "cell_type": "code",
   "execution_count": 8,
   "metadata": {},
   "outputs": [
    {
     "name": "stderr",
     "output_type": "stream",
     "text": [
      "[Stage 13:=============================>                            (1 + 1) / 2]\r"
     ]
    },
    {
     "name": "stdout",
     "output_type": "stream",
     "text": [
      "+--------------------+-------------------+--------------------+--------------------+-----------+-----------+----+-----+-------+------+---------------+--------------------+-----------+---------+--------------------+--------+---------+--------+--------+--------+-----------------+--------+-----------------+--------+--------+--------+---------+--------+--------------------+--------------------+--------------------+------------------+-----------------+--------------------+--------------------+--------+--------------------+--------------------+------------------+-----------------+------------------+\n",
      "|                 url|              price|             address|       property_type|   latitude|  longitude|Beds|Baths|Parking|  bond|extracted_price|            geometry|index_right| sa2_code|   property_sa2_name|chg_flag|  chg_lbl|sa3_code|sa3_name|sa4_code|         sa4_name|gcc_code|         gcc_name|ste_code|ste_name|aus_code| aus_name|areasqkm|            loci_uri|       geometry_proj|   property_location|          prop_lat|         prop_lon|                name|            sa2_name|postcode|       park_geometry|       park_centroid| park_centroid_lat|park_centroid_lon|          distance|\n",
      "+--------------------+-------------------+--------------------+--------------------+-----------+-----------+----+-----+-------+------+---------------+--------------------+-----------+---------+--------------------+--------+---------+--------+--------+--------+-----------------+--------+-----------------+--------+--------+--------+---------+--------+--------------------+--------------------+--------------------+------------------+-----------------+--------------------+--------------------+--------+--------------------+--------------------+------------------+-----------------+------------------+\n",
      "|https://www.domai...|        $680 weekly|509/20 Shamrock S...|Apartment / Unit ...|-37.8101409|145.0082181| 2.0|  2.0|    1.0|2955.0|          680.0|POINT (145.008218...|      156.0|206071139|          Abbotsford|       0|No change|   20607|   Yarra|     206|Melbourne - Inner|   2GMEL|Greater Melbourne|       2|Victoria|     AUS|Australia|  1.7405|http://linked.dat...|POINT (973650.477...|-4294535.67282757...|-4294535.672827573|973650.4777686342|Lower Yarra River...|          Abbotsford|    3067|POLYGON ((973686....|-4294531.96074197...|-4294531.960741972|  973698.41906543|48.084795080827995|\n",
      "|https://www.domai...|$550 pw / $2390 pcm|214/20 Shamrock S...|Apartment / Unit ...|-37.8101409|145.0082181| 1.0|  1.0|    0.0|2390.0|          550.0|POINT (145.008218...|      156.0|206071139|          Abbotsford|       0|No change|   20607|   Yarra|     206|Melbourne - Inner|   2GMEL|Greater Melbourne|       2|Victoria|     AUS|Australia|  1.7405|http://linked.dat...|POINT (973650.477...|-4294535.67282757...|-4294535.672827573|973650.4777686342|Lower Yarra River...|          Abbotsford|    3067|POLYGON ((973686....|-4294531.96074197...|-4294531.960741972|  973698.41906543|48.084795080827995|\n",
      "|https://www.domai...|        $450 weekly|930/20 Shamrock S...|Apartment / Unit ...|-37.8101409|145.0082181| 1.0|  1.0|    0.0|1956.0|          450.0|POINT (145.008218...|      156.0|206071139|          Abbotsford|       0|No change|   20607|   Yarra|     206|Melbourne - Inner|   2GMEL|Greater Melbourne|       2|Victoria|     AUS|Australia|  1.7405|http://linked.dat...|POINT (973650.477...|-4294535.67282757...|-4294535.672827573|973650.4777686342|Lower Yarra River...|          Abbotsford|    3067|POLYGON ((973686....|-4294531.96074197...|-4294531.960741972|  973698.41906543|48.084795080827995|\n",
      "|https://www.domai...|  $475pw / $2064pcm|208/20 Shamrock S...|Apartment / Unit ...|-37.8101409|145.0082181| 2.0|  1.0|    0.0|2064.0|          475.0|POINT (145.008218...|      156.0|206071139|          Abbotsford|       0|No change|   20607|   Yarra|     206|Melbourne - Inner|   2GMEL|Greater Melbourne|       2|Victoria|     AUS|Australia|  1.7405|http://linked.dat...|POINT (973650.477...|-4294535.67282757...|-4294535.672827573|973650.4777686342|Lower Yarra River...|          Abbotsford|    3067|POLYGON ((973686....|-4294531.96074197...|-4294531.960741972|  973698.41906543|48.084795080827995|\n",
      "|https://www.domai...|      $540 per week|49 Constellation ...|               House|-37.8507304|144.7431695| 3.0|  2.0|    2.0|2346.0|          540.0|POINT (144.743169...|      451.0|213051587|Truganina - South...|       1|      New|   21305| Wyndham|     213| Melbourne - West|   2GMEL|Greater Melbourne|       2|Victoria|     AUS|Australia|  4.2675|http://linked.dat...|POINT (949878.523...|-4297021.47789072...|-4297021.477890727|949878.5239762113|Truganina South N...|Truganina - South...|    3027|POLYGON ((950018....|-4296969.99706995...|-4296969.997069957| 949908.495732764| 59.56996808833753|\n",
      "+--------------------+-------------------+--------------------+--------------------+-----------+-----------+----+-----+-------+------+---------------+--------------------+-----------+---------+--------------------+--------+---------+--------+--------+--------+-----------------+--------+-----------------+--------+--------+--------+---------+--------+--------------------+--------------------+--------------------+------------------+-----------------+--------------------+--------------------+--------+--------------------+--------------------+------------------+-----------------+------------------+\n",
      "only showing top 5 rows\n",
      "\n"
     ]
    },
    {
     "name": "stderr",
     "output_type": "stream",
     "text": [
      "                                                                                \r"
     ]
    }
   ],
   "source": [
    "# Register UDFs\n",
    "distance_udf = udf(calculate_euclidean_distance, DoubleType())\n",
    "centroid_udf = udf(get_centroid, StringType())\n",
    "\n",
    "# Prepare park data\n",
    "parkres = parkres.withColumnRenamed(\"geometry\", \"park_geometry\")\n",
    "parkres = parkres.withColumn(\"park_centroid\", centroid_udf(F.col(\"park_geometry\")))\n",
    "parkres = parkres.withColumn(\"park_centroid_lat\", F.split(F.col(\"park_centroid\"), \",\")[0].cast(DoubleType()))\n",
    "parkres = parkres.withColumn(\"park_centroid_lon\", F.split(F.col(\"park_centroid\"), \",\")[1].cast(DoubleType()))\n",
    "\n",
    "# Prepare domain data\n",
    "domain = domain.withColumn(\"property_location\", centroid_udf(F.col(\"geometry_proj\")))\n",
    "domain = domain.withColumn(\"prop_lat\", F.split(F.col(\"property_location\"), \",\")[0].cast(DoubleType()))\n",
    "domain = domain.withColumn(\"prop_lon\", F.split(F.col(\"property_location\"), \",\")[1].cast(DoubleType()))\n",
    "domain = domain.withColumnRenamed(\"sa2_name\", \"property_sa2_name\")\n",
    "\n",
    "# Cross join to calculate the distance between each property and every park\n",
    "result = domain.crossJoin(F.broadcast(parkres))\n",
    "\n",
    "# Calculate distances (km) between properties and park centroids\n",
    "result = result.withColumn(\"distance\", \n",
    "    distance_udf(F.col(\"prop_lat\"), F.col(\"prop_lon\"), \n",
    "                 F.col(\"park_centroid_lat\"), F.col(\"park_centroid_lon\")))\n",
    "result.orderBy(\"distance\").show(5)"
   ]
  },
  {
   "cell_type": "markdown",
   "metadata": {},
   "source": [
    "### Find the nearest park for each property"
   ]
  },
  {
   "cell_type": "code",
   "execution_count": 9,
   "metadata": {
    "ExecuteTime": {
     "end_time": "2024-09-26T12:43:12.070727Z",
     "start_time": "2024-09-26T12:43:01.079098Z"
    },
    "collapsed": false
   },
   "outputs": [
    {
     "name": "stderr",
     "output_type": "stream",
     "text": [
      "[Stage 16:=============================>                            (1 + 1) / 2]\r"
     ]
    },
    {
     "name": "stdout",
     "output_type": "stream",
     "text": [
      "+---------------------------------------------+-------------------------------------------------------------------------------+---------+----------------------+---------------+---------------------+-------------------------------------------+----------------------+\n",
      "|address                                      |url                                                                            |sa2_code |property_sa2_name     |extracted_price|nearest_park_distance|nearest_park_name                          |park_sa2_name         |\n",
      "+---------------------------------------------+-------------------------------------------------------------------------------+---------+----------------------+---------------+---------------------+-------------------------------------------+----------------------+\n",
      "|208/20 Shamrock Street, Abbotsford VIC 3067  |https://www.domain.com.au/208-20-shamrock-street-abbotsford-vic-3067-17132635  |206071139|Abbotsford            |475.0          |48.085               |Lower Yarra River land (addition) Park     |Abbotsford            |\n",
      "|214/20 Shamrock Street, Abbotsford VIC 3067  |https://www.domain.com.au/214-20-shamrock-street-abbotsford-vic-3067-17199924  |206071139|Abbotsford            |550.0          |48.085               |Lower Yarra River land (addition) Park     |Abbotsford            |\n",
      "|509/20 Shamrock St, Abbotsford VIC 3067      |https://www.domain.com.au/509-20-shamrock-st-abbotsford-vic-3067-17170841      |206071139|Abbotsford            |680.0          |48.085               |Lower Yarra River land (addition) Park     |Abbotsford            |\n",
      "|930/20 Shamrock Street, Abbotsford VIC 3067  |https://www.domain.com.au/930-20-shamrock-street-abbotsford-vic-3067-17191371  |206071139|Abbotsford            |450.0          |48.085               |Lower Yarra River land (addition) Park     |Abbotsford            |\n",
      "|49 Constellation Circuit, Truganina VIC 3029 |https://www.domain.com.au/49-constellation-circuit-truganina-vic-3029-17193737 |213051587|Truganina - South East|540.0          |59.57                |Truganina South Nature Conservation Reserve|Truganina - South East|\n",
      "|26 Galactic Way, Truganina VIC 3029          |https://www.domain.com.au/26-galactic-way-truganina-vic-3029-17093147          |213051587|Truganina - South East|580.0          |63.838               |Truganina South Nature Conservation Reserve|Truganina - South East|\n",
      "|A909/627 Victoria Street, Abbotsford VIC 3067|https://www.domain.com.au/a909-627-victoria-street-abbotsford-vic-3067-17170140|206071139|Abbotsford            |895.0          |67.794               |Lower Yarra River land (addition) Park     |Abbotsford            |\n",
      "|A914/627 Victoria Street, Abbotsford VIC 3067|https://www.domain.com.au/a914-627-victoria-street-abbotsford-vic-3067-17169310|206071139|Abbotsford            |795.0          |67.794               |Lower Yarra River land (addition) Park     |Abbotsford            |\n",
      "|A915/627 Victoria Street, Abbotsford VIC 3067|https://www.domain.com.au/a915-627-victoria-street-abbotsford-vic-3067-17158221|206071139|Abbotsford            |750.0          |67.794               |Lower Yarra River land (addition) Park     |Abbotsford            |\n",
      "|4/11 River St, Richmond VIC 3121             |https://www.domain.com.au/4-11-river-st-richmond-vic-3121-17146351             |206071518|Richmond - North      |750.0          |72.546               |Lower Yarra River land                     |Richmond - North      |\n",
      "+---------------------------------------------+-------------------------------------------------------------------------------+---------+----------------------+---------------+---------------------+-------------------------------------------+----------------------+\n",
      "only showing top 10 rows\n",
      "\n"
     ]
    },
    {
     "name": "stderr",
     "output_type": "stream",
     "text": [
      "                                                                                \r"
     ]
    }
   ],
   "source": [
    "window_spec = Window.partitionBy(\"url\").orderBy(\"distance\")\n",
    "nearest_park = result.withColumn(\"row\", F.row_number().over(window_spec)) \\\n",
    "    .filter(F.col(\"row\") == 1) \\\n",
    "    .select(\n",
    "        \"url\",\n",
    "        F.round(F.col(\"distance\"), 3).alias(\"nearest_park_distance\"),  # Round to 3 decimal places\n",
    "        F.col(\"name\").alias(\"nearest_park_name\"),\n",
    "        F.col(\"sa2_name\").alias(\"park_sa2_name\")\n",
    "    )\n",
    "\n",
    "# Join back to the original domain data\n",
    "final_result = domain.join(nearest_park, on=\"url\")\n",
    "\n",
    "# Show the result for validation\n",
    "final_result.select(\n",
    "    \"address\", \n",
    "    \"url\",\n",
    "    \"sa2_code\",\n",
    "    \"property_sa2_name\", \n",
    "    \"extracted_price\", \n",
    "    \"nearest_park_distance\", \n",
    "    \"nearest_park_name\", \n",
    "    \"park_sa2_name\"\n",
    ") \\\n",
    "    .orderBy(\"nearest_park_distance\") \\\n",
    "    .show(10, truncate=False)"
   ]
  },
  {
   "cell_type": "markdown",
   "metadata": {},
   "source": [
    "### Save"
   ]
  },
  {
   "cell_type": "code",
   "execution_count": 10,
   "metadata": {
    "ExecuteTime": {
     "end_time": "2024-09-26T12:43:23.563203Z",
     "start_time": "2024-09-26T12:43:12.078236Z"
    }
   },
   "outputs": [
    {
     "name": "stderr",
     "output_type": "stream",
     "text": [
      "                                                                                \r"
     ]
    }
   ],
   "source": [
    "directory_path = \"../data/curated/parkres\"\n",
    "if not os.path.exists(directory_path):\n",
    "    os.makedirs(directory_path)\n",
    "\n",
    "final_result.select(\n",
    "    \"address\", \n",
    "    \"sa2_code\",\n",
    "    \"url\",\n",
    "    \"property_sa2_name\", \n",
    "    \"extracted_price\", \n",
    "    F.col(\"nearest_park_distance\").alias(\"nearest_parkres_distance\"),  \n",
    "    F.col(\"nearest_park_name\").alias(\"nearest_parkres_name\"), \n",
    "    F.col(\"park_sa2_name\").alias(\"parkres_sa2_name\")\n",
    ").write.parquet(f\"{directory_path}/parkres_domain.parquet\", mode=\"overwrite\")"
   ]
  },
  {
   "cell_type": "markdown",
   "metadata": {},
   "source": [
    "Please turn to `parkres_domain_analysis` for further analysis on the impact of parks/reservations on rental price."
   ]
  }
 ],
 "metadata": {
  "kernelspec": {
   "display_name": "Python 3",
   "language": "python",
   "name": "python3"
  },
  "language_info": {
   "codemirror_mode": {
    "name": "ipython",
    "version": 3
   },
   "file_extension": ".py",
   "mimetype": "text/x-python",
   "name": "python",
   "nbconvert_exporter": "python",
   "pygments_lexer": "ipython3",
   "version": "3.10.12"
  }
 },
 "nbformat": 4,
 "nbformat_minor": 2
}
