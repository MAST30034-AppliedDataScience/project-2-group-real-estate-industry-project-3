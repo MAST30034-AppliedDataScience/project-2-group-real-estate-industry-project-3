{
 "cells": [
  {
   "cell_type": "markdown",
   "metadata": {},
   "source": [
    "# School distance to houses"
   ]
  },
  {
   "cell_type": "code",
   "execution_count": 3,
   "metadata": {},
   "outputs": [],
   "source": [
    "from pyspark.sql import SparkSession\n",
    "from pyspark.sql import functions as func\n",
    "import matplotlib.pyplot as plt\n",
    "import seaborn as sns\n",
    "import os\n",
    "import sys\n",
    "from pyspark.sql import functions as F  #filtering\n",
    "import geopandas as gpd\n",
    "import folium\n",
    "from folium import GeoJsonTooltip\n",
    "import openrouteservice\n",
    "import time\n",
    "from geopy.distance import geodesic\n",
    "import numpy as np\n",
    "import pandas as pd\n"
   ]
  },
  {
   "cell_type": "code",
   "execution_count": 4,
   "metadata": {},
   "outputs": [],
   "source": [
    "# import the parquet file\n",
    "house = pd.read_parquet('../data/landing/domain_cleaned/part-00000-7dc1f449-c232-484e-b4e6-1dfbe30d6a77-c000.snappy.parquet')"
   ]
  },
  {
   "cell_type": "code",
   "execution_count": 6,
   "metadata": {},
   "outputs": [],
   "source": [
    "# import school data\n",
    "school = pd.read_csv('../data/raw/school.csv')"
   ]
  },
  {
   "cell_type": "code",
   "execution_count": 7,
   "metadata": {},
   "outputs": [
    {
     "data": {
      "text/plain": [
       "Education_Sector\n",
       "Government     67.587209\n",
       "Catholic       30.087209\n",
       "Independent     2.325581\n",
       "Name: proportion, dtype: float64"
      ]
     },
     "execution_count": 7,
     "metadata": {},
     "output_type": "execute_result"
    }
   ],
   "source": [
    "# percentage of primary schools that are in the government Education Sector\n",
    "school[school['School_Type'] == 'Primary']['Education_Sector'].value_counts(normalize=True) * 100"
   ]
  },
  {
   "cell_type": "code",
   "execution_count": null,
   "metadata": {},
   "outputs": [],
   "source": [
    "def find_closest_primary_school_with_progress(house, school):\n",
    "    # Filter primary schools\n",
    "    primary_schools = school[school['School_Type'] == 'Primary'].reset_index(drop=True)\n",
    "    \n",
    "    # Convert lat/lon data to NumPy arrays for fast vectorized computation\n",
    "    house_coords = house[['latitude', 'longitude']].to_numpy()\n",
    "    school_coords = primary_schools[['latitude', 'longitude']].to_numpy()\n",
    "\n",
    "    # Create an array to store the closest school indices for each house\n",
    "    closest_school_indices = []\n",
    "\n",
    "    # Loop over each house and show progress\n",
    "    total_houses = len(house_coords)\n",
    "    last_percent_shown = 0  # Track the last percentage shown\n",
    "    \n",
    "    for i, house_coord in enumerate(house_coords):\n",
    "        # Calculate the geodesic distance from this house to all schools\n",
    "        distances = np.array([geodesic(house_coord, school_coord).kilometers for school_coord in school_coords])\n",
    "        \n",
    "        # Find the index of the closest school\n",
    "        closest_school_index = np.argmin(distances)\n",
    "        \n",
    "        # Append the closest school index to the list\n",
    "        closest_school_indices.append(closest_school_index)\n",
    "\n",
    "        # Calculate progress percentage\n",
    "        progress = (i + 1) / total_houses * 100\n",
    "        \n",
    "        # Only print when the progress reaches a new integer percentage\n",
    "        if int(progress) > last_percent_shown:\n",
    "            print(f\"Progress: {int(progress)}%\")\n",
    "            last_percent_shown = int(progress)\n",
    "\n",
    "    # Get the corresponding closest school names based on the indices\n",
    "    closest_primary_schools = primary_schools.iloc[closest_school_indices]['School_No'].values\n",
    "    \n",
    "    return closest_primary_schools\n",
    "\n",
    "# Assign the closest primary school to each house\n",
    "house['closest_primary_school'] = find_closest_primary_school_with_progress(house, school)\n"
   ]
  },
  {
   "cell_type": "markdown",
   "metadata": {},
   "source": [
    "## Car route distance to closest primary school"
   ]
  },
  {
   "cell_type": "markdown",
   "metadata": {},
   "source": [
    "### fist 1000?"
   ]
  },
  {
   "cell_type": "code",
   "execution_count": null,
   "metadata": {},
   "outputs": [],
   "source": [
    "import time\n",
    "import openrouteservice\n",
    "import numpy as np\n",
    "\n",
    "# Set your ORS API key here\n",
    "api_key = '5b3ce3597851110001cf624831f5f7b8900e4eeab9d54353300aab90'\n",
    "client = openrouteservice.Client(key=api_key)\n",
    "\n",
    "# Function to calculate the car route distance with progress tracking and rate limit handling\n",
    "def calculate_route_distance_for_first_1000(house, school, api_limit=1940, batch_size=40):\n",
    "    # Limit the total houses to 1000\n",
    "    total_houses = min(1000, len(house))\n",
    "    \n",
    "    # List to store the distances\n",
    "    distances = [None] * total_houses  # Initialize with None for the first 1000 houses\n",
    "    \n",
    "    processed_houses = 0  # Track how many houses we've processed\n",
    "    progress_checkpoint = 1  # Set the initial checkpoint for 1% progress\n",
    "\n",
    "    # Calculate how many batches we can process\n",
    "    remaining_requests = api_limit\n",
    "    while processed_houses < total_houses and remaining_requests > 0:\n",
    "        # Determine how many houses to process in this batch\n",
    "        batch_houses = min(batch_size, total_houses - processed_houses)\n",
    "        \n",
    "        for i in range(batch_houses):\n",
    "            house_idx = processed_houses + i\n",
    "            # Get the coordinates of the house\n",
    "            house_coords = (house.iloc[house_idx]['longitude'], house.iloc[house_idx]['latitude'])  # ORS expects (lon, lat)\n",
    "            \n",
    "            # Get the school ID\n",
    "            closest_school_id = house.iloc[house_idx]['closest_primary_school']\n",
    "            \n",
    "            # Get the coordinates of the closest school\n",
    "            school_coords = school[school['School_No'] == closest_school_id][['longitude', 'latitude']].values[0]\n",
    "            \n",
    "            # Get the route distance using ORS API\n",
    "            try:\n",
    "                route = client.directions(\n",
    "                    coordinates=[house_coords, tuple(school_coords)],\n",
    "                    profile='driving-car',\n",
    "                    format='geojson'\n",
    "                )\n",
    "                # Extract the distance (in meters) from the route\n",
    "                distance_meters = route['features'][0]['properties']['segments'][0]['distance']\n",
    "                distances[house_idx] = distance_meters / 1000  # Convert to kilometers\n",
    "            except Exception as e:\n",
    "                print(f\"Error calculating distance for house {house_idx}: {e}\")\n",
    "            \n",
    "            # Calculate and print progress every 1%\n",
    "            progress = (processed_houses + i + 1) / total_houses * 100\n",
    "            if progress >= progress_checkpoint:\n",
    "                print(f\"Progress: {int(progress_checkpoint)}% completed\")\n",
    "                progress_checkpoint += 1  # Update to the next 1% checkpoint\n",
    "\n",
    "        # Update the number of processed houses\n",
    "        processed_houses += batch_houses\n",
    "        remaining_requests -= batch_houses\n",
    "        \n",
    "        # If more houses are left and there are still API requests available, wait for the next batch\n",
    "        if processed_houses < total_houses and remaining_requests > 0:\n",
    "            print(f\"Waiting for 1 minute to comply with the API rate limit...\")\n",
    "            time.sleep(60)  # Wait for 1 minute to respect the 40 requests/minute rate limit\n",
    "    \n",
    "    return distances\n",
    "\n",
    "# Initialize the 'car_route_distance_km' column with None for the first 1000 rows\n",
    "house['car_route_distance_km'] = None\n",
    "\n",
    "# Calculate the distances for the first 1000 houses\n",
    "calculated_distances = calculate_route_distance_for_first_1000(house, school)\n",
    "\n",
    "# Assign the calculated distances to the first 1000 rows in the DataFrame\n",
    "house.loc[:999, 'car_route_distance_km'] = calculated_distances"
   ]
  },
  {
   "cell_type": "markdown",
   "metadata": {},
   "source": [
    "### next 500"
   ]
  },
  {
   "cell_type": "code",
   "execution_count": null,
   "metadata": {},
   "outputs": [],
   "source": [
    "# Set your ORS API key here\n",
    "api_key = '5b3ce3597851110001cf624831f5f7b8900e4eeab9d54353300aab90'\n",
    "client = openrouteservice.Client(key=api_key)\n",
    "\n",
    "# Function to calculate the car route distance for the next 500 rows with rate limit handling\n",
    "def calculate_route_distance_for_next_500(house, school, start_index=1000, end_index=1500, api_limit=1000, batch_size=40):\n",
    "    # Limit the total houses to 500\n",
    "    total_houses = min(end_index - start_index, len(house) - start_index)\n",
    "    \n",
    "    # List to store the distances\n",
    "    distances = [None] * total_houses  # Initialize with None for the next 500 houses\n",
    "    \n",
    "    processed_houses = 0  # Track how many houses we've processed\n",
    "    progress_checkpoint = 1  # Set the initial checkpoint for 1% progress\n",
    "\n",
    "    # Calculate how many batches we can process\n",
    "    remaining_requests = api_limit\n",
    "    while processed_houses < total_houses and remaining_requests > 0:\n",
    "        # Determine how many houses to process in this batch\n",
    "        batch_houses = min(batch_size, total_houses - processed_houses)\n",
    "        \n",
    "        for i in range(batch_houses):\n",
    "            house_idx = start_index + processed_houses + i\n",
    "            # Get the coordinates of the house\n",
    "            house_coords = (house.iloc[house_idx]['longitude'], house.iloc[house_idx]['latitude'])  # ORS expects (lon, lat)\n",
    "            \n",
    "            # Get the school ID\n",
    "            closest_school_id = house.iloc[house_idx]['closest_primary_school']\n",
    "            \n",
    "            # Get the coordinates of the closest school\n",
    "            school_coords = school[school['School_No'] == closest_school_id][['longitude', 'latitude']].values[0]\n",
    "            \n",
    "            # Get the route distance using ORS API\n",
    "            try:\n",
    "                route = client.directions(\n",
    "                    coordinates=[house_coords, tuple(school_coords)],\n",
    "                    profile='driving-car',\n",
    "                    format='geojson'\n",
    "                )\n",
    "                # Extract the distance (in meters) from the route\n",
    "                distance_meters = route['features'][0]['properties']['segments'][0]['distance']\n",
    "                distances[processed_houses + i] = distance_meters / 1000  # Convert to kilometers\n",
    "            except Exception as e:\n",
    "                print(f\"Error calculating distance for house {house_idx}: {e}\")\n",
    "            \n",
    "            # Calculate and print progress every 1%\n",
    "            progress = (processed_houses + i + 1) / total_houses * 100\n",
    "            if progress >= progress_checkpoint:\n",
    "                print(f\"Progress: {int(progress_checkpoint)}% completed\")\n",
    "                progress_checkpoint += 1  # Update to the next 1% checkpoint\n",
    "\n",
    "        # Update the number of processed houses\n",
    "        processed_houses += batch_houses\n",
    "        remaining_requests -= batch_houses\n",
    "        \n",
    "        # If more houses are left and there are still API requests available, wait for the next batch\n",
    "        if processed_houses < total_houses and remaining_requests > 0:\n",
    "            print(f\"Waiting for 1 minute to comply with the API rate limit...\")\n",
    "            time.sleep(60)  # Wait for 1 minute to respect the 40 requests/minute rate limit\n",
    "    \n",
    "    return distances\n",
    "\n",
    "# Calculate the distances for the next 500 houses (from index 1000 to 1500)\n",
    "calculated_distances = calculate_route_distance_for_next_500(house, school, start_index=1000, end_index=1500)\n",
    "\n",
    "# Assign the calculated distances to the corresponding rows in the DataFrame\n",
    "house.loc[1000:1499, 'car_route_distance_km'] = calculated_distances"
   ]
  },
  {
   "cell_type": "markdown",
   "metadata": {},
   "source": [
    "### Next 1000"
   ]
  },
  {
   "cell_type": "code",
   "execution_count": null,
   "metadata": {},
   "outputs": [],
   "source": [
    "# Set your ORS API key here\n",
    "api_key = '5b3ce3597851110001cf6248a94ffeeb1e004c8aa25de3362e1fbb3a'\n",
    "client = openrouteservice.Client(key=api_key)\n",
    "\n",
    "# Function to calculate the car route distance for the next 1000 rows with rate limit handling\n",
    "def calculate_route_distance_for_next_1000(house, school, start_index=2000, end_index=3000, api_limit=1500, batch_size=40):\n",
    "    # Limit the total houses to 1000\n",
    "    total_houses = min(end_index - start_index, len(house) - start_index)\n",
    "    \n",
    "    # List to store the distances\n",
    "    distances = [None] * total_houses  # Initialize with None for the next 1000 houses\n",
    "    \n",
    "    processed_houses = 0  # Track how many houses we've processed\n",
    "    progress_checkpoint = 1  # Set the initial checkpoint for 1% progress\n",
    "\n",
    "    # Calculate how many batches we can process\n",
    "    remaining_requests = api_limit\n",
    "    while processed_houses < total_houses and remaining_requests > 0:\n",
    "        # Determine how many houses to process in this batch\n",
    "        batch_houses = min(batch_size, total_houses - processed_houses)\n",
    "        \n",
    "        for i in range(batch_houses):\n",
    "            house_idx = start_index + processed_houses + i\n",
    "            # Get the coordinates of the house\n",
    "            house_coords = (house.iloc[house_idx]['longitude'], house.iloc[house_idx]['latitude'])  # ORS expects (lon, lat)\n",
    "            \n",
    "            # Get the school ID\n",
    "            closest_school_id = house.iloc[house_idx]['closest_primary_school']\n",
    "            \n",
    "            # Get the coordinates of the closest school\n",
    "            school_coords = school[school['School_No'] == closest_school_id][['longitude', 'latitude']].values[0]\n",
    "            \n",
    "            # Get the route distance using ORS API\n",
    "            try:\n",
    "                route = client.directions(\n",
    "                    coordinates=[house_coords, tuple(school_coords)],\n",
    "                    profile='driving-car',\n",
    "                    format='geojson'\n",
    "                )\n",
    "                # Extract the distance (in meters) from the route\n",
    "                distance_meters = route['features'][0]['properties']['segments'][0]['distance']\n",
    "                distances[processed_houses + i] = distance_meters / 1000  # Convert to kilometers\n",
    "            except Exception as e:\n",
    "                print(f\"Error calculating distance for house {house_idx}: {e}\")\n",
    "            \n",
    "            # Calculate and print progress every 1%\n",
    "            progress = (processed_houses + i + 1) / total_houses * 100\n",
    "            if progress >= progress_checkpoint:\n",
    "                print(f\"Progress: {int(progress_checkpoint)}% completed\")\n",
    "                progress_checkpoint += 1  # Update to the next 1% checkpoint\n",
    "\n",
    "        # Update the number of processed houses\n",
    "        processed_houses += batch_houses\n",
    "        remaining_requests -= batch_houses\n",
    "        \n",
    "        # If more houses are left and there are still API requests available, wait for the next batch\n",
    "        if processed_houses < total_houses and remaining_requests > 0:\n",
    "            print(f\"Waiting for 1 minute to comply with the API rate limit...\")\n",
    "            time.sleep(60)  # Wait for 1 minute to respect the 40 requests/minute rate limit\n",
    "    \n",
    "    return distances\n",
    "\n",
    "# Calculate the distances for the next 1000 houses (from index 2000 to 3000)\n",
    "calculated_distances = calculate_route_distance_for_next_1000(house, school, start_index=2000, end_index=3000)\n",
    "\n",
    "# Assign the calculated distances to the corresponding rows in the DataFrame\n",
    "house.loc[2000:2999, 'car_route_distance_km'] = calculated_distances"
   ]
  },
  {
   "cell_type": "code",
   "execution_count": null,
   "metadata": {},
   "outputs": [],
   "source": [
    "# Save the DataFrame to a CSV file after processing each batch in data folder\n",
    "house.to_csv('../data/curated/house_primary_school.csv', index=False)"
   ]
  },
  {
   "cell_type": "code",
   "execution_count": null,
   "metadata": {},
   "outputs": [],
   "source": [
    "# Set your updated ORS API key here\n",
    "api_key = '5b3ce3597851110001cf6248a94ffeeb1e004c8aa25de3362e1fbb3a'\n",
    "client = openrouteservice.Client(key=api_key)\n",
    "\n",
    "# Load the DataFrame when resuming\n",
    "house = pd.read_csv('../data/curated/house_primary_school.csv')\n",
    "\n",
    "\n",
    "# Check which rows already have calculated distances\n",
    "# Start processing from the first row where the 'car_route_distance_km' is still None\n",
    "next_start_index = house[house['car_route_distance_km'].isna()].index.min()\n",
    "\n",
    "# Define the next end index for processing (e.g., process in batches of 500 or 1000)\n",
    "next_end_index = min(next_start_index + 500, len(house))\n",
    "\n",
    "# Call the function to calculate the next batch of distances\n",
    "calculated_distances = calculate_route_distance_for_next_500(house, school, start_index=next_start_index, end_index=next_end_index)\n",
    "\n",
    "# Assign the calculated distances to the corresponding rows in the DataFrame\n",
    "house.loc[next_start_index:next_end_index - 1, 'car_route_distance_km'] = calculated_distances\n",
    "\n",
    "# Save the updated DataFrame again after processing\n",
    "house.to_csv('../data/curated/house_primary_school.csv', index=False)"
   ]
  },
  {
   "cell_type": "code",
   "execution_count": null,
   "metadata": {},
   "outputs": [],
   "source": [
    "# drop all rows with latitude and longitude values of 0\n",
    "house = house[(house['latitude'] != 0) & (house['longitude'] != 0)]\n",
    "# save the updated DataFrame\n",
    "house.to_csv('../data/curated/house_primary_school.csv', index=False)  "
   ]
  },
  {
   "cell_type": "code",
   "execution_count": null,
   "metadata": {},
   "outputs": [],
   "source": [
    "# Load the DataFrame with the real estate data\n",
    "house = pd.read_csv('../data/curated/house_primary_school.csv')"
   ]
  },
  {
   "cell_type": "markdown",
   "metadata": {},
   "source": [
    "## Linear distance to closest independent school"
   ]
  },
  {
   "cell_type": "code",
   "execution_count": 8,
   "metadata": {},
   "outputs": [
    {
     "data": {
      "text/plain": [
       "Education_Sector\n",
       "Government     63.339552\n",
       "Catholic       24.626866\n",
       "Independent    12.033582\n",
       "Name: proportion, dtype: float64"
      ]
     },
     "execution_count": 8,
     "metadata": {},
     "output_type": "execute_result"
    }
   ],
   "source": [
    "# check the number of non-government secondary schools in the data\n",
    "school['Education_Sector'].value_counts(normalize=True) * 100"
   ]
  },
  {
   "cell_type": "code",
   "execution_count": null,
   "metadata": {},
   "outputs": [],
   "source": [
    "def find_closest_catholic_independent_school_with_progress(house, school):\n",
    "    # Filter for Catholic and Independent secondary schools\n",
    "    filtered_schools = school[school['Education_Sector'] == 'Independent'].reset_index(drop=True)\n",
    "    \n",
    "    # Convert lat/lon data to NumPy arrays for fast vectorized computation\n",
    "    house_coords = house[['latitude', 'longitude']].to_numpy()\n",
    "    school_coords = filtered_schools[['latitude', 'longitude']].to_numpy()\n",
    "\n",
    "    # Create arrays to store the closest school distances and indices for each house\n",
    "    closest_school_distances = []\n",
    "    closest_school_indices = []\n",
    "\n",
    "    # Loop over each house and show progress\n",
    "    total_houses = len(house_coords)\n",
    "    last_percent_shown = 0  # Track the last percentage shown\n",
    "    \n",
    "    for i, house_coord in enumerate(house_coords):\n",
    "        # Calculate the geodesic distance from this house to all schools\n",
    "        distances = np.array([geodesic(house_coord, school_coord).kilometers for school_coord in school_coords])\n",
    "        \n",
    "        # Find the index of the closest school\n",
    "        closest_school_index = np.argmin(distances)\n",
    "        closest_distance = distances[closest_school_index]\n",
    "        \n",
    "        # Append the closest school index and distance to the lists\n",
    "        closest_school_indices.append(closest_school_index)\n",
    "        closest_school_distances.append(closest_distance)\n",
    "\n",
    "        # Calculate progress percentage\n",
    "        progress = (i + 1) / total_houses * 100\n",
    "        \n",
    "        # Only print when the progress reaches a new integer percentage\n",
    "        if int(progress) > last_percent_shown:\n",
    "            print(f\"Progress: {int(progress)}%\")\n",
    "            last_percent_shown = int(progress)\n",
    "\n",
    "    # Get the corresponding closest school names based on the indices\n",
    "    closest_school_names = filtered_schools.iloc[closest_school_indices]['School_No'].values\n",
    "\n",
    "    # Return a DataFrame with both the closest school name and the distance\n",
    "    return pd.DataFrame({\n",
    "        'closest_school': closest_school_names,\n",
    "        'distance_to_closest_school': closest_school_distances\n",
    "    })\n",
    "\n",
    "# Calculate the closest Catholic or Independent secondary school for each house\n",
    "closest_schools_df = find_closest_catholic_independent_school_with_progress(house, school)\n",
    "\n",
    "# Add the results to the house DataFrame\n",
    "house['closest_independent_school'] = closest_schools_df['closest_school']\n",
    "house['distance_to_closest_independent_school'] = closest_schools_df['distance_to_closest_school']\n"
   ]
  },
  {
   "cell_type": "code",
   "execution_count": null,
   "metadata": {},
   "outputs": [],
   "source": [
    "# Check correlation between the distance to the closest primary school and the extracted price \n",
    "house[['distance_to_closest_primary_school_km', 'extracted_price']].corr()"
   ]
  },
  {
   "cell_type": "code",
   "execution_count": null,
   "metadata": {},
   "outputs": [],
   "source": [
    "# check correlation between the distance to the closest indepdent school and the extracted price\n",
    "house[['distance_to_closest_independent_school', 'extracted_price']].corr()"
   ]
  }
 ],
 "metadata": {
  "kernelspec": {
   "display_name": "Python 3",
   "language": "python",
   "name": "python3"
  },
  "language_info": {
   "codemirror_mode": {
    "name": "ipython",
    "version": 3
   },
   "file_extension": ".py",
   "mimetype": "text/x-python",
   "name": "python",
   "nbconvert_exporter": "python",
   "pygments_lexer": "ipython3",
   "version": "3.12.1"
  }
 },
 "nbformat": 4,
 "nbformat_minor": 2
}
