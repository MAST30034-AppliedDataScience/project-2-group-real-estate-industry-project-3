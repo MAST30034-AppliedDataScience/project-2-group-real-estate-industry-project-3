{
 "cells": [
  {
   "cell_type": "code",
   "execution_count": 13,
   "id": "initial_id",
   "metadata": {
    "collapsed": true,
    "ExecuteTime": {
     "end_time": "2024-10-04T03:19:26.546766Z",
     "start_time": "2024-10-04T03:19:26.538213Z"
    }
   },
   "outputs": [],
   "source": [
    "import pandas as pd"
   ]
  },
  {
   "cell_type": "code",
   "outputs": [],
   "source": [
    "pd_excel_file = pd.ExcelFile('../data/landing/population_historical.xlsx')"
   ],
   "metadata": {
    "collapsed": false,
    "ExecuteTime": {
     "end_time": "2024-10-04T03:19:26.595662Z",
     "start_time": "2024-10-04T03:19:26.553299Z"
    }
   },
   "id": "751d5855317efae3",
   "execution_count": 14
  },
  {
   "cell_type": "code",
   "outputs": [],
   "source": [
    "# Get sheet 1 as a DataFrame\n",
    "df = pd.read_excel(pd_excel_file, 'Table 1', skiprows=5, skipfooter=2, header=[0,1])"
   ],
   "metadata": {
    "collapsed": false,
    "ExecuteTime": {
     "end_time": "2024-10-04T03:19:27.064861Z",
     "start_time": "2024-10-04T03:19:26.597751Z"
    }
   },
   "id": "446a37d7caadec94",
   "execution_count": 15
  },
  {
   "cell_type": "code",
   "outputs": [
    {
     "data": {
      "text/plain": "  Unnamed: 0_level_0 Unnamed: 1_level_0 Unnamed: 2_level_0 Unnamed: 3_level_0  \\\n          GCCSA code         GCCSA name           SA4 code           SA4 name   \n0              1RNSW        Rest of NSW                101     Capital Region   \n1              1RNSW        Rest of NSW                101     Capital Region   \n2              1RNSW        Rest of NSW                101     Capital Region   \n3              1RNSW        Rest of NSW                101     Capital Region   \n4              1RNSW        Rest of NSW                101     Capital Region   \n\n  Unnamed: 4_level_0 Unnamed: 5_level_0 Unnamed: 6_level_0  \\\n            SA3 code           SA3 name           SA2 code   \n0              10102         Queanbeyan          101021007   \n1              10102         Queanbeyan          101021008   \n2              10102         Queanbeyan          101021009   \n3              10102         Queanbeyan          101021010   \n4              10102         Queanbeyan          101021012   \n\n                Unnamed: 7_level_0  2001   2002  ...   2014   2015   2016  \\\n                          SA2 name   no.    no.  ...    no.    no.    no.   \n0                        Braidwood  2760   2811  ...   3762   3849   3950   \n1                          Karabar  9129   9199  ...   8731   8603   8531   \n2                       Queanbeyan  9717   9513  ...  11199  11213  11230   \n3                Queanbeyan - East  3925   4073  ...   4967   4961   4970   \n4  Queanbeyan West - Jerrabomberra  9425  10257  ...  13193  13164  13150   \n\n    2017   2018   2019   2020   2021   2022   2023  \n     no.    no.    no.    no.    no.    no.    no.  \n0   4041   4145   4218   4282   4332   4366   4396  \n1   8530   8516   8500   8535   8548   8528   8483  \n2  11362  11460  11468  11460  11375  11391  11420  \n3   5016   5079   5126   5089   5097   5091   5099  \n4  13090  13022  12955  12821  12748  12781  12873  \n\n[5 rows x 31 columns]",
      "text/html": "<div>\n<style scoped>\n    .dataframe tbody tr th:only-of-type {\n        vertical-align: middle;\n    }\n\n    .dataframe tbody tr th {\n        vertical-align: top;\n    }\n\n    .dataframe thead tr th {\n        text-align: left;\n    }\n</style>\n<table border=\"1\" class=\"dataframe\">\n  <thead>\n    <tr>\n      <th></th>\n      <th>Unnamed: 0_level_0</th>\n      <th>Unnamed: 1_level_0</th>\n      <th>Unnamed: 2_level_0</th>\n      <th>Unnamed: 3_level_0</th>\n      <th>Unnamed: 4_level_0</th>\n      <th>Unnamed: 5_level_0</th>\n      <th>Unnamed: 6_level_0</th>\n      <th>Unnamed: 7_level_0</th>\n      <th>2001</th>\n      <th>2002</th>\n      <th>...</th>\n      <th>2014</th>\n      <th>2015</th>\n      <th>2016</th>\n      <th>2017</th>\n      <th>2018</th>\n      <th>2019</th>\n      <th>2020</th>\n      <th>2021</th>\n      <th>2022</th>\n      <th>2023</th>\n    </tr>\n    <tr>\n      <th></th>\n      <th>GCCSA code</th>\n      <th>GCCSA name</th>\n      <th>SA4 code</th>\n      <th>SA4 name</th>\n      <th>SA3 code</th>\n      <th>SA3 name</th>\n      <th>SA2 code</th>\n      <th>SA2 name</th>\n      <th>no.</th>\n      <th>no.</th>\n      <th>...</th>\n      <th>no.</th>\n      <th>no.</th>\n      <th>no.</th>\n      <th>no.</th>\n      <th>no.</th>\n      <th>no.</th>\n      <th>no.</th>\n      <th>no.</th>\n      <th>no.</th>\n      <th>no.</th>\n    </tr>\n  </thead>\n  <tbody>\n    <tr>\n      <th>0</th>\n      <td>1RNSW</td>\n      <td>Rest of NSW</td>\n      <td>101</td>\n      <td>Capital Region</td>\n      <td>10102</td>\n      <td>Queanbeyan</td>\n      <td>101021007</td>\n      <td>Braidwood</td>\n      <td>2760</td>\n      <td>2811</td>\n      <td>...</td>\n      <td>3762</td>\n      <td>3849</td>\n      <td>3950</td>\n      <td>4041</td>\n      <td>4145</td>\n      <td>4218</td>\n      <td>4282</td>\n      <td>4332</td>\n      <td>4366</td>\n      <td>4396</td>\n    </tr>\n    <tr>\n      <th>1</th>\n      <td>1RNSW</td>\n      <td>Rest of NSW</td>\n      <td>101</td>\n      <td>Capital Region</td>\n      <td>10102</td>\n      <td>Queanbeyan</td>\n      <td>101021008</td>\n      <td>Karabar</td>\n      <td>9129</td>\n      <td>9199</td>\n      <td>...</td>\n      <td>8731</td>\n      <td>8603</td>\n      <td>8531</td>\n      <td>8530</td>\n      <td>8516</td>\n      <td>8500</td>\n      <td>8535</td>\n      <td>8548</td>\n      <td>8528</td>\n      <td>8483</td>\n    </tr>\n    <tr>\n      <th>2</th>\n      <td>1RNSW</td>\n      <td>Rest of NSW</td>\n      <td>101</td>\n      <td>Capital Region</td>\n      <td>10102</td>\n      <td>Queanbeyan</td>\n      <td>101021009</td>\n      <td>Queanbeyan</td>\n      <td>9717</td>\n      <td>9513</td>\n      <td>...</td>\n      <td>11199</td>\n      <td>11213</td>\n      <td>11230</td>\n      <td>11362</td>\n      <td>11460</td>\n      <td>11468</td>\n      <td>11460</td>\n      <td>11375</td>\n      <td>11391</td>\n      <td>11420</td>\n    </tr>\n    <tr>\n      <th>3</th>\n      <td>1RNSW</td>\n      <td>Rest of NSW</td>\n      <td>101</td>\n      <td>Capital Region</td>\n      <td>10102</td>\n      <td>Queanbeyan</td>\n      <td>101021010</td>\n      <td>Queanbeyan - East</td>\n      <td>3925</td>\n      <td>4073</td>\n      <td>...</td>\n      <td>4967</td>\n      <td>4961</td>\n      <td>4970</td>\n      <td>5016</td>\n      <td>5079</td>\n      <td>5126</td>\n      <td>5089</td>\n      <td>5097</td>\n      <td>5091</td>\n      <td>5099</td>\n    </tr>\n    <tr>\n      <th>4</th>\n      <td>1RNSW</td>\n      <td>Rest of NSW</td>\n      <td>101</td>\n      <td>Capital Region</td>\n      <td>10102</td>\n      <td>Queanbeyan</td>\n      <td>101021012</td>\n      <td>Queanbeyan West - Jerrabomberra</td>\n      <td>9425</td>\n      <td>10257</td>\n      <td>...</td>\n      <td>13193</td>\n      <td>13164</td>\n      <td>13150</td>\n      <td>13090</td>\n      <td>13022</td>\n      <td>12955</td>\n      <td>12821</td>\n      <td>12748</td>\n      <td>12781</td>\n      <td>12873</td>\n    </tr>\n  </tbody>\n</table>\n<p>5 rows × 31 columns</p>\n</div>"
     },
     "execution_count": 16,
     "metadata": {},
     "output_type": "execute_result"
    }
   ],
   "source": [
    "df.head()"
   ],
   "metadata": {
    "collapsed": false,
    "ExecuteTime": {
     "end_time": "2024-10-04T03:19:27.072592Z",
     "start_time": "2024-10-04T03:19:27.065485Z"
    }
   },
   "id": "ad74677b49cab455",
   "execution_count": 16
  }
 ],
 "metadata": {
  "kernelspec": {
   "display_name": "Python 3",
   "language": "python",
   "name": "python3"
  },
  "language_info": {
   "codemirror_mode": {
    "name": "ipython",
    "version": 2
   },
   "file_extension": ".py",
   "mimetype": "text/x-python",
   "name": "python",
   "nbconvert_exporter": "python",
   "pygments_lexer": "ipython2",
   "version": "2.7.6"
  }
 },
 "nbformat": 4,
 "nbformat_minor": 5
}
