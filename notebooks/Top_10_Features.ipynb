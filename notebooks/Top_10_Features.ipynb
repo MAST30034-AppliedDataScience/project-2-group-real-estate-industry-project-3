{
 "cells": [
  {
   "cell_type": "code",
   "execution_count": 2,
   "metadata": {},
   "outputs": [],
   "source": [
    "import pandas as pd\n",
    "rf_feature_imp = pd.read_csv(\"../data/curated/RF_feature_importance.csv\")\n",
    "xgb_feature_imp = pd.read_csv('../data/curated/feature_importance_xgboost.csv')   "
   ]
  },
  {
   "cell_type": "code",
   "execution_count": 3,
   "metadata": {},
   "outputs": [
    {
     "data": {
      "text/html": [
       "<div>\n",
       "<style scoped>\n",
       "    .dataframe tbody tr th:only-of-type {\n",
       "        vertical-align: middle;\n",
       "    }\n",
       "\n",
       "    .dataframe tbody tr th {\n",
       "        vertical-align: top;\n",
       "    }\n",
       "\n",
       "    .dataframe thead th {\n",
       "        text-align: right;\n",
       "    }\n",
       "</style>\n",
       "<table border=\"1\" class=\"dataframe\">\n",
       "  <thead>\n",
       "    <tr style=\"text-align: right;\">\n",
       "      <th></th>\n",
       "      <th>Feature</th>\n",
       "      <th>importance</th>\n",
       "    </tr>\n",
       "  </thead>\n",
       "  <tbody>\n",
       "    <tr>\n",
       "      <th>0</th>\n",
       "      <td>Baths</td>\n",
       "      <td>0.203269</td>\n",
       "    </tr>\n",
       "    <tr>\n",
       "      <th>1</th>\n",
       "      <td>Beds</td>\n",
       "      <td>0.157216</td>\n",
       "    </tr>\n",
       "    <tr>\n",
       "      <th>2</th>\n",
       "      <td>SA2 code_x</td>\n",
       "      <td>0.141317</td>\n",
       "    </tr>\n",
       "    <tr>\n",
       "      <th>3</th>\n",
       "      <td>Top 10%</td>\n",
       "      <td>0.061924</td>\n",
       "    </tr>\n",
       "    <tr>\n",
       "      <th>4</th>\n",
       "      <td>HHS_2036</td>\n",
       "      <td>0.048766</td>\n",
       "    </tr>\n",
       "  </tbody>\n",
       "</table>\n",
       "</div>"
      ],
      "text/plain": [
       "      Feature  importance\n",
       "0       Baths    0.203269\n",
       "1        Beds    0.157216\n",
       "2  SA2 code_x    0.141317\n",
       "3     Top 10%    0.061924\n",
       "4    HHS_2036    0.048766"
      ]
     },
     "execution_count": 3,
     "metadata": {},
     "output_type": "execute_result"
    }
   ],
   "source": [
    "rf_feature_imp.rename(columns={'Unnamed: 0': 'Feature'}, inplace=True)\n",
    "rf_feature_imp.head(5)\n"
   ]
  },
  {
   "cell_type": "code",
   "execution_count": 4,
   "metadata": {},
   "outputs": [
    {
     "data": {
      "text/html": [
       "<div>\n",
       "<style scoped>\n",
       "    .dataframe tbody tr th:only-of-type {\n",
       "        vertical-align: middle;\n",
       "    }\n",
       "\n",
       "    .dataframe tbody tr th {\n",
       "        vertical-align: top;\n",
       "    }\n",
       "\n",
       "    .dataframe thead th {\n",
       "        text-align: right;\n",
       "    }\n",
       "</style>\n",
       "<table border=\"1\" class=\"dataframe\">\n",
       "  <thead>\n",
       "    <tr style=\"text-align: right;\">\n",
       "      <th></th>\n",
       "      <th>Feature</th>\n",
       "      <th>Importance</th>\n",
       "    </tr>\n",
       "  </thead>\n",
       "  <tbody>\n",
       "    <tr>\n",
       "      <th>0</th>\n",
       "      <td>Beds</td>\n",
       "      <td>0.018021</td>\n",
       "    </tr>\n",
       "    <tr>\n",
       "      <th>1</th>\n",
       "      <td>Baths</td>\n",
       "      <td>0.071697</td>\n",
       "    </tr>\n",
       "    <tr>\n",
       "      <th>2</th>\n",
       "      <td>Parking</td>\n",
       "      <td>0.004923</td>\n",
       "    </tr>\n",
       "    <tr>\n",
       "      <th>3</th>\n",
       "      <td>chg_flag</td>\n",
       "      <td>0.000062</td>\n",
       "    </tr>\n",
       "    <tr>\n",
       "      <th>4</th>\n",
       "      <td>ste_code</td>\n",
       "      <td>0.000000</td>\n",
       "    </tr>\n",
       "  </tbody>\n",
       "</table>\n",
       "</div>"
      ],
      "text/plain": [
       "    Feature  Importance\n",
       "0      Beds    0.018021\n",
       "1     Baths    0.071697\n",
       "2   Parking    0.004923\n",
       "3  chg_flag    0.000062\n",
       "4  ste_code    0.000000"
      ]
     },
     "execution_count": 4,
     "metadata": {},
     "output_type": "execute_result"
    }
   ],
   "source": [
    "xgb_feature_imp = xgb_feature_imp.drop(\"Unnamed: 0\", axis=1)\n",
    "xgb_feature_imp.head(5)"
   ]
  },
  {
   "cell_type": "code",
   "execution_count": 5,
   "metadata": {},
   "outputs": [
    {
     "name": "stderr",
     "output_type": "stream",
     "text": [
      "/var/folders/9c/2vbsxdnd7k7_tnzhl33znmpm0000gp/T/ipykernel_5892/967585568.py:20: SettingWithCopyWarning: \n",
      "A value is trying to be set on a copy of a slice from a DataFrame.\n",
      "Try using .loc[row_indexer,col_indexer] = value instead\n",
      "\n",
      "See the caveats in the documentation: https://pandas.pydata.org/pandas-docs/stable/user_guide/indexing.html#returning-a-view-versus-a-copy\n",
      "  top_10_features['Feature'] = top_10_features['Feature'].replace('SA2 code_x', 'SA2 Code')\n"
     ]
    },
    {
     "data": {
      "text/html": [
       "<div>\n",
       "<style scoped>\n",
       "    .dataframe tbody tr th:only-of-type {\n",
       "        vertical-align: middle;\n",
       "    }\n",
       "\n",
       "    .dataframe tbody tr th {\n",
       "        vertical-align: top;\n",
       "    }\n",
       "\n",
       "    .dataframe thead th {\n",
       "        text-align: right;\n",
       "    }\n",
       "</style>\n",
       "<table border=\"1\" class=\"dataframe\">\n",
       "  <thead>\n",
       "    <tr style=\"text-align: right;\">\n",
       "      <th></th>\n",
       "      <th>Feature</th>\n",
       "      <th>rf_importance</th>\n",
       "      <th>xgb_importance</th>\n",
       "      <th>avg_importance</th>\n",
       "    </tr>\n",
       "  </thead>\n",
       "  <tbody>\n",
       "    <tr>\n",
       "      <th>2</th>\n",
       "      <td>SA2 Code</td>\n",
       "      <td>0.141317</td>\n",
       "      <td>0.144212</td>\n",
       "      <td>0.142764</td>\n",
       "    </tr>\n",
       "    <tr>\n",
       "      <th>0</th>\n",
       "      <td>Baths</td>\n",
       "      <td>0.203269</td>\n",
       "      <td>0.071697</td>\n",
       "      <td>0.137483</td>\n",
       "    </tr>\n",
       "    <tr>\n",
       "      <th>1</th>\n",
       "      <td>Beds</td>\n",
       "      <td>0.157216</td>\n",
       "      <td>0.018021</td>\n",
       "      <td>0.087619</td>\n",
       "    </tr>\n",
       "    <tr>\n",
       "      <th>11</th>\n",
       "      <td>Mean</td>\n",
       "      <td>0.021493</td>\n",
       "      <td>0.060716</td>\n",
       "      <td>0.041105</td>\n",
       "    </tr>\n",
       "    <tr>\n",
       "      <th>3</th>\n",
       "      <td>Top 10%</td>\n",
       "      <td>0.061924</td>\n",
       "      <td>0.010491</td>\n",
       "      <td>0.036207</td>\n",
       "    </tr>\n",
       "    <tr>\n",
       "      <th>4</th>\n",
       "      <td>HHS_2036</td>\n",
       "      <td>0.048766</td>\n",
       "      <td>0.021432</td>\n",
       "      <td>0.035099</td>\n",
       "    </tr>\n",
       "    <tr>\n",
       "      <th>13</th>\n",
       "      <td>Highest Quartile</td>\n",
       "      <td>0.015704</td>\n",
       "      <td>0.053222</td>\n",
       "      <td>0.034463</td>\n",
       "    </tr>\n",
       "    <tr>\n",
       "      <th>5</th>\n",
       "      <td>cbd_distance_km</td>\n",
       "      <td>0.042036</td>\n",
       "      <td>0.006919</td>\n",
       "      <td>0.024478</td>\n",
       "    </tr>\n",
       "    <tr>\n",
       "      <th>17</th>\n",
       "      <td>Gini coefficient</td>\n",
       "      <td>0.008985</td>\n",
       "      <td>0.036351</td>\n",
       "      <td>0.022668</td>\n",
       "    </tr>\n",
       "    <tr>\n",
       "      <th>7</th>\n",
       "      <td>distance_to_closest_school</td>\n",
       "      <td>0.030947</td>\n",
       "      <td>0.002116</td>\n",
       "      <td>0.016532</td>\n",
       "    </tr>\n",
       "  </tbody>\n",
       "</table>\n",
       "</div>"
      ],
      "text/plain": [
       "                       Feature  rf_importance  xgb_importance  avg_importance\n",
       "2                     SA2 Code       0.141317        0.144212        0.142764\n",
       "0                        Baths       0.203269        0.071697        0.137483\n",
       "1                         Beds       0.157216        0.018021        0.087619\n",
       "11                        Mean       0.021493        0.060716        0.041105\n",
       "3                      Top 10%       0.061924        0.010491        0.036207\n",
       "4                     HHS_2036       0.048766        0.021432        0.035099\n",
       "13            Highest Quartile       0.015704        0.053222        0.034463\n",
       "5              cbd_distance_km       0.042036        0.006919        0.024478\n",
       "17            Gini coefficient       0.008985        0.036351        0.022668\n",
       "7   distance_to_closest_school       0.030947        0.002116        0.016532"
      ]
     },
     "execution_count": 5,
     "metadata": {},
     "output_type": "execute_result"
    }
   ],
   "source": [
    "# Correct way to rename without reassigning\n",
    "rf_feature_imp.rename(columns={'importance': 'rf_importance'}, inplace=True)\n",
    "xgb_feature_imp.rename(columns={'Importance': 'xgb_importance'}, inplace=True)\n",
    "\n",
    "# Now you can merge without issues\n",
    "combined_feature_imp = pd.merge(rf_feature_imp, xgb_feature_imp, on='Feature', how='outer')\n",
    "\n",
    "# Fill NaN values with 0 (in case a feature is present in one model but not the other)\n",
    "combined_feature_imp.fillna(0, inplace=True)\n",
    "# Calculate an aggregated importance score (e.g., average of RF and XGB importances)\n",
    "combined_feature_imp['avg_importance'] = (combined_feature_imp['rf_importance'] + combined_feature_imp['xgb_importance']) / 2\n",
    "\n",
    "# Sort by the aggregated importance score in descending order\n",
    "combined_feature_imp = combined_feature_imp.sort_values(by='avg_importance', ascending=False)\n",
    "\n",
    "# Select the top 10 features\n",
    "top_10_features = combined_feature_imp.head(10)\n",
    "                                            \n",
    "# Rename 'SA2 code_x' to 'SA2 Code'\n",
    "top_10_features['Feature'] = top_10_features['Feature'].replace('SA2 code_x', 'SA2 Code')\n",
    "\n",
    "# Display the top 10 features\n",
    "top_10_features"
   ]
  },
  {
   "cell_type": "code",
   "execution_count": 6,
   "metadata": {},
   "outputs": [
    {
     "data": {
      "image/png": "[encoded data removed]",
      "text/plain": [
       "<Figure size 1000x600 with 1 Axes>"
      ]
     },
     "metadata": {},
     "output_type": "display_data"
    }
   ],
   "source": [
    "import matplotlib.pyplot as plt\n",
    "\n",
    "# Plot\n",
    "plt.figure(figsize=(10, 6))\n",
    "plt.barh(top_10_features['Feature'], top_10_features['avg_importance'], color='teal')\n",
    "plt.xlabel('Average Importance')\n",
    "plt.ylabel('Feature')\n",
    "plt.title('Feature Importance (Average)')\n",
    "plt.gca().invert_yaxis()  # To display the highest importance at the top\n",
    "plt.tight_layout()\n",
    "plt.savefig(\"../plots/top_10_features.jpg\")\n",
    "# Show the plot\n",
    "plt.show()\n"
   ]
  },
  {
   "cell_type": "code",
   "execution_count": 7,
   "metadata": {},
   "outputs": [],
   "source": [
    "top_10_features.to_csv(\"../data/curated/top_10\")"
   ]
  }
 ],
 "metadata": {
  "kernelspec": {
   "display_name": "base",
   "language": "python",
   "name": "python3"
  },
  "language_info": {
   "codemirror_mode": {
    "name": "ipython",
    "version": 3
   },
   "file_extension": ".py",
   "mimetype": "text/x-python",
   "name": "python",
   "nbconvert_exporter": "python",
   "pygments_lexer": "ipython3",
   "version": "3.11.3"
  }
 },
 "nbformat": 4,
 "nbformat_minor": 2
}
