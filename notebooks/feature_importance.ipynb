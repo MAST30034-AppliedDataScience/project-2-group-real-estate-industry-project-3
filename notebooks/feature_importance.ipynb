{
 "cells": [
  {
   "cell_type": "code",
   "execution_count": 12,
   "metadata": {},
   "outputs": [],
   "source": [
    "# merging datasets\n",
    "import pandas as pd\n",
    "ptv = pd.read_parquet('../data/curated/final_train_hospital_cbd_dist_data')\n",
    "shop = pd.read_csv('../data/curated/agg_shopping_centre.csv')\n",
    "household = pd.read_csv('../data/curated/dwellings_household.csv')\n",
    "recreation = pd.read_csv('../data/curated/recreation_cleaned.csv')\n",
    "population = pd.read_csv('../data/curated/total_population.csv')\n",
    "park_domain = pd.read_parquet('../data/curated/parkres/parkres_domain.parquet')\n",
    "school = pd.read_csv('../data/curated/house_independent_school.csv')\n",
    "income = pd.read_parquet('../data/curated/income.parquet')\n",
    "crime = pd.read_csv('../data/curated/property_data/agg_property_lost.csv')"
   ]
  },
  {
   "cell_type": "code",
   "execution_count": 13,
   "metadata": {},
   "outputs": [],
   "source": [
    "columns_to_drop = [\n",
    "    'price', 'address', 'property_type', 'latitude', 'longitude',\n",
    "    'Beds', 'Baths', 'Parking', 'bond', 'extracted_price', 'geometry',\n",
    "    'index_right', 'sa2_code', 'sa2_name', 'chg_flag', 'chg_lbl',\n",
    "    'sa3_code', 'sa3_name', 'sa4_code', 'sa4_name', 'gcc_code', 'gcc_name',\n",
    "    'ste_code', 'ste_name', 'aus_code', 'aus_name', 'areasqkm', 'loci_uri',\n",
    "    'geometry_proj', 'Unnamed: 0'\n",
    "]\n",
    "\n",
    "# Dropping the columns from the DataFrame\n",
    "school = school.drop(columns=columns_to_drop)"
   ]
  },
  {
   "cell_type": "code",
   "execution_count": 14,
   "metadata": {},
   "outputs": [
    {
     "name": "stderr",
     "output_type": "stream",
     "text": [
      "/var/folders/b6/nv55vzd50gz6bs69664021z00000gn/T/ipykernel_1272/3984844621.py:7: FutureWarning: Passing 'suffixes' which cause duplicate columns {'sa2_name_x'} in the result is deprecated and will raise a MergeError in a future version.\n",
      "  joint = joint.merge(crime,left_on='sa2_name_x', right_on='sa2_name', how='left')\n"
     ]
    }
   ],
   "source": [
    "joint = pd.merge(ptv, shop, on='sa2_code', how='left')\n",
    "joint = joint.merge(household, left_on='sa2_code', right_on='SA2 code', how='left')\n",
    "joint = joint.merge(recreation, on='sa2_code', how='left')\n",
    "joint = joint.merge(population, on='sa2_code', how='left')\n",
    "joint = joint.merge(park_domain, on='url', how='left')\n",
    "joint = joint.merge(school, on='url', how='left')\n",
    "joint = joint.merge(crime,left_on='sa2_name_x', right_on='sa2_name', how='left')\n",
    "# Drop columns with '_y' suffix\n",
    "columns_to_drop = [col for col in joint.columns if col.endswith('_y')]\n",
    "joint_cleaned = joint.drop(columns=columns_to_drop)\n",
    "\n",
    "# Rename columns with '_x' suffix by removing '_x'\n",
    "joint_cleaned.columns = [col.replace('_x', '') for col in joint_cleaned.columns]\n",
    "joint_cleaned['sa2_code'] = joint_cleaned['sa2_code'].astype(str)\n",
    "income['SA2 code'] = income['SA2 code'].astype(str)\n",
    "joint_cleaned = joint_cleaned.merge(income, left_on='sa2_code', right_on='SA2 code', how='left')"
   ]
  },
  {
   "cell_type": "code",
   "execution_count": 15,
   "metadata": {},
   "outputs": [
    {
     "name": "stdout",
     "output_type": "stream",
     "text": [
      "9565\n"
     ]
    }
   ],
   "source": [
    "print(len(joint_cleaned))"
   ]
  },
  {
   "cell_type": "code",
   "execution_count": 16,
   "metadata": {},
   "outputs": [],
   "source": [
    "joint_cleaned = joint_cleaned.loc[:, ~joint_cleaned.columns.duplicated()]"
   ]
  },
  {
   "cell_type": "code",
   "execution_count": 17,
   "metadata": {},
   "outputs": [],
   "source": [
    "joint_cleaned.to_parquet('../data/curated/features_domain.parquet')"
   ]
  },
  {
   "cell_type": "code",
   "execution_count": 18,
   "metadata": {},
   "outputs": [
    {
     "data": {
      "text/plain": [
       "114"
      ]
     },
     "execution_count": 18,
     "metadata": {},
     "output_type": "execute_result"
    }
   ],
   "source": [
    "len(joint_cleaned.columns)"
   ]
  }
 ],
 "metadata": {
  "kernelspec": {
   "display_name": "base",
   "language": "python",
   "name": "python3"
  },
  "language_info": {
   "codemirror_mode": {
    "name": "ipython",
    "version": 3
   },
   "file_extension": ".py",
   "mimetype": "text/x-python",
   "name": "python",
   "nbconvert_exporter": "python",
   "pygments_lexer": "ipython3",
   "version": "3.11.3"
  }
 },
 "nbformat": 4,
 "nbformat_minor": 2
}
