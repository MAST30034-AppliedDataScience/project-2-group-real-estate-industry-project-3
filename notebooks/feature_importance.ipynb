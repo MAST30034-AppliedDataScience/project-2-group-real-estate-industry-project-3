{
 "cells": [
  {
   "cell_type": "code",
   "execution_count": 64,
   "metadata": {},
   "outputs": [],
   "source": [
    "# merging datasets\n",
    "import pandas as pd\n",
    "ptv = pd.read_parquet('../data/curated/final_train_hospital_cbd_dist_data')\n",
    "shop = pd.read_csv('../data/curated/agg_shopping_centre.csv')\n",
    "household = pd.read_csv('../data/curated/dwellings_household.csv')\n",
    "recreation = pd.read_csv('../data/curated/recreation_cleaned.csv')\n",
    "population = pd.read_csv('../data/curated/total_population.csv')\n",
    "park_domain = pd.read_parquet('../data/curated/parkres/parkres_domain.parquet')\n",
    "school = pd.read_csv('../data/curated/house_independent_school.csv')"
   ]
  },
  {
   "cell_type": "code",
   "execution_count": 65,
   "metadata": {},
   "outputs": [],
   "source": [
    "columns_to_drop = [\n",
    "    'price', 'address', 'property_type', 'latitude', 'longitude',\n",
    "    'Beds', 'Baths', 'Parking', 'bond', 'extracted_price', 'geometry',\n",
    "    'index_right', 'sa2_code', 'sa2_name', 'chg_flag', 'chg_lbl',\n",
    "    'sa3_code', 'sa3_name', 'sa4_code', 'sa4_name', 'gcc_code', 'gcc_name',\n",
    "    'ste_code', 'ste_name', 'aus_code', 'aus_name', 'areasqkm', 'loci_uri',\n",
    "    'geometry_proj', 'Unnamed: 0'\n",
    "]\n",
    "\n",
    "# Dropping the columns from the DataFrame\n",
    "school = school.drop(columns=columns_to_drop)"
   ]
  },
  {
   "cell_type": "code",
   "execution_count": 66,
   "metadata": {},
   "outputs": [],
   "source": [
    "joint = pd.merge(ptv, shop, on='sa2_code', how='left')\n",
    "joint = joint.merge(household, left_on='sa2_code', right_on='SA2 code', how='left')\n",
    "joint = joint.merge(recreation, on='sa2_code', how='left')\n",
    "joint = joint.merge(population, on='sa2_code', how='left')\n",
    "joint = joint.merge(park_domain, on='url', how='left')\n",
    "joint = joint.merge(school, on='url', how='left')"
   ]
  },
  {
   "cell_type": "code",
   "execution_count": 67,
   "metadata": {},
   "outputs": [],
   "source": [
    "joint = joint.drop(columns=['sa2_name_y', 'sa2_name_x'])"
   ]
  },
  {
   "cell_type": "code",
   "execution_count": 68,
   "metadata": {},
   "outputs": [
    {
     "data": {
      "text/plain": [
       "Index(['url', 'price', 'address_x', 'property_type', 'latitude', 'longitude',\n",
       "       'Beds', 'Baths', 'Parking', 'bond', 'extracted_price_x', 'geometry',\n",
       "       'index_right', 'sa2_code_x', 'chg_flag', 'chg_lbl', 'sa3_code',\n",
       "       'sa3_name', 'sa4_code', 'sa4_name', 'gcc_code', 'gcc_name', 'ste_code',\n",
       "       'ste_name', 'aus_code', 'aus_name', 'areasqkm', 'loci_uri',\n",
       "       'geometry_proj', 'suburb', 'property_id', 'nearest_station_id',\n",
       "       'train_station_distance_km', 'cbd_distance_km', 'nearest_hospital_id',\n",
       "       'nearest_hospital_distance', 'mean_stores', 'total_stores',\n",
       "       'count_shopping_centres', 'SA2 code', 'Region', 'ERP_2021', 'ERP_2026',\n",
       "       'ERP_2031', 'ERP_2036', 'PNPD_2021', 'PNPD_2026', 'PNPD_2031',\n",
       "       'PNPD_2036', 'POPD_2021', 'POPD_2026', 'POPD_2031', 'POPD_2036',\n",
       "       'OPD_2021', 'OPD_2026', 'OPD_2031', 'OPD_2036', 'HHS_2021', 'HHS_2026',\n",
       "       'HHS_2031', 'HHS_2036', 'SPD_2021', 'SPD_2026', 'SPD_2031', 'SPD_2036',\n",
       "       'OCC_2021', 'OCC_2026', 'OCC_2031', 'OCC_2036',\n",
       "       'population_growth_2021_2026', 'population_growth_2026_2031',\n",
       "       'population_growth_2031_2036', 'total_population_growth',\n",
       "       'Facility Count', 'sa2_name', 'erp_2022_no.', 'erp_2023_no.',\n",
       "       'erp_change_no.', 'erp_change_percentage',\n",
       "       'pop_change_natural_increase', 'pop_change_net_internal_migration',\n",
       "       'pop_change_oversea_migration', 'area_km2',\n",
       "       'population_density_persons_per_km2_2023', 'address_y', 'sa2_code_y',\n",
       "       'property_sa2_name', 'extracted_price_y', 'nearest_parkres_distance',\n",
       "       'nearest_parkres_name', 'parkres_sa2_name', 'closest_school',\n",
       "       'distance_to_closest_school', 'closest_independent_school',\n",
       "       'distance_to_closest_independent_school'],\n",
       "      dtype='object')"
      ]
     },
     "execution_count": 68,
     "metadata": {},
     "output_type": "execute_result"
    }
   ],
   "source": [
    "joint.columns"
   ]
  },
  {
   "cell_type": "code",
   "execution_count": 69,
   "metadata": {},
   "outputs": [
    {
     "name": "stdout",
     "output_type": "stream",
     "text": [
      "9565\n"
     ]
    }
   ],
   "source": [
    "print(len(joint))"
   ]
  },
  {
   "cell_type": "code",
   "execution_count": 70,
   "metadata": {},
   "outputs": [],
   "source": [
    "joint.to_parquet('../data/curated/features_domain.parquet')"
   ]
  }
 ],
 "metadata": {
  "kernelspec": {
   "display_name": "Python 3",
   "language": "python",
   "name": "python3"
  },
  "language_info": {
   "codemirror_mode": {
    "name": "ipython",
    "version": 3
   },
   "file_extension": ".py",
   "mimetype": "text/x-python",
   "name": "python",
   "nbconvert_exporter": "python",
   "pygments_lexer": "ipython3",
   "version": "3.10.12"
  }
 },
 "nbformat": 4,
 "nbformat_minor": 2
}
