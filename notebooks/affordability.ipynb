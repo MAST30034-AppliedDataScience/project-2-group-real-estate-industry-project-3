{
 "cells": [
  {
   "cell_type": "markdown",
   "metadata": {},
   "source": [
    "# Affordability"
   ]
  },
  {
   "cell_type": "markdown",
   "metadata": {},
   "source": [
    "Median Rent (R): Rent as a percentage of median household income.\n",
    "\n",
    "Historical Rental Price Growth (G): To ensure affordability remains sustainable over time.\n",
    "\n",
    "Availability of Housing (H): Ratio of available rentals to the population size.\n",
    "\n",
    "Number of Beds (B): The number of bedrooms, a key indicator of property size \n",
    "\n",
    "Property Type (T): Differentiating between houses, apartments, or other types."
   ]
  },
  {
   "cell_type": "markdown",
   "metadata": {},
   "source": []
  }
 ],
 "metadata": {
  "kernelspec": {
   "display_name": "Python 3",
   "language": "python",
   "name": "python3"
  },
  "language_info": {
   "codemirror_mode": {
    "name": "ipython",
    "version": 3
   },
   "file_extension": ".py",
   "mimetype": "text/x-python",
   "name": "python",
   "nbconvert_exporter": "python",
   "pygments_lexer": "ipython3",
   "version": "3.12.1"
  }
 },
 "nbformat": 4,
 "nbformat_minor": 2
}
