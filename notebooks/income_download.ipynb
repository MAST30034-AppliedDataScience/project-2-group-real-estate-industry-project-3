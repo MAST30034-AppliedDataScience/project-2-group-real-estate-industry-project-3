{
 "cells": [
  {
   "cell_type": "markdown",
   "metadata": {},
   "source": [
    "# Income Dataset download\n",
    "Written by: **Hanshi Tang**\n",
    "Description: This script downloads an income file from the Australian Bureau of Statistics (ABS) website \n",
    "and saves it to the data/landing directory."
   ]
  },
  {
   "cell_type": "code",
   "execution_count": 2,
   "metadata": {},
   "outputs": [],
   "source": [
    "# Importing necessary libraries\n",
    "import os\n",
    "import requests\n",
    "import pandas as pd"
   ]
  },
  {
   "cell_type": "code",
   "execution_count": 4,
   "metadata": {},
   "outputs": [
    {
     "name": "stdout",
     "output_type": "stream",
     "text": [
      "File downloaded successfully and saved to ../data/landing/Table 2 - Total income distribution by geography, 2020-21.xlsx\n",
      "File processed and saved as Excel.\n"
     ]
    }
   ],
   "source": [
    "# Step 1: Direct download link to the Excel file (ensure the link is valid)\n",
    "direct_file_link = \"https://www.abs.gov.au/statistics/labour/earnings-and-working-conditions/personal-income-australia/2020-21-financial-year/Table%203%20-%20Employee%20income%2C%20earners%20and%20summary%20statistics%20by%20geography%2C%202016-17%20to%202020-21.xlsx\"\n",
    "\n",
    "# Step 2: Downloading the Excel file\n",
    "response = requests.get(direct_file_link)\n",
    "\n",
    "# Step 3: Define the file path to save the downloaded file\n",
    "file_path = \"../data/landing/Table 2 - Total income distribution by geography, 2020-21.xlsx\"\n",
    "\n",
    "# Step 4: Ensure the directory exists, create it if necessary\n",
    "os.makedirs(os.path.dirname(file_path), exist_ok=True)\n",
    "\n",
    "# Step 5: Save the file to the specified location\n",
    "with open(file_path, 'wb') as file:\n",
    "    file.write(response.content)\n",
    "\n",
    "# Output message\n",
    "print(f\"File downloaded successfully and saved to {file_path}\")\n",
    "\n",
    "# Step 6: Now load the Excel file into a pandas DataFrame\n",
    "personal_income_df = pd.read_excel(file_path)\n",
    "\n",
    "# Step 7: Optional: Saving it again without modification\n",
    "personal_income_df.to_excel(file_path, index=False)\n",
    "\n",
    "# Output message\n",
    "print(\"File processed and saved as Excel.\")"
   ]
  }
 ],
 "metadata": {
  "kernelspec": {
   "display_name": "Python 3",
   "language": "python",
   "name": "python3"
  },
  "language_info": {
   "codemirror_mode": {
    "name": "ipython",
    "version": 3
   },
   "file_extension": ".py",
   "mimetype": "text/x-python",
   "name": "python",
   "nbconvert_exporter": "python",
   "pygments_lexer": "ipython3",
   "version": "3.12.1"
  }
 },
 "nbformat": 4,
 "nbformat_minor": 2
}
