{
 "cells": [
  {
   "cell_type": "markdown",
   "metadata": {},
   "source": [
    "#### Anushka"
   ]
  },
  {
   "cell_type": "markdown",
   "metadata": {},
   "source": [
    "# To Download Required PTV and Hospitals data"
   ]
  },
  {
   "cell_type": "markdown",
   "metadata": {},
   "source": [
    "#### Downloading Relevant PTV Data"
   ]
  },
  {
   "cell_type": "code",
   "execution_count": 1,
   "metadata": {},
   "outputs": [
    {
     "name": "stdout",
     "output_type": "stream",
     "text": [
      "Files have been successfully extracted to ../data/landing/Order_G6Z8LX (1)\n"
     ]
    }
   ],
   "source": [
    "#pip install \n",
    "import requests\n",
    "import zipfile\n",
    "import os\n",
    "from io import BytesIO\n",
    "\n",
    "# URL of the ZIP file\n",
    "url = \"https://s3.ap-southeast-2.amazonaws.com/cl-isd-prd-datashare-s3-delivery/Order_G6Z8LX.zip\"\n",
    "\n",
    "# Path to save the extracted files\n",
    "extract_to_path = \"../data/landing/Order_G6Z8LX (1)\"\n",
    "\n",
    "def download_and_extract_zip(url, extract_to_path):\n",
    "    # Send a HTTP request to the URL\n",
    "    response = requests.get(url)\n",
    "    # Check if the request was successful\n",
    "    if response.status_code == 200:\n",
    "        # Use BytesIO to hold the zip file in memory\n",
    "        zip_file_bytes = BytesIO(response.content)\n",
    "        # Create a ZipFile object\n",
    "        with zipfile.ZipFile(zip_file_bytes, 'r') as zip_ref:\n",
    "            # Extract all the contents into the specified directory\n",
    "            zip_ref.extractall(extract_to_path)\n",
    "        print(f\"Files have been successfully extracted to {extract_to_path}\")\n",
    "    else:\n",
    "        print(f\"Failed to download the file, status code: {response.status_code}\")\n",
    "\n",
    "# Ensure the extraction path exists\n",
    "os.makedirs(extract_to_path, exist_ok=True)\n",
    "\n",
    "# Run the download and extraction function\n",
    "download_and_extract_zip(url, extract_to_path)\n"
   ]
  },
  {
   "cell_type": "markdown",
   "metadata": {},
   "source": [
    "#### Downloading Relevant Hospital Mapping Data"
   ]
  },
  {
   "cell_type": "code",
   "execution_count": 2,
   "metadata": {},
   "outputs": [
    {
     "name": "stdout",
     "output_type": "stream",
     "text": [
      "File has been successfully downloaded to file.xlsx\n"
     ]
    }
   ],
   "source": [
    "import requests\n",
    "\n",
    "# URL of the Excel file\n",
    "url = 'https://myhospitalsapi.aihw.gov.au/api/v1/reporting-units-downloads/mappings'\n",
    "\n",
    "# Headers copied from the curl command\n",
    "headers = {\n",
    "    'accept': 'text/html,application/xhtml+xml,application/xml;q=0.9,image/avif,image/webp,image/apng,*/*;q=0.8,application/signed-exchange;v=b3;q=0.7',\n",
    "    'accept-language': 'en-GB,en-US;q=0.9,en;q=0.8',\n",
    "    'cookie': 'nmstat=a833ce05-6c77-71bc-5674-be52752f9237; _gid=GA1.3.284072617.1727756999; _ga=GA1.3.525295733.1727756999; _ga_H59DKXNT27=GS1.1.1727756998.1.1.1727758421.0.0.0; _gat_UA-10292491-1=1',\n",
    "    'referer': 'https://www.aihw.gov.au/',\n",
    "    'sec-ch-ua': '\"Chromium\";v=\"128\", \"Not;A=Brand\";v=\"24\", \"Google Chrome\";v=\"128\"',\n",
    "    'sec-ch-ua-mobile': '?0',\n",
    "    'sec-ch-ua-platform': '\"macOS\"',\n",
    "    'sec-fetch-dest': 'document',\n",
    "    'sec-fetch-mode': 'navigate',\n",
    "    'sec-fetch-site': 'same-site',\n",
    "    'sec-fetch-user': '?1',\n",
    "    'upgrade-insecure-requests': '1',\n",
    "    'user-agent': 'Mozilla/5.0 (Macintosh; Intel Mac OS X 10_15_7) AppleWebKit/537.36 (KHTML, like Gecko) Chrome/128.0.0.0 Safari/537.36'\n",
    "}\n",
    "\n",
    "def download_file(url, headers):\n",
    "    # Send a HTTP request to the URL\n",
    "    response = requests.get(url, headers=headers)\n",
    "    # Check if the request was successful\n",
    "    if response.status_code == 200:\n",
    "        # Path to save the Excel file (adjust the filename as needed)\n",
    "        save_path = 'file.xlsx'\n",
    "        # Write the content of the response to a new file\n",
    "        with open('../data/landing/hospital_mapping.xlsx', 'wb') as file:\n",
    "            file.write(response.content)\n",
    "        print(f\"File has been successfully downloaded to {save_path}\")\n",
    "    else:\n",
    "        print(f\"Failed to download the file, status code: {response.status_code}\")\n",
    "\n",
    "# Run the download function\n",
    "download_file(url, headers)\n"
   ]
  },
  {
   "cell_type": "code",
   "execution_count": 3,
   "metadata": {},
   "outputs": [
    {
     "name": "stdout",
     "output_type": "stream",
     "text": [
      "File has been successfully downloaded to ../data/landing/hospital.csv\n"
     ]
    }
   ],
   "source": [
    "import requests\n",
    "\n",
    "def download_file(url, destination):\n",
    "    session = requests.Session()\n",
    "    response = session.get(url, stream=True)\n",
    "    token = get_confirm_token(response)\n",
    "\n",
    "    if token:\n",
    "        params = {'confirm': token}\n",
    "        response = session.get(url, params=params, stream=True)\n",
    "\n",
    "    if response.status_code == 200:\n",
    "        save_response_content(response, destination)\n",
    "        print(f\"File has been successfully downloaded to {destination}\")\n",
    "    else:\n",
    "        print(f\"Failed to download the file. HTTP status code: {response.status_code}\")\n",
    "\n",
    "def get_confirm_token(response):\n",
    "    for key, value in response.cookies.items():\n",
    "        if key.startswith('download_warning'):\n",
    "            return value\n",
    "    return None\n",
    "\n",
    "def save_response_content(response, destination):\n",
    "    CHUNK_SIZE = 32768\n",
    "\n",
    "    with open(destination, \"wb\") as f:\n",
    "        for chunk in response.iter_content(CHUNK_SIZE):\n",
    "            if chunk:  # filter out keep-alive new chunks\n",
    "                f.write(chunk)\n",
    "\n",
    "if __name__ == \"__main__\":\n",
    "    file_id = '1_mrsxTEfuFIZicaqP-gG3srltubjkskN'\n",
    "    destination = '../data/landing/hospital.csv'\n",
    "    url = f\"https://drive.google.com/uc?export=download&id={file_id}\"\n",
    "    download_file(url, destination)\n"
   ]
  },
  {
   "cell_type": "markdown",
   "metadata": {},
   "source": [
    "Please run the notebook titled `2. PTV_EDA.ipynb` next."
   ]
  }
 ],
 "metadata": {
  "kernelspec": {
   "display_name": "Python 3",
   "language": "python",
   "name": "python3"
  },
  "language_info": {
   "codemirror_mode": {
    "name": "ipython",
    "version": 3
   },
   "file_extension": ".py",
   "mimetype": "text/x-python",
   "name": "python",
   "nbconvert_exporter": "python",
   "pygments_lexer": "ipython3",
   "version": "3.11.3"
  }
 },
 "nbformat": 4,
 "nbformat_minor": 2
}
