{
 "cells": [
  {
   "cell_type": "code",
   "execution_count": 1,
   "metadata": {
    "ExecuteTime": {
     "end_time": "2024-09-23T13:23:56.163911Z",
     "start_time": "2024-09-23T13:23:55.897655Z"
    }
   },
   "outputs": [],
   "source": [
    "from pyspark.sql import SparkSession\n",
    "from pyspark.sql import functions as func\n",
    "import matplotlib.pyplot as plt\n",
    "import seaborn as sns\n",
    "import os\n",
    "import sys\n",
    "from pyspark.sql import functions as F  #filtering\n",
    "import geopandas as gpd\n",
    "import folium\n",
    "import pandas as pd\n",
    "import matplotlib.pyplot as plt"
   ]
  },
  {
   "cell_type": "code",
   "execution_count": 2,
   "metadata": {
    "ExecuteTime": {
     "end_time": "2024-09-23T13:24:02.158555Z",
     "start_time": "2024-09-23T13:23:56.164521Z"
    }
   },
   "outputs": [
    {
     "name": "stderr",
     "output_type": "stream",
     "text": [
      "your 131072x1 screen size is bogus. expect trouble\n",
      "24/09/25 21:01:35 WARN Utils: Your hostname, LAPTOP-KOQUIUN resolves to a loopback address: 127.0.1.1; using 10.255.255.254 instead (on interface lo)\n",
      "24/09/25 21:01:35 WARN Utils: Set SPARK_LOCAL_IP if you need to bind to another address\n",
      "Setting default log level to \"WARN\".\n",
      "To adjust logging level use sc.setLogLevel(newLevel). For SparkR, use setLogLevel(newLevel).\n",
      "24/09/25 21:01:36 WARN NativeCodeLoader: Unable to load native-hadoop library for your platform... using builtin-java classes where applicable\n",
      "24/09/25 21:01:37 WARN Utils: Service 'SparkUI' could not bind on port 4040. Attempting port 4041.\n"
     ]
    },
    {
     "name": "stdout",
     "output_type": "stream",
     "text": [
      "+--------------------+--------------------+--------+--------------------+\n",
      "|                name|            sa2_name|postcode|            geometry|\n",
      "+--------------------+--------------------+--------+--------------------+\n",
      "|Lilydale-Warburto...|        Yarra Valley|    3139|POLYGON ((1034153...|\n",
      "|Nangana Bushland ...|        Yarra Valley|    3139|POLYGON ((1022203...|\n",
      "|Nillumbik G139 Bu...|Wattle Glen - Dia...|    3089|POLYGON ((989912....|\n",
      "|Lilydale-Warburto...|Lilydale - Coldst...|    3140|POLYGON ((1005216...|\n",
      "|Plenty Gorge Park...|  Plenty - Yarrambat|    3088|POLYGON ((983018....|\n",
      "+--------------------+--------------------+--------+--------------------+\n",
      "only showing top 5 rows\n",
      "\n"
     ]
    }
   ],
   "source": [
    "# starting a Spark session\n",
    "spark = (\n",
    "    SparkSession.builder.appName('Parkres Further Analysis')\n",
    "    .config(\"spark.sql.repl.eagerEval.enabled\", True)\n",
    "    .config(\"spark.sql.session.timeZone\", \"Etc/UTC\")\n",
    "    .config(\"spark.driver.memory\", \"2g\")\n",
    "    .config(\"spark.executor.memory\", \"4g\")\n",
    "    .getOrCreate()\n",
    ")\n",
    "\n",
    "# Read the dataset from a CSV file using PySpark\n",
    "parkres = spark.read.csv('../data/curated/parkres/parkres.csv', header=True, inferSchema=True)\n",
    "\n",
    "# Drop the extra index column (_c0) if it exists\n",
    "parkres = parkres.drop('_c0')\n",
    "\n",
    "# Show the first few rows of the dataset to confirm\n",
    "parkres.show(5)"
   ]
  },
  {
   "cell_type": "code",
   "execution_count": 3,
   "metadata": {
    "ExecuteTime": {
     "end_time": "2024-09-23T13:24:03.415241Z",
     "start_time": "2024-09-23T13:24:02.159597Z"
    }
   },
   "outputs": [
    {
     "name": "stderr",
     "output_type": "stream",
     "text": [
      "24/09/25 21:01:48 WARN SparkStringUtils: Truncated the string representation of a plan since it was too large. This behavior can be adjusted by setting 'spark.sql.debug.maxToStringFields'.\n"
     ]
    },
    {
     "data": {
      "text/html": [
       "<table border='1'>\n",
       "<tr><th>url</th><th>price</th><th>address</th><th>property_type</th><th>latitude</th><th>longitude</th><th>Beds</th><th>Baths</th><th>Parking</th><th>bond</th><th>extracted_price</th><th>geometry</th><th>sa2_code</th><th>sa2_name</th><th>chg_flag</th><th>chg_lbl</th><th>sa3_code</th><th>sa3_name</th><th>sa4_code</th><th>sa4_name</th><th>gcc_code</th><th>gcc_name</th><th>ste_code</th><th>ste_name</th><th>aus_code</th><th>aus_name</th><th>areasqkm</th><th>loci_uri</th><th>__index_level_0__</th></tr>\n",
       "<tr><td>https://www.domai...</td><td>$1,400.00</td><td>10 Allara Court, ...</td><td>Townhouse</td><td>-37.77427300000001</td><td>145.1811258</td><td>4.0</td><td>3.0</td><td>2.0</td><td>9125.0</td><td>1400.0</td><td>[01 01 00 00 00 C...</td><td>211021261</td><td>Donvale - Park Or...</td><td>0</td><td>No change</td><td>21102</td><td>Manningham - East</td><td>211</td><td>Melbourne - Outer...</td><td>2GMEL</td><td>Greater Melbourne</td><td>2</td><td>Victoria</td><td>AUS</td><td>Australia</td><td>20.8028</td><td>http://linked.dat...</td><td>0</td></tr>\n",
       "<tr><td>https://www.domai...</td><td>$750 per week</td><td>7 Pine Ridge, Don...</td><td>House</td><td>-37.7912513</td><td>145.1756489</td><td>4.0</td><td>2.0</td><td>0.0</td><td>3259.0</td><td>750.0</td><td>[01 01 00 00 00 8...</td><td>211021261</td><td>Donvale - Park Or...</td><td>0</td><td>No change</td><td>21102</td><td>Manningham - East</td><td>211</td><td>Melbourne - Outer...</td><td>2GMEL</td><td>Greater Melbourne</td><td>2</td><td>Victoria</td><td>AUS</td><td>Australia</td><td>20.8028</td><td>http://linked.dat...</td><td>1</td></tr>\n",
       "<tr><td>https://www.domai...</td><td>$1300 per week</td><td>20 Mulsanne Way, ...</td><td>House</td><td>-37.7972323</td><td>145.1812636</td><td>5.0</td><td>2.0</td><td>2.0</td><td>5649.0</td><td>1300.0</td><td>[01 01 00 00 00 9...</td><td>211021261</td><td>Donvale - Park Or...</td><td>0</td><td>No change</td><td>21102</td><td>Manningham - East</td><td>211</td><td>Melbourne - Outer...</td><td>2GMEL</td><td>Greater Melbourne</td><td>2</td><td>Victoria</td><td>AUS</td><td>Australia</td><td>20.8028</td><td>http://linked.dat...</td><td>2</td></tr>\n",
       "<tr><td>https://www.domai...</td><td>$825pw / $3585pcm</td><td>3 Monterey Cresce...</td><td>House</td><td>-37.792402</td><td>145.1743233</td><td>3.0</td><td>1.0</td><td>5.0</td><td>3585.0</td><td>825.0</td><td>[01 01 00 00 00 C...</td><td>211021261</td><td>Donvale - Park Or...</td><td>0</td><td>No change</td><td>21102</td><td>Manningham - East</td><td>211</td><td>Melbourne - Outer...</td><td>2GMEL</td><td>Greater Melbourne</td><td>2</td><td>Victoria</td><td>AUS</td><td>Australia</td><td>20.8028</td><td>http://linked.dat...</td><td>3</td></tr>\n",
       "<tr><td>https://www.domai...</td><td>$680.00</td><td>3/49 Leslie Stree...</td><td>Townhouse</td><td>-37.7810117</td><td>145.180705</td><td>3.0</td><td>2.0</td><td>2.0</td><td>2955.0</td><td>680.0</td><td>[01 01 00 00 00 2...</td><td>211021261</td><td>Donvale - Park Or...</td><td>0</td><td>No change</td><td>21102</td><td>Manningham - East</td><td>211</td><td>Melbourne - Outer...</td><td>2GMEL</td><td>Greater Melbourne</td><td>2</td><td>Victoria</td><td>AUS</td><td>Australia</td><td>20.8028</td><td>http://linked.dat...</td><td>4</td></tr>\n",
       "</table>\n"
      ],
      "text/plain": [
       "+--------------------+-----------------+--------------------+-------------+------------------+-----------+----+-----+-------+------+---------------+--------------------+---------+--------------------+--------+---------+--------+-----------------+--------+--------------------+--------+-----------------+--------+--------+--------+---------+--------+--------------------+-----------------+\n",
       "|                 url|            price|             address|property_type|          latitude|  longitude|Beds|Baths|Parking|  bond|extracted_price|            geometry| sa2_code|            sa2_name|chg_flag|  chg_lbl|sa3_code|         sa3_name|sa4_code|            sa4_name|gcc_code|         gcc_name|ste_code|ste_name|aus_code| aus_name|areasqkm|            loci_uri|__index_level_0__|\n",
       "+--------------------+-----------------+--------------------+-------------+------------------+-----------+----+-----+-------+------+---------------+--------------------+---------+--------------------+--------+---------+--------+-----------------+--------+--------------------+--------+-----------------+--------+--------+--------+---------+--------+--------------------+-----------------+\n",
       "|https://www.domai...|        $1,400.00|10 Allara Court, ...|    Townhouse|-37.77427300000001|145.1811258| 4.0|  3.0|    2.0|9125.0|         1400.0|[01 01 00 00 00 C...|211021261|Donvale - Park Or...|       0|No change|   21102|Manningham - East|     211|Melbourne - Outer...|   2GMEL|Greater Melbourne|       2|Victoria|     AUS|Australia| 20.8028|http://linked.dat...|                0|\n",
       "|https://www.domai...|    $750 per week|7 Pine Ridge, Don...|        House|       -37.7912513|145.1756489| 4.0|  2.0|    0.0|3259.0|          750.0|[01 01 00 00 00 8...|211021261|Donvale - Park Or...|       0|No change|   21102|Manningham - East|     211|Melbourne - Outer...|   2GMEL|Greater Melbourne|       2|Victoria|     AUS|Australia| 20.8028|http://linked.dat...|                1|\n",
       "|https://www.domai...|   $1300 per week|20 Mulsanne Way, ...|        House|       -37.7972323|145.1812636| 5.0|  2.0|    2.0|5649.0|         1300.0|[01 01 00 00 00 9...|211021261|Donvale - Park Or...|       0|No change|   21102|Manningham - East|     211|Melbourne - Outer...|   2GMEL|Greater Melbourne|       2|Victoria|     AUS|Australia| 20.8028|http://linked.dat...|                2|\n",
       "|https://www.domai...|$825pw / $3585pcm|3 Monterey Cresce...|        House|        -37.792402|145.1743233| 3.0|  1.0|    5.0|3585.0|          825.0|[01 01 00 00 00 C...|211021261|Donvale - Park Or...|       0|No change|   21102|Manningham - East|     211|Melbourne - Outer...|   2GMEL|Greater Melbourne|       2|Victoria|     AUS|Australia| 20.8028|http://linked.dat...|                3|\n",
       "|https://www.domai...|          $680.00|3/49 Leslie Stree...|    Townhouse|       -37.7810117| 145.180705| 3.0|  2.0|    2.0|2955.0|          680.0|[01 01 00 00 00 2...|211021261|Donvale - Park Or...|       0|No change|   21102|Manningham - East|     211|Melbourne - Outer...|   2GMEL|Greater Melbourne|       2|Victoria|     AUS|Australia| 20.8028|http://linked.dat...|                4|\n",
       "+--------------------+-----------------+--------------------+-------------+------------------+-----------+----+-----+-------+------+---------------+--------------------+---------+--------------------+--------+---------+--------+-----------------+--------+--------------------+--------+-----------------+--------+--------+--------+---------+--------+--------------------+-----------------+"
      ]
     },
     "execution_count": 3,
     "metadata": {},
     "output_type": "execute_result"
    }
   ],
   "source": [
    "# read the domain parquet dataset\n",
    "domain = spark.read.parquet('../data/curated/domain_data')\n",
    "domain.limit(5)"
   ]
  },
  {
   "cell_type": "code",
   "execution_count": 4,
   "metadata": {
    "ExecuteTime": {
     "end_time": "2024-09-23T13:24:04.029741Z",
     "start_time": "2024-09-23T13:24:03.417738Z"
    }
   },
   "outputs": [
    {
     "name": "stdout",
     "output_type": "stream",
     "text": [
      "+---+-----+-------+-------------+--------+---------+----+-----+-------+----+---------------+--------+--------+--------+--------+-------+--------+--------+--------+--------+--------+--------+--------+--------+--------+--------+--------+--------+-----------------+\n",
      "|url|price|address|property_type|latitude|longitude|Beds|Baths|Parking|bond|extracted_price|geometry|sa2_code|sa2_name|chg_flag|chg_lbl|sa3_code|sa3_name|sa4_code|sa4_name|gcc_code|gcc_name|ste_code|ste_name|aus_code|aus_name|areasqkm|loci_uri|__index_level_0__|\n",
      "+---+-----+-------+-------------+--------+---------+----+-----+-------+----+---------------+--------+--------+--------+--------+-------+--------+--------+--------+--------+--------+--------+--------+--------+--------+--------+--------+--------+-----------------+\n",
      "|  0|    0|      0|            0|       0|        0|   0|    0|      0|1199|              0|       0|       0|       0|       0|      0|       0|       0|       0|       0|       0|       0|       0|       0|       0|       0|       0|       0|                0|\n",
      "+---+-----+-------+-------------+--------+---------+----+-----+-------+----+---------------+--------+--------+--------+--------+-------+--------+--------+--------+--------+--------+--------+--------+--------+--------+--------+--------+--------+-----------------+\n",
      "\n"
     ]
    }
   ],
   "source": [
    "from pyspark.sql import functions as F\n",
    "\n",
    "# Check for null values in each column\n",
    "domain.select([F.count(F.when(F.col(c).isNull(), c)).alias(c) for c in domain.columns]).show()"
   ]
  },
  {
   "cell_type": "code",
   "execution_count": 5,
   "metadata": {
    "ExecuteTime": {
     "end_time": "2024-09-23T13:24:19.444861Z",
     "start_time": "2024-09-23T13:24:04.030657Z"
    }
   },
   "outputs": [
    {
     "name": "stderr",
     "output_type": "stream",
     "text": [
      "[Stage 10:>                                                         (0 + 1) / 1]\r"
     ]
    },
    {
     "name": "stdout",
     "output_type": "stream",
     "text": [
      "+--------------------+----------------+--------------------+--------------------+-----------+-----------+----+-----+-------+------+---------------+--------------------+---------+-----------------+--------+---------+--------+------------+--------+--------------------+--------+-----------------+--------+--------+--------+---------+--------+--------------------+-----------------+--------------------+--------------------+--------+--------------------+--------------------+------------------+-----------------+------------------+\n",
      "|                 url|           price|             address|       property_type|   prop_lat|   prop_lon|Beds|Baths|Parking|  bond|extracted_price|            geometry| sa2_code|property_sa2_name|chg_flag|  chg_lbl|sa3_code|    sa3_name|sa4_code|            sa4_name|gcc_code|         gcc_name|ste_code|ste_name|aus_code| aus_name|areasqkm|            loci_uri|__index_level_0__|                name|            sa2_name|postcode|       park_geometry|       park_centroid| park_centroid_lat|park_centroid_lon|          distance|\n",
      "+--------------------+----------------+--------------------+--------------------+-----------+-----------+----+-----+-------+------+---------------+--------------------+---------+-----------------+--------+---------+--------+------------+--------+--------------------+--------+-----------------+--------+--------+--------+---------+--------+--------------------+-----------------+--------------------+--------------------+--------+--------------------+--------------------+------------------+-----------------+------------------+\n",
      "|https://www.domai...|   $690 Per Week|90 Wickhams Road,...|               House|  -37.79095| 145.566483| 3.0|  2.0|    4.0|2998.0|          690.0|[01 01 00 00 00 A...|211051286|     Yarra Valley|       0|No change|   21105|Yarra Ranges|     211|Melbourne - Outer...|   2GMEL|Greater Melbourne|       2|Victoria|     AUS|Australia|729.7582|http://linked.dat...|             5294|Yarra Valley Park...|Warrandyte - Wong...|    3111|POLYGON ((990878....|-4288358.54470186...|-4288358.544701863|990868.3816606078| 259.9745567502766|\n",
      "|https://www.domai...|            $738|37 MONBULK-SEVILL...|Apartment / Unit ...|-37.7857874|145.4667604| 1.0|  1.0|    0.0|  NULL|          738.0|[01 01 00 00 00 2...|211051285| Wandin - Seville|       0|No change|   21105|Yarra Ranges|     211|Melbourne - Outer...|   2GMEL|Greater Melbourne|       2|Victoria|     AUS|Australia|111.7555|http://linked.dat...|             5296|Yarra Valley Park...|Warrandyte - Wong...|    3111|POLYGON ((990878....|-4288358.54470186...|-4288358.544701863|990868.3816606078|268.42900145854645|\n",
      "|https://www.domai...|$730.00 per week|5 Morris Court, W...|               House|-37.7756867|145.4272857| 3.0|  2.0|    2.0|3172.0|          730.0|[01 01 00 00 00 8...|211051285| Wandin - Seville|       0|No change|   21105|Yarra Ranges|     211|Melbourne - Outer...|   2GMEL|Greater Melbourne|       2|Victoria|     AUS|Australia|111.7555|http://linked.dat...|             5295|Yarra Valley Park...|Warrandyte - Wong...|    3111|POLYGON ((990878....|-4288358.54470186...|-4288358.544701863|990868.3816606078|272.07456568431184|\n",
      "|https://www.domai...|   $500 per week|136a Belgrave-Hal...|Apartment / Unit ...|-37.9310902| 145.359687| 3.0|  2.0|    1.0|2173.0|          500.0|[01 01 00 00 00 7...|211051274| Belgrave - Selby|       0|No change|   21105|Yarra Ranges|     211|Melbourne - Outer...|   2GMEL|Greater Melbourne|       2|Victoria|     AUS|Australia|  55.652|http://linked.dat...|             2203|Yarra Valley Park...|Warrandyte - Wong...|    3111|POLYGON ((990878....|-4288358.54470186...|-4288358.544701863|990868.3816606078| 272.5943617408172|\n",
      "|https://www.domai...|         $650 pw|39 Sandells Road,...|               House|-37.9002756|145.3459308| 3.0|  1.0|    0.0|2824.0|          650.0|[01 01 00 00 00 B...|211051284|   Upwey - Tecoma|       0|No change|   21105|Yarra Ranges|     211|Melbourne - Outer...|   2GMEL|Greater Melbourne|       2|Victoria|     AUS|Australia|  8.8907|http://linked.dat...|             2204|Yarra Valley Park...|Warrandyte - Wong...|    3111|POLYGON ((990878....|-4288358.54470186...|-4288358.544701863|990868.3816606078| 274.6854608987869|\n",
      "+--------------------+----------------+--------------------+--------------------+-----------+-----------+----+-----+-------+------+---------------+--------------------+---------+-----------------+--------+---------+--------+------------+--------+--------------------+--------+-----------------+--------+--------+--------+---------+--------+--------------------+-----------------+--------------------+--------------------+--------+--------------------+--------------------+------------------+-----------------+------------------+\n",
      "only showing top 5 rows\n",
      "\n"
     ]
    },
    {
     "name": "stderr",
     "output_type": "stream",
     "text": [
      "                                                                                \r"
     ]
    }
   ],
   "source": [
    "from pyspark.sql import functions as F\n",
    "from pyspark.sql.window import Window\n",
    "from pyspark.sql.types import DoubleType, StringType\n",
    "from shapely import wkt\n",
    "from pyspark.sql.functions import udf\n",
    "from math import radians, sin, cos, sqrt, atan2\n",
    "\n",
    "# Function to calculate distance between two points (Haversine formula)\n",
    "def calculate_distance(lat1, lon1, lat2, lon2):\n",
    "    R = 6371  # Earth's radius in km\n",
    "    \n",
    "    lat1, lon1, lat2, lon2 = map(radians, [lat1, lon1, lat2, lon2])\n",
    "    dlat = lat2 - lat1\n",
    "    dlon = lon2 - lon1\n",
    "    \n",
    "    a = sin(dlat / 2) ** 2 + cos(lat1) * cos(lat2) * sin(dlon / 2) ** 2\n",
    "    c = 2 * atan2(sqrt(a), sqrt(1 - a))\n",
    "    return R * c\n",
    "\n",
    "# UDF to convert WKT geometry to centroid coordinates\n",
    "def get_centroid(geometry):\n",
    "    try:\n",
    "        shape = wkt.loads(geometry)\n",
    "        centroid = shape.centroid\n",
    "        return f\"{centroid.y},{centroid.x}\"\n",
    "    except:\n",
    "        return None\n",
    "\n",
    "# Register UDFs\n",
    "distance_udf = udf(calculate_distance, DoubleType())\n",
    "centroid_udf = udf(get_centroid, StringType())\n",
    "\n",
    "# Prepare park data\n",
    "parkres = parkres.withColumnRenamed(\"geometry\", \"park_geometry\")\n",
    "parkres = parkres.withColumn(\"park_centroid\", centroid_udf(F.col(\"park_geometry\")))\n",
    "parkres = parkres.withColumn(\"park_centroid_lat\", F.split(F.col(\"park_centroid\"), \",\")[0].cast(DoubleType()))\n",
    "parkres = parkres.withColumn(\"park_centroid_lon\", F.split(F.col(\"park_centroid\"), \",\")[1].cast(DoubleType()))\n",
    "\n",
    "# Prepare domain data\n",
    "domain = domain.withColumnRenamed(\"latitude\", \"prop_lat\")\n",
    "domain = domain.withColumnRenamed(\"longitude\", \"prop_lon\")\n",
    "domain = domain.withColumnRenamed(\"sa2_name\", \"property_sa2_name\")\n",
    "\n",
    "# Cross join to calculate the distance between each property and every park\n",
    "result = domain.crossJoin(F.broadcast(parkres))\n",
    "\n",
    "# Calculate distances (km) between properties and park centroids\n",
    "result = result.withColumn(\"distance\", \n",
    "    distance_udf(F.col(\"prop_lat\"), F.col(\"prop_lon\"), \n",
    "                 F.col(\"park_centroid_lat\"), F.col(\"park_centroid_lon\")))\n",
    "result.orderBy(\"distance\").show(5)"
   ]
  },
  {
   "cell_type": "code",
   "execution_count": 6,
   "metadata": {
    "ExecuteTime": {
     "end_time": "2024-09-23T13:24:29.820608Z",
     "start_time": "2024-09-23T13:24:19.446675Z"
    },
    "collapsed": false
   },
   "outputs": [
    {
     "name": "stderr",
     "output_type": "stream",
     "text": [
      "[Stage 13:>                                                         (0 + 1) / 1]\r"
     ]
    },
    {
     "name": "stdout",
     "output_type": "stream",
     "text": [
      "+---------------------------------------------------+---------------------------------------------+---------------+---------------------+----------------------+-----------------------+\n",
      "|address                                            |property_sa2_name                            |extracted_price|nearest_park_distance|nearest_park_name     |park_sa2_name          |\n",
      "+---------------------------------------------------+---------------------------------------------+---------------+---------------------+----------------------+-----------------------+\n",
      "|90 Wickhams Road, Launching Place VIC 3139         |Yarra Valley                                 |690.0          |259.975              |Yarra Valley Parklands|Warrandyte - Wonga Park|\n",
      "|37 MONBULK-SEVILLE ROAD, Seville VIC 3139          |Wandin - Seville                             |738.0          |268.429              |Yarra Valley Parklands|Warrandyte - Wonga Park|\n",
      "|5 Morris Court, Wandin North VIC 3139              |Wandin - Seville                             |730.0          |272.075              |Yarra Valley Parklands|Warrandyte - Wonga Park|\n",
      "|136a Belgrave-Hallam Road, Belgrave South VIC 3160 |Belgrave - Selby                             |500.0          |272.594              |Yarra Valley Parklands|Warrandyte - Wonga Park|\n",
      "|39 Sandells Road, Tecoma VIC 3160                  |Upwey - Tecoma                               |650.0          |274.685              |Yarra Valley Parklands|Warrandyte - Wonga Park|\n",
      "|30 Glenfern Avenue, Upwey VIC 3158                 |Upwey - Tecoma                               |685.0          |275.354              |Yarra Valley Parklands|Warrandyte - Wonga Park|\n",
      "|20 Deans Road, Upwey VIC 3158                      |Upwey - Tecoma                               |675.0          |275.783              |Yarra Valley Parklands|Warrandyte - Wonga Park|\n",
      "|26 Olivette Avenue, Upwey VIC 3158                 |Upwey - Tecoma                               |1350.0         |276.397              |Yarra Valley Parklands|Warrandyte - Wonga Park|\n",
      "|57 Old Belgrave Road, Upper Ferntree Gully VIC 3156|Ferntree Gully (South) - Upper Ferntree Gully|550.0          |277.009              |Yarra Valley Parklands|Warrandyte - Wonga Park|\n",
      "|372 Swansea Road, Lilydale VIC 3140                |Lilydale - Coldstream                        |650.0          |277.522              |Yarra Valley Parklands|Warrandyte - Wonga Park|\n",
      "+---------------------------------------------------+---------------------------------------------+---------------+---------------------+----------------------+-----------------------+\n",
      "only showing top 10 rows\n",
      "\n"
     ]
    },
    {
     "name": "stderr",
     "output_type": "stream",
     "text": [
      "                                                                                \r"
     ]
    }
   ],
   "source": [
    "# Find the nearest park for each property\n",
    "window_spec = Window.partitionBy(\"__index_level_0__\").orderBy(\"distance\")\n",
    "nearest_park = result.withColumn(\"row\", F.row_number().over(window_spec)) \\\n",
    "    .filter(F.col(\"row\") == 1) \\\n",
    "    .select(\n",
    "        \"__index_level_0__\",\n",
    "        F.round(F.col(\"distance\"), 3).alias(\"nearest_park_distance\"),  # Round to 3 decimal places\n",
    "        F.col(\"name\").alias(\"nearest_park_name\"),\n",
    "        F.col(\"sa2_name\").alias(\"park_sa2_name\")\n",
    "    )\n",
    "\n",
    "# Join back to the original domain data\n",
    "final_result = domain.join(nearest_park, on=\"__index_level_0__\")\n",
    "\n",
    "# Show the result for validation\n",
    "final_result.select(\n",
    "    \"address\", \n",
    "    \"property_sa2_name\", \n",
    "    \"extracted_price\", \n",
    "    \"nearest_park_distance\", \n",
    "    \"nearest_park_name\", \n",
    "    \"park_sa2_name\"\n",
    ") \\\n",
    "    .orderBy(\"nearest_park_distance\") \\\n",
    "    .show(10, truncate=False)"
   ]
  },
  {
   "cell_type": "markdown",
   "metadata": {},
   "source": [
    "### Save"
   ]
  },
  {
   "cell_type": "code",
   "execution_count": 31,
   "metadata": {},
   "outputs": [
    {
     "name": "stderr",
     "output_type": "stream",
     "text": [
      "                                                                                \r"
     ]
    }
   ],
   "source": [
    "directory_path = \"../data/curated/parkres\"\n",
    "if not os.path.exists(directory_path):\n",
    "    os.makedirs(directory_path)\n",
    "\n",
    "final_result.select(\n",
    "    \"address\", \n",
    "    \"property_sa2_name\", \n",
    "    \"extracted_price\", \n",
    "    F.col(\"nearest_park_distance\").alias(\"nearest_parkres_distance\"),  \n",
    "    F.col(\"nearest_park_name\").alias(\"nearest_parkres_name\"), \n",
    "    F.col(\"park_sa2_name\").alias(\"parkres_sa2_name\")\n",
    ").write.parquet(f\"{directory_path}/parkres_domain.parquet\", mode=\"overwrite\")"
   ]
  }
 ],
 "metadata": {
  "kernelspec": {
   "display_name": "Python 3",
   "language": "python",
   "name": "python3"
  },
  "language_info": {
   "codemirror_mode": {
    "name": "ipython",
    "version": 3
   },
   "file_extension": ".py",
   "mimetype": "text/x-python",
   "name": "python",
   "nbconvert_exporter": "python",
   "pygments_lexer": "ipython3",
   "version": "3.10.12"
  }
 },
 "nbformat": 4,
 "nbformat_minor": 2
}
