{
 "cells": [
  {
   "cell_type": "code",
   "execution_count": 151,
   "metadata": {},
   "outputs": [],
   "source": [
    "# Import necessary libraries\n",
    "import pandas as pd\n",
    "from xgboost import XGBRegressor\n",
    "from sklearn.model_selection import train_test_split\n",
    "from sklearn.metrics import mean_squared_error\n",
    "import matplotlib.pyplot as plt\n",
    "import numpy as np\n",
    "import regex"
   ]
  },
  {
   "cell_type": "code",
   "execution_count": 152,
   "metadata": {},
   "outputs": [],
   "source": [
    "# load data\n",
    "data = pd.read_parquet('../data/curated/features_domain.parquet')  "
   ]
  },
  {
   "cell_type": "code",
   "execution_count": 153,
   "metadata": {},
   "outputs": [],
   "source": [
    "data.drop(columns=['url','price','latitude','longitude','geometry', 'geometry_proj', 'index_right','bond'], inplace=True)"
   ]
  },
  {
   "cell_type": "code",
   "execution_count": 154,
   "metadata": {},
   "outputs": [],
   "source": [
    "data.columns = [regex.sub(\"_\", col) if any(x in str(col) for x in set(('[', ']', '<'))) else col for col in data.columns.values]"
   ]
  },
  {
   "cell_type": "code",
   "execution_count": 155,
   "metadata": {},
   "outputs": [],
   "source": [
    "y = data['extracted_price']  # Target variable\n",
    "data = data.drop('extracted_price', axis=1)"
   ]
  },
  {
   "cell_type": "code",
   "execution_count": 156,
   "metadata": {},
   "outputs": [
    {
     "data": {
      "text/plain": [
       "Index(['address', 'property_type', 'Beds', 'Baths', 'Parking', 'sa2_code',\n",
       "       'sa2_name', 'chg_flag', 'chg_lbl', 'sa3_code', 'sa3_name', 'sa4_code',\n",
       "       'sa4_name', 'gcc_code', 'gcc_name', 'ste_code', 'ste_name', 'aus_code',\n",
       "       'aus_name', 'areasqkm', 'loci_uri', 'suburb', 'property_id',\n",
       "       'nearest_station_id', 'train_station_distance_km', 'cbd_distance_km',\n",
       "       'nearest_hospital_id', 'nearest_hospital_distance', 'mean_stores',\n",
       "       'total_stores', 'count_shopping_centres', 'SA2 code_x', 'Region',\n",
       "       'ERP_2021', 'ERP_2026', 'ERP_2031', 'ERP_2036', 'PNPD_2021',\n",
       "       'PNPD_2026', 'PNPD_2031', 'PNPD_2036', 'POPD_2021', 'POPD_2026',\n",
       "       'POPD_2031', 'POPD_2036', 'OPD_2021', 'OPD_2026', 'OPD_2031',\n",
       "       'OPD_2036', 'HHS_2021'],\n",
       "      dtype='object')"
      ]
     },
     "execution_count": 156,
     "metadata": {},
     "output_type": "execute_result"
    }
   ],
   "source": [
    "data.columns[:50]"
   ]
  },
  {
   "cell_type": "code",
   "execution_count": 159,
   "metadata": {},
   "outputs": [
    {
     "name": "stdout",
     "output_type": "stream",
     "text": [
      "Top 10 pairs with the highest correlation:\n",
      "erp_2022_no. and Earners: 0.8866\n",
      "Earners and erp_2022_no.: 0.8866\n",
      "P80/P50 and P20/P50: 0.8486\n",
      "P20/P50 and P80/P50: 0.8486\n",
      "Median and Mean: 0.8006\n",
      "Mean and Median: 0.8006\n"
     ]
    },
    {
     "name": "stderr",
     "output_type": "stream",
     "text": [
      "/var/folders/b6/nv55vzd50gz6bs69664021z00000gn/T/ipykernel_96392/1012632677.py:2: FutureWarning: The default value of numeric_only in DataFrame.corr is deprecated. In a future version, it will default to False. Select only valid columns or specify the value of numeric_only to silence this warning.\n",
      "  corr_matrix = data.corr().abs()\n"
     ]
    }
   ],
   "source": [
    "# Step 1: Calculate the correlation matrix\n",
    "corr_matrix = data.corr().abs()\n",
    "\n",
    "# Step 2: Identify pairs of highly correlated features (greater than the threshold, e.g., 0.8)\n",
    "threshold = 0.8\n",
    "high_corr_var = [(i, j, corr_matrix[i][j]) for i in corr_matrix.columns for j in corr_matrix.columns if i != j and corr_matrix[i][j] > threshold]\n",
    "\n",
    "# Step 3: Sort the pairs by correlation in descending order and select the top 10\n",
    "sorted_high_corr = sorted(high_corr_var, key=lambda x: x[2], reverse=True)[:10]\n",
    "\n",
    "# Step 4: Print out the top 10 pairs with their correlation values\n",
    "print(\"Top 10 pairs with the highest correlation:\")\n",
    "for i, j, corr_value in sorted_high_corr:\n",
    "    print(f\"{i} and {j}: {corr_value:.4f}\")"
   ]
  },
  {
   "cell_type": "code",
   "execution_count": 158,
   "metadata": {},
   "outputs": [],
   "source": [
    "# Drop the specified columns from the DataFrame\n",
    "data = data.drop(columns=['SA2 code_x', 'sa3_code', 'sa3_name', 'sa4_code', 'sa4_name', 'areasqkm', 'OCC_2036', 'HHS_2036', 'OCC_2026', 'HHS_2026', 'POPD_2036', \n",
    "       'HHS_2031', 'SPD_2021', 'SPD_2026', 'OCC_2021', 'OCC_2031','POPD_2031', 'PNPD_2031', 'POPD_2021', 'Top 5%', 'POPD_2026', 'SPD_2036', 'SPD_2031', 'erp_2023_no.', 'erp_change_no.', \n",
    "       'erp_change_percentage', 'ERP_2021','ERP_2026', 'ERP_2021',\n",
    "       'ERP_2026', 'ERP_2031', 'ERP_2036', 'PNPD_2021', 'PNPD_2026',\n",
    "       'PNPD_2036', 'OPD_2021', 'OPD_2026', 'OPD_2031', 'OPD_2036', 'HHS_2021',\n",
    "       'population_growth_2021_2026', 'population_growth_2026_2031', 'population_growth_2031_2036', 'SA2 code_y', 'Top 1%', 'P80/P20', 'Gini coefficient', 'total_number_of_items', 'Highest Quartile', 'Third Quartile', 'Lowest Quartile', 'P10/P50', \"Baths\"])\n"
   ]
  },
  {
   "cell_type": "code",
   "execution_count": 162,
   "metadata": {},
   "outputs": [
    {
     "name": "stdout",
     "output_type": "stream",
     "text": [
      "RMSE: 138.04\n"
     ]
    },
    {
     "name": "stderr",
     "output_type": "stream",
     "text": [
      "/opt/anaconda3/lib/python3.11/site-packages/sklearn/metrics/_regression.py:483: FutureWarning: 'squared' is deprecated in version 1.4 and will be removed in 1.6. To calculate the root mean squared error, use the function'root_mean_squared_error'.\n",
      "  warnings.warn(\n"
     ]
    }
   ],
   "source": [
    "X = data  # Features\n",
    "\n",
    "# Step 2: Convert categorical columns if any\n",
    "# Convert categorical columns to category dtype or one-hot encode them if necessary\n",
    "X = pd.get_dummies(X, drop_first=True)  # One-hot encoding categorical features\n",
    "\n",
    "# Step 3: Split into training and testing sets\n",
    "X_train, X_test, y_train, y_test = train_test_split(X, y, test_size=0.2, random_state=42)\n",
    "\n",
    "# Step 4: Initialize and train the XGBoost Regressor\n",
    "model = XGBRegressor()\n",
    "model.fit(X_train, y_train)\n",
    "\n",
    "# Step 5: Make predictions and evaluate the model\n",
    "y_pred = model.predict(X_test)\n",
    "rmse = mean_squared_error(y_test, y_pred, squared=False)\n",
    "print(f\"RMSE: {rmse:.2f}\")\n",
    "\n",
    "# Step 6: Get Feature Importance\n",
    "importance = model.feature_importances_\n"
   ]
  },
  {
   "cell_type": "code",
   "execution_count": 165,
   "metadata": {},
   "outputs": [
    {
     "name": "stdout",
     "output_type": "stream",
     "text": [
      "Top 20 Most Important Features:\n",
      "                                                Feature  Importance\n",
      "34                                              Top 10%    0.146026\n",
      "31                                                 Mean    0.085039\n",
      "0                                                  Beds    0.053227\n",
      "19              population_density_persons_per_km2_2023    0.023603\n",
      "9462                                property_type_House    0.023332\n",
      "7                                       cbd_distance_km    0.018513\n",
      "35                                      Second Quartile    0.013542\n",
      "10490                                        suburb_NaN    0.013534\n",
      "11326                nearest_parkres_name_Princes Wharf    0.012439\n",
      "1                                               Parking    0.010299\n",
      "15                          pop_change_natural_increase    0.009779\n",
      "9468                            property_type_Townhouse    0.009166\n",
      "11303  nearest_parkres_name_Lower Maribyrnong Parklands    0.008051\n",
      "28                                Median age of earners    0.008024\n",
      "10647                         nearest_hospital_id_H5071    0.008011\n",
      "10692                         nearest_hospital_id_H5408    0.007444\n",
      "32                                              P80/P50    0.007373\n",
      "2236       address_154 Chapel Street, St Kilda VIC 3182    0.006741\n",
      "5                                    nearest_station_id    0.006596\n",
      "13                                       Facility Count    0.006542\n"
     ]
    }
   ],
   "source": [
    "# Create a DataFrame for better visualization\n",
    "feature_importance_df = pd.DataFrame({\n",
    "    'Feature': X.columns,\n",
    "    'Importance': importance\n",
    "})\n",
    "\n",
    "# Sort the DataFrame by Importance and select the top 10 features\n",
    "top_features = feature_importance_df.sort_values(by='Importance', ascending=False).head(20)\n",
    "top_features.to_csv('../data/curated/top_features_xgboost.csv')\n",
    "# Print the top 10 most important features\n",
    "print(\"Top 20 Most Important Features:\")\n",
    "print(top_features)\n"
   ]
  },
  {
   "cell_type": "code",
   "execution_count": null,
   "metadata": {},
   "outputs": [],
   "source": []
  }
 ],
 "metadata": {
  "kernelspec": {
   "display_name": "base",
   "language": "python",
   "name": "python3"
  },
  "language_info": {
   "codemirror_mode": {
    "name": "ipython",
    "version": 3
   },
   "file_extension": ".py",
   "mimetype": "text/x-python",
   "name": "python",
   "nbconvert_exporter": "python",
   "pygments_lexer": "ipython3",
   "version": "3.11.7"
  }
 },
 "nbformat": 4,
 "nbformat_minor": 2
}
