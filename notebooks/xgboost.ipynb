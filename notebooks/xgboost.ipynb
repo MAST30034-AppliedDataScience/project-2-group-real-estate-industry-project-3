{
 "cells": [
  {
   "cell_type": "code",
   "execution_count": 199,
   "metadata": {},
   "outputs": [],
   "source": [
    "# Import necessary libraries\n",
    "import pandas as pd\n",
    "from xgboost import XGBRegressor\n",
    "from sklearn.model_selection import train_test_split\n",
    "from sklearn.metrics import mean_squared_error\n",
    "import matplotlib.pyplot as plt\n",
    "import numpy as np\n",
    "import regex"
   ]
  },
  {
   "cell_type": "code",
   "execution_count": 200,
   "metadata": {},
   "outputs": [],
   "source": [
    "# load data\n",
    "data = pd.read_parquet('../data/curated/features_domain.parquet')  "
   ]
  },
  {
   "cell_type": "code",
   "execution_count": 201,
   "metadata": {},
   "outputs": [],
   "source": [
    "data.drop(columns=['url','price','latitude','longitude','geometry', 'geometry_proj', 'index_right','bond'], inplace=True)"
   ]
  },
  {
   "cell_type": "code",
   "execution_count": 202,
   "metadata": {},
   "outputs": [],
   "source": [
    "data.columns = [regex.sub(\"_\", col) if any(x in str(col) for x in set(('[', ']', '<'))) else col for col in data.columns.values]"
   ]
  },
  {
   "cell_type": "code",
   "execution_count": 203,
   "metadata": {},
   "outputs": [
    {
     "name": "stdout",
     "output_type": "stream",
     "text": [
      "Top 10 pairs with the highest correlation:\n",
      "sa3_code and SA2 code_x: 1.0000\n",
      "SA2 code_x and sa3_code: 1.0000\n",
      "areasqkm and area_km2: 1.0000\n",
      "area_km2 and areasqkm: 1.0000\n",
      "sa3_code and sa4_code: 1.0000\n",
      "sa4_code and sa3_code: 1.0000\n",
      "sa4_code and SA2 code_x: 1.0000\n",
      "SA2 code_x and sa4_code: 1.0000\n",
      "OCC_2031 and OCC_2036: 0.9996\n",
      "OCC_2036 and OCC_2031: 0.9996\n"
     ]
    },
    {
     "name": "stderr",
     "output_type": "stream",
     "text": [
      "/var/folders/b6/nv55vzd50gz6bs69664021z00000gn/T/ipykernel_96392/1012632677.py:2: FutureWarning: The default value of numeric_only in DataFrame.corr is deprecated. In a future version, it will default to False. Select only valid columns or specify the value of numeric_only to silence this warning.\n",
      "  corr_matrix = data.corr().abs()\n"
     ]
    }
   ],
   "source": [
    "# Step 1: Calculate the correlation matrix\n",
    "corr_matrix = data.corr().abs()\n",
    "\n",
    "# Step 2: Identify pairs of highly correlated features (greater than the threshold, e.g., 0.8)\n",
    "threshold = 0.8\n",
    "high_corr_var = [(i, j, corr_matrix[i][j]) for i in corr_matrix.columns for j in corr_matrix.columns if i != j and corr_matrix[i][j] > threshold]\n",
    "\n",
    "# Step 3: Sort the pairs by correlation in descending order and select the top 10\n",
    "sorted_high_corr = sorted(high_corr_var, key=lambda x: x[2], reverse=True)[:10]\n",
    "\n",
    "# Step 4: Print out the top 10 pairs with their correlation values\n",
    "print(\"Top 10 pairs with the highest correlation:\")\n",
    "for i, j, corr_value in sorted_high_corr:\n",
    "    print(f\"{i} and {j}: {corr_value:.4f}\")"
   ]
  },
  {
   "cell_type": "code",
   "execution_count": 204,
   "metadata": {},
   "outputs": [],
   "source": [
    "# Drop the specified columns from the DataFrame\n",
    "data = data.drop(columns=['SA2 code_x', 'sa3_code', 'sa3_name', 'sa4_code', 'sa4_name', 'areasqkm', 'OCC_2036', 'HHS_2036', 'OCC_2026', 'HHS_2026', 'POPD_2036', \n",
    "       'HHS_2031', 'SPD_2021', 'SPD_2026', 'OCC_2021', 'OCC_2031','POPD_2031', 'PNPD_2031', 'POPD_2021', 'Top 5%', 'POPD_2026', 'SPD_2036', 'SPD_2031', 'erp_2023_no.', 'erp_change_no.', \n",
    "       'erp_change_percentage', 'ERP_2021','ERP_2026', 'ERP_2021',\n",
    "       'ERP_2026', 'ERP_2031', 'ERP_2036', 'PNPD_2021', 'PNPD_2026',\n",
    "       'PNPD_2036', 'OPD_2021', 'OPD_2026', 'OPD_2031', 'OPD_2036', 'HHS_2021',\n",
    "       'population_growth_2021_2026', 'population_growth_2026_2031', 'population_growth_2031_2036', 'SA2 code_y', 'Top 1%', 'P80/P20', 'Gini coefficient', 'total_number_of_items', 'Highest Quartile', 'Third Quartile', 'Lowest Quartile', 'P10/P50', \"Baths\"])\n"
   ]
  },
  {
   "cell_type": "code",
   "execution_count": 205,
   "metadata": {},
   "outputs": [
    {
     "name": "stdout",
     "output_type": "stream",
     "text": [
      "RMSE: 7.82\n"
     ]
    },
    {
     "name": "stderr",
     "output_type": "stream",
     "text": [
      "/opt/anaconda3/lib/python3.11/site-packages/sklearn/metrics/_regression.py:483: FutureWarning: 'squared' is deprecated in version 1.4 and will be removed in 1.6. To calculate the root mean squared error, use the function'root_mean_squared_error'.\n",
      "  warnings.warn(\n"
     ]
    }
   ],
   "source": [
    "X = data  # Features\n",
    "\n",
    "# Step 2: Convert categorical columns if any\n",
    "# Convert categorical columns to category dtype or one-hot encode them if necessary\n",
    "X = pd.get_dummies(X, drop_first=True)  # One-hot encoding categorical features\n",
    "\n",
    "# Step 3: Split into training and testing sets\n",
    "X_train, X_test, y_train, y_test = train_test_split(X, y, test_size=0.2, random_state=42)\n",
    "\n",
    "# Step 4: Initialize and train the XGBoost Regressor\n",
    "model = XGBRegressor()\n",
    "model.fit(X_train, y_train)\n",
    "\n",
    "# Step 5: Make predictions and evaluate the model\n",
    "y_pred = model.predict(X_test)\n",
    "rmse = mean_squared_error(y_test, y_pred, squared=False)\n",
    "print(f\"RMSE: {rmse:.2f}\")\n",
    "\n",
    "# Step 6: Get Feature Importance\n",
    "importance = model.feature_importances_\n"
   ]
  },
  {
   "cell_type": "code",
   "execution_count": 206,
   "metadata": {},
   "outputs": [
    {
     "name": "stdout",
     "output_type": "stream",
     "text": [
      "Top 20 Most Important Features:\n",
      "                                Feature  Importance\n",
      "2                       extracted_price    0.953673\n",
      "14                       Facility Count    0.002576\n",
      "16          pop_change_natural_increase    0.002410\n",
      "18         pop_change_oversea_migration    0.002389\n",
      "34                              P20/P50    0.002294\n",
      "26                 total_value_of_items    0.001652\n",
      "10                          mean_stores    0.001519\n",
      "1                               Parking    0.001368\n",
      "23           distance_to_closest_school    0.001296\n",
      "11341  nearest_parkres_name_Wattle Park    0.001285\n",
      "8                       cbd_distance_km    0.001110\n",
      "19                             area_km2    0.001043\n",
      "22                       closest_school    0.001026\n",
      "9524                 sa2_code_207011149    0.000965\n",
      "10691         nearest_hospital_id_H5383    0.000913\n",
      "21             nearest_parkres_distance    0.000871\n",
      "3                              chg_flag    0.000775\n",
      "27                      crime_frequency    0.000727\n",
      "36                      Second Quartile    0.000704\n",
      "13              total_population_growth    0.000693\n"
     ]
    }
   ],
   "source": [
    "# Create a DataFrame for better visualization\n",
    "feature_importance_df = pd.DataFrame({\n",
    "    'Feature': X.columns,\n",
    "    'Importance': importance\n",
    "})\n",
    "\n",
    "# Sort the DataFrame by Importance and select the top 10 features\n",
    "top_features = feature_importance_df.sort_values(by='Importance', ascending=False).head(20)\n",
    "feature_importance_df.to_csv('../data/curated/feature_importance_xgboost.csv')\n",
    "# Print the top 10 most important features\n",
    "print(\"Top 20 Most Important Features:\")\n",
    "print(top_features)\n"
   ]
  }
 ],
 "metadata": {
  "kernelspec": {
   "display_name": "base",
   "language": "python",
   "name": "python3"
  },
  "language_info": {
   "codemirror_mode": {
    "name": "ipython",
    "version": 3
   },
   "file_extension": ".py",
   "mimetype": "text/x-python",
   "name": "python",
   "nbconvert_exporter": "python",
   "pygments_lexer": "ipython3",
   "version": "3.11.7"
  }
 },
 "nbformat": 4,
 "nbformat_minor": 2
}
