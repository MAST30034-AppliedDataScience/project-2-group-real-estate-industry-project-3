{
 "cells": [
  {
   "cell_type": "code",
   "execution_count": 1,
   "id": "initial_id",
   "metadata": {
    "collapsed": true,
    "ExecuteTime": {
     "end_time": "2024-09-19T03:58:22.210408Z",
     "start_time": "2024-09-19T03:58:22.170260Z"
    }
   },
   "outputs": [],
   "source": [
    "from pyspark.sql import SparkSession\n",
    "from pyspark.sql.functions import hour, dayofweek, month, date_trunc, col"
   ]
  },
  {
   "cell_type": "code",
   "outputs": [
    {
     "name": "stderr",
     "output_type": "stream",
     "text": [
      "24/09/19 13:58:23 WARN Utils: Your hostname, coldbrew.local resolves to a loopback address: 127.0.0.1; using 10.12.240.157 instead (on interface en0)\n",
      "24/09/19 13:58:23 WARN Utils: Set SPARK_LOCAL_IP if you need to bind to another address\n",
      "Setting default log level to \"WARN\".\n",
      "To adjust logging level use sc.setLogLevel(newLevel). For SparkR, use setLogLevel(newLevel).\n",
      "24/09/19 13:58:23 WARN NativeCodeLoader: Unable to load native-hadoop library for your platform... using builtin-java classes where applicable\n"
     ]
    }
   ],
   "source": [
    "# Create a spark session (which will run spark jobs)\n",
    "spark = (\n",
    "    SparkSession.builder.appName(\"MAST30034 Tutorial 1\")\n",
    "    .config(\"spark.sql.repl.eagerEval.enabled\", True)\n",
    "    .config(\"spark.sql.parquet.cacheMetadata\", \"true\")\n",
    "    .config(\"spark.sql.session.timeZone\", \"Etc/UTC\")\n",
    "    .config(\"spark.driver.memory\", \"15g\")\n",
    "    .getOrCreate()\n",
    ")"
   ],
   "metadata": {
    "collapsed": false,
    "ExecuteTime": {
     "end_time": "2024-09-19T03:58:24.895389Z",
     "start_time": "2024-09-19T03:58:22.211452Z"
    }
   },
   "id": "548a8fd214f64986",
   "execution_count": 2
  },
  {
   "cell_type": "code",
   "outputs": [],
   "source": [
    "domain_all = spark.read.parquet('../data/raw/domain.parquet')"
   ],
   "metadata": {
    "collapsed": false,
    "ExecuteTime": {
     "end_time": "2024-09-19T03:58:26.914108Z",
     "start_time": "2024-09-19T03:58:24.896244Z"
    }
   },
   "id": "ef9102d8d8ff1981",
   "execution_count": 3
  },
  {
   "cell_type": "code",
   "outputs": [
    {
     "name": "stdout",
     "output_type": "stream",
     "text": [
      "Number of rows 9828\n",
      "root\n",
      " |-- url: string (nullable = true)\n",
      " |-- price: string (nullable = true)\n",
      " |-- address: string (nullable = true)\n",
      " |-- property_type: string (nullable = true)\n",
      " |-- latitude: double (nullable = true)\n",
      " |-- longitude: double (nullable = true)\n",
      " |-- Beds: double (nullable = true)\n",
      " |-- Baths: double (nullable = true)\n",
      " |-- Parking: double (nullable = true)\n",
      " |-- bond: double (nullable = true)\n",
      " |-- extracted_price: double (nullable = true)\n",
      " |-- geometry: binary (nullable = true)\n",
      " |-- sa2_code: string (nullable = true)\n",
      " |-- sa2_name: string (nullable = true)\n",
      " |-- chg_flag: string (nullable = true)\n",
      " |-- chg_lbl: string (nullable = true)\n",
      " |-- sa3_code: string (nullable = true)\n",
      " |-- sa3_name: string (nullable = true)\n",
      " |-- sa4_code: string (nullable = true)\n",
      " |-- sa4_name: string (nullable = true)\n",
      " |-- gcc_code: string (nullable = true)\n",
      " |-- gcc_name: string (nullable = true)\n",
      " |-- ste_code: string (nullable = true)\n",
      " |-- ste_name: string (nullable = true)\n",
      " |-- aus_code: string (nullable = true)\n",
      " |-- aus_name: string (nullable = true)\n",
      " |-- areasqkm: double (nullable = true)\n",
      " |-- loci_uri: string (nullable = true)\n",
      " |-- __index_level_0__: long (nullable = true)\n"
     ]
    }
   ],
   "source": [
    "# Preview the data\n",
    "num_rows = domain_all.count()\n",
    "print(\"Number of rows\", num_rows)\n",
    "domain_all.printSchema()"
   ],
   "metadata": {
    "collapsed": false,
    "ExecuteTime": {
     "end_time": "2024-09-19T03:58:27.810280Z",
     "start_time": "2024-09-19T03:58:26.915034Z"
    }
   },
   "id": "605c3382de22acdb",
   "execution_count": 4
  },
  {
   "cell_type": "code",
   "outputs": [
    {
     "name": "stdout",
     "output_type": "stream",
     "text": [
      "Column url has 0 missing values.\n",
      "Column price has 0 missing values.\n",
      "Column address has 0 missing values.\n",
      "Column property_type has 0 missing values.\n",
      "Column latitude has 0 missing values.\n",
      "Column longitude has 0 missing values.\n",
      "Column Beds has 143 missing values.\n",
      "Column Baths has 74 missing values.\n",
      "Column Parking has 11 missing values.\n",
      "Column bond has 1272 missing values.\n",
      "Column extracted_price has 162 missing values.\n",
      "Column geometry has 0 missing values.\n",
      "Column sa2_code has 2 missing values.\n",
      "Column sa2_name has 2 missing values.\n",
      "Column chg_flag has 2 missing values.\n",
      "Column chg_lbl has 2 missing values.\n",
      "Column sa3_code has 2 missing values.\n",
      "Column sa3_name has 2 missing values.\n",
      "Column sa4_code has 2 missing values.\n",
      "Column sa4_name has 2 missing values.\n",
      "Column gcc_code has 2 missing values.\n",
      "Column gcc_name has 2 missing values.\n",
      "Column ste_code has 2 missing values.\n",
      "Column ste_name has 2 missing values.\n",
      "Column aus_code has 2 missing values.\n",
      "Column aus_name has 2 missing values.\n",
      "Column areasqkm has 2 missing values.\n",
      "Column loci_uri has 2 missing values.\n",
      "Column __index_level_0__ has 0 missing values.\n"
     ]
    }
   ],
   "source": [
    "# Create a dictionary to hold the counts of missing values (written by ChatGPT)\n",
    "missing_counts = {col: domain_all.filter(domain_all[col].isNull()).count() for col in domain_all.columns}\n",
    "\n",
    "# Display the counts\n",
    "for column, count in missing_counts.items():\n",
    "    print(f\"Column {column} has {count} missing values.\")"
   ],
   "metadata": {
    "collapsed": false,
    "ExecuteTime": {
     "end_time": "2024-09-19T03:58:30.352973Z",
     "start_time": "2024-09-19T03:58:27.811991Z"
    }
   },
   "id": "439e9a2f39d97207",
   "execution_count": 5
  },
  {
   "cell_type": "code",
   "outputs": [],
   "source": [
    "# Drop rows with missing extracted_price\n",
    "domain_all = domain_all.dropna(subset=[\"extracted_price\"])"
   ],
   "metadata": {
    "collapsed": false,
    "ExecuteTime": {
     "end_time": "2024-09-19T03:58:30.367688Z",
     "start_time": "2024-09-19T03:58:30.356599Z"
    }
   },
   "id": "bbca9711158c50e1",
   "execution_count": 6
  },
  {
   "cell_type": "code",
   "outputs": [
    {
     "name": "stderr",
     "output_type": "stream",
     "text": [
      "24/09/19 13:58:30 WARN SparkStringUtils: Truncated the string representation of a plan since it was too large. This behavior can be adjusted by setting 'spark.sql.debug.maxToStringFields'.\n"
     ]
    },
    {
     "name": "stdout",
     "output_type": "stream",
     "text": [
      "+--------------------+--------------------+--------------------+--------------------+-------------------+------------------+----+-----+-------+------+---------------+--------------------+---------+--------------------+--------+-----------+--------+--------------------+--------+--------------------+--------+-----------------+--------+--------+--------+---------+--------+--------------------+-----------------+\n",
      "|                 url|               price|             address|       property_type|           latitude|         longitude|Beds|Baths|Parking|  bond|extracted_price|            geometry| sa2_code|            sa2_name|chg_flag|    chg_lbl|sa3_code|            sa3_name|sa4_code|            sa4_name|gcc_code|         gcc_name|ste_code|ste_name|aus_code| aus_name|areasqkm|            loci_uri|__index_level_0__|\n",
      "+--------------------+--------------------+--------------------+--------------------+-------------------+------------------+----+-----+-------+------+---------------+--------------------+---------+--------------------+--------+-----------+--------+--------------------+--------+--------------------+--------+-----------------+--------+--------+--------+---------+--------+--------------------+-----------------+\n",
      "|https://www.domai...|        $50 per week|Carpark/105 Batma...|               House|         -37.810968|       144.9504968|NULL| NULL|    1.0| 217.0|           50.0|[01 01 00 00 00 7...|206041510|West Melbourne - ...|       1|        New|   20604|      Melbourne City|     206|   Melbourne - Inner|   2GMEL|Greater Melbourne|       2|Victoria|     AUS|Australia|  0.8247|http://linked.dat...|              182|\n",
      "|https://www.domai...|        $50 per week|Carpark/105 Batma...|               House|         -37.810968|       144.9504968|NULL| NULL|    1.0| 217.0|           50.0|[01 01 00 00 00 7...|206041510|West Melbourne - ...|       1|        New|   20604|      Melbourne City|     206|   Melbourne - Inner|   2GMEL|Greater Melbourne|       2|Victoria|     AUS|Australia|  0.8247|http://linked.dat...|              184|\n",
      "|https://www.domai...|$39,000 p.a + Out...|30 South Concours...|              Studio|        -37.9865947|       145.0341946|NULL|  1.0|    0.0|3033.0|        39000.0|[01 01 00 00 00 6...|208011168|           Beaumaris|       0|  No change|   20801|             Bayside|     208|Melbourne - Inner...|   2GMEL|Greater Melbourne|       2|Victoria|     AUS|Australia|  5.9678|http://linked.dat...|              393|\n",
      "|https://www.domai...|          $450.00 pw|25B Wallace Drive...|              Studio|        -37.6505856|       144.8999219|NULL|  1.0|    1.0|1950.0|          450.0|[01 01 00 00 00 8...|210051246|   Greenvale - Bulla|       0|  No change|   21005|Tullamarine - Bro...|     210|Melbourne - North...|   2GMEL|Greater Melbourne|       2|Victoria|     AUS|Australia|  95.906|http://linked.dat...|             1139|\n",
      "|https://www.domai...|           $300 / wk|10/63 Dandenong R...|              Studio|          -38.13511|        145.129977|NULL|  1.0|    1.0|1304.0|          300.0|[01 01 00 00 00 6...|214011371|           Frankston|       0|  No change|   21401|           Frankston|     214|Mornington Peninsula|   2GMEL|Greater Melbourne|       2|Victoria|     AUS|Australia| 11.6244|http://linked.dat...|             1589|\n",
      "|https://www.domai...|            $155 /wk|Room 6/35 Heather...|              Studio| -38.15860199999999|       145.1408019|NULL|  1.0|    0.0| 674.0|          155.0|[01 01 00 00 00 D...|214011371|           Frankston|       0|  No change|   21401|           Frankston|     214|Mornington Peninsula|   2GMEL|Greater Melbourne|       2|Victoria|     AUS|Australia| 11.6244|http://linked.dat...|             1625|\n",
      "|https://www.domai...|            $160 /wk|Room 3/31 Stanley...|              Studio|        -38.1402145|       145.1331646|NULL|  1.0|    1.0| 695.0|          160.0|[01 01 00 00 00 8...|214011371|           Frankston|       0|  No change|   21401|           Frankston|     214|Mornington Peninsula|   2GMEL|Greater Melbourne|       2|Victoria|     AUS|Australia| 11.6244|http://linked.dat...|             1660|\n",
      "|https://www.domai...|             $315/wk|4/65 Margate Aven...|              Studio|        -38.1616315|       145.1438021|NULL|  1.0|    2.0|  NULL|          315.0|[01 01 00 00 00 1...|214011371|           Frankston|       0|  No change|   21401|           Frankston|     214|Mornington Peninsula|   2GMEL|Greater Melbourne|       2|Victoria|     AUS|Australia| 11.6244|http://linked.dat...|             1669|\n",
      "|https://www.domai...|$600 per week Ava...|24 Beaconsfield D...|               House|         -37.522335|        144.911981|NULL| NULL|   NULL|2607.0|          600.0|[01 01 00 00 00 5...|210051445|  Mickleham - Yuroke|       0|  No change|   21005|Tullamarine - Bro...|     210|Melbourne - North...|   2GMEL|Greater Melbourne|       2|Victoria|     AUS|Australia| 70.8359|http://linked.dat...|             1690|\n",
      "|https://www.domai...|             $340 pw|37/25 Redan St St...|Apartment / Unit ...|         -37.860288|       144.9902977|NULL| NULL|   NULL|1477.0|          340.0|[01 01 00 00 00 B...|206051513|  St Kilda - Central|       1|        New|   20605|        Port Phillip|     206|   Melbourne - Inner|   2GMEL|Greater Melbourne|       2|Victoria|     AUS|Australia|  1.5375|http://linked.dat...|             3150|\n",
      "|https://www.domai...|                $425|208/363 Beaconsfi...|              Studio|        -37.8611066|       144.9730024|NULL|  1.0|    1.0|1847.0|          425.0|[01 01 00 00 00 B...|206051514|     St Kilda - West|       1|        New|   20605|        Port Phillip|     206|   Melbourne - Inner|   2GMEL|Greater Melbourne|       2|Victoria|     AUS|Australia|  2.3637|http://linked.dat...|             3164|\n",
      "|https://www.domai...|             $435 pw|7/340 Beaconsfiel...|              Studio|        -37.8583372|        144.968941|NULL|  1.0|    0.0|1890.0|          435.0|[01 01 00 00 00 1...|206051514|     St Kilda - West|       1|        New|   20605|        Port Phillip|     206|   Melbourne - Inner|   2GMEL|Greater Melbourne|       2|Victoria|     AUS|Australia|  2.3637|http://linked.dat...|             3216|\n",
      "|https://www.domai...|FULLY FURNISHED -...|23/92-94 Grey Str...|              Studio|         -37.863263|        144.981038|NULL|  1.0|    0.0|1564.0|          360.0|[01 01 00 00 00 4...|206051514|     St Kilda - West|       1|        New|   20605|        Port Phillip|     206|   Melbourne - Inner|   2GMEL|Greater Melbourne|       2|Victoria|     AUS|Australia|  2.3637|http://linked.dat...|             3286|\n",
      "|https://www.domai...|        $60 per week|Carpark354/133-13...|               House|        -37.8594263|       144.9783733|NULL| NULL|    1.0| 261.0|           60.0|[01 01 00 00 00 F...|206051514|     St Kilda - West|       1|        New|   20605|        Port Phillip|     206|   Melbourne - Inner|   2GMEL|Greater Melbourne|       2|Victoria|     AUS|Australia|  2.3637|http://linked.dat...|             3303|\n",
      "|https://www.domai...|       $500 Per Week|2/130 Colins Stre...|Apartment / Unit ...|        -37.9807958|       145.0677799| 2.0| NULL|    1.0|2173.0|          500.0|[01 01 00 00 00 7...|208031190|             Mentone|       0|  No change|   20803|            Kingston|     208|Melbourne - Inner...|   2GMEL|Greater Melbourne|       2|Victoria|     AUS|Australia|    4.45|http://linked.dat...|             3312|\n",
      "|https://www.domai...|                $410|1103/35 Malcolm S...|Apartment / Unit ...|        -37.8369683|       144.9964622|NULL|  1.0|    0.0|1782.0|          410.0|[01 01 00 00 00 6...|206061515| South Yarra - North|       1|        New|   20606|  Stonnington - West|     206|   Melbourne - Inner|   2GMEL|Greater Melbourne|       2|Victoria|     AUS|Australia|  1.1696|http://linked.dat...|             3474|\n",
      "|https://www.domai...|   $360 pw Furnished|23/631 Punt Road,...|              Studio|         -37.839996|       144.9859687|NULL|  1.0|    0.0|1651.0|          360.0|[01 01 00 00 00 2...|206041125|  South Yarra - West|       0|  No change|   20604|      Melbourne City|     206|   Melbourne - Inner|   2GMEL|Greater Melbourne|       2|Victoria|     AUS|Australia|  1.5027|http://linked.dat...|             3498|\n",
      "|https://www.domai...|   $380 Furnished pw|10/1 Lawson Grove...|              Studio|         -37.833581|       144.9902449|NULL|  1.0|    0.0|1651.0|          380.0|[01 01 00 00 00 F...|206061515| South Yarra - North|       1|        New|   20606|  Stonnington - West|     206|   Melbourne - Inner|   2GMEL|Greater Melbourne|       2|Victoria|     AUS|Australia|  1.1696|http://linked.dat...|             3526|\n",
      "|https://www.domai...|             $350 pw|2/631 Punt Road, ...|              Studio|         -37.839996|       144.9859687|NULL|  1.0|    1.0|1521.0|          350.0|[01 01 00 00 00 2...|206041125|  South Yarra - West|       0|  No change|   20604|      Melbourne City|     206|   Melbourne - Inner|   2GMEL|Greater Melbourne|       2|Victoria|     AUS|Australia|  1.5027|http://linked.dat...|             3553|\n",
      "|https://www.domai...|             $390 pw|7/259 Domain Road...|              Studio| -37.83496179999999|       144.9877217|NULL|  1.0|    2.0|1695.0|          390.0|[01 01 00 00 00 9...|206061515| South Yarra - North|       1|        New|   20606|  Stonnington - West|     206|   Melbourne - Inner|   2GMEL|Greater Melbourne|       2|Victoria|     AUS|Australia|  1.1696|http://linked.dat...|             3569|\n",
      "|https://www.domai...|   $400 Furnished pw|27/63 Alexandra A...|              Studio|        -37.8322438|       144.9892193|NULL|  1.0|    0.0|1738.0|          400.0|[01 01 00 00 00 4...|206061515| South Yarra - North|       1|        New|   20606|  Stonnington - West|     206|   Melbourne - Inner|   2GMEL|Greater Melbourne|       2|Victoria|     AUS|Australia|  1.1696|http://linked.dat...|             3581|\n",
      "|https://www.domai...|       $500 per week|452 ST KILDA ROAD...|Apartment / Unit ...|        -37.8390865|       144.9755242|NULL|  1.0|    0.0|1000.0|          500.0|[01 01 00 00 00 9...|206051128|         Albert Park|       0|  No change|   20605|        Port Phillip|     206|   Melbourne - Inner|   2GMEL|Greater Melbourne|       2|Victoria|     AUS|Australia|  4.6747|http://linked.dat...|             3716|\n",
      "|https://www.domai...|        $55 Per Week|200 Spencer Stree...|Apartment / Unit ...|         -37.816228|       144.9532465|NULL| NULL|    1.0| 195.0|           55.0|[01 01 00 00 00 D...|206041505|Melbourne CBD - West|       1|        New|   20604|      Melbourne City|     206|   Melbourne - Inner|   2GMEL|Greater Melbourne|       2|Victoria|     AUS|Australia|  1.0051|http://linked.dat...|             3721|\n",
      "|https://www.domai...|              $65 pw|539 St Kilda Road...|              Studio|        -37.8454438|       144.9794504|NULL|  1.0|    1.0| 300.0|           65.0|[01 01 00 00 00 B...|206041125|  South Yarra - West|       0|  No change|   20604|      Melbourne City|     206|   Melbourne - Inner|   2GMEL|Greater Melbourne|       2|Victoria|     AUS|Australia|  1.5027|http://linked.dat...|             3724|\n",
      "|https://www.domai...|                $475|208/51-67 Rathdow...|              Studio|         -37.805857|       144.9687389|NULL|  1.0|    1.0|2064.0|          475.0|[01 01 00 00 00 9...|206041117|             Carlton|       0|  No change|   20604|      Melbourne City|     206|   Melbourne - Inner|   2GMEL|Greater Melbourne|       2|Victoria|     AUS|Australia|  1.8187|http://linked.dat...|             3797|\n",
      "|https://www.domai...|                $470|1709/6 Leicester ...|Apartment / Unit ...|         -37.806138|       144.9602874|NULL| NULL|   NULL|2042.0|          470.0|[01 01 00 00 00 5...|206041117|             Carlton|       0|  No change|   20604|      Melbourne City|     206|   Melbourne - Inner|   2GMEL|Greater Melbourne|       2|Victoria|     AUS|Australia|  1.8187|http://linked.dat...|             3838|\n",
      "|https://www.domai...|    $250.00 per week|35/109 Lygon Stre...|              Studio|        -37.8045102|       144.9660078|NULL|  1.0|    0.0|1086.0|          250.0|[01 01 00 00 00 C...|206041117|             Carlton|       0|  No change|   20604|      Melbourne City|     206|   Melbourne - Inner|   2GMEL|Greater Melbourne|       2|Victoria|     AUS|Australia|  1.8187|http://linked.dat...|             3856|\n",
      "|https://www.domai...|                $380|405/20 Reeves Str...|Apartment / Unit ...|        -37.7931288|       144.9705021|NULL|  1.0|    0.0|1651.0|          380.0|[01 01 00 00 00 6...|206041117|             Carlton|       0|  No change|   20604|      Melbourne City|     206|   Melbourne - Inner|   2GMEL|Greater Melbourne|       2|Victoria|     AUS|Australia|  1.8187|http://linked.dat...|             3860|\n",
      "|https://www.domai...|$370 Per Week/Fur...|501/131 Pelham St...|              Studio|        -37.8027012|       144.9638585|NULL|  1.0|    0.0|1608.0|          370.0|[01 01 00 00 00 1...|206041117|             Carlton|       0|  No change|   20604|      Melbourne City|     206|   Melbourne - Inner|   2GMEL|Greater Melbourne|       2|Victoria|     AUS|Australia|  1.8187|http://linked.dat...|             3873|\n",
      "|https://www.domai...|    $350.00 per week|206/49-51 Rathdow...|              Studio|        -37.8057782|       144.9689269|NULL|  1.0|    0.0|1521.0|          350.0|[01 01 00 00 00 D...|206041117|             Carlton|       0|  No change|   20604|      Melbourne City|     206|   Melbourne - Inner|   2GMEL|Greater Melbourne|       2|Victoria|     AUS|Australia|  1.8187|http://linked.dat...|             3886|\n",
      "|https://www.domai...|    $360.00 per week|217/49-51 Rathdow...|              Studio|        -37.8057782|       144.9689269|NULL|  1.0|    1.0|1564.0|          360.0|[01 01 00 00 00 D...|206041117|             Carlton|       0|  No change|   20604|      Melbourne City|     206|   Melbourne - Inner|   2GMEL|Greater Melbourne|       2|Victoria|     AUS|Australia|  1.8187|http://linked.dat...|             3899|\n",
      "|https://www.domai...|                $587|562 Swanston St, ...|              Studio|        -37.8035954|       144.9636471|NULL| NULL|   NULL|  NULL|          587.0|[01 01 00 00 00 5...|206041117|             Carlton|       0|  No change|   20604|      Melbourne City|     206|   Melbourne - Inner|   2GMEL|Greater Melbourne|       2|Victoria|     AUS|Australia|  1.8187|http://linked.dat...|             3926|\n",
      "|https://www.domai...|       from 1000 pcm|18 Drummond Stree...|Apartment / Unit ...|        -37.8065906|       144.9677446|NULL| NULL|   NULL|2000.0|         1000.0|[01 01 00 00 00 2...|206041117|             Carlton|       0|  No change|   20604|      Melbourne City|     206|   Melbourne - Inner|   2GMEL|Greater Melbourne|       2|Victoria|     AUS|Australia|  1.8187|http://linked.dat...|             3930|\n",
      "|https://www.domai...|4 weeks rent free...|L204/8 Caulfield ...|Apartment / Unit ...|         -37.875941|       145.0389991|NULL|  1.0|    0.0|2460.0|          615.0|[01 01 00 00 00 5...|208021177|   Caulfield - North|       0|  No change|   20802|           Glen Eira|     208|Melbourne - Inner...|   2GMEL|Greater Melbourne|       2|Victoria|     AUS|Australia|  6.4189|http://linked.dat...|             4150|\n",
      "|https://www.domai...|       $535 per week|202/12 Caulfield ...|Apartment / Unit ...|        -37.8754061|       145.0378352|NULL|  1.0|    0.0|2140.0|          535.0|[01 01 00 00 00 6...|208021177|   Caulfield - North|       0|  No change|   20802|           Glen Eira|     208|Melbourne - Inner...|   2GMEL|Greater Melbourne|       2|Victoria|     AUS|Australia|  6.4189|http://linked.dat...|             4166|\n",
      "|https://www.domai...|4 weeks rent free...|J414/10 Caulfield...|Apartment / Unit ...|        -37.8754061|       145.0378352|NULL|  1.0|    0.0|2800.0|          700.0|[01 01 00 00 00 6...|208021177|   Caulfield - North|       0|  No change|   20802|           Glen Eira|     208|Melbourne - Inner...|   2GMEL|Greater Melbourne|       2|Victoria|     AUS|Australia|  6.4189|http://linked.dat...|             4190|\n",
      "|https://www.domai...|                $400|202/70 Nicholson ...|              Studio|        -37.8046614|       144.9740068|NULL|  1.0|    0.0|1738.0|          400.0|[01 01 00 00 00 9...|206071142|             Fitzroy|       0|  No change|   20607|               Yarra|     206|   Melbourne - Inner|   2GMEL|Greater Melbourne|       2|Victoria|     AUS|Australia|  1.3779|http://linked.dat...|             4362|\n",
      "|https://www.domai...|             $450.00|2811B/100 Harbour...|              Studio| -37.81837549999999|       144.9468886|NULL|  1.0|    1.0|  NULL|          450.0|[01 01 00 00 00 9...|206041118|           Docklands|       0|  No change|   20604|      Melbourne City|     206|   Melbourne - Inner|   2GMEL|Greater Melbourne|       2|Victoria|     AUS|Australia|   2.444|http://linked.dat...|             4619|\n",
      "|https://www.domai...|        $60 per week|Carpark440/57 Spe...|               House|        -37.8168235|       144.9530483|NULL| NULL|    1.0| 261.0|           60.0|[01 01 00 00 00 4...|206041118|           Docklands|       0|  No change|   20604|      Melbourne City|     206|   Melbourne - Inner|   2GMEL|Greater Melbourne|       2|Victoria|     AUS|Australia|   2.444|http://linked.dat...|             4735|\n",
      "|https://www.domai...|        $50 per week|Carpark450/401 Do...|               House|        -37.8142474|       144.9402778|NULL| NULL|    1.0| 217.0|           50.0|[01 01 00 00 00 F...|206041118|           Docklands|       0|  No change|   20604|      Melbourne City|     206|   Melbourne - Inner|   2GMEL|Greater Melbourne|       2|Victoria|     AUS|Australia|   2.444|http://linked.dat...|             4737|\n",
      "|https://www.domai...|        $50 per week|Carpark451/401 Do...|               House|        -37.8142474|       144.9402778|NULL| NULL|    1.0| 217.0|           50.0|[01 01 00 00 00 F...|206041118|           Docklands|       0|  No change|   20604|      Melbourne City|     206|   Melbourne - Inner|   2GMEL|Greater Melbourne|       2|Victoria|     AUS|Australia|   2.444|http://linked.dat...|             4738|\n",
      "|https://www.domai...|        $46 per week|Carpark1209/673 L...|               House|        -37.8138724|       144.9490524|NULL| NULL|    1.0| 200.0|           46.0|[01 01 00 00 00 1...|206041118|           Docklands|       0|  No change|   20604|      Melbourne City|     206|   Melbourne - Inner|   2GMEL|Greater Melbourne|       2|Victoria|     AUS|Australia|   2.444|http://linked.dat...|             4741|\n",
      "|https://www.domai...|        $60 per week|Carpark604/8 Pear...|               House|        -37.8156528|       144.9382439|NULL| NULL|    1.0| 261.0|           60.0|[01 01 00 00 00 7...|206041118|           Docklands|       0|  No change|   20604|      Melbourne City|     206|   Melbourne - Inner|   2GMEL|Greater Melbourne|       2|Victoria|     AUS|Australia|   2.444|http://linked.dat...|             4742|\n",
      "|https://www.domai...|        $50 per week|Carpark604/8 Pear...|               House|        -37.8129453|       144.9365953|NULL| NULL|    1.0| 217.0|           50.0|[01 01 00 00 00 C...|206041118|           Docklands|       0|  No change|   20604|      Melbourne City|     206|   Melbourne - Inner|   2GMEL|Greater Melbourne|       2|Victoria|     AUS|Australia|   2.444|http://linked.dat...|             4743|\n",
      "|https://www.domai...|$38,000 p.a. Incl...|667 Glenhuntly Ro...|               House|        -37.8860233|       145.0173065|NULL| NULL|   NULL|  NULL|        38000.0|[01 01 00 00 00 4...|208021178|   Caulfield - South|       0|  No change|   20802|           Glen Eira|     208|Melbourne - Inner...|   2GMEL|Greater Melbourne|       2|Victoria|     AUS|Australia|  4.7426|http://linked.dat...|             4776|\n",
      "|https://www.domai...|       $315 per week|202/2 Eastern Pla...|              Studio|        -37.8233469|       145.0455415|NULL|  1.0|    0.0|1369.0|          315.0|[01 01 00 00 00 8...|207011152|       Hawthorn East|       0|  No change|   20701|          Boroondara|     207|Melbourne - Inner...|   2GMEL|Greater Melbourne|       2|Victoria|     AUS|Australia|   3.824|http://linked.dat...|             4896|\n",
      "|https://www.domai...|       $315 per week|515/2 Eastern Pla...|              Studio|        -37.8233469|       145.0455415|NULL|  1.0|    0.0|1369.0|          315.0|[01 01 00 00 00 8...|207011152|       Hawthorn East|       0|  No change|   20701|          Boroondara|     207|Melbourne - Inner...|   2GMEL|Greater Melbourne|       2|Victoria|     AUS|Australia|   3.824|http://linked.dat...|             4897|\n",
      "|https://www.domai...|       $315 per week|209/2 Eastern Pla...|              Studio|        -37.8233469|       145.0455415|NULL|  1.0|    0.0|1369.0|          315.0|[01 01 00 00 00 8...|207011152|       Hawthorn East|       0|  No change|   20701|          Boroondara|     207|Melbourne - Inner...|   2GMEL|Greater Melbourne|       2|Victoria|     AUS|Australia|   3.824|http://linked.dat...|             4923|\n",
      "|https://www.domai...|APPLY NOW - From ...|2 Eastern Place, ...|Apartment / Unit ...|        -37.8233664|       145.0455908|NULL|  1.0|   10.0|  NULL|          265.0|[01 01 00 00 00 F...|207011152|       Hawthorn East|       0|  No change|   20701|          Boroondara|     207|Melbourne - Inner...|   2GMEL|Greater Melbourne|       2|Victoria|     AUS|Australia|   3.824|http://linked.dat...|             4969|\n",
      "|https://www.domai...|    $330.00 per week|503/45 Victoria P...|              Studio|        -37.8086867|        144.984136|NULL|  1.0|    0.0|1434.0|          330.0|[01 01 00 00 00 1...|206071141|         Collingwood|       0|  No change|   20607|               Yarra|     206|   Melbourne - Inner|   2GMEL|Greater Melbourne|       2|Victoria|     AUS|Australia|  1.2669|http://linked.dat...|             5013|\n",
      "|https://www.domai...|$1,500 mth INC GS...|27 Ian Street, No...|              Studio|         -37.965879|        145.177001|NULL|  1.0|    0.0|4500.0|         1500.0|[01 01 00 00 00 7...|212041459|   Noble Park - East|       0|  No change|   21204|           Dandenong|     212|Melbourne - South...|   2GMEL|Greater Melbourne|       2|Victoria|     AUS|Australia|  3.7671|http://linked.dat...|             5072|\n",
      "|https://www.domai...|                $604|B302/348 Macaulay...|              Studio|        -37.7947678|       144.9342535|NULL|  1.0|    0.0|  NULL|          604.0|[01 01 00 00 00 8...|206041121|   Kensington (Vic.)|       0|  No change|   20604|      Melbourne City|     206|   Melbourne - Inner|   2GMEL|Greater Melbourne|       2|Victoria|     AUS|Australia|   2.147|http://linked.dat...|             5126|\n",
      "|https://www.domai...|             $230 pw|109/32 St Edmonds...|              Studio|        -37.8501062|        144.992008|NULL|  1.0|    0.0|1000.0|          230.0|[01 01 00 00 00 D...|206061136|   Prahran - Windsor|       0|  No change|   20606|  Stonnington - West|     206|   Melbourne - Inner|   2GMEL|Greater Melbourne|       2|Victoria|     AUS|Australia|  2.9053|http://linked.dat...|             5170|\n",
      "|https://www.domai...|  From $290 per week|8 Porter Street, ...|Apartment / Unit ...|        -37.8508636|       144.9899698|NULL|  1.0|    0.0|  NULL|          290.0|[01 01 00 00 00 E...|206061136|   Prahran - Windsor|       0|  No change|   20606|  Stonnington - West|     206|   Melbourne - Inner|   2GMEL|Greater Melbourne|       2|Victoria|     AUS|Australia|  2.9053|http://linked.dat...|             5195|\n",
      "|https://www.domai...|  From $280 per week|17 Macquarie Stre...|Apartment / Unit ...|        -37.8504994|       144.9921217|NULL|  1.0|    0.0|  NULL|          280.0|[01 01 00 00 00 D...|206061136|   Prahran - Windsor|       0|  No change|   20606|  Stonnington - West|     206|   Melbourne - Inner|   2GMEL|Greater Melbourne|       2|Victoria|     AUS|Australia|  2.9053|http://linked.dat...|             5196|\n",
      "|https://www.domai...|  From $265 per week|32 St Edmonds Roa...|Apartment / Unit ...|        -37.8501194|       144.9920021|NULL|  1.0|    0.0|  NULL|          265.0|[01 01 00 00 00 0...|206061136|   Prahran - Windsor|       0|  No change|   20606|  Stonnington - West|     206|   Melbourne - Inner|   2GMEL|Greater Melbourne|       2|Victoria|     AUS|Australia|  2.9053|http://linked.dat...|             5290|\n",
      "|https://www.domai...|       $285 per week|95C/116-130 Main ...|              Studio|        -37.7144903|        145.060776|NULL|  1.0|    0.0|1238.0|          285.0|[01 01 00 00 00 3...|209021205|           Kingsbury|       0|  No change|   20902|     Darebin - North|     209|Melbourne - North...|   2GMEL|Greater Melbourne|       2|Victoria|     AUS|Australia|  9.0094|http://linked.dat...|             5312|\n",
      "|https://www.domai...|  From $250 per week|116-130 Main Driv...|              Studio|        -37.7147422|       145.0609004|NULL|  1.0|    0.0|1086.0|          250.0|[01 01 00 00 00 0...|209021205|           Kingsbury|       0|  No change|   20902|     Darebin - North|     209|Melbourne - North...|   2GMEL|Greater Melbourne|       2|Victoria|     AUS|Australia|  9.0094|http://linked.dat...|             5317|\n",
      "|https://www.domai...|                $825|21 Alexander Stre...|               House|        -37.8040886|       144.8902582|NULL| NULL|   NULL|3585.0|          825.0|[01 01 00 00 00 D...|213031350| Seddon - Kingsville|       0|  No change|   21303|         Maribyrnong|     213|    Melbourne - West|   2GMEL|Greater Melbourne|       2|Victoria|     AUS|Australia|  1.6803|http://linked.dat...|             5492|\n",
      "|https://www.domai...|        $60 per week|350 Victoria Stre...|            Carspace|        -37.8055188|       144.9547344|NULL| NULL|    1.0| 261.0|           60.0|[01 01 00 00 00 B...|206041506|     North Melbourne|       1|        New|   20604|      Melbourne City|     206|   Melbourne - Inner|   2GMEL|Greater Melbourne|       2|Victoria|     AUS|Australia|  2.4248|http://linked.dat...|             5786|\n",
      "|https://www.domai...|        $50 per week|Carpark914/33 Bla...|               House|        -37.8005616|       144.9554189|NULL| NULL|    1.0| 217.0|           50.0|[01 01 00 00 00 5...|206041506|     North Melbourne|       1|        New|   20604|      Melbourne City|     206|   Melbourne - Inner|   2GMEL|Greater Melbourne|       2|Victoria|     AUS|Australia|  2.4248|http://linked.dat...|             5788|\n",
      "|https://www.domai...|        $60 per week|275 Abbotsford St...|Apartment / Unit ...|        -37.8008283|       144.9455682|NULL| NULL|    1.0| 500.0|           60.0|[01 01 00 00 00 6...|206041506|     North Melbourne|       1|        New|   20604|      Melbourne City|     206|   Melbourne - Inner|   2GMEL|Greater Melbourne|       2|Victoria|     AUS|Australia|  2.4248|http://linked.dat...|             5791|\n",
      "|https://www.domai...|        $69 per week|Carpark224/23 Bla...|               House|        -37.8007586|       144.9550317|NULL| NULL|    1.0| 300.0|           69.0|[01 01 00 00 00 9...|206041506|     North Melbourne|       1|        New|   20604|      Melbourne City|     206|   Melbourne - Inner|   2GMEL|Greater Melbourne|       2|Victoria|     AUS|Australia|  2.4248|http://linked.dat...|             5793|\n",
      "|https://www.domai...|        $60 per week|Carpark613/33 Bla...|               House|        -37.8005616|       144.9554189|NULL| NULL|    1.0| 261.0|           60.0|[01 01 00 00 00 5...|206041506|     North Melbourne|       1|        New|   20604|      Melbourne City|     206|   Melbourne - Inner|   2GMEL|Greater Melbourne|       2|Victoria|     AUS|Australia|  2.4248|http://linked.dat...|             5794|\n",
      "|https://www.domai...|        $55 per week|Carpark613/33 Bla...|               House|        -37.8005616|       144.9554189|NULL| NULL|    1.0| 239.0|           55.0|[01 01 00 00 00 5...|206041506|     North Melbourne|       1|        New|   20604|      Melbourne City|     206|   Melbourne - Inner|   2GMEL|Greater Melbourne|       2|Victoria|     AUS|Australia|  2.4248|http://linked.dat...|             5795|\n",
      "|https://www.domai...|        $50 per week|Carpark6216/70 So...|               House|        -37.8231648|       144.9661124|NULL| NULL|    1.0| 217.0|           50.0|[01 01 00 00 00 5...|206041509|    Southbank - East|       1|        New|   20604|      Melbourne City|     206|   Melbourne - Inner|   2GMEL|Greater Melbourne|       2|Victoria|     AUS|Australia|   0.804|http://linked.dat...|             5908|\n",
      "|https://www.domai...|                 $50|Carpark5118/70 So...|               House|        -37.8231648|       144.9661124|NULL| NULL|    1.0| 217.0|           50.0|[01 01 00 00 00 5...|206041509|    Southbank - East|       1|        New|   20604|      Melbourne City|     206|   Melbourne - Inner|   2GMEL|Greater Melbourne|       2|Victoria|     AUS|Australia|   0.804|http://linked.dat...|             6179|\n",
      "|https://www.domai...|        $50 per week|Carpark5118/70 So...|               House|        -37.8229226|       144.9639272|NULL| NULL|    1.0| 217.0|           50.0|[01 01 00 00 00 3...|206041509|    Southbank - East|       1|        New|   20604|      Melbourne City|     206|   Melbourne - Inner|   2GMEL|Greater Melbourne|       2|Victoria|     AUS|Australia|   0.804|http://linked.dat...|             6188|\n",
      "|https://www.domai...|        $50 per week|Carpark5118/70 So...|               House|        -37.8231648|       144.9661124|NULL| NULL|    1.0| 217.0|           50.0|[01 01 00 00 00 5...|206041509|    Southbank - East|       1|        New|   20604|      Melbourne City|     206|   Melbourne - Inner|   2GMEL|Greater Melbourne|       2|Victoria|     AUS|Australia|   0.804|http://linked.dat...|             6192|\n",
      "|https://www.domai...|    $600.00 per week|28 Rowson Street,...|               House|        -37.8588219|       145.2753652|NULL| NULL|   NULL|2607.0|          600.0|[01 01 00 00 00 9...|211011446|             Boronia|       0|  No change|   21101|                Knox|     211|Melbourne - Outer...|   2GMEL|Greater Melbourne|       2|Victoria|     AUS|Australia| 11.2631|http://linked.dat...|             6254|\n",
      "|https://www.domai...|                $520|3 Sincere Drive, ...|               House|        -37.9033152|       144.7327726|NULL| NULL|   NULL|2260.0|          520.0|[01 01 00 00 00 F...|213051466|  Point Cook - South|       0|  No change|   21305|             Wyndham|     213|    Melbourne - West|   2GMEL|Greater Melbourne|       2|Victoria|     AUS|Australia|  9.4219|http://linked.dat...|             6764|\n",
      "|https://www.domai...|       $305 per week|608/1 Queens Aven...|              Studio|        -37.8226997|       145.0429826|NULL|  1.0|    0.0|1325.0|          305.0|[01 01 00 00 00 8...|207011520|    Hawthorn - South|       1|        New|   20701|          Boroondara|     207|Melbourne - Inner...|   2GMEL|Greater Melbourne|       2|Victoria|     AUS|Australia|  3.2163|http://linked.dat...|             6822|\n",
      "|https://www.domai...|APPLY NOW - From ...|1 Queens Avenue, ...|Apartment / Unit ...|        -37.8227434|       145.0429424|NULL|  1.0|   14.0|  NULL|          250.0|[01 01 00 00 00 9...|207011520|    Hawthorn - South|       1|        New|   20701|          Boroondara|     207|Melbourne - Inner...|   2GMEL|Greater Melbourne|       2|Victoria|     AUS|Australia|  3.2163|http://linked.dat...|             6876|\n",
      "|https://www.domai...|APPLY NOW - From ...|71 Riversdale Roa...|Apartment / Unit ...|        -37.8282208|        145.032328|NULL|  1.0|    9.0|  NULL|          275.0|[01 01 00 00 00 D...|207011520|    Hawthorn - South|       1|        New|   20701|          Boroondara|     207|Melbourne - Inner...|   2GMEL|Greater Melbourne|       2|Victoria|     AUS|Australia|  3.2163|http://linked.dat...|             6877|\n",
      "|https://www.domai...|       $290 per week|95 Carinish Road,...|              Studio|        -37.9224058|       145.1184226|NULL|  1.0|    0.0|1257.0|          290.0|[01 01 00 00 00 6...|212051568|   Clayton - Central|       1|        New|   21205|              Monash|     212|Melbourne - South...|   2GMEL|Greater Melbourne|       2|Victoria|     AUS|Australia|  4.1819|http://linked.dat...|             7245|\n",
      "|https://www.domai...|             $250 pw|24/677 Park Stree...|              Studio|         -37.778235|         144.96328|NULL|  1.0|    0.0|1087.0|          250.0|[01 01 00 00 00 8...|206011496|   Brunswick - South|       1|        New|   20601|  Brunswick - Coburg|     206|   Melbourne - Inner|   2GMEL|Greater Melbourne|       2|Victoria|     AUS|Australia|  2.7334|http://linked.dat...|             7632|\n",
      "|https://www.domai...|APPLY NOW - From ...|1 Delany Avenue, ...|              Studio|        -37.8494259|       145.1195891|NULL|  1.0|    8.0|  NULL|          320.0|[01 01 00 00 00 A...|207031165|      Burwood (Vic.)|       3|Name change|   20703|   Whitehorse - West|     207|Melbourne - Inner...|   2GMEL|Greater Melbourne|       2|Victoria|     AUS|Australia|  5.0392|http://linked.dat...|             7830|\n",
      "|https://www.domai...|APPLY NOW - From ...|234 Warrigal Road...|              Studio|        -37.8493988|       145.0954613|NULL|  1.0|    8.0|  NULL|          300.0|[01 01 00 00 00 1...|207011149|          Camberwell|       0|  No change|   20701|          Boroondara|     207|Melbourne - Inner...|   2GMEL|Greater Melbourne|       2|Victoria|     AUS|Australia|  7.2919|http://linked.dat...|             8165|\n",
      "|https://www.domai...|             $450 pw|1403/325 Collins ...|              Studio|         -37.816598|       144.9634599|NULL|  1.0|    0.0|1955.0|          450.0|[01 01 00 00 00 3...|206041505|Melbourne CBD - West|       1|        New|   20604|      Melbourne City|     206|   Melbourne - Inner|   2GMEL|Greater Melbourne|       2|Victoria|     AUS|Australia|  1.0051|http://linked.dat...|             8469|\n",
      "|https://www.domai...|$440/week - partl...|627/118 Franklin ...|              Studio|        -37.8082052|       144.9589035|NULL|  1.0|    0.0|1912.0|          440.0|[01 01 00 00 00 A...|206041504|Melbourne CBD - N...|       1|        New|   20604|      Melbourne City|     206|   Melbourne - Inner|   2GMEL|Greater Melbourne|       2|Victoria|     AUS|Australia|  0.5616|http://linked.dat...|             8535|\n",
      "|https://www.domai...|           $330/week|105/546 Flinders ...|Apartment / Unit ...|        -37.8205759|       144.9561191|NULL|  1.0|    0.0|1434.0|          330.0|[01 01 00 00 00 9...|206041505|Melbourne CBD - West|       1|        New|   20604|      Melbourne City|     206|   Melbourne - Inner|   2GMEL|Greater Melbourne|       2|Victoria|     AUS|Australia|  1.0051|http://linked.dat...|             8621|\n",
      "|https://www.domai...|             $490.00|3704/618 Lonsdale...|              Studio| -37.81441450000001|       144.9539107|NULL|  1.0|    0.0|2123.0|          490.0|[01 01 00 00 00 B...|206041505|Melbourne CBD - West|       1|        New|   20604|      Melbourne City|     206|   Melbourne - Inner|   2GMEL|Greater Melbourne|       2|Victoria|     AUS|Australia|  1.0051|http://linked.dat...|             8655|\n",
      "|https://www.domai...|      $75/W CAR PARK|Car Park/228 La T...|            Carspace|         -37.809615|       144.9623021|NULL|  1.0|    1.0| 326.0|           75.0|[01 01 00 00 00 E...|206041504|Melbourne CBD - N...|       1|        New|   20604|      Melbourne City|     206|   Melbourne - Inner|   2GMEL|Greater Melbourne|       2|Victoria|     AUS|Australia|  0.5616|http://linked.dat...|             8657|\n",
      "|https://www.domai...|       $390 Per Week|2008/288 Spencer ...|              Studio|        -37.8138268|       144.9520213|NULL|  1.0|    0.0|1694.0|          390.0|[01 01 00 00 00 0...|206041505|Melbourne CBD - West|       1|        New|   20604|      Melbourne City|     206|   Melbourne - Inner|   2GMEL|Greater Melbourne|       2|Victoria|     AUS|Australia|  1.0051|http://linked.dat...|             8669|\n",
      "|https://www.domai...|        $50 Per Week|CP/33 Rose Lane, ...|            Carspace|        -37.8150137|       144.9538694|NULL|  1.0|    1.0| 217.0|           50.0|[01 01 00 00 00 F...|206041505|Melbourne CBD - West|       1|        New|   20604|      Melbourne City|     206|   Melbourne - Inner|   2GMEL|Greater Melbourne|       2|Victoria|     AUS|Australia|  1.0051|http://linked.dat...|             8681|\n",
      "|https://www.domai...|                $415|1217/43 Therry St...|Apartment / Unit ...|        -37.8070604|       144.9606611|NULL|  1.0|    0.0|1803.0|          415.0|[01 01 00 00 00 4...|206041504|Melbourne CBD - N...|       1|        New|   20604|      Melbourne City|     206|   Melbourne - Inner|   2GMEL|Greater Melbourne|       2|Victoria|     AUS|Australia|  0.5616|http://linked.dat...|             8811|\n",
      "|https://www.domai...|           $450/week|202/408 Lonsdale ...|              Studio|        -37.8125979|       144.9604012|NULL|  1.0|    0.0|1955.0|          450.0|[01 01 00 00 00 4...|206041504|Melbourne CBD - N...|       1|        New|   20604|      Melbourne City|     206|   Melbourne - Inner|   2GMEL|Greater Melbourne|       2|Victoria|     AUS|Australia|  0.5616|http://linked.dat...|             8868|\n",
      "|https://www.domai...|       $360 per week|508/408 Lonsdale ...|Apartment / Unit ...|        -37.8125979|       144.9604012|NULL|  1.0|    0.0|1564.0|          360.0|[01 01 00 00 00 4...|206041504|Melbourne CBD - N...|       1|        New|   20604|      Melbourne City|     206|   Melbourne - Inner|   2GMEL|Greater Melbourne|       2|Victoria|     AUS|Australia|  0.5616|http://linked.dat...|             8899|\n",
      "|https://www.domai...|           $390/week|914/408 Lonsdale ...|              Studio|        -37.8125979|       144.9604012|NULL|  1.0|    0.0|1695.0|          390.0|[01 01 00 00 00 4...|206041504|Melbourne CBD - N...|       1|        New|   20604|      Melbourne City|     206|   Melbourne - Inner|   2GMEL|Greater Melbourne|       2|Victoria|     AUS|Australia|  0.5616|http://linked.dat...|             8953|\n",
      "|https://www.domai...|        $75 per week|CARSPACE/181 Exhi...|            Carspace|        -37.8114561|        144.970058|NULL|  1.0|    1.0| 300.0|           75.0|[01 01 00 00 00 2...|206041503|Melbourne CBD - East|       1|        New|   20604|      Melbourne City|     206|   Melbourne - Inner|   2GMEL|Greater Melbourne|       2|Victoria|     AUS|Australia|   0.802|http://linked.dat...|             9012|\n",
      "|https://www.domai...|                $370|617/238 Flinders ...|Apartment / Unit ...|        -37.8175167|       144.9664983|NULL|  1.0|    0.0|1608.0|          370.0|[01 01 00 00 00 7...|206041503|Melbourne CBD - East|       1|        New|   20604|      Melbourne City|     206|   Melbourne - Inner|   2GMEL|Greater Melbourne|       2|Victoria|     AUS|Australia|   0.802|http://linked.dat...|             9054|\n",
      "|https://www.domai...|$80 **CARPARK AVA...|228 La Trobe Stre...|Apartment / Unit ...|         -37.809615|       144.9623021|NULL|  1.0|    1.0| 348.0|           80.0|[01 01 00 00 00 E...|206041504|Melbourne CBD - N...|       1|        New|   20604|      Melbourne City|     206|   Melbourne - Inner|   2GMEL|Greater Melbourne|       2|Victoria|     AUS|Australia|  0.5616|http://linked.dat...|             9065|\n",
      "|https://www.domai...|      $250 per month|Carpark/80 Abecke...|            Carspace|        -37.8089991|       144.9610792|NULL|  1.0|    1.0| 252.0|          250.0|[01 01 00 00 00 B...|206041504|Melbourne CBD - N...|       1|        New|   20604|      Melbourne City|     206|   Melbourne - Inner|   2GMEL|Greater Melbourne|       2|Victoria|     AUS|Australia|  0.5616|http://linked.dat...|             9075|\n",
      "|https://www.domai...|     $380 Furnished!|106/62-68 Hayward...|              Studio|        -37.8089779|       144.9668783|NULL|  1.0|    0.0|1652.0|          380.0|[01 01 00 00 00 C...|206041503|Melbourne CBD - East|       1|        New|   20604|      Melbourne City|     206|   Melbourne - Inner|   2GMEL|Greater Melbourne|       2|Victoria|     AUS|Australia|   0.802|http://linked.dat...|             9118|\n",
      "|https://www.domai...|        $65 per week|Carpark 2608/135 ...|               House|        -37.8097879|       144.9596466|NULL| NULL|    1.0| 282.0|           65.0|[01 01 00 00 00 F...|206041504|Melbourne CBD - N...|       1|        New|   20604|      Melbourne City|     206|   Melbourne - Inner|   2GMEL|Greater Melbourne|       2|Victoria|     AUS|Australia|  0.5616|http://linked.dat...|             9144|\n",
      "|https://www.domai...|        $60 per week|22-24 Jane Bell L...|Apartment / Unit ...| -37.81020729999999|       144.9662711|NULL| NULL|    1.0| 500.0|           60.0|[01 01 00 00 00 3...|206041504|Melbourne CBD - N...|       1|        New|   20604|      Melbourne City|     206|   Melbourne - Inner|   2GMEL|Greater Melbourne|       2|Victoria|     AUS|Australia|  0.5616|http://linked.dat...|             9151|\n",
      "|https://www.domai...|      $300 per month|CP3312/120 Abecke...|            Carspace|        -37.8093086|       144.9597389|NULL|  1.0|    1.0| 299.0|          300.0|[01 01 00 00 00 5...|206041504|Melbourne CBD - N...|       1|        New|   20604|      Melbourne City|     206|   Melbourne - Inner|   2GMEL|Greater Melbourne|       2|Victoria|     AUS|Australia|  0.5616|http://linked.dat...|             9152|\n",
      "|https://www.domai...|        $70 per week|Carpark 5808/135 ...|               House|        -37.8097879|       144.9596466|NULL| NULL|    1.0| 304.0|           70.0|[01 01 00 00 00 F...|206041504|Melbourne CBD - N...|       1|        New|   20604|      Melbourne City|     206|   Melbourne - Inner|   2GMEL|Greater Melbourne|       2|Victoria|     AUS|Australia|  0.5616|http://linked.dat...|             9165|\n",
      "|https://www.domai...|    $390.00 per week|108/65 Elizabeth ...|              Studio|        -37.8167854|        144.964073|NULL|  1.0|    0.0|1695.0|          390.0|[01 01 00 00 00 9...|206041505|Melbourne CBD - West|       1|        New|   20604|      Melbourne City|     206|   Melbourne - Inner|   2GMEL|Greater Melbourne|       2|Victoria|     AUS|Australia|  1.0051|http://linked.dat...|             9166|\n",
      "|https://www.domai...|      $300 per month|carpark135 Abekce...|            Carspace|        -37.8097879|       144.9596466|NULL|  1.0|    1.0| 299.0|          300.0|[01 01 00 00 00 F...|206041504|Melbourne CBD - N...|       1|        New|   20604|      Melbourne City|     206|   Melbourne - Inner|   2GMEL|Greater Melbourne|       2|Victoria|     AUS|Australia|  0.5616|http://linked.dat...|             9185|\n",
      "|https://www.domai...|                $261|Carpark 3602/462 ...|               House|         -37.807859|        144.960611|NULL| NULL|    1.0| 261.0|          261.0|[01 01 00 00 00 B...|206041504|Melbourne CBD - N...|       1|        New|   20604|      Melbourne City|     206|   Melbourne - Inner|   2GMEL|Greater Melbourne|       2|Victoria|     AUS|Australia|  0.5616|http://linked.dat...|             9190|\n",
      "|https://www.domai...|                $261|Carpark 2504/462 ...|               House|         -37.807859|        144.960611|NULL| NULL|    1.0| 261.0|          261.0|[01 01 00 00 00 B...|206041504|Melbourne CBD - N...|       1|        New|   20604|      Melbourne City|     206|   Melbourne - Inner|   2GMEL|Greater Melbourne|       2|Victoria|     AUS|Australia|  0.5616|http://linked.dat...|             9191|\n",
      "|https://www.domai...|                 $60|Carpark 5090Y/33 ...|               House|        -37.8150001|       144.9538708|NULL| NULL|    1.0| 261.0|           60.0|[01 01 00 00 00 8...|206041505|Melbourne CBD - West|       1|        New|   20604|      Melbourne City|     206|   Melbourne - Inner|   2GMEL|Greater Melbourne|       2|Victoria|     AUS|Australia|  1.0051|http://linked.dat...|             9196|\n",
      "|https://www.domai...|                 $80|68 La Trobe, Melb...|            Carspace|        -37.8083648|       144.9667899|NULL| NULL|    1.0|  NULL|           80.0|[01 01 00 00 00 4...|206041503|Melbourne CBD - East|       1|        New|   20604|      Melbourne City|     206|   Melbourne - Inner|   2GMEL|Greater Melbourne|       2|Victoria|     AUS|Australia|   0.802|http://linked.dat...|             9199|\n",
      "|https://www.domai...|               $70/W|CP/228 Latrobe St...|            Carspace|         -37.809615|       144.9623021|NULL|  1.0|    1.0| 304.0|           70.0|[01 01 00 00 00 E...|206041504|Melbourne CBD - N...|       1|        New|   20604|      Melbourne City|     206|   Melbourne - Inner|   2GMEL|Greater Melbourne|       2|Victoria|     AUS|Australia|  0.5616|http://linked.dat...|             9211|\n",
      "|https://www.domai...|        $55 per week|220 Spencer Stree...|Apartment / Unit ...|        -37.8154724|       144.9528304|NULL| NULL|    1.0| 239.0|           55.0|[01 01 00 00 00 4...|206041505|Melbourne CBD - West|       1|        New|   20604|      Melbourne City|     206|   Melbourne - Inner|   2GMEL|Greater Melbourne|       2|Victoria|     AUS|Australia|  1.0051|http://linked.dat...|             9215|\n",
      "|https://www.domai...|        $80 per week|Carpark4008/135 A...|               House|         -37.809678|       144.9593125|NULL| NULL|    1.0| 348.0|           80.0|[01 01 00 00 00 9...|206041504|Melbourne CBD - N...|       1|        New|   20604|      Melbourne City|     206|   Melbourne - Inner|   2GMEL|Greater Melbourne|       2|Victoria|     AUS|Australia|  0.5616|http://linked.dat...|             9218|\n",
      "|https://www.domai...|        $60 per week|Carpark2402/80 A'...|               House|        -37.8089991|       144.9610792|NULL| NULL|    1.0| 261.0|           60.0|[01 01 00 00 00 B...|206041504|Melbourne CBD - N...|       1|        New|   20604|      Melbourne City|     206|   Melbourne - Inner|   2GMEL|Greater Melbourne|       2|Victoria|     AUS|Australia|  0.5616|http://linked.dat...|             9229|\n",
      "|https://www.domai...|        $70 per week|Carpark2515/135 A...|               House|         -37.809678|       144.9593125|NULL| NULL|    1.0| 304.0|           70.0|[01 01 00 00 00 9...|206041504|Melbourne CBD - N...|       1|        New|   20604|      Melbourne City|     206|   Melbourne - Inner|   2GMEL|Greater Melbourne|       2|Victoria|     AUS|Australia|  0.5616|http://linked.dat...|             9233|\n",
      "|https://www.domai...|        $60 per week|Carpark2408/80 A'...|               House|        -37.8089991|       144.9610792|NULL| NULL|    1.0| 261.0|           60.0|[01 01 00 00 00 B...|206041504|Melbourne CBD - N...|       1|        New|   20604|      Melbourne City|     206|   Melbourne - Inner|   2GMEL|Greater Melbourne|       2|Victoria|     AUS|Australia|  0.5616|http://linked.dat...|             9235|\n",
      "|https://www.domai...|                $350|163 Exhibition St...|            Carspace|        -37.8120241|       144.9699956|NULL| NULL|    1.0| 350.0|          350.0|[01 01 00 00 00 7...|206041503|Melbourne CBD - East|       1|        New|   20604|      Melbourne City|     206|   Melbourne - Inner|   2GMEL|Greater Melbourne|       2|Victoria|     AUS|Australia|   0.802|http://linked.dat...|             9241|\n",
      "|https://www.domai...|                $270|163 Exhibition St...|            Carspace|        -37.8120241|       144.9699956|NULL| NULL|    1.0| 270.0|          270.0|[01 01 00 00 00 7...|206041503|Melbourne CBD - East|       1|        New|   20604|      Melbourne City|     206|   Melbourne - Inner|   2GMEL|Greater Melbourne|       2|Victoria|     AUS|Australia|   0.802|http://linked.dat...|             9242|\n",
      "|https://www.domai...|                 $60|Carpark3605/639 L...|               House|        -37.8122489|       144.9621762|NULL| NULL|    1.0| 261.0|           60.0|[01 01 00 00 00 A...|206041504|Melbourne CBD - N...|       1|        New|   20604|      Melbourne City|     206|   Melbourne - Inner|   2GMEL|Greater Melbourne|       2|Victoria|     AUS|Australia|  0.5616|http://linked.dat...|             9243|\n",
      "|https://www.domai...|                $529|99 Franklin Stree...|              Studio|        -37.8081956|       144.9612917|NULL|  1.0|    0.0|  NULL|          529.0|[01 01 00 00 00 5...|206041504|Melbourne CBD - N...|       1|        New|   20604|      Melbourne City|     206|   Melbourne - Inner|   2GMEL|Greater Melbourne|       2|Victoria|     AUS|Australia|  0.5616|http://linked.dat...|             9244|\n",
      "|https://www.domai...|        $85 Per Week|224-228 La Trobe ...|            Carspace|        -37.8097601|       144.9626574|NULL| NULL|   NULL| 369.0|           85.0|[01 01 00 00 00 1...|206041504|Melbourne CBD - N...|       1|        New|   20604|      Melbourne City|     206|   Melbourne - Inner|   2GMEL|Greater Melbourne|       2|Victoria|     AUS|Australia|  0.5616|http://linked.dat...|             9252|\n",
      "|https://www.domai...|        $60 per week|Carpark2810/81 A'...|               House|         -37.809678|       144.9593125|NULL| NULL|    1.0| 261.0|           60.0|[01 01 00 00 00 9...|206041504|Melbourne CBD - N...|       1|        New|   20604|      Melbourne City|     206|   Melbourne - Inner|   2GMEL|Greater Melbourne|       2|Victoria|     AUS|Australia|  0.5616|http://linked.dat...|             9256|\n",
      "|https://www.domai...|        $70 per week|Carpark402/135 A'...|               House|         -37.809678|       144.9593125|NULL| NULL|    1.0| 304.0|           70.0|[01 01 00 00 00 9...|206041504|Melbourne CBD - N...|       1|        New|   20604|      Melbourne City|     206|   Melbourne - Inner|   2GMEL|Greater Melbourne|       2|Victoria|     AUS|Australia|  0.5616|http://linked.dat...|             9257|\n",
      "|https://www.domai...|              $69 pw|Carpark 47/464 Co...|Apartment / Unit ...|        -37.8175602|       144.9585916|NULL| NULL|    1.0| 300.0|           69.0|[01 01 00 00 00 0...|206041505|Melbourne CBD - West|       1|        New|   20604|      Melbourne City|     206|   Melbourne - Inner|   2GMEL|Greater Melbourne|       2|Victoria|     AUS|Australia|  1.0051|http://linked.dat...|             9260|\n",
      "|https://www.domai...|        $60 per week|CPA/243-263 Frank...|Apartment / Unit ...|        -37.8082179|       144.9599812|NULL| NULL|    1.0| 610.0|           60.0|[01 01 00 00 00 C...|206041504|Melbourne CBD - N...|       1|        New|   20604|      Melbourne City|     206|   Melbourne - Inner|   2GMEL|Greater Melbourne|       2|Victoria|     AUS|Australia|  0.5616|http://linked.dat...|             9261|\n",
      "|https://www.domai...|        $60 per week|Carpark3708/135 A...|               House|         -37.809678|       144.9593125|NULL| NULL|    1.0| 261.0|           60.0|[01 01 00 00 00 9...|206041504|Melbourne CBD - N...|       1|        New|   20604|      Melbourne City|     206|   Melbourne - Inner|   2GMEL|Greater Melbourne|       2|Victoria|     AUS|Australia|  0.5616|http://linked.dat...|             9262|\n",
      "|https://www.domai...|        $70 per week|Carpark401/135 A'...|               House|         -37.809678|       144.9593125|NULL| NULL|    1.0| 304.0|           70.0|[01 01 00 00 00 9...|206041504|Melbourne CBD - N...|       1|        New|   20604|      Melbourne City|     206|   Melbourne - Inner|   2GMEL|Greater Melbourne|       2|Victoria|     AUS|Australia|  0.5616|http://linked.dat...|             9266|\n",
      "|https://www.domai...|        $60 per week|Carpark2710/80 A'...|               House|        -37.8089991|       144.9610792|NULL| NULL|    1.0| 261.0|           60.0|[01 01 00 00 00 B...|206041504|Melbourne CBD - N...|       1|        New|   20604|      Melbourne City|     206|   Melbourne - Inner|   2GMEL|Greater Melbourne|       2|Victoria|     AUS|Australia|  0.5616|http://linked.dat...|             9267|\n",
      "|https://www.domai...|        $60 per week|Carpark2810/81 A'...|               House|         -37.809678|       144.9593125|NULL| NULL|    1.0| 261.0|           60.0|[01 01 00 00 00 9...|206041504|Melbourne CBD - N...|       1|        New|   20604|      Melbourne City|     206|   Melbourne - Inner|   2GMEL|Greater Melbourne|       2|Victoria|     AUS|Australia|  0.5616|http://linked.dat...|             9268|\n",
      "|https://www.domai...|        $60 per week|Carpark915/135 A'...|               House|         -37.809678|       144.9593125|NULL| NULL|    1.0| 261.0|           60.0|[01 01 00 00 00 9...|206041504|Melbourne CBD - N...|       1|        New|   20604|      Melbourne City|     206|   Melbourne - Inner|   2GMEL|Greater Melbourne|       2|Victoria|     AUS|Australia|  0.5616|http://linked.dat...|             9269|\n",
      "|https://www.domai...|        $70 per week|Carpark5808/135 A...|               House|         -37.809678|       144.9593125|NULL| NULL|    1.0| 304.0|           70.0|[01 01 00 00 00 9...|206041504|Melbourne CBD - N...|       1|        New|   20604|      Melbourne City|     206|   Melbourne - Inner|   2GMEL|Greater Melbourne|       2|Victoria|     AUS|Australia|  0.5616|http://linked.dat...|             9270|\n",
      "|https://www.domai...|                $479|50 La Trobe Stree...|              Studio|-37.824903985828136|144.97146694957883|NULL|  1.0|    0.0|  NULL|          479.0|[01 01 00 00 00 C...|206041507|Royal Botanic Gar...|       1|        New|   20604|      Melbourne City|     206|   Melbourne - Inner|   2GMEL|Greater Melbourne|       2|Victoria|     AUS|Australia|  1.3511|http://linked.dat...|             9271|\n",
      "|https://www.domai...|        $60 per week|Carpark2912/639 L...|               House|        -37.8122489|       144.9621762|NULL| NULL|    1.0| 261.0|           60.0|[01 01 00 00 00 A...|206041504|Melbourne CBD - N...|       1|        New|   20604|      Melbourne City|     206|   Melbourne - Inner|   2GMEL|Greater Melbourne|       2|Victoria|     AUS|Australia|  0.5616|http://linked.dat...|             9272|\n",
      "|https://www.domai...|        $70 per week|Carpark401/80 A'B...|               House|        -37.8089991|       144.9610792|NULL| NULL|    1.0| 304.0|           70.0|[01 01 00 00 00 B...|206041504|Melbourne CBD - N...|       1|        New|   20604|      Melbourne City|     206|   Melbourne - Inner|   2GMEL|Greater Melbourne|       2|Victoria|     AUS|Australia|  0.5616|http://linked.dat...|             9278|\n",
      "|https://www.domai...|        $60 per week|Carpark6110Y/33 R...|               House|        -37.8152243|       144.9541663|NULL| NULL|    1.0| 261.0|           60.0|[01 01 00 00 00 4...|206041505|Melbourne CBD - West|       1|        New|   20604|      Melbourne City|     206|   Melbourne - Inner|   2GMEL|Greater Melbourne|       2|Victoria|     AUS|Australia|  1.0051|http://linked.dat...|             9279|\n",
      "|https://www.domai...|        $60 per week|Carpark2504/462 E...|               House|        -37.8090217|       144.9608512|NULL| NULL|    1.0| 261.0|           60.0|[01 01 00 00 00 5...|206041504|Melbourne CBD - N...|       1|        New|   20604|      Melbourne City|     206|   Melbourne - Inner|   2GMEL|Greater Melbourne|       2|Victoria|     AUS|Australia|  0.5616|http://linked.dat...|             9280|\n",
      "|https://www.domai...|        $60 per week|Carpark3004Y/639 ...|               House|        -37.8122489|       144.9621762|NULL| NULL|    1.0| 261.0|           60.0|[01 01 00 00 00 A...|206041504|Melbourne CBD - N...|       1|        New|   20604|      Melbourne City|     206|   Melbourne - Inner|   2GMEL|Greater Melbourne|       2|Victoria|     AUS|Australia|  0.5616|http://linked.dat...|             9281|\n",
      "|https://www.domai...|        $60 per week|Carpark2710/80 A'...|               House|         -37.809678|       144.9593125|NULL| NULL|    1.0| 261.0|           60.0|[01 01 00 00 00 9...|206041504|Melbourne CBD - N...|       1|        New|   20604|      Melbourne City|     206|   Melbourne - Inner|   2GMEL|Greater Melbourne|       2|Victoria|     AUS|Australia|  0.5616|http://linked.dat...|             9282|\n",
      "|https://www.domai...|        $60 per week|Carpark2810/81 A'...|               House|         -37.809678|       144.9593125|NULL| NULL|    1.0| 261.0|           60.0|[01 01 00 00 00 9...|206041504|Melbourne CBD - N...|       1|        New|   20604|      Melbourne City|     206|   Melbourne - Inner|   2GMEL|Greater Melbourne|       2|Victoria|     AUS|Australia|  0.5616|http://linked.dat...|             9283|\n",
      "|https://www.domai...|        $60 per week|Carpark3908/135 A...|               House|         -37.809678|       144.9593125|NULL| NULL|    1.0| 261.0|           60.0|[01 01 00 00 00 9...|206041504|Melbourne CBD - N...|       1|        New|   20604|      Melbourne City|     206|   Melbourne - Inner|   2GMEL|Greater Melbourne|       2|Victoria|     AUS|Australia|  0.5616|http://linked.dat...|             9284|\n",
      "|https://www.domai...|        $60 per week|Carpark5503/135 A...|               House|         -37.809678|       144.9593125|NULL| NULL|    1.0| 261.0|           60.0|[01 01 00 00 00 9...|206041504|Melbourne CBD - N...|       1|        New|   20604|      Melbourne City|     206|   Melbourne - Inner|   2GMEL|Greater Melbourne|       2|Victoria|     AUS|Australia|  0.5616|http://linked.dat...|             9285|\n",
      "|https://www.domai...|                 $60|Carpark2608/135 A...|               House|         -37.809678|       144.9593125|NULL| NULL|    1.0| 261.0|           60.0|[01 01 00 00 00 9...|206041504|Melbourne CBD - N...|       1|        New|   20604|      Melbourne City|     206|   Melbourne - Inner|   2GMEL|Greater Melbourne|       2|Victoria|     AUS|Australia|  0.5616|http://linked.dat...|             9286|\n",
      "|https://www.domai...|          $250/month|Carpark 403/135 A...|            Carspace|        -37.8097879|       144.9596466|NULL|  1.0|    1.0| 252.0|          250.0|[01 01 00 00 00 F...|206041504|Melbourne CBD - N...|       1|        New|   20604|      Melbourne City|     206|   Melbourne - Inner|   2GMEL|Greater Melbourne|       2|Victoria|     AUS|Australia|  0.5616|http://linked.dat...|             9287|\n",
      "|https://www.domai...|        $60 per week|Carpark2402/80 A'...|               House|         -37.809678|       144.9593125|NULL| NULL|    1.0| 261.0|           60.0|[01 01 00 00 00 9...|206041504|Melbourne CBD - N...|       1|        New|   20604|      Melbourne City|     206|   Melbourne - Inner|   2GMEL|Greater Melbourne|       2|Victoria|     AUS|Australia|  0.5616|http://linked.dat...|             9292|\n",
      "|https://www.domai...|                 $50|Car Park 31 A'Bec...|               House|         -37.809745|        144.958777|NULL| NULL|    1.0| 250.0|           50.0|[01 01 00 00 00 0...|206041504|Melbourne CBD - N...|       1|        New|   20604|      Melbourne City|     206|   Melbourne - Inner|   2GMEL|Greater Melbourne|       2|Victoria|     AUS|Australia|  0.5616|http://linked.dat...|             9294|\n",
      "+--------------------+--------------------+--------------------+--------------------+-------------------+------------------+----+-----+-------+------+---------------+--------------------+---------+--------------------+--------+-----------+--------+--------------------+--------+--------------------+--------+-----------------+--------+--------+--------+---------+--------+--------------------+-----------------+\n"
     ]
    }
   ],
   "source": [
    "# Show rows which have missing values\n",
    "domain_all.filter(domain_all[\"Beds\"].isNull() | domain_all[\"Baths\"].isNull() | domain_all[\"Parking\"].isNull()).show(200)"
   ],
   "metadata": {
    "collapsed": false,
    "ExecuteTime": {
     "end_time": "2024-09-19T03:58:31.169793Z",
     "start_time": "2024-09-19T03:58:30.369573Z"
    }
   },
   "id": "c897f1fccebab1bb",
   "execution_count": 7
  },
  {
   "cell_type": "code",
   "outputs": [],
   "source": [
    "# Impute beds, baths, and parking with 0\n",
    "domain_all = domain_all.fillna(0, subset=[\"Beds\", \"Baths\", \"Parking\"])"
   ],
   "metadata": {
    "collapsed": false,
    "ExecuteTime": {
     "end_time": "2024-09-19T03:58:31.197091Z",
     "start_time": "2024-09-19T03:58:31.170454Z"
    }
   },
   "id": "93fabc5b801e3a63",
   "execution_count": 8
  },
  {
   "cell_type": "code",
   "outputs": [],
   "source": [
    "# Find rows without missing bond values\n",
    "domain_all = domain_all.filter(domain_all[\"Bond\"].isNotNull())"
   ],
   "metadata": {
    "collapsed": false,
    "ExecuteTime": {
     "end_time": "2024-09-19T03:58:31.206556Z",
     "start_time": "2024-09-19T03:58:31.198464Z"
    }
   },
   "id": "4a7ca299f3e62f92",
   "execution_count": 9
  },
  {
   "cell_type": "code",
   "outputs": [],
   "source": [
    "# Remove outliers in extracted_price (above 99th percentile) or below 0\n",
    "q = domain_all.approxQuantile(\"extracted_price\", [0.99], 0)\n",
    "domain_all = domain_all.filter(domain_all[\"extracted_price\"] < q[0])\n",
    "domain_all = domain_all.filter(domain_all[\"extracted_price\"] > 0)"
   ],
   "metadata": {
    "collapsed": false,
    "ExecuteTime": {
     "end_time": "2024-09-19T03:58:31.518511Z",
     "start_time": "2024-09-19T03:58:31.208077Z"
    }
   },
   "id": "3bbda876d99d7ce3",
   "execution_count": 10
  },
  {
   "cell_type": "code",
   "outputs": [
    {
     "name": "stderr",
     "output_type": "stream",
     "text": [
      "                                                                                \r"
     ]
    }
   ],
   "source": [
    "# Save the cleaned data to a new parquet file\n",
    "domain_all.write.mode(\"overwrite\").parquet(\"../data/curated/domain_cleaned\")"
   ],
   "metadata": {
    "collapsed": false,
    "ExecuteTime": {
     "end_time": "2024-09-19T03:58:32.509001Z",
     "start_time": "2024-09-19T03:58:31.519330Z"
    }
   },
   "id": "15e51d6ea9aa5f9c",
   "execution_count": 11
  },
  {
   "cell_type": "code",
   "outputs": [],
   "source": [],
   "metadata": {
    "collapsed": false,
    "ExecuteTime": {
     "end_time": "2024-09-19T03:58:32.522550Z",
     "start_time": "2024-09-19T03:58:32.512184Z"
    }
   },
   "id": "4fa872f67342200",
   "execution_count": 11
  }
 ],
 "metadata": {
  "kernelspec": {
   "display_name": "Python 3",
   "language": "python",
   "name": "python3"
  },
  "language_info": {
   "codemirror_mode": {
    "name": "ipython",
    "version": 2
   },
   "file_extension": ".py",
   "mimetype": "text/x-python",
   "name": "python",
   "nbconvert_exporter": "python",
   "pygments_lexer": "ipython2",
   "version": "2.7.6"
  }
 },
 "nbformat": 4,
 "nbformat_minor": 5
}
