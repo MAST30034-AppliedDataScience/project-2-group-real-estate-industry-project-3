{
 "cells": [
  {
   "cell_type": "markdown",
   "source": [
    "# Preprocess Domain Data Part 2\n",
    "Impute missing values and remove outliers.\n",
    "Written by Daksh Agrawal"
   ],
   "metadata": {
    "collapsed": false
   },
   "id": "54f648b2551a3b47"
  },
  {
   "cell_type": "code",
   "execution_count": 13,
   "id": "initial_id",
   "metadata": {
    "collapsed": true,
    "ExecuteTime": {
     "end_time": "2024-10-03T02:18:25.052586Z",
     "start_time": "2024-10-03T02:18:25.031054Z"
    }
   },
   "outputs": [],
   "source": [
    "from pyspark.sql import SparkSession\n",
    "from pyspark.sql.functions import hour, dayofweek, month, date_trunc, col"
   ]
  },
  {
   "cell_type": "code",
   "execution_count": 14,
   "id": "548a8fd214f64986",
   "metadata": {
    "collapsed": false,
    "ExecuteTime": {
     "end_time": "2024-10-03T02:18:25.072277Z",
     "start_time": "2024-10-03T02:18:25.054819Z"
    }
   },
   "outputs": [],
   "source": [
    "# Create a spark session (which will run spark jobs)\n",
    "spark = (\n",
    "    SparkSession.builder.appName(\"MAST30034 Tutorial 1\")\n",
    "    .config(\"spark.sql.repl.eagerEval.enabled\", True)\n",
    "    .config(\"spark.sql.parquet.cacheMetadata\", \"true\")\n",
    "    .config(\"spark.sql.session.timeZone\", \"Etc/UTC\")\n",
    "    .config(\"spark.driver.memory\", \"15g\")\n",
    "    .getOrCreate()\n",
    ")"
   ]
  },
  {
   "cell_type": "code",
   "execution_count": 15,
   "id": "ef9102d8d8ff1981",
   "metadata": {
    "collapsed": false,
    "ExecuteTime": {
     "end_time": "2024-10-03T02:18:25.239750Z",
     "start_time": "2024-10-03T02:18:25.072923Z"
    }
   },
   "outputs": [],
   "source": [
    "domain_all = spark.read.csv('../data/raw/domain.csv', header=True)"
   ]
  },
  {
   "cell_type": "code",
   "execution_count": 16,
   "id": "605c3382de22acdb",
   "metadata": {
    "collapsed": false,
    "ExecuteTime": {
     "end_time": "2024-10-03T02:18:25.323307Z",
     "start_time": "2024-10-03T02:18:25.240474Z"
    }
   },
   "outputs": [
    {
     "name": "stdout",
     "output_type": "stream",
     "text": [
      "Number of rows 9828\n",
      "root\n",
      " |-- _c0: string (nullable = true)\n",
      " |-- url: string (nullable = true)\n",
      " |-- price: string (nullable = true)\n",
      " |-- address: string (nullable = true)\n",
      " |-- property_type: string (nullable = true)\n",
      " |-- latitude: string (nullable = true)\n",
      " |-- longitude: string (nullable = true)\n",
      " |-- Beds: string (nullable = true)\n",
      " |-- Baths: string (nullable = true)\n",
      " |-- Parking: string (nullable = true)\n",
      " |-- bond: string (nullable = true)\n",
      " |-- extracted_price: string (nullable = true)\n",
      " |-- geometry: string (nullable = true)\n",
      " |-- index_right: string (nullable = true)\n",
      " |-- sa2_code: string (nullable = true)\n",
      " |-- sa2_name: string (nullable = true)\n",
      " |-- chg_flag: string (nullable = true)\n",
      " |-- chg_lbl: string (nullable = true)\n",
      " |-- sa3_code: string (nullable = true)\n",
      " |-- sa3_name: string (nullable = true)\n",
      " |-- sa4_code: string (nullable = true)\n",
      " |-- sa4_name: string (nullable = true)\n",
      " |-- gcc_code: string (nullable = true)\n",
      " |-- gcc_name: string (nullable = true)\n",
      " |-- ste_code: string (nullable = true)\n",
      " |-- ste_name: string (nullable = true)\n",
      " |-- aus_code: string (nullable = true)\n",
      " |-- aus_name: string (nullable = true)\n",
      " |-- areasqkm: string (nullable = true)\n",
      " |-- loci_uri: string (nullable = true)\n",
      " |-- geometry_proj: string (nullable = true)\n"
     ]
    }
   ],
   "source": [
    "# Preview the data\n",
    "num_rows = domain_all.count()\n",
    "print(\"Number of rows\", num_rows)\n",
    "domain_all.printSchema()"
   ]
  },
  {
   "cell_type": "code",
   "execution_count": 17,
   "id": "439e9a2f39d97207",
   "metadata": {
    "collapsed": false,
    "ExecuteTime": {
     "end_time": "2024-10-03T02:18:27.350664Z",
     "start_time": "2024-10-03T02:18:25.327046Z"
    }
   },
   "outputs": [
    {
     "name": "stderr",
     "output_type": "stream",
     "text": [
      "24/10/03 12:18:25 WARN CSVHeaderChecker: CSV header does not conform to the schema.\n",
      " Header: \n",
      " Schema: _c0\n",
      "Expected: _c0 but found: \n",
      "CSV file: file:///Users/dakshagrawal/PycharmProjects/project-2-group-real-estate-industry-project-3/data/raw/domain.csv\n"
     ]
    },
    {
     "name": "stdout",
     "output_type": "stream",
     "text": [
      "Column _c0 has 0 missing values.\n",
      "Column url has 0 missing values.\n",
      "Column price has 0 missing values.\n",
      "Column address has 0 missing values.\n",
      "Column property_type has 0 missing values.\n",
      "Column latitude has 0 missing values.\n",
      "Column longitude has 0 missing values.\n",
      "Column Beds has 143 missing values.\n",
      "Column Baths has 74 missing values.\n",
      "Column Parking has 11 missing values.\n",
      "Column bond has 1272 missing values.\n",
      "Column extracted_price has 162 missing values.\n",
      "Column geometry has 0 missing values.\n",
      "Column index_right has 2 missing values.\n",
      "Column sa2_code has 2 missing values.\n",
      "Column sa2_name has 2 missing values.\n",
      "Column chg_flag has 2 missing values.\n",
      "Column chg_lbl has 2 missing values.\n",
      "Column sa3_code has 2 missing values.\n",
      "Column sa3_name has 2 missing values.\n",
      "Column sa4_code has 2 missing values.\n",
      "Column sa4_name has 2 missing values.\n",
      "Column gcc_code has 2 missing values.\n",
      "Column gcc_name has 2 missing values.\n",
      "Column ste_code has 2 missing values.\n",
      "Column ste_name has 2 missing values.\n",
      "Column aus_code has 2 missing values.\n",
      "Column aus_name has 2 missing values.\n",
      "Column areasqkm has 2 missing values.\n",
      "Column loci_uri has 2 missing values.\n",
      "Column geometry_proj has 0 missing values.\n"
     ]
    }
   ],
   "source": [
    "# Create a dictionary to hold the counts of missing values (written by ChatGPT)\n",
    "missing_counts = {col: domain_all.filter(domain_all[col].isNull()).count() for col in domain_all.columns}\n",
    "\n",
    "# Display the counts\n",
    "for column, count in missing_counts.items():\n",
    "    print(f\"Column {column} has {count} missing values.\")"
   ]
  },
  {
   "cell_type": "code",
   "execution_count": 18,
   "id": "bbca9711158c50e1",
   "metadata": {
    "collapsed": false,
    "ExecuteTime": {
     "end_time": "2024-10-03T02:18:27.368425Z",
     "start_time": "2024-10-03T02:18:27.352545Z"
    }
   },
   "outputs": [],
   "source": [
    "# Drop rows with missing extracted_price\n",
    "domain_all = domain_all.dropna(subset=[\"extracted_price\", \"sa2_code\"])"
   ]
  },
  {
   "cell_type": "code",
   "execution_count": 19,
   "id": "c897f1fccebab1bb",
   "metadata": {
    "collapsed": false,
    "ExecuteTime": {
     "end_time": "2024-10-03T02:18:27.462036Z",
     "start_time": "2024-10-03T02:18:27.369473Z"
    }
   },
   "outputs": [
    {
     "name": "stdout",
     "output_type": "stream",
     "text": [
      "+----+--------------------+--------------------+--------------------+--------------------+-------------------+------------------+----+-----+-------+------+---------------+--------------------+-----------+---------+--------------------+--------+-----------+--------+--------------------+--------+--------------------+--------+-----------------+--------+--------+--------+---------+--------+--------------------+--------------------+\n",
      "| _c0|                 url|               price|             address|       property_type|           latitude|         longitude|Beds|Baths|Parking|  bond|extracted_price|            geometry|index_right| sa2_code|            sa2_name|chg_flag|    chg_lbl|sa3_code|            sa3_name|sa4_code|            sa4_name|gcc_code|         gcc_name|ste_code|ste_name|aus_code| aus_name|areasqkm|            loci_uri|       geometry_proj|\n",
      "+----+--------------------+--------------------+--------------------+--------------------+-------------------+------------------+----+-----+-------+------+---------------+--------------------+-----------+---------+--------------------+--------+-----------+--------+--------------------+--------+--------------------+--------+-----------------+--------+--------+--------+---------+--------+--------------------+--------------------+\n",
      "| 182|https://www.domai...|        $50 per week|Carpark/105 Batma...|               House|         -37.810968|       144.9504968|NULL| NULL|    1.0| 217.0|           50.0|POINT (144.950496...|      142.0|206041510|West Melbourne - ...|       1|        New|   20604|      Melbourne City|     206|   Melbourne - Inner|   2GMEL|Greater Melbourne|       2|Victoria|     AUS|Australia|  0.8247|http://linked.dat...|POINT (968550.094...|\n",
      "| 184|https://www.domai...|        $50 per week|Carpark/105 Batma...|               House|         -37.810968|       144.9504968|NULL| NULL|    1.0| 217.0|           50.0|POINT (144.950496...|      142.0|206041510|West Melbourne - ...|       1|        New|   20604|      Melbourne City|     206|   Melbourne - Inner|   2GMEL|Greater Melbourne|       2|Victoria|     AUS|Australia|  0.8247|http://linked.dat...|POINT (968550.094...|\n",
      "| 393|https://www.domai...|$39,000 p.a + Out...|30 South Concours...|              Studio|        -37.9865947|       145.0341946|NULL|  1.0|    0.0|3033.0|        39000.0|POINT (145.034194...|      189.0|208011168|           Beaumaris|       0|  No change|   20801|             Bayside|     208|Melbourne - Inner...|   2GMEL|Greater Melbourne|       2|Victoria|     AUS|Australia|  5.9678|http://linked.dat...|POINT (974214.377...|\n",
      "|1139|https://www.domai...|          $450.00 pw|25B Wallace Drive...|              Studio|        -37.6505856|       144.8999219|NULL|  1.0|    1.0|1950.0|          450.0|POINT (144.899921...|      286.0|210051246|   Greenvale - Bulla|       0|  No change|   21005|Tullamarine - Bro...|     210|Melbourne - North...|   2GMEL|Greater Melbourne|       2|Victoria|     AUS|Australia|  95.906|http://linked.dat...|POINT (965638.481...|\n",
      "|1589|https://www.domai...|           $300 / wk|10/63 Dandenong R...|              Studio|          -38.13511|        145.129977|NULL|  1.0|    1.0|1304.0|          300.0|POINT (145.129977...|      456.0|214011371|           Frankston|       0|  No change|   21401|           Frankston|     214|Mornington Peninsula|   2GMEL|Greater Melbourne|       2|Victoria|     AUS|Australia| 11.6244|http://linked.dat...|POINT (981181.359...|\n",
      "|1625|https://www.domai...|            $155 /wk|Room 6/35 Heather...|              Studio| -38.15860199999999|       145.1408019|NULL|  1.0|    0.0| 674.0|          155.0|POINT (145.140801...|      456.0|214011371|           Frankston|       0|  No change|   21401|           Frankston|     214|Mornington Peninsula|   2GMEL|Greater Melbourne|       2|Victoria|     AUS|Australia| 11.6244|http://linked.dat...|POINT (981900.692...|\n",
      "|1660|https://www.domai...|            $160 /wk|Room 3/31 Stanley...|              Studio|        -38.1402145|       145.1331646|NULL|  1.0|    1.0| 695.0|          160.0|POINT (145.133164...|      456.0|214011371|           Frankston|       0|  No change|   21401|           Frankston|     214|Mornington Peninsula|   2GMEL|Greater Melbourne|       2|Victoria|     AUS|Australia| 11.6244|http://linked.dat...|POINT (981411.159...|\n",
      "|1669|https://www.domai...|             $315/wk|4/65 Margate Aven...|              Studio|        -38.1616315|       145.1438021|NULL|  1.0|    2.0|  NULL|          315.0|POINT (145.143802...|      456.0|214011371|           Frankston|       0|  No change|   21401|           Frankston|     214|Mornington Peninsula|   2GMEL|Greater Melbourne|       2|Victoria|     AUS|Australia| 11.6244|http://linked.dat...|POINT (982134.436...|\n",
      "|1690|https://www.domai...|$600 per week Ava...|24 Beaconsfield D...|               House|         -37.522335|        144.911981|NULL| NULL|   NULL|2607.0|          600.0|POINT (144.911981...|      293.0|210051445|  Mickleham - Yuroke|       0|  No change|   21005|Tullamarine - Bro...|     210|Melbourne - North...|   2GMEL|Greater Melbourne|       2|Victoria|     AUS|Australia| 70.8359|http://linked.dat...|POINT (967944.634...|\n",
      "|3150|https://www.domai...|             $340 pw|37/25 Redan St St...|Apartment / Unit ...|         -37.860288|       144.9902977|NULL| NULL|   NULL|1477.0|          340.0|POINT (144.990297...|      149.0|206051513|  St Kilda - Central|       1|        New|   20605|        Port Phillip|     206|   Melbourne - Inner|   2GMEL|Greater Melbourne|       2|Victoria|     AUS|Australia|  1.5375|http://linked.dat...|POINT (971580.550...|\n",
      "|3164|https://www.domai...|                $425|208/363 Beaconsfi...|              Studio|        -37.8611066|       144.9730024|NULL|  1.0|    1.0|1847.0|          425.0|POINT (144.973002...|      150.0|206051514|     St Kilda - West|       1|        New|   20605|        Port Phillip|     206|   Melbourne - Inner|   2GMEL|Greater Melbourne|       2|Victoria|     AUS|Australia|  2.3637|http://linked.dat...|POINT (970047.506...|\n",
      "|3216|https://www.domai...|             $435 pw|7/340 Beaconsfiel...|              Studio|        -37.8583372|        144.968941|NULL|  1.0|    0.0|1890.0|          435.0|POINT (144.968941...|      150.0|206051514|     St Kilda - West|       1|        New|   20605|        Port Phillip|     206|   Melbourne - Inner|   2GMEL|Greater Melbourne|       2|Victoria|     AUS|Australia|  2.3637|http://linked.dat...|POINT (969716.331...|\n",
      "|3286|https://www.domai...|FULLY FURNISHED -...|23/92-94 Grey Str...|              Studio|         -37.863263|        144.981038|NULL|  1.0|    0.0|1564.0|          360.0|POINT (144.981038...|      150.0|206051514|     St Kilda - West|       1|        New|   20605|        Port Phillip|     206|   Melbourne - Inner|   2GMEL|Greater Melbourne|       2|Victoria|     AUS|Australia|  2.3637|http://linked.dat...|POINT (970735.059...|\n",
      "|3303|https://www.domai...|        $60 per week|Carpark354/133-13...|               House|        -37.8594263|       144.9783733|NULL| NULL|    1.0| 261.0|           60.0|POINT (144.978373...|      150.0|206051514|     St Kilda - West|       1|        New|   20605|        Port Phillip|     206|   Melbourne - Inner|   2GMEL|Greater Melbourne|       2|Victoria|     AUS|Australia|  2.3637|http://linked.dat...|POINT (970537.469...|\n",
      "|3312|https://www.domai...|       $500 Per Week|2/130 Colins Stre...|Apartment / Unit ...|        -37.9807958|       145.0677799| 2.0| NULL|    1.0|2173.0|          500.0|POINT (145.067779...|      212.0|208031190|             Mentone|       0|  No change|   20803|            Kingston|     208|Melbourne - Inner...|   2GMEL|Greater Melbourne|       2|Victoria|     AUS|Australia|    4.45|http://linked.dat...|POINT (977228.951...|\n",
      "|3474|https://www.domai...|                $410|1103/35 Malcolm S...|Apartment / Unit ...|        -37.8369683|       144.9964622|NULL|  1.0|    0.0|1782.0|          410.0|POINT (144.996462...|      154.0|206061515| South Yarra - North|       1|        New|   20606|  Stonnington - West|     206|   Melbourne - Inner|   2GMEL|Greater Melbourne|       2|Victoria|     AUS|Australia|  1.1696|http://linked.dat...|POINT (972351.638...|\n",
      "|3498|https://www.domai...|   $360 pw Furnished|23/631 Punt Road,...|              Studio|         -37.839996|       144.9859687|NULL|  1.0|    0.0|1651.0|          360.0|POINT (144.985968...|      133.0|206041125|  South Yarra - West|       0|  No change|   20604|      Melbourne City|     206|   Melbourne - Inner|   2GMEL|Greater Melbourne|       2|Victoria|     AUS|Australia|  1.5027|http://linked.dat...|POINT (971396.616...|\n",
      "|3526|https://www.domai...|   $380 Furnished pw|10/1 Lawson Grove...|              Studio|         -37.833581|       144.9902449|NULL|  1.0|    0.0|1651.0|          380.0|POINT (144.990244...|      154.0|206061515| South Yarra - North|       1|        New|   20606|  Stonnington - West|     206|   Melbourne - Inner|   2GMEL|Greater Melbourne|       2|Victoria|     AUS|Australia|  1.1696|http://linked.dat...|POINT (971836.309...|\n",
      "|3553|https://www.domai...|             $350 pw|2/631 Punt Road, ...|              Studio|         -37.839996|       144.9859687|NULL|  1.0|    1.0|1521.0|          350.0|POINT (144.985968...|      133.0|206041125|  South Yarra - West|       0|  No change|   20604|      Melbourne City|     206|   Melbourne - Inner|   2GMEL|Greater Melbourne|       2|Victoria|     AUS|Australia|  1.5027|http://linked.dat...|POINT (971396.616...|\n",
      "|3569|https://www.domai...|             $390 pw|7/259 Domain Road...|              Studio| -37.83496179999999|       144.9877217|NULL|  1.0|    2.0|1695.0|          390.0|POINT (144.987721...|      154.0|206061515| South Yarra - North|       1|        New|   20606|  Stonnington - West|     206|   Melbourne - Inner|   2GMEL|Greater Melbourne|       2|Victoria|     AUS|Australia|  1.1696|http://linked.dat...|POINT (971600.298...|\n",
      "|3581|https://www.domai...|   $400 Furnished pw|27/63 Alexandra A...|              Studio|        -37.8322438|       144.9892193|NULL|  1.0|    0.0|1738.0|          400.0|POINT (144.989219...|      154.0|206061515| South Yarra - North|       1|        New|   20606|  Stonnington - West|     206|   Melbourne - Inner|   2GMEL|Greater Melbourne|       2|Victoria|     AUS|Australia|  1.1696|http://linked.dat...|POINT (971758.887...|\n",
      "|3716|https://www.domai...|       $500 per week|452 ST KILDA ROAD...|Apartment / Unit ...|        -37.8390865|       144.9755242|NULL|  1.0|    0.0|1000.0|          500.0|POINT (144.975524...|      143.0|206051128|         Albert Park|       0|  No change|   20605|        Port Phillip|     206|   Melbourne - Inner|   2GMEL|Greater Melbourne|       2|Victoria|     AUS|Australia|  4.6747|http://linked.dat...|POINT (970484.303...|\n",
      "|3721|https://www.domai...|        $55 Per Week|200 Spencer Stree...|Apartment / Unit ...|         -37.816228|       144.9532465|NULL| NULL|    1.0| 195.0|           55.0|POINT (144.953246...|      137.0|206041505|Melbourne CBD - West|       1|        New|   20604|      Melbourne City|     206|   Melbourne - Inner|   2GMEL|Greater Melbourne|       2|Victoria|     AUS|Australia|  1.0051|http://linked.dat...|POINT (968741.572...|\n",
      "|3724|https://www.domai...|              $65 pw|539 St Kilda Road...|              Studio|        -37.8454438|       144.9794504|NULL|  1.0|    1.0| 300.0|           65.0|POINT (144.979450...|      133.0|206041125|  South Yarra - West|       0|  No change|   20604|      Melbourne City|     206|   Melbourne - Inner|   2GMEL|Greater Melbourne|       2|Victoria|     AUS|Australia|  1.5027|http://linked.dat...|POINT (970768.657...|\n",
      "|3797|https://www.domai...|                $475|208/51-67 Rathdow...|              Studio|         -37.805857|       144.9687389|NULL|  1.0|    1.0|2064.0|          475.0|POINT (144.968738...|      127.0|206041117|             Carlton|       0|  No change|   20604|      Melbourne City|     206|   Melbourne - Inner|   2GMEL|Greater Melbourne|       2|Victoria|     AUS|Australia|  1.8187|http://linked.dat...|POINT (970209.208...|\n",
      "|3838|https://www.domai...|                $470|1709/6 Leicester ...|Apartment / Unit ...|         -37.806138|       144.9602874|NULL| NULL|   NULL|2042.0|          470.0|POINT (144.960287...|      127.0|206041117|             Carlton|       0|  No change|   20604|      Melbourne City|     206|   Melbourne - Inner|   2GMEL|Greater Melbourne|       2|Victoria|     AUS|Australia|  1.8187|http://linked.dat...|POINT (969460.819...|\n",
      "|3856|https://www.domai...|    $250.00 per week|35/109 Lygon Stre...|              Studio|        -37.8045102|       144.9660078|NULL|  1.0|    0.0|1086.0|          250.0|POINT (144.966007...|      127.0|206041117|             Carlton|       0|  No change|   20604|      Melbourne City|     206|   Melbourne - Inner|   2GMEL|Greater Melbourne|       2|Victoria|     AUS|Australia|  1.8187|http://linked.dat...|POINT (969981.352...|\n",
      "|3860|https://www.domai...|                $380|405/20 Reeves Str...|Apartment / Unit ...|        -37.7931288|       144.9705021|NULL|  1.0|    0.0|1651.0|          380.0|POINT (144.970502...|      127.0|206041117|             Carlton|       0|  No change|   20604|      Melbourne City|     206|   Melbourne - Inner|   2GMEL|Greater Melbourne|       2|Victoria|     AUS|Australia|  1.8187|http://linked.dat...|POINT (970488.638...|\n",
      "|3873|https://www.domai...|$370 Per Week/Fur...|501/131 Pelham St...|              Studio|        -37.8027012|       144.9638585|NULL|  1.0|    0.0|1608.0|          370.0|POINT (144.963858...|      127.0|206041117|             Carlton|       0|  No change|   20604|      Melbourne City|     206|   Melbourne - Inner|   2GMEL|Greater Melbourne|       2|Victoria|     AUS|Australia|  1.8187|http://linked.dat...|POINT (969809.315...|\n",
      "|3886|https://www.domai...|    $350.00 per week|206/49-51 Rathdow...|              Studio|        -37.8057782|       144.9689269|NULL|  1.0|    0.0|1521.0|          350.0|POINT (144.968926...|      127.0|206041117|             Carlton|       0|  No change|   20604|      Melbourne City|     206|   Melbourne - Inner|   2GMEL|Greater Melbourne|       2|Victoria|     AUS|Australia|  1.8187|http://linked.dat...|POINT (970226.562...|\n",
      "|3899|https://www.domai...|    $360.00 per week|217/49-51 Rathdow...|              Studio|        -37.8057782|       144.9689269|NULL|  1.0|    1.0|1564.0|          360.0|POINT (144.968926...|      127.0|206041117|             Carlton|       0|  No change|   20604|      Melbourne City|     206|   Melbourne - Inner|   2GMEL|Greater Melbourne|       2|Victoria|     AUS|Australia|  1.8187|http://linked.dat...|POINT (970226.562...|\n",
      "|3926|https://www.domai...|                $587|562 Swanston St, ...|              Studio|        -37.8035954|       144.9636471|NULL| NULL|   NULL|  NULL|          587.0|POINT (144.963647...|      127.0|206041117|             Carlton|       0|  No change|   20604|      Melbourne City|     206|   Melbourne - Inner|   2GMEL|Greater Melbourne|       2|Victoria|     AUS|Australia|  1.8187|http://linked.dat...|POINT (969781.967...|\n",
      "|3930|https://www.domai...|       from 1000 pcm|18 Drummond Stree...|Apartment / Unit ...|        -37.8065906|       144.9677446|NULL| NULL|   NULL|2000.0|         1000.0|POINT (144.967744...|      127.0|206041117|             Carlton|       0|  No change|   20604|      Melbourne City|     206|   Melbourne - Inner|   2GMEL|Greater Melbourne|       2|Victoria|     AUS|Australia|  1.8187|http://linked.dat...|POINT (970114.346...|\n",
      "|4150|https://www.domai...|4 weeks rent free...|L204/8 Caulfield ...|Apartment / Unit ...|         -37.875941|       145.0389991|NULL|  1.0|    0.0|2460.0|          615.0|POINT (145.038999...|      197.0|208021177|   Caulfield - North|       0|  No change|   20802|           Glen Eira|     208|Melbourne - Inner...|   2GMEL|Greater Melbourne|       2|Victoria|     AUS|Australia|  6.4189|http://linked.dat...|POINT (975721.551...|\n",
      "|4166|https://www.domai...|       $535 per week|202/12 Caulfield ...|Apartment / Unit ...|        -37.8754061|       145.0378352|NULL|  1.0|    0.0|2140.0|          535.0|POINT (145.037835...|      197.0|208021177|   Caulfield - North|       0|  No change|   20802|           Glen Eira|     208|Melbourne - Inner...|   2GMEL|Greater Melbourne|       2|Victoria|     AUS|Australia|  6.4189|http://linked.dat...|POINT (975624.179...|\n",
      "|4190|https://www.domai...|4 weeks rent free...|J414/10 Caulfield...|Apartment / Unit ...|        -37.8754061|       145.0378352|NULL|  1.0|    0.0|2800.0|          700.0|POINT (145.037835...|      197.0|208021177|   Caulfield - North|       0|  No change|   20802|           Glen Eira|     208|Melbourne - Inner...|   2GMEL|Greater Melbourne|       2|Victoria|     AUS|Australia|  6.4189|http://linked.dat...|POINT (975624.179...|\n",
      "|4362|https://www.domai...|                $400|202/70 Nicholson ...|              Studio|        -37.8046614|       144.9740068|NULL|  1.0|    0.0|1738.0|          400.0|POINT (144.974006...|      159.0|206071142|             Fitzroy|       0|  No change|   20607|               Yarra|     206|   Melbourne - Inner|   2GMEL|Greater Melbourne|       2|Victoria|     AUS|Australia|  1.3779|http://linked.dat...|POINT (970685.620...|\n",
      "|4619|https://www.domai...|             $450.00|2811B/100 Harbour...|              Studio| -37.81837549999999|       144.9468886|NULL|  1.0|    1.0|  NULL|          450.0|POINT (144.946888...|      128.0|206041118|           Docklands|       0|  No change|   20604|      Melbourne City|     206|   Melbourne - Inner|   2GMEL|Greater Melbourne|       2|Victoria|     AUS|Australia|   2.444|http://linked.dat...|POINT (968159.827...|\n",
      "|4735|https://www.domai...|        $60 per week|Carpark440/57 Spe...|               House|        -37.8168235|       144.9530483|NULL| NULL|    1.0| 261.0|           60.0|POINT (144.953048...|      128.0|206041118|           Docklands|       0|  No change|   20604|      Melbourne City|     206|   Melbourne - Inner|   2GMEL|Greater Melbourne|       2|Victoria|     AUS|Australia|   2.444|http://linked.dat...|POINT (968718.301...|\n",
      "|4737|https://www.domai...|        $50 per week|Carpark450/401 Do...|               House|        -37.8142474|       144.9402778|NULL| NULL|    1.0| 217.0|           50.0|POINT (144.940277...|      128.0|206041118|           Docklands|       0|  No change|   20604|      Melbourne City|     206|   Melbourne - Inner|   2GMEL|Greater Melbourne|       2|Victoria|     AUS|Australia|   2.444|http://linked.dat...|POINT (967616.701...|\n",
      "|4738|https://www.domai...|        $50 per week|Carpark451/401 Do...|               House|        -37.8142474|       144.9402778|NULL| NULL|    1.0| 217.0|           50.0|POINT (144.940277...|      128.0|206041118|           Docklands|       0|  No change|   20604|      Melbourne City|     206|   Melbourne - Inner|   2GMEL|Greater Melbourne|       2|Victoria|     AUS|Australia|   2.444|http://linked.dat...|POINT (967616.701...|\n",
      "|4741|https://www.domai...|        $46 per week|Carpark1209/673 L...|               House|        -37.8138724|       144.9490524|NULL| NULL|    1.0| 200.0|           46.0|POINT (144.949052...|      128.0|206041118|           Docklands|       0|  No change|   20604|      Melbourne City|     206|   Melbourne - Inner|   2GMEL|Greater Melbourne|       2|Victoria|     AUS|Australia|   2.444|http://linked.dat...|POINT (968394.452...|\n",
      "|4742|https://www.domai...|        $60 per week|Carpark604/8 Pear...|               House|        -37.8156528|       144.9382439|NULL| NULL|    1.0| 261.0|           60.0|POINT (144.938243...|      128.0|206041118|           Docklands|       0|  No change|   20604|      Melbourne City|     206|   Melbourne - Inner|   2GMEL|Greater Melbourne|       2|Victoria|     AUS|Australia|   2.444|http://linked.dat...|POINT (967423.629...|\n",
      "|4743|https://www.domai...|        $50 per week|Carpark604/8 Pear...|               House|        -37.8129453|       144.9365953|NULL| NULL|    1.0| 217.0|           50.0|POINT (144.936595...|      128.0|206041118|           Docklands|       0|  No change|   20604|      Melbourne City|     206|   Melbourne - Inner|   2GMEL|Greater Melbourne|       2|Victoria|     AUS|Australia|   2.444|http://linked.dat...|POINT (967304.457...|\n",
      "|4776|https://www.domai...|$38,000 p.a. Incl...|667 Glenhuntly Ro...|               House|        -37.8860233|       145.0173065|NULL| NULL|   NULL|  NULL|        38000.0|POINT (145.017306...|      198.0|208021178|   Caulfield - South|       0|  No change|   20802|           Glen Eira|     208|Melbourne - Inner...|   2GMEL|Greater Melbourne|       2|Victoria|     AUS|Australia|  4.7426|http://linked.dat...|POINT (973710.528...|\n",
      "|4896|https://www.domai...|       $315 per week|202/2 Eastern Pla...|              Studio|        -37.8233469|       145.0455415|NULL|  1.0|    0.0|1369.0|          315.0|POINT (145.045541...|      169.0|207011152|       Hawthorn East|       0|  No change|   20701|          Boroondara|     207|Melbourne - Inner...|   2GMEL|Greater Melbourne|       2|Victoria|     AUS|Australia|   3.824|http://linked.dat...|POINT (976813.750...|\n",
      "|4897|https://www.domai...|       $315 per week|515/2 Eastern Pla...|              Studio|        -37.8233469|       145.0455415|NULL|  1.0|    0.0|1369.0|          315.0|POINT (145.045541...|      169.0|207011152|       Hawthorn East|       0|  No change|   20701|          Boroondara|     207|Melbourne - Inner...|   2GMEL|Greater Melbourne|       2|Victoria|     AUS|Australia|   3.824|http://linked.dat...|POINT (976813.750...|\n",
      "|4923|https://www.domai...|       $315 per week|209/2 Eastern Pla...|              Studio|        -37.8233469|       145.0455415|NULL|  1.0|    0.0|1369.0|          315.0|POINT (145.045541...|      169.0|207011152|       Hawthorn East|       0|  No change|   20701|          Boroondara|     207|Melbourne - Inner...|   2GMEL|Greater Melbourne|       2|Victoria|     AUS|Australia|   3.824|http://linked.dat...|POINT (976813.750...|\n",
      "|4969|https://www.domai...|APPLY NOW - From ...|2 Eastern Place, ...|Apartment / Unit ...|        -37.8233664|       145.0455908|NULL|  1.0|   10.0|  NULL|          265.0|POINT (145.045590...|      169.0|207011152|       Hawthorn East|       0|  No change|   20701|          Boroondara|     207|Melbourne - Inner...|   2GMEL|Greater Melbourne|       2|Victoria|     AUS|Australia|   3.824|http://linked.dat...|POINT (976817.908...|\n",
      "|5013|https://www.domai...|    $330.00 per week|503/45 Victoria P...|              Studio|        -37.8086867|        144.984136|NULL|  1.0|    0.0|1434.0|          330.0|POINT (144.984136...|      158.0|206071141|         Collingwood|       0|  No change|   20607|               Yarra|     206|   Melbourne - Inner|   2GMEL|Greater Melbourne|       2|Victoria|     AUS|Australia|  1.2669|http://linked.dat...|POINT (971540.076...|\n",
      "|5072|https://www.domai...|$1,500 mth INC GS...|27 Ian Street, No...|              Studio|         -37.965879|        145.177001|NULL|  1.0|    0.0|4500.0|         1500.0|POINT (145.177001...|      378.0|212041459|   Noble Park - East|       0|  No change|   21204|           Dandenong|     212|Melbourne - South...|   2GMEL|Greater Melbourne|       2|Victoria|     AUS|Australia|  3.7671|http://linked.dat...|POINT (986995.291...|\n",
      "|5126|https://www.domai...|                $604|B302/348 Macaulay...|              Studio|        -37.7947678|       144.9342535|NULL|  1.0|    0.0|  NULL|          604.0|POINT (144.934253...|      131.0|206041121|   Kensington (Vic.)|       0|  No change|   20604|      Melbourne City|     206|   Melbourne - Inner|   2GMEL|Greater Melbourne|       2|Victoria|     AUS|Australia|   2.147|http://linked.dat...|POINT (967274.173...|\n",
      "|5170|https://www.domai...|             $230 pw|109/32 St Edmonds...|              Studio|        -37.8501062|        144.992008|NULL|  1.0|    0.0|1000.0|          230.0|POINT (144.992008...|      152.0|206061136|   Prahran - Windsor|       0|  No change|   20606|  Stonnington - West|     206|   Melbourne - Inner|   2GMEL|Greater Melbourne|       2|Victoria|     AUS|Australia|  2.9053|http://linked.dat...|POINT (971830.660...|\n",
      "|5195|https://www.domai...|  From $290 per week|8 Porter Street, ...|Apartment / Unit ...|        -37.8508636|       144.9899698|NULL|  1.0|    0.0|  NULL|          290.0|POINT (144.989969...|      152.0|206061136|   Prahran - Windsor|       0|  No change|   20606|  Stonnington - West|     206|   Melbourne - Inner|   2GMEL|Greater Melbourne|       2|Victoria|     AUS|Australia|  2.9053|http://linked.dat...|POINT (971643.532...|\n",
      "|5196|https://www.domai...|  From $280 per week|17 Macquarie Stre...|Apartment / Unit ...|        -37.8504994|       144.9921217|NULL|  1.0|    0.0|  NULL|          280.0|POINT (144.992121...|      152.0|206061136|   Prahran - Windsor|       0|  No change|   20606|  Stonnington - West|     206|   Melbourne - Inner|   2GMEL|Greater Melbourne|       2|Victoria|     AUS|Australia|  2.9053|http://linked.dat...|POINT (971836.852...|\n",
      "|5290|https://www.domai...|  From $265 per week|32 St Edmonds Roa...|Apartment / Unit ...|        -37.8501194|       144.9920021|NULL|  1.0|    0.0|  NULL|          265.0|POINT (144.992002...|      152.0|206061136|   Prahran - Windsor|       0|  No change|   20606|  Stonnington - West|     206|   Melbourne - Inner|   2GMEL|Greater Melbourne|       2|Victoria|     AUS|Australia|  2.9053|http://linked.dat...|POINT (971830.011...|\n",
      "|5312|https://www.domai...|       $285 per week|95C/116-130 Main ...|              Studio|        -37.7144903|        145.060776|NULL|  1.0|    0.0|1238.0|          285.0|POINT (145.060776...|      227.0|209021205|           Kingsbury|       0|  No change|   20902|     Darebin - North|     209|Melbourne - North...|   2GMEL|Greater Melbourne|       2|Victoria|     AUS|Australia|  9.0094|http://linked.dat...|POINT (979225.472...|\n",
      "|5317|https://www.domai...|  From $250 per week|116-130 Main Driv...|              Studio|        -37.7147422|       145.0609004|NULL|  1.0|    0.0|1086.0|          250.0|POINT (145.060900...|      227.0|209021205|           Kingsbury|       0|  No change|   20902|     Darebin - North|     209|Melbourne - North...|   2GMEL|Greater Melbourne|       2|Victoria|     AUS|Australia|  9.0094|http://linked.dat...|POINT (979233.986...|\n",
      "|5492|https://www.domai...|                $825|21 Alexander Stre...|               House|        -37.8040886|       144.8902582|NULL| NULL|   NULL|3585.0|          825.0|POINT (144.890258...|      417.0|213031350| Seddon - Kingsville|       0|  No change|   21303|         Maribyrnong|     213|    Melbourne - West|   2GMEL|Greater Melbourne|       2|Victoria|     AUS|Australia|  1.6803|http://linked.dat...|POINT (963301.949...|\n",
      "|5786|https://www.domai...|        $60 per week|350 Victoria Stre...|            Carspace|        -37.8055188|       144.9547344|NULL| NULL|    1.0| 261.0|           60.0|POINT (144.954734...|      138.0|206041506|     North Melbourne|       1|        New|   20604|      Melbourne City|     206|   Melbourne - Inner|   2GMEL|Greater Melbourne|       2|Victoria|     AUS|Australia|  2.4248|http://linked.dat...|POINT (968976.907...|\n",
      "|5788|https://www.domai...|        $50 per week|Carpark914/33 Bla...|               House|        -37.8005616|       144.9554189|NULL| NULL|    1.0| 217.0|           50.0|POINT (144.955418...|      138.0|206041506|     North Melbourne|       1|        New|   20604|      Melbourne City|     206|   Melbourne - Inner|   2GMEL|Greater Melbourne|       2|Victoria|     AUS|Australia|  2.4248|http://linked.dat...|POINT (969085.476...|\n",
      "|5791|https://www.domai...|        $60 per week|275 Abbotsford St...|Apartment / Unit ...|        -37.8008283|       144.9455682|NULL| NULL|    1.0| 500.0|           60.0|POINT (144.945568...|      138.0|206041506|     North Melbourne|       1|        New|   20604|      Melbourne City|     206|   Melbourne - Inner|   2GMEL|Greater Melbourne|       2|Victoria|     AUS|Australia|  2.4248|http://linked.dat...|POINT (968213.727...|\n",
      "|5793|https://www.domai...|        $69 per week|Carpark224/23 Bla...|               House|        -37.8007586|       144.9550317|NULL| NULL|    1.0| 300.0|           69.0|POINT (144.955031...|      138.0|206041506|     North Melbourne|       1|        New|   20604|      Melbourne City|     206|   Melbourne - Inner|   2GMEL|Greater Melbourne|       2|Victoria|     AUS|Australia|  2.4248|http://linked.dat...|POINT (969049.398...|\n",
      "|5794|https://www.domai...|        $60 per week|Carpark613/33 Bla...|               House|        -37.8005616|       144.9554189|NULL| NULL|    1.0| 261.0|           60.0|POINT (144.955418...|      138.0|206041506|     North Melbourne|       1|        New|   20604|      Melbourne City|     206|   Melbourne - Inner|   2GMEL|Greater Melbourne|       2|Victoria|     AUS|Australia|  2.4248|http://linked.dat...|POINT (969085.476...|\n",
      "|5795|https://www.domai...|        $55 per week|Carpark613/33 Bla...|               House|        -37.8005616|       144.9554189|NULL| NULL|    1.0| 239.0|           55.0|POINT (144.955418...|      138.0|206041506|     North Melbourne|       1|        New|   20604|      Melbourne City|     206|   Melbourne - Inner|   2GMEL|Greater Melbourne|       2|Victoria|     AUS|Australia|  2.4248|http://linked.dat...|POINT (969085.476...|\n",
      "|5908|https://www.domai...|        $50 per week|Carpark6216/70 So...|               House|        -37.8231648|       144.9661124|NULL| NULL|    1.0| 217.0|           50.0|POINT (144.966112...|      141.0|206041509|    Southbank - East|       1|        New|   20604|      Melbourne City|     206|   Melbourne - Inner|   2GMEL|Greater Melbourne|       2|Victoria|     AUS|Australia|   0.804|http://linked.dat...|POINT (969809.103...|\n",
      "|6179|https://www.domai...|                 $50|Carpark5118/70 So...|               House|        -37.8231648|       144.9661124|NULL| NULL|    1.0| 217.0|           50.0|POINT (144.966112...|      141.0|206041509|    Southbank - East|       1|        New|   20604|      Melbourne City|     206|   Melbourne - Inner|   2GMEL|Greater Melbourne|       2|Victoria|     AUS|Australia|   0.804|http://linked.dat...|POINT (969809.103...|\n",
      "|6188|https://www.domai...|        $50 per week|Carpark5118/70 So...|               House|        -37.8229226|       144.9639272|NULL| NULL|    1.0| 217.0|           50.0|POINT (144.963927...|      141.0|206041509|    Southbank - East|       1|        New|   20604|      Melbourne City|     206|   Melbourne - Inner|   2GMEL|Greater Melbourne|       2|Victoria|     AUS|Australia|   0.804|http://linked.dat...|POINT (969618.697...|\n",
      "|6192|https://www.domai...|        $50 per week|Carpark5118/70 So...|               House|        -37.8231648|       144.9661124|NULL| NULL|    1.0| 217.0|           50.0|POINT (144.966112...|      141.0|206041509|    Southbank - East|       1|        New|   20604|      Melbourne City|     206|   Melbourne - Inner|   2GMEL|Greater Melbourne|       2|Victoria|     AUS|Australia|   0.804|http://linked.dat...|POINT (969809.103...|\n",
      "|6254|https://www.domai...|    $600.00 per week|28 Rowson Street,...|               House|        -37.8588219|       145.2753652|NULL| NULL|   NULL|2607.0|          600.0|POINT (145.275365...|      306.0|211011446|             Boronia|       0|  No change|   21101|                Knox|     211|Melbourne - Outer...|   2GMEL|Greater Melbourne|       2|Victoria|     AUS|Australia| 11.2631|http://linked.dat...|POINT (996729.375...|\n",
      "|6764|https://www.domai...|                $520|3 Sincere Drive, ...|               House|        -37.9033152|       144.7327726|NULL| NULL|   NULL|2260.0|          520.0|POINT (144.732772...|      440.0|213051466|  Point Cook - South|       0|  No change|   21305|             Wyndham|     213|    Melbourne - West|   2GMEL|Greater Melbourne|       2|Victoria|     AUS|Australia|  9.4219|http://linked.dat...|POINT (948460.680...|\n",
      "|6822|https://www.domai...|       $305 per week|608/1 Queens Aven...|              Studio|        -37.8226997|       145.0429826|NULL|  1.0|    0.0|1325.0|          305.0|POINT (145.042982...|      173.0|207011520|    Hawthorn - South|       1|        New|   20701|          Boroondara|     207|Melbourne - Inner...|   2GMEL|Greater Melbourne|       2|Victoria|     AUS|Australia|  3.2163|http://linked.dat...|POINT (976594.377...|\n",
      "|6876|https://www.domai...|APPLY NOW - From ...|1 Queens Avenue, ...|Apartment / Unit ...|        -37.8227434|       145.0429424|NULL|  1.0|   14.0|  NULL|          250.0|POINT (145.042942...|      173.0|207011520|    Hawthorn - South|       1|        New|   20701|          Boroondara|     207|Melbourne - Inner...|   2GMEL|Greater Melbourne|       2|Victoria|     AUS|Australia|  3.2163|http://linked.dat...|POINT (976590.403...|\n",
      "|6877|https://www.domai...|APPLY NOW - From ...|71 Riversdale Roa...|Apartment / Unit ...|        -37.8282208|        145.032328|NULL|  1.0|    9.0|  NULL|          275.0|POINT (145.032328...|      173.0|207011520|    Hawthorn - South|       1|        New|   20701|          Boroondara|     207|Melbourne - Inner...|   2GMEL|Greater Melbourne|       2|Victoria|     AUS|Australia|  3.2163|http://linked.dat...|POINT (975600.516...|\n",
      "|7245|https://www.domai...|       $290 per week|95 Carinish Road,...|              Studio|        -37.9224058|       145.1184226|NULL|  1.0|    0.0|1257.0|          290.0|POINT (145.118422...|      393.0|212051568|   Clayton - Central|       1|        New|   21205|              Monash|     212|Melbourne - South...|   2GMEL|Greater Melbourne|       2|Victoria|     AUS|Australia|  4.1819|http://linked.dat...|POINT (982264.994...|\n",
      "|7632|https://www.domai...|             $250 pw|24/677 Park Stree...|              Studio|         -37.778235|         144.96328|NULL|  1.0|    0.0|1087.0|          250.0|POINT (144.96328 ...|      115.0|206011496|   Brunswick - South|       1|        New|   20601|  Brunswick - Coburg|     206|   Melbourne - Inner|   2GMEL|Greater Melbourne|       2|Victoria|     AUS|Australia|  2.7334|http://linked.dat...|POINT (969996.207...|\n",
      "|7830|https://www.domai...|APPLY NOW - From ...|1 Delany Avenue, ...|              Studio|        -37.8494259|       145.1195891|NULL|  1.0|    8.0|  NULL|          320.0|POINT (145.119589...|      186.0|207031165|      Burwood (Vic.)|       3|Name change|   20703|   Whitehorse - West|     207|Melbourne - Inner...|   2GMEL|Greater Melbourne|       2|Victoria|     AUS|Australia|  5.0392|http://linked.dat...|POINT (983087.851...|\n",
      "|8165|https://www.domai...|APPLY NOW - From ...|234 Warrigal Road...|              Studio|        -37.8493988|       145.0954613|NULL|  1.0|    8.0|  NULL|          300.0|POINT (145.095461...|      167.0|207011149|          Camberwell|       0|  No change|   20701|          Boroondara|     207|Melbourne - Inner...|   2GMEL|Greater Melbourne|       2|Victoria|     AUS|Australia|  7.2919|http://linked.dat...|POINT (980960.519...|\n",
      "|8469|https://www.domai...|             $450 pw|1403/325 Collins ...|              Studio|         -37.816598|       144.9634599|NULL|  1.0|    0.0|1955.0|          450.0|POINT (144.963459...|      137.0|206041505|Melbourne CBD - West|       1|        New|   20604|      Melbourne City|     206|   Melbourne - Inner|   2GMEL|Greater Melbourne|       2|Victoria|     AUS|Australia|  1.0051|http://linked.dat...|POINT (969638.989...|\n",
      "|8535|https://www.domai...|$440/week - partl...|627/118 Franklin ...|              Studio|        -37.8082052|       144.9589035|NULL|  1.0|    0.0|1912.0|          440.0|POINT (144.958903...|      136.0|206041504|Melbourne CBD - N...|       1|        New|   20604|      Melbourne City|     206|   Melbourne - Inner|   2GMEL|Greater Melbourne|       2|Victoria|     AUS|Australia|  0.5616|http://linked.dat...|POINT (969318.624...|\n",
      "|8621|https://www.domai...|           $330/week|105/546 Flinders ...|Apartment / Unit ...|        -37.8205759|       144.9561191|NULL|  1.0|    0.0|1434.0|          330.0|POINT (144.956119...|      137.0|206041505|Melbourne CBD - West|       1|        New|   20604|      Melbourne City|     206|   Melbourne - Inner|   2GMEL|Greater Melbourne|       2|Victoria|     AUS|Australia|  1.0051|http://linked.dat...|POINT (968952.731...|\n",
      "|8655|https://www.domai...|             $490.00|3704/618 Lonsdale...|              Studio| -37.81441450000001|       144.9539107|NULL|  1.0|    0.0|2123.0|          490.0|POINT (144.953910...|      137.0|206041505|Melbourne CBD - West|       1|        New|   20604|      Melbourne City|     206|   Melbourne - Inner|   2GMEL|Greater Melbourne|       2|Victoria|     AUS|Australia|  1.0051|http://linked.dat...|POINT (968817.790...|\n",
      "|8657|https://www.domai...|      $75/W CAR PARK|Car Park/228 La T...|            Carspace|         -37.809615|       144.9623021|NULL|  1.0|    1.0| 326.0|           75.0|POINT (144.962302...|      136.0|206041504|Melbourne CBD - N...|       1|        New|   20604|      Melbourne City|     206|   Melbourne - Inner|   2GMEL|Greater Melbourne|       2|Victoria|     AUS|Australia|  0.5616|http://linked.dat...|POINT (969604.759...|\n",
      "|8669|https://www.domai...|       $390 Per Week|2008/288 Spencer ...|              Studio|        -37.8138268|       144.9520213|NULL|  1.0|    0.0|1694.0|          390.0|POINT (144.952021...|      137.0|206041505|Melbourne CBD - West|       1|        New|   20604|      Melbourne City|     206|   Melbourne - Inner|   2GMEL|Greater Melbourne|       2|Victoria|     AUS|Australia|  1.0051|http://linked.dat...|POINT (968656.816...|\n",
      "|8681|https://www.domai...|        $50 Per Week|CP/33 Rose Lane, ...|            Carspace|        -37.8150137|       144.9538694|NULL|  1.0|    1.0| 217.0|           50.0|POINT (144.953869...|      137.0|206041505|Melbourne CBD - West|       1|        New|   20604|      Melbourne City|     206|   Melbourne - Inner|   2GMEL|Greater Melbourne|       2|Victoria|     AUS|Australia|  1.0051|http://linked.dat...|POINT (968808.324...|\n",
      "|8811|https://www.domai...|                $415|1217/43 Therry St...|Apartment / Unit ...|        -37.8070604|       144.9606611|NULL|  1.0|    0.0|1803.0|          415.0|POINT (144.960661...|      136.0|206041504|Melbourne CBD - N...|       1|        New|   20604|      Melbourne City|     206|   Melbourne - Inner|   2GMEL|Greater Melbourne|       2|Victoria|     AUS|Australia|  0.5616|http://linked.dat...|POINT (969484.821...|\n",
      "|8868|https://www.domai...|           $450/week|202/408 Lonsdale ...|              Studio|        -37.8125979|       144.9604012|NULL|  1.0|    0.0|1955.0|          450.0|POINT (144.960401...|      136.0|206041504|Melbourne CBD - N...|       1|        New|   20604|      Melbourne City|     206|   Melbourne - Inner|   2GMEL|Greater Melbourne|       2|Victoria|     AUS|Australia|  0.5616|http://linked.dat...|POINT (969408.050...|\n",
      "|8899|https://www.domai...|       $360 per week|508/408 Lonsdale ...|Apartment / Unit ...|        -37.8125979|       144.9604012|NULL|  1.0|    0.0|1564.0|          360.0|POINT (144.960401...|      136.0|206041504|Melbourne CBD - N...|       1|        New|   20604|      Melbourne City|     206|   Melbourne - Inner|   2GMEL|Greater Melbourne|       2|Victoria|     AUS|Australia|  0.5616|http://linked.dat...|POINT (969408.050...|\n",
      "|8953|https://www.domai...|           $390/week|914/408 Lonsdale ...|              Studio|        -37.8125979|       144.9604012|NULL|  1.0|    0.0|1695.0|          390.0|POINT (144.960401...|      136.0|206041504|Melbourne CBD - N...|       1|        New|   20604|      Melbourne City|     206|   Melbourne - Inner|   2GMEL|Greater Melbourne|       2|Victoria|     AUS|Australia|  0.5616|http://linked.dat...|POINT (969408.050...|\n",
      "|9012|https://www.domai...|        $75 per week|CARSPACE/181 Exhi...|            Carspace|        -37.8114561|        144.970058|NULL|  1.0|    1.0| 300.0|           75.0|POINT (144.970058...|      135.0|206041503|Melbourne CBD - East|       1|        New|   20604|      Melbourne City|     206|   Melbourne - Inner|   2GMEL|Greater Melbourne|       2|Victoria|     AUS|Australia|   0.802|http://linked.dat...|POINT (970271.101...|\n",
      "|9054|https://www.domai...|                $370|617/238 Flinders ...|Apartment / Unit ...|        -37.8175167|       144.9664983|NULL|  1.0|    0.0|1608.0|          370.0|POINT (144.966498...|      135.0|206041503|Melbourne CBD - East|       1|        New|   20604|      Melbourne City|     206|   Melbourne - Inner|   2GMEL|Greater Melbourne|       2|Victoria|     AUS|Australia|   0.802|http://linked.dat...|POINT (969898.094...|\n",
      "|9065|https://www.domai...|$80 **CARPARK AVA...|228 La Trobe Stre...|Apartment / Unit ...|         -37.809615|       144.9623021|NULL|  1.0|    1.0| 348.0|           80.0|POINT (144.962302...|      136.0|206041504|Melbourne CBD - N...|       1|        New|   20604|      Melbourne City|     206|   Melbourne - Inner|   2GMEL|Greater Melbourne|       2|Victoria|     AUS|Australia|  0.5616|http://linked.dat...|POINT (969604.759...|\n",
      "|9075|https://www.domai...|      $250 per month|Carpark/80 Abecke...|            Carspace|        -37.8089991|       144.9610792|NULL|  1.0|    1.0| 252.0|          250.0|POINT (144.961079...|      136.0|206041504|Melbourne CBD - N...|       1|        New|   20604|      Melbourne City|     206|   Melbourne - Inner|   2GMEL|Greater Melbourne|       2|Victoria|     AUS|Australia|  0.5616|http://linked.dat...|POINT (969502.858...|\n",
      "|9118|https://www.domai...|     $380 Furnished!|106/62-68 Hayward...|              Studio|        -37.8089779|       144.9668783|NULL|  1.0|    0.0|1652.0|          380.0|POINT (144.966878...|      135.0|206041503|Melbourne CBD - East|       1|        New|   20604|      Melbourne City|     206|   Melbourne - Inner|   2GMEL|Greater Melbourne|       2|Victoria|     AUS|Australia|   0.802|http://linked.dat...|POINT (970014.690...|\n",
      "|9144|https://www.domai...|        $65 per week|Carpark 2608/135 ...|               House|        -37.8097879|       144.9596466|NULL| NULL|    1.0| 282.0|           65.0|POINT (144.959646...|      136.0|206041504|Melbourne CBD - N...|       1|        New|   20604|      Melbourne City|     206|   Melbourne - Inner|   2GMEL|Greater Melbourne|       2|Victoria|     AUS|Australia|  0.5616|http://linked.dat...|POINT (969368.797...|\n",
      "|9151|https://www.domai...|        $60 per week|22-24 Jane Bell L...|Apartment / Unit ...| -37.81020729999999|       144.9662711|NULL| NULL|    1.0| 500.0|           60.0|POINT (144.966271...|      136.0|206041504|Melbourne CBD - N...|       1|        New|   20604|      Melbourne City|     206|   Melbourne - Inner|   2GMEL|Greater Melbourne|       2|Victoria|     AUS|Australia|  0.5616|http://linked.dat...|POINT (969949.160...|\n",
      "|9152|https://www.domai...|      $300 per month|CP3312/120 Abecke...|            Carspace|        -37.8093086|       144.9597389|NULL|  1.0|    1.0| 299.0|          300.0|POINT (144.959738...|      136.0|206041504|Melbourne CBD - N...|       1|        New|   20604|      Melbourne City|     206|   Melbourne - Inner|   2GMEL|Greater Melbourne|       2|Victoria|     AUS|Australia|  0.5616|http://linked.dat...|POINT (969381.601...|\n",
      "|9165|https://www.domai...|        $70 per week|Carpark 5808/135 ...|               House|        -37.8097879|       144.9596466|NULL| NULL|    1.0| 304.0|           70.0|POINT (144.959646...|      136.0|206041504|Melbourne CBD - N...|       1|        New|   20604|      Melbourne City|     206|   Melbourne - Inner|   2GMEL|Greater Melbourne|       2|Victoria|     AUS|Australia|  0.5616|http://linked.dat...|POINT (969368.797...|\n",
      "|9166|https://www.domai...|    $390.00 per week|108/65 Elizabeth ...|              Studio|        -37.8167854|        144.964073|NULL|  1.0|    0.0|1695.0|          390.0|POINT (144.964073...|      137.0|206041505|Melbourne CBD - West|       1|        New|   20604|      Melbourne City|     206|   Melbourne - Inner|   2GMEL|Greater Melbourne|       2|Victoria|     AUS|Australia|  1.0051|http://linked.dat...|POINT (969691.253...|\n",
      "|9185|https://www.domai...|      $300 per month|carpark135 Abekce...|            Carspace|        -37.8097879|       144.9596466|NULL|  1.0|    1.0| 299.0|          300.0|POINT (144.959646...|      136.0|206041504|Melbourne CBD - N...|       1|        New|   20604|      Melbourne City|     206|   Melbourne - Inner|   2GMEL|Greater Melbourne|       2|Victoria|     AUS|Australia|  0.5616|http://linked.dat...|POINT (969368.797...|\n",
      "|9190|https://www.domai...|                $261|Carpark 3602/462 ...|               House|         -37.807859|        144.960611|NULL| NULL|    1.0| 261.0|          261.0|POINT (144.960611...|      136.0|206041504|Melbourne CBD - N...|       1|        New|   20604|      Melbourne City|     206|   Melbourne - Inner|   2GMEL|Greater Melbourne|       2|Victoria|     AUS|Australia|  0.5616|http://linked.dat...|POINT (969472.636...|\n",
      "|9191|https://www.domai...|                $261|Carpark 2504/462 ...|               House|         -37.807859|        144.960611|NULL| NULL|    1.0| 261.0|          261.0|POINT (144.960611...|      136.0|206041504|Melbourne CBD - N...|       1|        New|   20604|      Melbourne City|     206|   Melbourne - Inner|   2GMEL|Greater Melbourne|       2|Victoria|     AUS|Australia|  0.5616|http://linked.dat...|POINT (969472.636...|\n",
      "|9196|https://www.domai...|                 $60|Carpark 5090Y/33 ...|               House|        -37.8150001|       144.9538708|NULL| NULL|    1.0| 261.0|           60.0|POINT (144.953870...|      137.0|206041505|Melbourne CBD - West|       1|        New|   20604|      Melbourne City|     206|   Melbourne - Inner|   2GMEL|Greater Melbourne|       2|Victoria|     AUS|Australia|  1.0051|http://linked.dat...|POINT (968808.580...|\n",
      "|9199|https://www.domai...|                 $80|68 La Trobe, Melb...|            Carspace|        -37.8083648|       144.9667899|NULL| NULL|    1.0|  NULL|           80.0|POINT (144.966789...|      135.0|206041503|Melbourne CBD - East|       1|        New|   20604|      Melbourne City|     206|   Melbourne - Inner|   2GMEL|Greater Melbourne|       2|Victoria|     AUS|Australia|   0.802|http://linked.dat...|POINT (970012.855...|\n",
      "|9211|https://www.domai...|               $70/W|CP/228 Latrobe St...|            Carspace|         -37.809615|       144.9623021|NULL|  1.0|    1.0| 304.0|           70.0|POINT (144.962302...|      136.0|206041504|Melbourne CBD - N...|       1|        New|   20604|      Melbourne City|     206|   Melbourne - Inner|   2GMEL|Greater Melbourne|       2|Victoria|     AUS|Australia|  0.5616|http://linked.dat...|POINT (969604.759...|\n",
      "|9215|https://www.domai...|        $55 per week|220 Spencer Stree...|Apartment / Unit ...|        -37.8154724|       144.9528304|NULL| NULL|    1.0| 239.0|           55.0|POINT (144.952830...|      137.0|206041505|Melbourne CBD - West|       1|        New|   20604|      Melbourne City|     206|   Melbourne - Inner|   2GMEL|Greater Melbourne|       2|Victoria|     AUS|Australia|  1.0051|http://linked.dat...|POINT (968712.206...|\n",
      "|9218|https://www.domai...|        $80 per week|Carpark4008/135 A...|               House|         -37.809678|       144.9593125|NULL| NULL|    1.0| 348.0|           80.0|POINT (144.959312...|      136.0|206041504|Melbourne CBD - N...|       1|        New|   20604|      Melbourne City|     206|   Melbourne - Inner|   2GMEL|Greater Melbourne|       2|Victoria|     AUS|Australia|  0.5616|http://linked.dat...|POINT (969340.390...|\n",
      "|9229|https://www.domai...|        $60 per week|Carpark2402/80 A'...|               House|        -37.8089991|       144.9610792|NULL| NULL|    1.0| 261.0|           60.0|POINT (144.961079...|      136.0|206041504|Melbourne CBD - N...|       1|        New|   20604|      Melbourne City|     206|   Melbourne - Inner|   2GMEL|Greater Melbourne|       2|Victoria|     AUS|Australia|  0.5616|http://linked.dat...|POINT (969502.858...|\n",
      "|9233|https://www.domai...|        $70 per week|Carpark2515/135 A...|               House|         -37.809678|       144.9593125|NULL| NULL|    1.0| 304.0|           70.0|POINT (144.959312...|      136.0|206041504|Melbourne CBD - N...|       1|        New|   20604|      Melbourne City|     206|   Melbourne - Inner|   2GMEL|Greater Melbourne|       2|Victoria|     AUS|Australia|  0.5616|http://linked.dat...|POINT (969340.390...|\n",
      "|9235|https://www.domai...|        $60 per week|Carpark2408/80 A'...|               House|        -37.8089991|       144.9610792|NULL| NULL|    1.0| 261.0|           60.0|POINT (144.961079...|      136.0|206041504|Melbourne CBD - N...|       1|        New|   20604|      Melbourne City|     206|   Melbourne - Inner|   2GMEL|Greater Melbourne|       2|Victoria|     AUS|Australia|  0.5616|http://linked.dat...|POINT (969502.858...|\n",
      "|9241|https://www.domai...|                $350|163 Exhibition St...|            Carspace|        -37.8120241|       144.9699956|NULL| NULL|    1.0| 350.0|          350.0|POINT (144.969995...|      135.0|206041503|Melbourne CBD - East|       1|        New|   20604|      Melbourne City|     206|   Melbourne - Inner|   2GMEL|Greater Melbourne|       2|Victoria|     AUS|Australia|   0.802|http://linked.dat...|POINT (970260.068...|\n",
      "|9242|https://www.domai...|                $270|163 Exhibition St...|            Carspace|        -37.8120241|       144.9699956|NULL| NULL|    1.0| 270.0|          270.0|POINT (144.969995...|      135.0|206041503|Melbourne CBD - East|       1|        New|   20604|      Melbourne City|     206|   Melbourne - Inner|   2GMEL|Greater Melbourne|       2|Victoria|     AUS|Australia|   0.802|http://linked.dat...|POINT (970260.068...|\n",
      "|9243|https://www.domai...|                 $60|Carpark3605/639 L...|               House|        -37.8122489|       144.9621762|NULL| NULL|    1.0| 261.0|           60.0|POINT (144.962176...|      136.0|206041504|Melbourne CBD - N...|       1|        New|   20604|      Melbourne City|     206|   Melbourne - Inner|   2GMEL|Greater Melbourne|       2|Victoria|     AUS|Australia|  0.5616|http://linked.dat...|POINT (969568.038...|\n",
      "|9244|https://www.domai...|                $529|99 Franklin Stree...|              Studio|        -37.8081956|       144.9612917|NULL|  1.0|    0.0|  NULL|          529.0|POINT (144.961291...|      136.0|206041504|Melbourne CBD - N...|       1|        New|   20604|      Melbourne City|     206|   Melbourne - Inner|   2GMEL|Greater Melbourne|       2|Victoria|     AUS|Australia|  0.5616|http://linked.dat...|POINT (969529.419...|\n",
      "|9252|https://www.domai...|        $85 Per Week|224-228 La Trobe ...|            Carspace|        -37.8097601|       144.9626574|NULL| NULL|   NULL| 369.0|           85.0|POINT (144.962657...|      136.0|206041504|Melbourne CBD - N...|       1|        New|   20604|      Melbourne City|     206|   Melbourne - Inner|   2GMEL|Greater Melbourne|       2|Victoria|     AUS|Australia|  0.5616|http://linked.dat...|POINT (969634.694...|\n",
      "|9256|https://www.domai...|        $60 per week|Carpark2810/81 A'...|               House|         -37.809678|       144.9593125|NULL| NULL|    1.0| 261.0|           60.0|POINT (144.959312...|      136.0|206041504|Melbourne CBD - N...|       1|        New|   20604|      Melbourne City|     206|   Melbourne - Inner|   2GMEL|Greater Melbourne|       2|Victoria|     AUS|Australia|  0.5616|http://linked.dat...|POINT (969340.390...|\n",
      "|9257|https://www.domai...|        $70 per week|Carpark402/135 A'...|               House|         -37.809678|       144.9593125|NULL| NULL|    1.0| 304.0|           70.0|POINT (144.959312...|      136.0|206041504|Melbourne CBD - N...|       1|        New|   20604|      Melbourne City|     206|   Melbourne - Inner|   2GMEL|Greater Melbourne|       2|Victoria|     AUS|Australia|  0.5616|http://linked.dat...|POINT (969340.390...|\n",
      "|9260|https://www.domai...|              $69 pw|Carpark 47/464 Co...|Apartment / Unit ...|        -37.8175602|       144.9585916|NULL| NULL|    1.0| 300.0|           69.0|POINT (144.958591...|      137.0|206041505|Melbourne CBD - West|       1|        New|   20604|      Melbourne City|     206|   Melbourne - Inner|   2GMEL|Greater Melbourne|       2|Victoria|     AUS|Australia|  1.0051|http://linked.dat...|POINT (969200.161...|\n",
      "|9261|https://www.domai...|        $60 per week|CPA/243-263 Frank...|Apartment / Unit ...|        -37.8082179|       144.9599812|NULL| NULL|    1.0| 610.0|           60.0|POINT (144.959981...|      136.0|206041504|Melbourne CBD - N...|       1|        New|   20604|      Melbourne City|     206|   Melbourne - Inner|   2GMEL|Greater Melbourne|       2|Victoria|     AUS|Australia|  0.5616|http://linked.dat...|POINT (969413.582...|\n",
      "|9262|https://www.domai...|        $60 per week|Carpark3708/135 A...|               House|         -37.809678|       144.9593125|NULL| NULL|    1.0| 261.0|           60.0|POINT (144.959312...|      136.0|206041504|Melbourne CBD - N...|       1|        New|   20604|      Melbourne City|     206|   Melbourne - Inner|   2GMEL|Greater Melbourne|       2|Victoria|     AUS|Australia|  0.5616|http://linked.dat...|POINT (969340.390...|\n",
      "|9266|https://www.domai...|        $70 per week|Carpark401/135 A'...|               House|         -37.809678|       144.9593125|NULL| NULL|    1.0| 304.0|           70.0|POINT (144.959312...|      136.0|206041504|Melbourne CBD - N...|       1|        New|   20604|      Melbourne City|     206|   Melbourne - Inner|   2GMEL|Greater Melbourne|       2|Victoria|     AUS|Australia|  0.5616|http://linked.dat...|POINT (969340.390...|\n",
      "|9267|https://www.domai...|        $60 per week|Carpark2710/80 A'...|               House|        -37.8089991|       144.9610792|NULL| NULL|    1.0| 261.0|           60.0|POINT (144.961079...|      136.0|206041504|Melbourne CBD - N...|       1|        New|   20604|      Melbourne City|     206|   Melbourne - Inner|   2GMEL|Greater Melbourne|       2|Victoria|     AUS|Australia|  0.5616|http://linked.dat...|POINT (969502.858...|\n",
      "|9268|https://www.domai...|        $60 per week|Carpark2810/81 A'...|               House|         -37.809678|       144.9593125|NULL| NULL|    1.0| 261.0|           60.0|POINT (144.959312...|      136.0|206041504|Melbourne CBD - N...|       1|        New|   20604|      Melbourne City|     206|   Melbourne - Inner|   2GMEL|Greater Melbourne|       2|Victoria|     AUS|Australia|  0.5616|http://linked.dat...|POINT (969340.390...|\n",
      "|9269|https://www.domai...|        $60 per week|Carpark915/135 A'...|               House|         -37.809678|       144.9593125|NULL| NULL|    1.0| 261.0|           60.0|POINT (144.959312...|      136.0|206041504|Melbourne CBD - N...|       1|        New|   20604|      Melbourne City|     206|   Melbourne - Inner|   2GMEL|Greater Melbourne|       2|Victoria|     AUS|Australia|  0.5616|http://linked.dat...|POINT (969340.390...|\n",
      "|9270|https://www.domai...|        $70 per week|Carpark5808/135 A...|               House|         -37.809678|       144.9593125|NULL| NULL|    1.0| 304.0|           70.0|POINT (144.959312...|      136.0|206041504|Melbourne CBD - N...|       1|        New|   20604|      Melbourne City|     206|   Melbourne - Inner|   2GMEL|Greater Melbourne|       2|Victoria|     AUS|Australia|  0.5616|http://linked.dat...|POINT (969340.390...|\n",
      "|9271|https://www.domai...|                $479|50 La Trobe Stree...|              Studio|-37.824903985828136|144.97146694957883|NULL|  1.0|    0.0|  NULL|          479.0|POINT (144.971466...|      139.0|206041507|Royal Botanic Gar...|       1|        New|   20604|      Melbourne City|     206|   Melbourne - Inner|   2GMEL|Greater Melbourne|       2|Victoria|     AUS|Australia|  1.3511|http://linked.dat...|POINT (970264.511...|\n",
      "|9272|https://www.domai...|        $60 per week|Carpark2912/639 L...|               House|        -37.8122489|       144.9621762|NULL| NULL|    1.0| 261.0|           60.0|POINT (144.962176...|      136.0|206041504|Melbourne CBD - N...|       1|        New|   20604|      Melbourne City|     206|   Melbourne - Inner|   2GMEL|Greater Melbourne|       2|Victoria|     AUS|Australia|  0.5616|http://linked.dat...|POINT (969568.038...|\n",
      "|9278|https://www.domai...|        $70 per week|Carpark401/80 A'B...|               House|        -37.8089991|       144.9610792|NULL| NULL|    1.0| 304.0|           70.0|POINT (144.961079...|      136.0|206041504|Melbourne CBD - N...|       1|        New|   20604|      Melbourne City|     206|   Melbourne - Inner|   2GMEL|Greater Melbourne|       2|Victoria|     AUS|Australia|  0.5616|http://linked.dat...|POINT (969502.858...|\n",
      "|9279|https://www.domai...|        $60 per week|Carpark6110Y/33 R...|               House|        -37.8152243|       144.9541663|NULL| NULL|    1.0| 261.0|           60.0|POINT (144.954166...|      137.0|206041505|Melbourne CBD - West|       1|        New|   20604|      Melbourne City|     206|   Melbourne - Inner|   2GMEL|Greater Melbourne|       2|Victoria|     AUS|Australia|  1.0051|http://linked.dat...|POINT (968832.470...|\n",
      "|9280|https://www.domai...|        $60 per week|Carpark2504/462 E...|               House|        -37.8090217|       144.9608512|NULL| NULL|    1.0| 261.0|           60.0|POINT (144.960851...|      136.0|206041504|Melbourne CBD - N...|       1|        New|   20604|      Melbourne City|     206|   Melbourne - Inner|   2GMEL|Greater Melbourne|       2|Victoria|     AUS|Australia|  0.5616|http://linked.dat...|POINT (969482.523...|\n",
      "|9281|https://www.domai...|        $60 per week|Carpark3004Y/639 ...|               House|        -37.8122489|       144.9621762|NULL| NULL|    1.0| 261.0|           60.0|POINT (144.962176...|      136.0|206041504|Melbourne CBD - N...|       1|        New|   20604|      Melbourne City|     206|   Melbourne - Inner|   2GMEL|Greater Melbourne|       2|Victoria|     AUS|Australia|  0.5616|http://linked.dat...|POINT (969568.038...|\n",
      "|9282|https://www.domai...|        $60 per week|Carpark2710/80 A'...|               House|         -37.809678|       144.9593125|NULL| NULL|    1.0| 261.0|           60.0|POINT (144.959312...|      136.0|206041504|Melbourne CBD - N...|       1|        New|   20604|      Melbourne City|     206|   Melbourne - Inner|   2GMEL|Greater Melbourne|       2|Victoria|     AUS|Australia|  0.5616|http://linked.dat...|POINT (969340.390...|\n",
      "|9283|https://www.domai...|        $60 per week|Carpark2810/81 A'...|               House|         -37.809678|       144.9593125|NULL| NULL|    1.0| 261.0|           60.0|POINT (144.959312...|      136.0|206041504|Melbourne CBD - N...|       1|        New|   20604|      Melbourne City|     206|   Melbourne - Inner|   2GMEL|Greater Melbourne|       2|Victoria|     AUS|Australia|  0.5616|http://linked.dat...|POINT (969340.390...|\n",
      "|9284|https://www.domai...|        $60 per week|Carpark3908/135 A...|               House|         -37.809678|       144.9593125|NULL| NULL|    1.0| 261.0|           60.0|POINT (144.959312...|      136.0|206041504|Melbourne CBD - N...|       1|        New|   20604|      Melbourne City|     206|   Melbourne - Inner|   2GMEL|Greater Melbourne|       2|Victoria|     AUS|Australia|  0.5616|http://linked.dat...|POINT (969340.390...|\n",
      "|9285|https://www.domai...|        $60 per week|Carpark5503/135 A...|               House|         -37.809678|       144.9593125|NULL| NULL|    1.0| 261.0|           60.0|POINT (144.959312...|      136.0|206041504|Melbourne CBD - N...|       1|        New|   20604|      Melbourne City|     206|   Melbourne - Inner|   2GMEL|Greater Melbourne|       2|Victoria|     AUS|Australia|  0.5616|http://linked.dat...|POINT (969340.390...|\n",
      "|9286|https://www.domai...|                 $60|Carpark2608/135 A...|               House|         -37.809678|       144.9593125|NULL| NULL|    1.0| 261.0|           60.0|POINT (144.959312...|      136.0|206041504|Melbourne CBD - N...|       1|        New|   20604|      Melbourne City|     206|   Melbourne - Inner|   2GMEL|Greater Melbourne|       2|Victoria|     AUS|Australia|  0.5616|http://linked.dat...|POINT (969340.390...|\n",
      "|9287|https://www.domai...|          $250/month|Carpark 403/135 A...|            Carspace|        -37.8097879|       144.9596466|NULL|  1.0|    1.0| 252.0|          250.0|POINT (144.959646...|      136.0|206041504|Melbourne CBD - N...|       1|        New|   20604|      Melbourne City|     206|   Melbourne - Inner|   2GMEL|Greater Melbourne|       2|Victoria|     AUS|Australia|  0.5616|http://linked.dat...|POINT (969368.797...|\n",
      "|9292|https://www.domai...|        $60 per week|Carpark2402/80 A'...|               House|         -37.809678|       144.9593125|NULL| NULL|    1.0| 261.0|           60.0|POINT (144.959312...|      136.0|206041504|Melbourne CBD - N...|       1|        New|   20604|      Melbourne City|     206|   Melbourne - Inner|   2GMEL|Greater Melbourne|       2|Victoria|     AUS|Australia|  0.5616|http://linked.dat...|POINT (969340.390...|\n",
      "|9294|https://www.domai...|                 $50|Car Park 31 A'Bec...|               House|         -37.809745|        144.958777|NULL| NULL|    1.0| 250.0|           50.0|POINT (144.958777...|      136.0|206041504|Melbourne CBD - N...|       1|        New|   20604|      Melbourne City|     206|   Melbourne - Inner|   2GMEL|Greater Melbourne|       2|Victoria|     AUS|Australia|  0.5616|http://linked.dat...|POINT (969292.494...|\n",
      "+----+--------------------+--------------------+--------------------+--------------------+-------------------+------------------+----+-----+-------+------+---------------+--------------------+-----------+---------+--------------------+--------+-----------+--------+--------------------+--------+--------------------+--------+-----------------+--------+--------+--------+---------+--------+--------------------+--------------------+\n"
     ]
    },
    {
     "name": "stderr",
     "output_type": "stream",
     "text": [
      "24/10/03 12:18:27 WARN CSVHeaderChecker: CSV header does not conform to the schema.\n",
      " Header: , url, price, address, property_type, latitude, longitude, Beds, Baths, Parking, bond, extracted_price, geometry, index_right, sa2_code, sa2_name, chg_flag, chg_lbl, sa3_code, sa3_name, sa4_code, sa4_name, gcc_code, gcc_name, ste_code, ste_name, aus_code, aus_name, areasqkm, loci_uri, geometry_proj\n",
      " Schema: _c0, url, price, address, property_type, latitude, longitude, Beds, Baths, Parking, bond, extracted_price, geometry, index_right, sa2_code, sa2_name, chg_flag, chg_lbl, sa3_code, sa3_name, sa4_code, sa4_name, gcc_code, gcc_name, ste_code, ste_name, aus_code, aus_name, areasqkm, loci_uri, geometry_proj\n",
      "Expected: _c0 but found: \n",
      "CSV file: file:///Users/dakshagrawal/PycharmProjects/project-2-group-real-estate-industry-project-3/data/raw/domain.csv\n"
     ]
    }
   ],
   "source": [
    "# Show rows which have missing values\n",
    "domain_all.filter(domain_all[\"Beds\"].isNull() | domain_all[\"Baths\"].isNull() | domain_all[\"Parking\"].isNull()).show(200)"
   ]
  },
  {
   "cell_type": "code",
   "execution_count": 20,
   "id": "b33323f5b5200a07",
   "metadata": {
    "collapsed": false,
    "ExecuteTime": {
     "end_time": "2024-10-03T02:18:27.468625Z",
     "start_time": "2024-10-03T02:18:27.463050Z"
    }
   },
   "outputs": [],
   "source": [
    "domain_all = domain_all.drop(\"_c0\")"
   ]
  },
  {
   "cell_type": "code",
   "execution_count": 21,
   "id": "93fabc5b801e3a63",
   "metadata": {
    "collapsed": false,
    "ExecuteTime": {
     "end_time": "2024-10-03T02:18:27.479011Z",
     "start_time": "2024-10-03T02:18:27.469218Z"
    }
   },
   "outputs": [],
   "source": [
    "# Impute beds, baths, and parking with 0\n",
    "domain_all = domain_all.fillna({\"Beds\": 0, \"Baths\": 0, \"Parking\": 0})"
   ]
  },
  {
   "cell_type": "code",
   "execution_count": 22,
   "id": "1d50119d8840b500",
   "metadata": {
    "collapsed": false,
    "ExecuteTime": {
     "end_time": "2024-10-03T02:18:27.485590Z",
     "start_time": "2024-10-03T02:18:27.479539Z"
    }
   },
   "outputs": [],
   "source": [
    "# Convert extracted_price to float\n",
    "domain_all = domain_all.withColumn(\"extracted_price\", domain_all[\"extracted_price\"].cast(\"float\"))"
   ]
  },
  {
   "cell_type": "code",
   "execution_count": 23,
   "id": "3bbda876d99d7ce3",
   "metadata": {
    "collapsed": false,
    "ExecuteTime": {
     "end_time": "2024-10-03T02:18:27.702380Z",
     "start_time": "2024-10-03T02:18:27.486692Z"
    }
   },
   "outputs": [],
   "source": [
    "# Remove outliers in extracted_price (above 99th percentile) or below 0\n",
    "q = domain_all.approxQuantile(\"extracted_price\", [0.99], 0)\n",
    "domain_all = domain_all.filter(domain_all[\"extracted_price\"] < q[0])\n",
    "domain_all = domain_all.filter(domain_all[\"extracted_price\"] > 0)"
   ]
  },
  {
   "cell_type": "code",
   "execution_count": 24,
   "id": "15e51d6ea9aa5f9c",
   "metadata": {
    "collapsed": false,
    "ExecuteTime": {
     "end_time": "2024-10-03T02:18:28.641417Z",
     "start_time": "2024-10-03T02:18:27.703403Z"
    }
   },
   "outputs": [],
   "source": [
    "# Save the cleaned data to a new parquet file\n",
    "domain_all.toPandas().to_csv(\"../data/curated/domain_data.csv\", header=True)"
   ]
  },
  {
   "cell_type": "code",
   "execution_count": 24,
   "id": "4fa872f67342200",
   "metadata": {
    "collapsed": false,
    "ExecuteTime": {
     "end_time": "2024-10-03T02:18:28.645504Z",
     "start_time": "2024-10-03T02:18:28.643451Z"
    }
   },
   "outputs": [],
   "source": []
  }
 ],
 "metadata": {
  "kernelspec": {
   "display_name": "Python 3",
   "language": "python",
   "name": "python3"
  },
  "language_info": {
   "codemirror_mode": {
    "name": "ipython",
    "version": 3
   },
   "file_extension": ".py",
   "mimetype": "text/x-python",
   "name": "python",
   "nbconvert_exporter": "python",
   "pygments_lexer": "ipython3",
   "version": "3.10.12"
  }
 },
 "nbformat": 4,
 "nbformat_minor": 5
}
