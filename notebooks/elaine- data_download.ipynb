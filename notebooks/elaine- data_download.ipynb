{
 "cells": [
  {
   "cell_type": "code",
   "execution_count": 27,
   "metadata": {},
   "outputs": [],
   "source": [
    "import os\n",
    "import requests\n",
    "import pandas as pd\n",
    "import requests\n",
    "import zipfile\n",
    "import io\n",
    "from io import BytesIO"
   ]
  },
  {
   "cell_type": "code",
   "execution_count": 28,
   "metadata": {},
   "outputs": [
    {
     "name": "stdout",
     "output_type": "stream",
     "text": [
      "Sheet names (tables and other data): ['Contents', 'Table 1', 'Table 2', 'Table 3', 'Table 4', 'Table 5', 'Table 6', 'Table 7', 'Table 8', 'Table 9', 'Table 10']\n",
      "All sheets saved successfully into ../data/landing/sa2_total_population.xlsx\n"
     ]
    }
   ],
   "source": [
    "import os\n",
    "import requests\n",
    "import pandas as pd\n",
    "\n",
    "# Directory to save the Excel file\n",
    "output_relative_dir = '../data/landing'\n",
    "\n",
    "# File URL for downloading the Excel file\n",
    "url = 'https://www.abs.gov.au/statistics/people/population/regional-population/2022-23/32180DS0001_2022-23.xlsx'\n",
    "\n",
    "# Download the Excel file content directly into memory\n",
    "response = requests.get(url)\n",
    "\n",
    "if response.status_code == 200:\n",
    "    # Load the Excel content into a pandas ExcelFile object directly from memory\n",
    "    xls = pd.ExcelFile(response.content)\n",
    "\n",
    "    # Get all sheet names (table names)\n",
    "    table_names = xls.sheet_names\n",
    "    print(\"Sheet names (tables and other data):\", table_names)\n",
    "\n",
    "    # Define the output Excel file path\n",
    "    excel_output_path = os.path.join(output_relative_dir, 'sa2_total_population.xlsx')\n",
    "\n",
    "    # Use ExcelWriter to save all sheets into a single Excel file (default engine: openpyxl)\n",
    "    with pd.ExcelWriter(excel_output_path, engine='openpyxl') as writer:\n",
    "        # Iterate over each sheet and write it to the same Excel file\n",
    "        for sheet in table_names:\n",
    "            # Read the sheet into a DataFrame\n",
    "            df = pd.read_excel(xls, sheet_name=sheet)\n",
    "            \n",
    "            # Write the DataFrame to the Excel file with its sheet name\n",
    "            df.to_excel(writer, sheet_name=sheet, index=False)\n",
    "\n",
    "    print(f\"All sheets saved successfully into {excel_output_path}\")\n",
    "\n",
    "else:\n",
    "    print(f\"Failed to download the file. Status code: {response.status_code}\")\n"
   ]
  },
  {
   "cell_type": "code",
   "execution_count": 29,
   "metadata": {},
   "outputs": [
    {
     "data": {
      "text/plain": [
       "['SA2_district_boundaries.xml',\n",
       " 'SA2_district_boundaries.dbf',\n",
       " 'SA2_district_boundaries.shx',\n",
       " 'SA2_2021_AUST_SHP_GDA2020.zip',\n",
       " 'SA2_district_boundaries.shp',\n",
       " 'SA2_district_boundaries.prj']"
      ]
     },
     "execution_count": 29,
     "metadata": {},
     "output_type": "execute_result"
    }
   ],
   "source": [
    "# Define the URL for the ZIP file\n",
    "url = 'https://www.abs.gov.au/statistics/standards/australian-statistical-geography-standard-asgs-edition-3/jul2021-jun2026/access-and-downloads/digital-boundary-files/SA2_2021_AUST_SHP_GDA94.zip'\n",
    "\n",
    "# Define the output directory and file name\n",
    "output_dir = '../data/landing/boundaries/'\n",
    "zip_file_path = os.path.join(output_dir, 'SA2_2021_AUST_SHP_GDA2020.zip')\n",
    "\n",
    "# Ensure the output directory exists\n",
    "if not os.path.exists(output_dir):\n",
    "    os.makedirs(output_dir)\n",
    "\n",
    "# Download the ZIP file and save it locally\n",
    "response = requests.get(url)\n",
    "with open(zip_file_path, 'wb') as file:\n",
    "    file.write(response.content)\n",
    "\n",
    "# Extract and rename all files in the ZIP archive\n",
    "with zipfile.ZipFile(zip_file_path, 'r') as zip_ref:\n",
    "    # Extract all files to the output directory\n",
    "    zip_ref.extractall(output_dir)\n",
    "    # List all files in the ZIP archive\n",
    "    file_list = zip_ref.namelist()\n",
    "\n",
    "    # Rename each file in the output directory to start with 'SA2_district_boundaries'\n",
    "    for original_file in file_list:\n",
    "        original_path = os.path.join(output_dir, original_file)\n",
    "        # Get the file extension\n",
    "        file_extension = os.path.splitext(original_file)[1]\n",
    "        # Define the new file name\n",
    "        new_file_name = f\"SA2_district_boundaries{file_extension}\"\n",
    "        new_file_path = os.path.join(output_dir, new_file_name)\n",
    "        # Rename the file if it exists\n",
    "        if os.path.exists(original_path):\n",
    "            os.rename(original_path, new_file_path)\n",
    "\n",
    "# Return the list of renamed files\n",
    "renamed_files = os.listdir(output_dir)\n",
    "renamed_files\n"
   ]
  },
  {
   "cell_type": "code",
   "execution_count": 30,
   "metadata": {},
   "outputs": [
    {
     "name": "stdout",
     "output_type": "stream",
     "text": [
      "Sheet names (tables and other data): ['Contents', 'Explanatory Notes', 'Total_Population', 'Total_Dwellings', 'Total_Households', 'Dwellings_and_Households', 'Households_by_Type']\n",
      "All sheets saved successfully into ../data/landing/VIF2023_SA2_Pop_Hhold_Dwelling_Projections_to_2036_Release_2.xlsx\n"
     ]
    }
   ],
   "source": [
    "import os\n",
    "import requests\n",
    "import pandas as pd\n",
    "\n",
    "# Directory to save the Excel file\n",
    "output_relative_dir = '../data/landing'\n",
    "\n",
    "# File URL for downloading the Excel file\n",
    "url = 'https://www.planning.vic.gov.au/__data/assets/excel_doc/0028/691660/VIF2023_SA2_Pop_Hhold_Dwelling_Projections_to_2036_Release_2.xlsx'\n",
    "\n",
    "# Download the Excel file content directly into memory\n",
    "response = requests.get(url)\n",
    "\n",
    "if response.status_code == 200:\n",
    "    # Load the Excel content into a pandas ExcelFile object directly from memory\n",
    "    xls = pd.ExcelFile(response.content)\n",
    "\n",
    "    # Get all sheet names (table names)\n",
    "    table_names = xls.sheet_names\n",
    "    print(\"Sheet names (tables and other data):\", table_names)\n",
    "\n",
    "    # Define the output Excel file path\n",
    "    excel_output_path = os.path.join(output_relative_dir, 'VIF2023_SA2_Pop_Hhold_Dwelling_Projections_to_2036_Release_2.xlsx')\n",
    "\n",
    "    # Use ExcelWriter to save all sheets into a single Excel file (default engine: openpyxl)\n",
    "    with pd.ExcelWriter(excel_output_path, engine='openpyxl') as writer:\n",
    "        # Iterate over each sheet and write it to the same Excel file\n",
    "        for sheet in table_names:\n",
    "            # Read the sheet into a DataFrame\n",
    "            df = pd.read_excel(xls, sheet_name=sheet)\n",
    "            \n",
    "            # Write the DataFrame to the Excel file with its sheet name\n",
    "            df.to_excel(writer, sheet_name=sheet, index=False)\n",
    "\n",
    "    print(f\"All sheets saved successfully into {excel_output_path}\")\n",
    "\n",
    "else:\n",
    "    print(f\"Failed to download the file. Status code: {response.status_code}\")\n"
   ]
  },
  {
   "cell_type": "code",
   "execution_count": 31,
   "metadata": {},
   "outputs": [
    {
     "name": "stdout",
     "output_type": "stream",
     "text": [
      "CSV file saved successfully as ../data/landing/shopping_center.csv\n"
     ]
    }
   ],
   "source": [
    "# Google Drive file ID and direct download URL\n",
    "file_id = '1kjPONCd21EYDPnThipU16PmTF0xSuoCZ'\n",
    "url = f'https://drive.google.com/uc?export=download&id={file_id}'\n",
    "\n",
    "# Download the CSV file content directly into memory\n",
    "response = requests.get(url)\n",
    "if response.status_code == 200:\n",
    "    # Convert the downloaded content to a DataFrame\n",
    "    csv_data = response.content.decode('utf-8')\n",
    "    df = pd.read_csv(io.StringIO(csv_data))\n",
    "    \n",
    "    # Define output path for saving the CSV file\n",
    "    csv_output_path = os.path.join(output_relative_dir, 'shopping_center.csv')\n",
    "    \n",
    "    # Save the DataFrame as a CSV file\n",
    "    df.to_csv(csv_output_path, index=False)\n",
    "    print(f\"CSV file saved successfully as {csv_output_path}\")\n",
    "\n",
    "else:\n",
    "    print(f\"Failed to download the file. Status code: {response.status_code}\")\n"
   ]
  },
  {
   "cell_type": "code",
   "execution_count": 32,
   "metadata": {},
   "outputs": [
    {
     "name": "stdout",
     "output_type": "stream",
     "text": [
      "Sheet names (tables and other data): ['1 bedroom flat', '2 bedroom flat', '3 bedroom flat', '2 bedroom house', '3 bedroom house', '4 bedroom house', 'All properties']\n",
      "All sheets saved successfully into ../data/landing/aggregated_rent.xlsx\n"
     ]
    }
   ],
   "source": [
    "import os\n",
    "import requests\n",
    "import pandas as pd\n",
    "\n",
    "# Directory to save the Excel file\n",
    "output_relative_dir = '../data/landing'\n",
    "\n",
    "# File URL for downloading the Excel file\n",
    "url = 'https://www.dffh.vic.gov.au/moving-annual-rents-suburb-march-quarter-2023-excel'\n",
    "\n",
    "# Download the Excel file content directly into memory\n",
    "response = requests.get(url)\n",
    "\n",
    "if response.status_code == 200:\n",
    "    # Load the Excel content into a pandas ExcelFile object directly from memory\n",
    "    # Since the response is in a byte format, we need to use BytesIO\n",
    "    from io import BytesIO\n",
    "    xls = pd.ExcelFile(BytesIO(response.content))\n",
    "\n",
    "    # Get all sheet names (table names)\n",
    "    table_names = xls.sheet_names\n",
    "    print(\"Sheet names (tables and other data):\", table_names)\n",
    "\n",
    "    # Define the output Excel file path\n",
    "    excel_output_path = os.path.join(output_relative_dir, 'aggregated_rent.xlsx')\n",
    "\n",
    "    # Use ExcelWriter to save all sheets into a single Excel file (default engine: openpyxl)\n",
    "    with pd.ExcelWriter(excel_output_path, engine='openpyxl') as writer:\n",
    "        # Iterate over each sheet and write it to the same Excel file\n",
    "        for sheet in table_names:\n",
    "            # Read the sheet into a DataFrame\n",
    "            df = pd.read_excel(xls, sheet_name=sheet)\n",
    "            \n",
    "            # Write the DataFrame to the Excel file with its sheet name\n",
    "            df.to_excel(writer, sheet_name=sheet, index=False)\n",
    "\n",
    "    print(f\"All sheets saved successfully into {excel_output_path}\")\n",
    "\n",
    "else:\n",
    "    print(f\"Failed to download the file. Status code: {response.status_code}\")\n"
   ]
  },
  {
   "cell_type": "code",
   "execution_count": 33,
   "metadata": {},
   "outputs": [
    {
     "name": "stdout",
     "output_type": "stream",
     "text": [
      "CSV file saved successfully as ../data/landing/australian_postcodes.csv\n"
     ]
    }
   ],
   "source": [
    "# Google Drive file ID and direct download URL\n",
    "url = f'https://www.matthewproctor.com/Content/postcodes/australian_postcodes.csv'\n",
    "\n",
    "# Download the CSV file content directly into memory\n",
    "response = requests.get(url)\n",
    "if response.status_code == 200:\n",
    "    # Convert the downloaded content to a DataFrame\n",
    "    csv_data = response.content.decode('utf-8')\n",
    "    df = pd.read_csv(io.StringIO(csv_data))\n",
    "    \n",
    "    # Define output path for saving the CSV file\n",
    "    csv_output_path = os.path.join(output_relative_dir, 'australian_postcodes.csv')\n",
    "    \n",
    "    # Save the DataFrame as a CSV file\n",
    "    df.to_csv(csv_output_path, index=False)\n",
    "    print(f\"CSV file saved successfully as {csv_output_path}\")\n",
    "\n",
    "else:\n",
    "    print(f\"Failed to download the file. Status code: {response.status_code}\")\n"
   ]
  },
  {
   "cell_type": "code",
   "execution_count": 34,
   "metadata": {},
   "outputs": [
    {
     "name": "stdout",
     "output_type": "stream",
     "text": [
      "Sheet names (tables and other data): ['wholeIFMD', 'Alphabetised by facilityname', 'count if 6', 'Sheet1']\n",
      "All sheets saved successfully into ../data/landing/srv_ifmd_all-facilities.xlsx\n"
     ]
    }
   ],
   "source": [
    "import os\n",
    "import requests\n",
    "import pandas as pd\n",
    "from io import BytesIO\n",
    "\n",
    "# Directory to save the Excel file\n",
    "output_relative_dir = '../data/landing'\n",
    "\n",
    "# File URL for downloading the Excel file\n",
    "url = 'https://discover.data.vic.gov.au/dataset/e6db797e-3801-4cfa-bf02-82350d0f722d/resource/bfff5fff-9c74-4671-8396-43f793613b70/download/srv_ifmd_all-facilities.xlsx'\n",
    "\n",
    "# Download the Excel file content directly into memory\n",
    "response = requests.get(url)\n",
    "\n",
    "if response.status_code == 200:\n",
    "    # Load the Excel content into a pandas ExcelFile object directly from memory\n",
    "    xls = pd.ExcelFile(BytesIO(response.content))\n",
    "\n",
    "    # Get all sheet names (table names)\n",
    "    table_names = xls.sheet_names\n",
    "    print(\"Sheet names (tables and other data):\", table_names)\n",
    "\n",
    "    # Define the output Excel file path\n",
    "    excel_output_path = os.path.join(output_relative_dir, 'srv_ifmd_all-facilities.xlsx')\n",
    "\n",
    "    # Use ExcelWriter to save all sheets into a single Excel file (default engine: openpyxl)\n",
    "    with pd.ExcelWriter(excel_output_path, engine='openpyxl') as writer:\n",
    "        # Iterate over each sheet and write it to the same Excel file\n",
    "        for sheet in table_names:\n",
    "            # Read the sheet into a DataFrame\n",
    "            df = pd.read_excel(xls, sheet_name=sheet)\n",
    "            \n",
    "            # Write the DataFrame to the Excel file with its sheet name\n",
    "            df.to_excel(writer, sheet_name=sheet, index=False)\n",
    "\n",
    "    print(f\"All sheets saved successfully into {excel_output_path}\")\n",
    "\n",
    "else:\n",
    "    print(f\"Failed to download the file. Status code: {response.status_code}\")"
   ]
  }
 ],
 "metadata": {
  "kernelspec": {
   "display_name": "base",
   "language": "python",
   "name": "python3"
  },
  "language_info": {
   "codemirror_mode": {
    "name": "ipython",
    "version": 3
   },
   "file_extension": ".py",
   "mimetype": "text/x-python",
   "name": "python",
   "nbconvert_exporter": "python",
   "pygments_lexer": "ipython3",
   "version": "3.11.7"
  }
 },
 "nbformat": 4,
 "nbformat_minor": 2
}
