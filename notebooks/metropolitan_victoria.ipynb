{
 "cells": [
  {
   "cell_type": "markdown",
   "metadata": {},
   "source": [
    "#### Import Libraries"
   ]
  },
  {
   "cell_type": "code",
   "execution_count": 97,
   "metadata": {},
   "outputs": [],
   "source": [
    "from pyspark.sql import SparkSession\n",
    "from pyspark.sql import functions as func\n",
    "import matplotlib.pyplot as plt\n",
    "import seaborn as sns\n",
    "import os\n",
    "import sys\n",
    "from pyspark.sql import functions as F  #filtering\n",
    "import pandas as pd\n",
    "import geopandas as gpd\n",
    "import folium"
   ]
  },
  {
   "cell_type": "markdown",
   "metadata": {},
   "source": [
    "### Inspect data"
   ]
  },
  {
   "cell_type": "code",
   "execution_count": 98,
   "metadata": {},
   "outputs": [],
   "source": [
    "# Starting a Spark session\n",
    "spark = (\n",
    "    SparkSession.builder.appName('Metropolitan Victoria Findings')\n",
    "    .config(\"spark.sql.repl.eagerEval.enabled\", True)\n",
    "    .config(\"spark.sql.session.timeZone\", \"Etc/UTC\")\n",
    "    .config(\"spark.driver.memory\", \"2g\")\n",
    "    .config(\"spark.executor.memory\", \"4g\")\n",
    "    .getOrCreate()\n",
    ")"
   ]
  },
  {
   "cell_type": "code",
   "execution_count": 99,
   "metadata": {},
   "outputs": [
    {
     "data": {
      "text/html": [
       "<div>\n",
       "<style scoped>\n",
       "    .dataframe tbody tr th:only-of-type {\n",
       "        vertical-align: middle;\n",
       "    }\n",
       "\n",
       "    .dataframe tbody tr th {\n",
       "        vertical-align: top;\n",
       "    }\n",
       "\n",
       "    .dataframe thead th {\n",
       "        text-align: right;\n",
       "    }\n",
       "</style>\n",
       "<table border=\"1\" class=\"dataframe\">\n",
       "  <thead>\n",
       "    <tr style=\"text-align: right;\">\n",
       "      <th></th>\n",
       "      <th>sa2_code</th>\n",
       "      <th>sa2_name</th>\n",
       "      <th>chg_flag</th>\n",
       "      <th>chg_lbl</th>\n",
       "      <th>sa3_code</th>\n",
       "      <th>sa3_name</th>\n",
       "      <th>sa4_code</th>\n",
       "      <th>sa4_name</th>\n",
       "      <th>gcc_code</th>\n",
       "      <th>gcc_name</th>\n",
       "      <th>ste_code</th>\n",
       "      <th>ste_name</th>\n",
       "      <th>aus_code</th>\n",
       "      <th>aus_name</th>\n",
       "      <th>areasqkm</th>\n",
       "      <th>loci_uri</th>\n",
       "      <th>geometry</th>\n",
       "    </tr>\n",
       "  </thead>\n",
       "  <tbody>\n",
       "    <tr>\n",
       "      <th>0</th>\n",
       "      <td>201011001</td>\n",
       "      <td>Alfredton</td>\n",
       "      <td>0</td>\n",
       "      <td>No change</td>\n",
       "      <td>20101</td>\n",
       "      <td>Ballarat</td>\n",
       "      <td>201</td>\n",
       "      <td>Ballarat</td>\n",
       "      <td>2RVIC</td>\n",
       "      <td>Rest of Vic.</td>\n",
       "      <td>2</td>\n",
       "      <td>Victoria</td>\n",
       "      <td>AUS</td>\n",
       "      <td>Australia</td>\n",
       "      <td>52.7109</td>\n",
       "      <td>http://linked.data.gov.au/dataset/asgsed3/SA2/...</td>\n",
       "      <td>POLYGON ((143.78281 -37.56667, 143.75557 -37.5...</td>\n",
       "    </tr>\n",
       "  </tbody>\n",
       "</table>\n",
       "</div>"
      ],
      "text/plain": [
       "    sa2_code   sa2_name chg_flag    chg_lbl sa3_code  sa3_name sa4_code  \\\n",
       "0  201011001  Alfredton        0  No change    20101  Ballarat      201   \n",
       "\n",
       "   sa4_name gcc_code      gcc_name ste_code  ste_name aus_code   aus_name  \\\n",
       "0  Ballarat    2RVIC  Rest of Vic.        2  Victoria      AUS  Australia   \n",
       "\n",
       "   areasqkm                                           loci_uri  \\\n",
       "0   52.7109  http://linked.data.gov.au/dataset/asgsed3/SA2/...   \n",
       "\n",
       "                                            geometry  \n",
       "0  POLYGON ((143.78281 -37.56667, 143.75557 -37.5...  "
      ]
     },
     "execution_count": 99,
     "metadata": {},
     "output_type": "execute_result"
    }
   ],
   "source": [
    "# Read the shapefile using GeoPandas\n",
    "vic_boundaries = gpd.read_file('../data/landing/boundaries/Victoria/vic_dist_boundaries.shp')\n",
    "\n",
    "vic_boundaries.head(1)"
   ]
  },
  {
   "cell_type": "code",
   "execution_count": 100,
   "metadata": {},
   "outputs": [
    {
     "name": "stdout",
     "output_type": "stream",
     "text": [
      "522\n"
     ]
    }
   ],
   "source": [
    "print(len(vic_boundaries))"
   ]
  },
  {
   "cell_type": "code",
   "execution_count": 101,
   "metadata": {},
   "outputs": [
    {
     "name": "stdout",
     "output_type": "stream",
     "text": [
      "+----+--------+---------+-----+-----------+------------+--------------------+-------------+--------------------+-------+--------------+-----+-----------------+------+-----------+------------+---------------+---------------+-------------+---------------+-------------+--------------------+-------------+--------------------+-------+-------+-------+--------------------+--------+--------+---------+----------------+----------+--------+--------------------+---------+-------+----------+------------------+--------+--------------------+\n",
      "|  id|postcode| locality|state|       long|         lat|                  dc|         type|              status|    sa3|       sa3name|  sa4|          sa4name|region|Lat_precise|Long_precise|  SA1_CODE_2021|  SA1_NAME_2021|SA2_CODE_2021|       sa2_name|SA3_CODE_2021|       SA3_NAME_2021|SA4_CODE_2021|       SA4_NAME_2021|RA_2011|RA_2016|RA_2021|        RA_2021_NAME|MMM_2015|MMM_2019|      ced|        altitude|chargezone|phn_code|            phn_name|lgaregion|lgacode|electorate|  electoraterating|sed_code|            sed_name|\n",
      "+----+--------+---------+-----+-----------+------------+--------------------+-------------+--------------------+-------+--------------+-----+-----------------+------+-----------+------------+---------------+---------------+-------------+---------------+-------------+--------------------+-------------+--------------------+-------+-------+-------+--------------------+--------+--------+---------+----------------+----------+--------+--------------------+---------+-------+----------+------------------+--------+--------------------+\n",
      "|4746|    3000|MELBOURNE|  VIC|144.9825846|-37.81443733|CITY DELIVERY CENTRE|Delivery Area|Updated 17-Mar-20...|20604.0|Melbourne City|206.0|Melbourne - Inner|    R1|-37.8152065|  144.963937|2.0604150622E10|North Melbourne| 2.06041506E8|North Melbourne|      21402.0|Mornington Peninsula|        214.0|Mornington Peninsula|    1.0|    1.0|   20.0|Major Cities of A...|     1.0|     1.0|Melbourne|27.3321876525879|        V1|  PHN201|North Western Mel...|Melbourne|24600.0| Melbourne|Inner Metropolitan| 24703.0|Melbourne (Northe...|\n",
      "+----+--------+---------+-----+-----------+------------+--------------------+-------------+--------------------+-------+--------------+-----+-----------------+------+-----------+------------+---------------+---------------+-------------+---------------+-------------+--------------------+-------------+--------------------+-------+-------+-------+--------------------+--------+--------+---------+----------------+----------+--------+--------------------+---------+-------+----------+------------------+--------+--------------------+\n",
      "\n"
     ]
    }
   ],
   "source": [
    "# Read suburb parquet data into a Spark DataFrame\n",
    "suburb_spark_df = spark.read.parquet('../data/landing/suburb_match/suburb_match.parquet')\n",
    "\n",
    "# Filter the Spark DataFrame to only include rows where the state is 'VIC'\n",
    "suburb_spark_df = suburb_spark_df.filter(suburb_spark_df['state'] == 'VIC')\n",
    "\n",
    "# Rename the 'SA2_NAME_2021' column to 'sa2_name'\n",
    "suburb_spark_df = suburb_spark_df.withColumnRenamed('SA2_NAME_2021', 'sa2_name')\n",
    "\n",
    "# Display the first row\n",
    "suburb_spark_df.limit(1).show()"
   ]
  },
  {
   "cell_type": "code",
   "execution_count": 102,
   "metadata": {},
   "outputs": [
    {
     "name": "stdout",
     "output_type": "stream",
     "text": [
      "3541\n"
     ]
    }
   ],
   "source": [
    "# Convert suburb_spark_df to Pandas DataFrame (if needed)\n",
    "suburb_df = suburb_spark_df.toPandas()\n",
    "\n",
    "print(len(suburb_df))"
   ]
  },
  {
   "cell_type": "markdown",
   "metadata": {},
   "source": [
    "### Find the corresponding postcode for each SA2 district"
   ]
  },
  {
   "cell_type": "code",
   "execution_count": 103,
   "metadata": {},
   "outputs": [
    {
     "data": {
      "text/html": [
       "<div>\n",
       "<style scoped>\n",
       "    .dataframe tbody tr th:only-of-type {\n",
       "        vertical-align: middle;\n",
       "    }\n",
       "\n",
       "    .dataframe tbody tr th {\n",
       "        vertical-align: top;\n",
       "    }\n",
       "\n",
       "    .dataframe thead th {\n",
       "        text-align: right;\n",
       "    }\n",
       "</style>\n",
       "<table border=\"1\" class=\"dataframe\">\n",
       "  <thead>\n",
       "    <tr style=\"text-align: right;\">\n",
       "      <th></th>\n",
       "      <th>sa2_name</th>\n",
       "      <th>postcode</th>\n",
       "    </tr>\n",
       "  </thead>\n",
       "  <tbody>\n",
       "    <tr>\n",
       "      <th>0</th>\n",
       "      <td>Alfredton</td>\n",
       "      <td>NaN</td>\n",
       "    </tr>\n",
       "    <tr>\n",
       "      <th>1</th>\n",
       "      <td>Ballarat</td>\n",
       "      <td>NaN</td>\n",
       "    </tr>\n",
       "    <tr>\n",
       "      <th>2</th>\n",
       "      <td>Buninyong</td>\n",
       "      <td>3357.0</td>\n",
       "    </tr>\n",
       "    <tr>\n",
       "      <th>3</th>\n",
       "      <td>Delacombe</td>\n",
       "      <td>3358.0</td>\n",
       "    </tr>\n",
       "    <tr>\n",
       "      <th>4</th>\n",
       "      <td>Smythes Creek</td>\n",
       "      <td>NaN</td>\n",
       "    </tr>\n",
       "  </tbody>\n",
       "</table>\n",
       "</div>"
      ],
      "text/plain": [
       "        sa2_name  postcode\n",
       "0      Alfredton       NaN\n",
       "1       Ballarat       NaN\n",
       "2      Buninyong    3357.0\n",
       "3      Delacombe    3358.0\n",
       "4  Smythes Creek       NaN"
      ]
     },
     "execution_count": 103,
     "metadata": {},
     "output_type": "execute_result"
    }
   ],
   "source": [
    "# Create a DataFrame with unique sa2_name and their corresponding first postcode\n",
    "unique_postcodes = suburb_df[['sa2_name', 'postcode']].drop_duplicates().groupby('sa2_name', as_index=False).first()\n",
    "\n",
    "# Merge again with unique postcodes\n",
    "merged_data = vic_boundaries.merge(unique_postcodes, on='sa2_name', how='left')\n",
    "\n",
    "merged_data[['sa2_name', 'postcode']].head()"
   ]
  },
  {
   "cell_type": "code",
   "execution_count": 104,
   "metadata": {},
   "outputs": [
    {
     "name": "stdout",
     "output_type": "stream",
     "text": [
      "234\n"
     ]
    }
   ],
   "source": [
    "# Identify rows with NaN postcodes\n",
    "nan_postcodes = merged_data[merged_data['postcode'].isna()]\n",
    "print(len(nan_postcodes))"
   ]
  },
  {
   "cell_type": "code",
   "execution_count": 105,
   "metadata": {},
   "outputs": [
    {
     "name": "stdout",
     "output_type": "stream",
     "text": [
      "                         sa2_name  postcode\n",
      "0                       Alfredton    3350.0\n",
      "1                        Ballarat    3350.0\n",
      "2                       Buninyong    3357.0\n",
      "3                       Delacombe    3358.0\n",
      "4                   Smythes Creek    3351.0\n",
      "5         Wendouree - Miners Rest    3355.0\n",
      "6      Ballarat East - Warrenheip    3350.0\n",
      "7       Ballarat North - Invermay    3350.0\n",
      "8          Canadian - Mount Clear    3350.0\n",
      "9              Sebastopol - Redan    3350.0\n",
      "10        Bacchus Marsh Surrounds       NaN\n",
      "11              Creswick - Clunes    3363.0\n",
      "12                     Daylesford    3363.0\n",
      "13                  Gordon (Vic.)    3334.0\n",
      "14                          Avoca    3467.0\n",
      "15                       Beaufort    3468.0\n",
      "16          Golden Plains - North    3360.0\n",
      "17             Maryborough (Vic.)    3465.0\n",
      "18          Maryborough Surrounds    3370.0\n",
      "19                        Bendigo    3550.0\n",
      "20   California Gully - Eaglehawk    3556.0\n",
      "21      East Bendigo - Kennington    3550.0\n",
      "22      Flora Hill - Spring Gully    3550.0\n",
      "23  Kangaroo Flat - Golden Square    3555.0\n",
      "24                   Maiden Gully    3551.0\n",
      "25                Strathfieldsaye    3551.0\n",
      "26            White Hills - Ascot    3550.0\n",
      "27      Bendigo Surrounds - South       NaN\n",
      "28                    Castlemaine    3450.0\n",
      "29          Castlemaine Surrounds    3364.0\n",
      "30                      Heathcote    3523.0\n",
      "31                        Kyneton    3446.0\n",
      "32                        Woodend    3458.0\n",
      "33      Bendigo Surrounds - North    3556.0\n",
      "34                         Loddon    3463.0\n",
      "35                    Bannockburn    3331.0\n",
      "36          Golden Plains - South    3328.0\n",
      "37                     Winchelsea    3240.0\n",
      "38                        Belmont    3216.0\n",
      "39                        Geelong    3220.0\n",
      "40  Geelong West - Hamlyn Heights    3218.0\n",
      "41                        Highton    3221.0\n",
      "42                           Lara    3212.0\n",
      "43                        Leopold    3224.0\n",
      "44               Newcomb - Moolap    3219.0\n",
      "45                 Newtown (Vic.)    3220.0\n",
      "46      North Geelong - Bell Park    3218.0\n",
      "47                     Charlemont    3217.0\n",
      "48           Corio - Lovely Banks    3213.0\n",
      "49       Grovedale - Mount Duneed    3216.0\n"
     ]
    }
   ],
   "source": [
    "# Iterate through NaN entries and attempt to find postcode based on locality\n",
    "for index, row in nan_postcodes.iterrows():\n",
    "    locality_name = \"\"\n",
    "\n",
    "    # Check if the sa2_name contains a hyphen\n",
    "    if '-' in row['sa2_name']:\n",
    "        # Extract the part after the hyphen\n",
    "        locality_name = row['sa2_name'].split('-')[0].strip()  # Get the part before hyphen\n",
    "    else:\n",
    "        # Handle cases with parentheses\n",
    "        locality_name = row['sa2_name'].split('(')[0].strip()  # Get the part before any parentheses\n",
    "\n",
    "    # Check if the locality in suburb_df matches the locality name\n",
    "    matching_rows = suburb_df[suburb_df['locality'].str.lower() == locality_name.lower()]\n",
    "\n",
    "    if not matching_rows.empty:\n",
    "        # Fill postcode from the first matching row\n",
    "        merged_data.at[index, 'postcode'] = matching_rows.iloc[0]['postcode']\n",
    "    else:\n",
    "        # If no match found, try using the full sa2_name as a fallback\n",
    "        fallback_matching_rows = suburb_df[suburb_df['locality'].str.lower() == row['sa2_name'].lower()]\n",
    "        if not fallback_matching_rows.empty:\n",
    "            merged_data.at[index, 'postcode'] = fallback_matching_rows.iloc[0]['postcode']\n",
    "\n",
    "# Display the updated merged DataFrame to check results\n",
    "print(merged_data[['sa2_name', 'postcode']].head(50))"
   ]
  },
  {
   "cell_type": "code",
   "execution_count": 106,
   "metadata": {},
   "outputs": [
    {
     "name": "stdout",
     "output_type": "stream",
     "text": [
      "17\n"
     ]
    }
   ],
   "source": [
    "# Identify rows with NaN postcodes\n",
    "nan_postcodes = merged_data[merged_data['postcode'].isna()]\n",
    "print(len(nan_postcodes))"
   ]
  },
  {
   "cell_type": "code",
   "execution_count": 107,
   "metadata": {},
   "outputs": [
    {
     "data": {
      "text/plain": [
       "10                           Bacchus Marsh Surrounds\n",
       "27                         Bendigo Surrounds - South\n",
       "125                     Essendon (West) - Aberfeldie\n",
       "130                            Flemington Racecourse\n",
       "135                             Melbourne CBD - East\n",
       "136                            Melbourne CBD - North\n",
       "137                             Melbourne CBD - West\n",
       "139                   Royal Botanic Gardens Victoria\n",
       "140                   Southbank (West) - South Wharf\n",
       "162                      Richmond (South) - Cremorne\n",
       "192                      Highett (West) - Cheltenham\n",
       "250                             Epping (Vic.) - West\n",
       "261                                 Essendon Airport\n",
       "308    Ferntree Gully (South) - Upper Ferntree Gully\n",
       "392                   Clayton (North) - Notting Hill\n",
       "446                  Tarneit (West) - Mount Cottrell\n",
       "475                                Horsham Surrounds\n",
       "Name: sa2_name, dtype: object"
      ]
     },
     "execution_count": 107,
     "metadata": {},
     "output_type": "execute_result"
    }
   ],
   "source": [
    "nan_postcodes['sa2_name']"
   ]
  },
  {
   "cell_type": "code",
   "execution_count": 108,
   "metadata": {},
   "outputs": [
    {
     "name": "stdout",
     "output_type": "stream",
     "text": [
      "                      sa2_name postcode\n",
      "0                    Alfredton     3350\n",
      "1                     Ballarat     3350\n",
      "2                    Buninyong     3357\n",
      "3                    Delacombe     3358\n",
      "4                Smythes Creek     3351\n",
      "5      Wendouree - Miners Rest     3355\n",
      "6   Ballarat East - Warrenheip     3350\n",
      "7    Ballarat North - Invermay     3350\n",
      "8       Canadian - Mount Clear     3350\n",
      "9           Sebastopol - Redan     3350\n",
      "10     Bacchus Marsh Surrounds     3340\n",
      "11           Creswick - Clunes     3363\n",
      "12                  Daylesford     3363\n",
      "13               Gordon (Vic.)     3334\n",
      "14                       Avoca     3467\n",
      "15                    Beaufort     3468\n",
      "16       Golden Plains - North     3360\n",
      "17          Maryborough (Vic.)     3465\n",
      "18       Maryborough Surrounds     3370\n",
      "19                     Bendigo     3550\n"
     ]
    },
    {
     "name": "stderr",
     "output_type": "stream",
     "text": [
      "/tmp/ipykernel_1715/2832867521.py:24: FutureWarning: Setting an item of incompatible dtype is deprecated and will raise an error in a future version of pandas. Value '3340' has dtype incompatible with float64, please explicitly cast to a compatible dtype first.\n",
      "  merged_data.loc[merged_data['sa2_name'].str.lower() == sa2_name.lower(), 'postcode'] = postcode\n"
     ]
    }
   ],
   "source": [
    "# Define a dictionary for manual postcode updates\n",
    "manual_postcode_updates = {\n",
    "    'Bacchus Marsh Surrounds': '3340',  \n",
    "    'Bendigo Surrounds - South': '3550',\n",
    "    'Essendon (West) - Aberfeldie': '3042',\n",
    "    'Flemington Racecourse': '3031',\n",
    "    'Melbourne CBD - East': '3000',\n",
    "    'Melbourne CBD - North': '3000',\n",
    "    'Melbourne CBD - West': '3000',\n",
    "    'Royal Botanic Gardens Victoria': '3004',\n",
    "    'Southbank (West) - South Wharf': '3006',\n",
    "    'Richmond (South) - Cremorne': '3121',\n",
    "    'Highett (West) - Cheltenham': '3190',\n",
    "    'Epping (Vic.) - West': '3076',\n",
    "    'Essendon Airport': '3041',\n",
    "    'Ferntree Gully (South) - Upper Ferntree Gully': '3156',\n",
    "    'Clayton (North) - Notting Hill': '3168',\n",
    "    'Tarneit (West) - Mount Cottrell': '3029',\n",
    "    'Horsham Surrounds': '3400'\n",
    "}\n",
    "\n",
    "# Update the postcode for rows with NaN values using the manual updates\n",
    "for sa2_name, postcode in manual_postcode_updates.items():\n",
    "    merged_data.loc[merged_data['sa2_name'].str.lower() == sa2_name.lower(), 'postcode'] = postcode\n",
    "\n",
    "# Convert postcode column to string and remove decimal points (if any)\n",
    "merged_data['postcode'] = merged_data['postcode'].astype(str).str.replace('.0', '', regex=False)\n",
    "\n",
    "# Display the updated merged DataFrame to check results\n",
    "print(merged_data[['sa2_name', 'postcode']].head(20))"
   ]
  },
  {
   "cell_type": "code",
   "execution_count": 109,
   "metadata": {},
   "outputs": [
    {
     "name": "stdout",
     "output_type": "stream",
     "text": [
      "0\n"
     ]
    }
   ],
   "source": [
    "# Identify rows with NaN postcodes\n",
    "nan_postcodes = merged_data[merged_data['postcode'].isna()]\n",
    "print(len(nan_postcodes))"
   ]
  },
  {
   "cell_type": "code",
   "execution_count": 110,
   "metadata": {},
   "outputs": [
    {
     "data": {
      "text/html": [
       "<div>\n",
       "<style scoped>\n",
       "    .dataframe tbody tr th:only-of-type {\n",
       "        vertical-align: middle;\n",
       "    }\n",
       "\n",
       "    .dataframe tbody tr th {\n",
       "        vertical-align: top;\n",
       "    }\n",
       "\n",
       "    .dataframe thead th {\n",
       "        text-align: right;\n",
       "    }\n",
       "</style>\n",
       "<table border=\"1\" class=\"dataframe\">\n",
       "  <thead>\n",
       "    <tr style=\"text-align: right;\">\n",
       "      <th></th>\n",
       "      <th>sa2_name</th>\n",
       "    </tr>\n",
       "  </thead>\n",
       "  <tbody>\n",
       "    <tr>\n",
       "      <th>0</th>\n",
       "      <td>Brunswick East</td>\n",
       "    </tr>\n",
       "    <tr>\n",
       "      <th>1</th>\n",
       "      <td>Brunswick West</td>\n",
       "    </tr>\n",
       "    <tr>\n",
       "      <th>2</th>\n",
       "      <td>Pascoe Vale South</td>\n",
       "    </tr>\n",
       "    <tr>\n",
       "      <th>3</th>\n",
       "      <td>Brunswick - North</td>\n",
       "    </tr>\n",
       "    <tr>\n",
       "      <th>4</th>\n",
       "      <td>Brunswick - South</td>\n",
       "    </tr>\n",
       "  </tbody>\n",
       "</table>\n",
       "</div>"
      ],
      "text/plain": [
       "            sa2_name\n",
       "0     Brunswick East\n",
       "1     Brunswick West\n",
       "2  Pascoe Vale South\n",
       "3  Brunswick - North\n",
       "4  Brunswick - South"
      ]
     },
     "execution_count": 110,
     "metadata": {},
     "output_type": "execute_result"
    }
   ],
   "source": [
    "# Filter the merged_data for postcodes between 3000 and 3200\n",
    "filtered_data = merged_data[(merged_data['postcode'].astype(int) >= 3000) & (merged_data['postcode'].astype(int) <= 3200)]\n",
    "\n",
    "# Select only the sa2_name column\n",
    "filtered_data = filtered_data[['sa2_name']]\n",
    "\n",
    "# Manually add new sa2_name values since they are metropolitan but have a postcode out of the range\n",
    "new_sa2_names = pd.DataFrame({'sa2_name': ['Whittlesea', 'Werribee - West', 'Wandin - Seville', 'Mernda - North', 'Doreen - North',\n",
    "                                           'Doreen - South', 'Mernda - South', 'South Morang - North', 'South Morang - South', 'Wollert',\n",
    "                                           'Wyndham Vale - North', 'Mount Evelyn', 'Montrose']})\n",
    "\n",
    "# Append the new sa2_name entries to the filtered data\n",
    "filtered_data = pd.concat([filtered_data, new_sa2_names], ignore_index=True)\n",
    "\n",
    "# Display the result\n",
    "filtered_data.head()"
   ]
  },
  {
   "cell_type": "code",
   "execution_count": 111,
   "metadata": {},
   "outputs": [
    {
     "data": {
      "text/plain": [
       "292"
      ]
     },
     "execution_count": 111,
     "metadata": {},
     "output_type": "execute_result"
    }
   ],
   "source": [
    "len(filtered_data)"
   ]
  },
  {
   "cell_type": "markdown",
   "metadata": {},
   "source": [
    "### Save"
   ]
  },
  {
   "cell_type": "code",
   "execution_count": 112,
   "metadata": {},
   "outputs": [],
   "source": [
    "# Save the filtered DataFrame to a CSV file\n",
    "output_file_path = '../data/curated/metropolitan_victoria.csv'\n",
    "filtered_data.to_csv(output_file_path, index=False)"
   ]
  }
 ],
 "metadata": {
  "kernelspec": {
   "display_name": "Python 3",
   "language": "python",
   "name": "python3"
  },
  "language_info": {
   "codemirror_mode": {
    "name": "ipython",
    "version": 3
   },
   "file_extension": ".py",
   "mimetype": "text/x-python",
   "name": "python",
   "nbconvert_exporter": "python",
   "pygments_lexer": "ipython3",
   "version": "3.10.12"
  }
 },
 "nbformat": 4,
 "nbformat_minor": 2
}
