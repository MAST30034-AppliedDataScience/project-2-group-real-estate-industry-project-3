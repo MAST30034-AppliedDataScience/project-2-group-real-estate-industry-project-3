{
 "cells": [
  {
   "cell_type": "code",
   "outputs": [],
   "source": [
    "import json\n",
    "import os\n",
    "import re\n",
    "import pandas as pd\n",
    "import geopandas as gpd"
   ],
   "metadata": {
    "collapsed": false,
    "ExecuteTime": {
     "end_time": "2024-09-26T12:10:43.907929Z",
     "start_time": "2024-09-26T12:10:43.898659Z"
    }
   },
   "id": "c60044210cd0302b",
   "execution_count": 104
  },
  {
   "cell_type": "code",
   "outputs": [],
   "source": [
    "DATA_DIRECTORY = \"../scrape_data/\""
   ],
   "metadata": {
    "collapsed": false,
    "ExecuteTime": {
     "end_time": "2024-09-26T12:10:43.937447Z",
     "start_time": "2024-09-26T12:10:43.935361Z"
    }
   },
   "id": "ef3fc6794a3c27db",
   "execution_count": 105
  },
  {
   "cell_type": "code",
   "outputs": [],
   "source": [
    "data_files = [file for file in os.listdir(DATA_DIRECTORY) if file.endswith(\".json\")]"
   ],
   "metadata": {
    "collapsed": false,
    "ExecuteTime": {
     "end_time": "2024-09-26T12:10:43.963352Z",
     "start_time": "2024-09-26T12:10:43.959781Z"
    }
   },
   "id": "cbb68dd131857482",
   "execution_count": 106
  },
  {
   "cell_type": "code",
   "outputs": [],
   "source": [
    "data_flat = []"
   ],
   "metadata": {
    "collapsed": false,
    "ExecuteTime": {
     "end_time": "2024-09-26T12:10:43.989750Z",
     "start_time": "2024-09-26T12:10:43.971784Z"
    }
   },
   "id": "5772383346ed6274",
   "execution_count": 107
  },
  {
   "cell_type": "code",
   "outputs": [],
   "source": [
    "def extract_number(text):\n",
    "    match = re.search(r'Bond\\s\\$(\\d+)', text)\n",
    "    if match:\n",
    "        return int(match.group(1))\n",
    "    return None"
   ],
   "metadata": {
    "collapsed": false,
    "ExecuteTime": {
     "end_time": "2024-09-26T12:10:43.993841Z",
     "start_time": "2024-09-26T12:10:43.991586Z"
    }
   },
   "id": "260d650c9402bb88",
   "execution_count": 108
  },
  {
   "cell_type": "code",
   "outputs": [],
   "source": [
    "def flatten_row(row):\n",
    "    try:\n",
    "        row_flat = {\"url\": row[\"url\"], \"price\": row[\"price\"], \"address\": row[\"address\"],\n",
    "                    \"property_type\": row[\"property_type\"], \"latitude\": row[\"latitude\"], \"longitude\": row[\"longitude\"]}\n",
    "\n",
    "        for feature in row[\"features\"]:\n",
    "            if len(feature.split()) == 2:\n",
    "                feature_value, feature_name, *_ = feature.replace(\"- \", \"\").split()\n",
    "                row_flat[feature_name] = feature_value\n",
    "\n",
    "        for summary_item in row[\"summary\"]:\n",
    "            row_flat[\"bond\"] = extract_number(summary_item)\n",
    "\n",
    "        return row_flat\n",
    "    except Exception as e:\n",
    "        print(e)\n",
    "        return None"
   ],
   "metadata": {
    "collapsed": false,
    "ExecuteTime": {
     "end_time": "2024-09-26T12:10:43.997474Z",
     "start_time": "2024-09-26T12:10:43.994605Z"
    }
   },
   "id": "91d792b6bd8f8566",
   "execution_count": 109
  },
  {
   "cell_type": "code",
   "outputs": [],
   "source": [],
   "metadata": {
    "collapsed": false,
    "ExecuteTime": {
     "end_time": "2024-09-26T12:10:43.999910Z",
     "start_time": "2024-09-26T12:10:43.998698Z"
    }
   },
   "id": "47f4c4623aa21cc5",
   "execution_count": 109
  },
  {
   "cell_type": "code",
   "outputs": [
    {
     "name": "stdout",
     "output_type": "stream",
     "text": [
      "'url'\n",
      "9828\n"
     ]
    }
   ],
   "source": [
    "for file in data_files:\n",
    "    with open(DATA_DIRECTORY + file) as f:\n",
    "        content = json.load(f)\n",
    "        for row in content:\n",
    "            flat_row = flatten_row(row)\n",
    "            if flat_row is not None:\n",
    "                data_flat.append(flat_row)\n",
    "\n",
    "print(len(data_flat))"
   ],
   "metadata": {
    "collapsed": false,
    "ExecuteTime": {
     "end_time": "2024-09-26T12:10:44.096912Z",
     "start_time": "2024-09-26T12:10:44.000412Z"
    }
   },
   "id": "259bbf27a7704789",
   "execution_count": 110
  },
  {
   "cell_type": "code",
   "outputs": [
    {
     "data": {
      "text/plain": "                                                 url              price  \\\n0  https://www.domain.com.au/10-allara-court-donv...          $1,400.00   \n1  https://www.domain.com.au/7-pine-ridge-donvale...      $750 per week   \n2  https://www.domain.com.au/20-mulsanne-way-donv...     $1300 per week   \n3  https://www.domain.com.au/3-monterey-crescent-...  $825pw / $3585pcm   \n4  https://www.domain.com.au/3-49-leslie-street-d...            $680.00   \n\n                                 address property_type   latitude   longitude  \\\n0      10 Allara Court, Donvale VIC 3111     Townhouse -37.774273  145.181126   \n1         7 Pine Ridge, Donvale VIC 3111         House -37.791251  145.175649   \n2      20 Mulsanne Way, Donvale VIC 3111         House -37.797232  145.181264   \n3  3 Monterey Crescent, Donvale VIC 3111         House -37.792402  145.174323   \n4   3/49 Leslie Street, Donvale VIC 3111     Townhouse -37.781012  145.180705   \n\n  Beds Baths Parking    bond Bath  Bed  \n0    4     3       2  9125.0  NaN  NaN  \n1    4     2       −  3259.0  NaN  NaN  \n2    5     2       2  5649.0  NaN  NaN  \n3    3   NaN       5  3585.0    1  NaN  \n4    3     2       2  2955.0  NaN  NaN  ",
      "text/html": "<div>\n<style scoped>\n    .dataframe tbody tr th:only-of-type {\n        vertical-align: middle;\n    }\n\n    .dataframe tbody tr th {\n        vertical-align: top;\n    }\n\n    .dataframe thead th {\n        text-align: right;\n    }\n</style>\n<table border=\"1\" class=\"dataframe\">\n  <thead>\n    <tr style=\"text-align: right;\">\n      <th></th>\n      <th>url</th>\n      <th>price</th>\n      <th>address</th>\n      <th>property_type</th>\n      <th>latitude</th>\n      <th>longitude</th>\n      <th>Beds</th>\n      <th>Baths</th>\n      <th>Parking</th>\n      <th>bond</th>\n      <th>Bath</th>\n      <th>Bed</th>\n    </tr>\n  </thead>\n  <tbody>\n    <tr>\n      <th>0</th>\n      <td>https://www.domain.com.au/10-allara-court-donv...</td>\n      <td>$1,400.00</td>\n      <td>10 Allara Court, Donvale VIC 3111</td>\n      <td>Townhouse</td>\n      <td>-37.774273</td>\n      <td>145.181126</td>\n      <td>4</td>\n      <td>3</td>\n      <td>2</td>\n      <td>9125.0</td>\n      <td>NaN</td>\n      <td>NaN</td>\n    </tr>\n    <tr>\n      <th>1</th>\n      <td>https://www.domain.com.au/7-pine-ridge-donvale...</td>\n      <td>$750 per week</td>\n      <td>7 Pine Ridge, Donvale VIC 3111</td>\n      <td>House</td>\n      <td>-37.791251</td>\n      <td>145.175649</td>\n      <td>4</td>\n      <td>2</td>\n      <td>−</td>\n      <td>3259.0</td>\n      <td>NaN</td>\n      <td>NaN</td>\n    </tr>\n    <tr>\n      <th>2</th>\n      <td>https://www.domain.com.au/20-mulsanne-way-donv...</td>\n      <td>$1300 per week</td>\n      <td>20 Mulsanne Way, Donvale VIC 3111</td>\n      <td>House</td>\n      <td>-37.797232</td>\n      <td>145.181264</td>\n      <td>5</td>\n      <td>2</td>\n      <td>2</td>\n      <td>5649.0</td>\n      <td>NaN</td>\n      <td>NaN</td>\n    </tr>\n    <tr>\n      <th>3</th>\n      <td>https://www.domain.com.au/3-monterey-crescent-...</td>\n      <td>$825pw / $3585pcm</td>\n      <td>3 Monterey Crescent, Donvale VIC 3111</td>\n      <td>House</td>\n      <td>-37.792402</td>\n      <td>145.174323</td>\n      <td>3</td>\n      <td>NaN</td>\n      <td>5</td>\n      <td>3585.0</td>\n      <td>1</td>\n      <td>NaN</td>\n    </tr>\n    <tr>\n      <th>4</th>\n      <td>https://www.domain.com.au/3-49-leslie-street-d...</td>\n      <td>$680.00</td>\n      <td>3/49 Leslie Street, Donvale VIC 3111</td>\n      <td>Townhouse</td>\n      <td>-37.781012</td>\n      <td>145.180705</td>\n      <td>3</td>\n      <td>2</td>\n      <td>2</td>\n      <td>2955.0</td>\n      <td>NaN</td>\n      <td>NaN</td>\n    </tr>\n  </tbody>\n</table>\n</div>"
     },
     "execution_count": 111,
     "metadata": {},
     "output_type": "execute_result"
    }
   ],
   "source": [
    "df = pd.DataFrame(data_flat)\n",
    "df.head()"
   ],
   "metadata": {
    "collapsed": false,
    "ExecuteTime": {
     "end_time": "2024-09-26T12:10:44.121536Z",
     "start_time": "2024-09-26T12:10:44.097581Z"
    }
   },
   "id": "91714b975c7ba3a4",
   "execution_count": 111
  },
  {
   "cell_type": "code",
   "outputs": [],
   "source": [
    "df[\"Beds\"] = df[\"Beds\"].replace([\"−\"], 0)\n",
    "df[\"Baths\"] = df[\"Baths\"].replace([\"−\"], 0)\n",
    "df[\"Parking\"] = df[\"Parking\"].replace([\"−\"], 0)\n",
    "\n",
    "df['Beds'] = df['Beds'].fillna(df['Bed'])\n",
    "df = df.drop(columns=['Bed'])\n",
    "\n",
    "df['Baths'] = df['Baths'].fillna(df['Bath'])\n",
    "df = df.drop(columns=['Bath'])\n",
    "\n",
    "df[\"Beds\"] = pd.to_numeric(df[\"Beds\"], errors='coerce')\n",
    "df[\"Baths\"] = pd.to_numeric(df[\"Baths\"], errors='coerce')\n",
    "df[\"Parking\"] = pd.to_numeric(df[\"Parking\"], errors='coerce')"
   ],
   "metadata": {
    "collapsed": false,
    "ExecuteTime": {
     "end_time": "2024-09-26T12:10:44.143068Z",
     "start_time": "2024-09-26T12:10:44.123253Z"
    }
   },
   "id": "f4061de5734542f1",
   "execution_count": 112
  },
  {
   "cell_type": "code",
   "outputs": [],
   "source": [
    "# Extract first price after $ sign, allowing for optional commas or no commas\n",
    "df['extracted_price'] = df['price'].str.extract(r'\\$(\\d+(?:,\\d+)*(?:\\.\\d{2})?)')"
   ],
   "metadata": {
    "collapsed": false,
    "ExecuteTime": {
     "end_time": "2024-09-26T12:10:44.304142Z",
     "start_time": "2024-09-26T12:10:44.144553Z"
    }
   },
   "id": "2dda9b237b1a0652",
   "execution_count": 113
  },
  {
   "cell_type": "code",
   "outputs": [],
   "source": [
    "def extract_all_numbers(text):\n",
    "    # Find all sequences of digits, including decimals\n",
    "    numbers = re.findall(r'\\d+(?:\\.\\d+)?', text)\n",
    "    # Return the first number if found, else None\n",
    "    return numbers[0] if numbers else None\n",
    "\n",
    "df['extracted_price'] = df['extracted_price'].fillna(df['price'].apply(extract_all_numbers))"
   ],
   "metadata": {
    "collapsed": false,
    "ExecuteTime": {
     "end_time": "2024-09-26T12:10:44.314133Z",
     "start_time": "2024-09-26T12:10:44.304825Z"
    }
   },
   "id": "fa140b92ff82c9e",
   "execution_count": 114
  },
  {
   "cell_type": "code",
   "outputs": [],
   "source": [
    "# Remove commas if any, and convert to numeric\n",
    "df['extracted_price'] = df['extracted_price'].str.replace(',', '').astype(float)"
   ],
   "metadata": {
    "collapsed": false,
    "ExecuteTime": {
     "end_time": "2024-09-26T12:10:44.318480Z",
     "start_time": "2024-09-26T12:10:44.314795Z"
    }
   },
   "id": "bd389d7c1a3bd2c",
   "execution_count": 115
  },
  {
   "cell_type": "code",
   "outputs": [
    {
     "data": {
      "text/plain": "                                                    url  \\\n0     https://www.domain.com.au/10-allara-court-donv...   \n1     https://www.domain.com.au/7-pine-ridge-donvale...   \n2     https://www.domain.com.au/20-mulsanne-way-donv...   \n3     https://www.domain.com.au/3-monterey-crescent-...   \n4     https://www.domain.com.au/3-49-leslie-street-d...   \n...                                                 ...   \n9823  https://www.domain.com.au/brighton-vic-3186-96...   \n9824  https://www.domain.com.au/brighton-vic-3186-10...   \n9825  https://www.domain.com.au/brighton-vic-3186-92...   \n9826  https://www.domain.com.au/brighton-vic-3186-91...   \n9827  https://www.domain.com.au/brighton-vic-3186-76...   \n\n                                         price  \\\n0                                    $1,400.00   \n1                                $750 per week   \n2                               $1300 per week   \n3                            $825pw / $3585pcm   \n4                                      $680.00   \n...                                        ...   \n9823  Fine Furnished Residences @ Westprecinct   \n9824  Fine Furnished Residences @ Westprecinct   \n9825  Fine Furnished Residences @ Westprecinct   \n9826  Fine Furnished Residences @ Westprecinct   \n9827  Fine Furnished Residences @ Westprecinct   \n\n                                    address            property_type  \\\n0         10 Allara Court, Donvale VIC 3111                Townhouse   \n1            7 Pine Ridge, Donvale VIC 3111                    House   \n2         20 Mulsanne Way, Donvale VIC 3111                    House   \n3     3 Monterey Crescent, Donvale VIC 3111                    House   \n4      3/49 Leslie Street, Donvale VIC 3111                Townhouse   \n...                                     ...                      ...   \n9823                      Brighton VIC 3186  Apartment / Unit / Flat   \n9824                      Brighton VIC 3186                Townhouse   \n9825                      Brighton VIC 3186  Apartment / Unit / Flat   \n9826                      Brighton VIC 3186  Apartment / Unit / Flat   \n9827                      Brighton VIC 3186  Apartment / Unit / Flat   \n\n       latitude   longitude  Beds  Baths  Parking    bond  extracted_price  \n0    -37.774273  145.181126   4.0    3.0      2.0  9125.0           1400.0  \n1    -37.791251  145.175649   4.0    2.0      0.0  3259.0            750.0  \n2    -37.797232  145.181264   5.0    2.0      2.0  5649.0           1300.0  \n3    -37.792402  145.174323   3.0    1.0      5.0  3585.0            825.0  \n4    -37.781012  145.180705   3.0    2.0      2.0  2955.0            680.0  \n...         ...         ...   ...    ...      ...     ...              ...  \n9823 -37.904400  144.999740   3.0    2.0      2.0     NaN              NaN  \n9824 -37.904400  144.999740   3.0    2.0      2.0     NaN              NaN  \n9825 -37.904400  144.999740   3.0    2.0      2.0     NaN              NaN  \n9826 -37.904400  144.999740   2.0    2.0      1.0     NaN              NaN  \n9827 -37.904400  144.999740   2.0    2.0      1.0     NaN              NaN  \n\n[9828 rows x 11 columns]",
      "text/html": "<div>\n<style scoped>\n    .dataframe tbody tr th:only-of-type {\n        vertical-align: middle;\n    }\n\n    .dataframe tbody tr th {\n        vertical-align: top;\n    }\n\n    .dataframe thead th {\n        text-align: right;\n    }\n</style>\n<table border=\"1\" class=\"dataframe\">\n  <thead>\n    <tr style=\"text-align: right;\">\n      <th></th>\n      <th>url</th>\n      <th>price</th>\n      <th>address</th>\n      <th>property_type</th>\n      <th>latitude</th>\n      <th>longitude</th>\n      <th>Beds</th>\n      <th>Baths</th>\n      <th>Parking</th>\n      <th>bond</th>\n      <th>extracted_price</th>\n    </tr>\n  </thead>\n  <tbody>\n    <tr>\n      <th>0</th>\n      <td>https://www.domain.com.au/10-allara-court-donv...</td>\n      <td>$1,400.00</td>\n      <td>10 Allara Court, Donvale VIC 3111</td>\n      <td>Townhouse</td>\n      <td>-37.774273</td>\n      <td>145.181126</td>\n      <td>4.0</td>\n      <td>3.0</td>\n      <td>2.0</td>\n      <td>9125.0</td>\n      <td>1400.0</td>\n    </tr>\n    <tr>\n      <th>1</th>\n      <td>https://www.domain.com.au/7-pine-ridge-donvale...</td>\n      <td>$750 per week</td>\n      <td>7 Pine Ridge, Donvale VIC 3111</td>\n      <td>House</td>\n      <td>-37.791251</td>\n      <td>145.175649</td>\n      <td>4.0</td>\n      <td>2.0</td>\n      <td>0.0</td>\n      <td>3259.0</td>\n      <td>750.0</td>\n    </tr>\n    <tr>\n      <th>2</th>\n      <td>https://www.domain.com.au/20-mulsanne-way-donv...</td>\n      <td>$1300 per week</td>\n      <td>20 Mulsanne Way, Donvale VIC 3111</td>\n      <td>House</td>\n      <td>-37.797232</td>\n      <td>145.181264</td>\n      <td>5.0</td>\n      <td>2.0</td>\n      <td>2.0</td>\n      <td>5649.0</td>\n      <td>1300.0</td>\n    </tr>\n    <tr>\n      <th>3</th>\n      <td>https://www.domain.com.au/3-monterey-crescent-...</td>\n      <td>$825pw / $3585pcm</td>\n      <td>3 Monterey Crescent, Donvale VIC 3111</td>\n      <td>House</td>\n      <td>-37.792402</td>\n      <td>145.174323</td>\n      <td>3.0</td>\n      <td>1.0</td>\n      <td>5.0</td>\n      <td>3585.0</td>\n      <td>825.0</td>\n    </tr>\n    <tr>\n      <th>4</th>\n      <td>https://www.domain.com.au/3-49-leslie-street-d...</td>\n      <td>$680.00</td>\n      <td>3/49 Leslie Street, Donvale VIC 3111</td>\n      <td>Townhouse</td>\n      <td>-37.781012</td>\n      <td>145.180705</td>\n      <td>3.0</td>\n      <td>2.0</td>\n      <td>2.0</td>\n      <td>2955.0</td>\n      <td>680.0</td>\n    </tr>\n    <tr>\n      <th>...</th>\n      <td>...</td>\n      <td>...</td>\n      <td>...</td>\n      <td>...</td>\n      <td>...</td>\n      <td>...</td>\n      <td>...</td>\n      <td>...</td>\n      <td>...</td>\n      <td>...</td>\n      <td>...</td>\n    </tr>\n    <tr>\n      <th>9823</th>\n      <td>https://www.domain.com.au/brighton-vic-3186-96...</td>\n      <td>Fine Furnished Residences @ Westprecinct</td>\n      <td>Brighton VIC 3186</td>\n      <td>Apartment / Unit / Flat</td>\n      <td>-37.904400</td>\n      <td>144.999740</td>\n      <td>3.0</td>\n      <td>2.0</td>\n      <td>2.0</td>\n      <td>NaN</td>\n      <td>NaN</td>\n    </tr>\n    <tr>\n      <th>9824</th>\n      <td>https://www.domain.com.au/brighton-vic-3186-10...</td>\n      <td>Fine Furnished Residences @ Westprecinct</td>\n      <td>Brighton VIC 3186</td>\n      <td>Townhouse</td>\n      <td>-37.904400</td>\n      <td>144.999740</td>\n      <td>3.0</td>\n      <td>2.0</td>\n      <td>2.0</td>\n      <td>NaN</td>\n      <td>NaN</td>\n    </tr>\n    <tr>\n      <th>9825</th>\n      <td>https://www.domain.com.au/brighton-vic-3186-92...</td>\n      <td>Fine Furnished Residences @ Westprecinct</td>\n      <td>Brighton VIC 3186</td>\n      <td>Apartment / Unit / Flat</td>\n      <td>-37.904400</td>\n      <td>144.999740</td>\n      <td>3.0</td>\n      <td>2.0</td>\n      <td>2.0</td>\n      <td>NaN</td>\n      <td>NaN</td>\n    </tr>\n    <tr>\n      <th>9826</th>\n      <td>https://www.domain.com.au/brighton-vic-3186-91...</td>\n      <td>Fine Furnished Residences @ Westprecinct</td>\n      <td>Brighton VIC 3186</td>\n      <td>Apartment / Unit / Flat</td>\n      <td>-37.904400</td>\n      <td>144.999740</td>\n      <td>2.0</td>\n      <td>2.0</td>\n      <td>1.0</td>\n      <td>NaN</td>\n      <td>NaN</td>\n    </tr>\n    <tr>\n      <th>9827</th>\n      <td>https://www.domain.com.au/brighton-vic-3186-76...</td>\n      <td>Fine Furnished Residences @ Westprecinct</td>\n      <td>Brighton VIC 3186</td>\n      <td>Apartment / Unit / Flat</td>\n      <td>-37.904400</td>\n      <td>144.999740</td>\n      <td>2.0</td>\n      <td>2.0</td>\n      <td>1.0</td>\n      <td>NaN</td>\n      <td>NaN</td>\n    </tr>\n  </tbody>\n</table>\n<p>9828 rows × 11 columns</p>\n</div>"
     },
     "execution_count": 116,
     "metadata": {},
     "output_type": "execute_result"
    }
   ],
   "source": [
    "df"
   ],
   "metadata": {
    "collapsed": false,
    "ExecuteTime": {
     "end_time": "2024-09-26T12:10:44.326350Z",
     "start_time": "2024-09-26T12:10:44.319205Z"
    }
   },
   "id": "efd5512b0ffa16e6",
   "execution_count": 116
  },
  {
   "cell_type": "code",
   "outputs": [
    {
     "data": {
      "text/plain": "    sa2_code       sa2_name chg_flag    chg_lbl sa3_code  sa3_name sa4_code  \\\n0  201011001      Alfredton        0  No change    20101  Ballarat      201   \n1  201011002       Ballarat        0  No change    20101  Ballarat      201   \n2  201011005      Buninyong        0  No change    20101  Ballarat      201   \n3  201011006      Delacombe        0  No change    20101  Ballarat      201   \n4  201011007  Smythes Creek        0  No change    20101  Ballarat      201   \n\n   sa4_name gcc_code      gcc_name ste_code  ste_name aus_code   aus_name  \\\n0  Ballarat    2RVIC  Rest of Vic.        2  Victoria      AUS  Australia   \n1  Ballarat    2RVIC  Rest of Vic.        2  Victoria      AUS  Australia   \n2  Ballarat    2RVIC  Rest of Vic.        2  Victoria      AUS  Australia   \n3  Ballarat    2RVIC  Rest of Vic.        2  Victoria      AUS  Australia   \n4  Ballarat    2RVIC  Rest of Vic.        2  Victoria      AUS  Australia   \n\n   areasqkm                                           loci_uri  \\\n0   52.7109  http://linked.data.gov.au/dataset/asgsed3/SA2/...   \n1   12.3787  http://linked.data.gov.au/dataset/asgsed3/SA2/...   \n2   51.5855  http://linked.data.gov.au/dataset/asgsed3/SA2/...   \n3   34.1607  http://linked.data.gov.au/dataset/asgsed3/SA2/...   \n4  104.7274  http://linked.data.gov.au/dataset/asgsed3/SA2/...   \n\n                                            geometry  \n0  POLYGON ((143.78281 -37.56667, 143.75557 -37.5...  \n1  POLYGON ((143.81896 -37.55583, 143.81644 -37.5...  \n2  POLYGON ((143.8417 -37.61597, 143.84175 -37.61...  \n3  POLYGON ((143.75049 -37.5912, 143.75044 -37.59...  \n4  POLYGON ((143.73295 -37.62334, 143.73262 -37.6...  ",
      "text/html": "<div>\n<style scoped>\n    .dataframe tbody tr th:only-of-type {\n        vertical-align: middle;\n    }\n\n    .dataframe tbody tr th {\n        vertical-align: top;\n    }\n\n    .dataframe thead th {\n        text-align: right;\n    }\n</style>\n<table border=\"1\" class=\"dataframe\">\n  <thead>\n    <tr style=\"text-align: right;\">\n      <th></th>\n      <th>sa2_code</th>\n      <th>sa2_name</th>\n      <th>chg_flag</th>\n      <th>chg_lbl</th>\n      <th>sa3_code</th>\n      <th>sa3_name</th>\n      <th>sa4_code</th>\n      <th>sa4_name</th>\n      <th>gcc_code</th>\n      <th>gcc_name</th>\n      <th>ste_code</th>\n      <th>ste_name</th>\n      <th>aus_code</th>\n      <th>aus_name</th>\n      <th>areasqkm</th>\n      <th>loci_uri</th>\n      <th>geometry</th>\n    </tr>\n  </thead>\n  <tbody>\n    <tr>\n      <th>0</th>\n      <td>201011001</td>\n      <td>Alfredton</td>\n      <td>0</td>\n      <td>No change</td>\n      <td>20101</td>\n      <td>Ballarat</td>\n      <td>201</td>\n      <td>Ballarat</td>\n      <td>2RVIC</td>\n      <td>Rest of Vic.</td>\n      <td>2</td>\n      <td>Victoria</td>\n      <td>AUS</td>\n      <td>Australia</td>\n      <td>52.7109</td>\n      <td>http://linked.data.gov.au/dataset/asgsed3/SA2/...</td>\n      <td>POLYGON ((143.78281 -37.56667, 143.75557 -37.5...</td>\n    </tr>\n    <tr>\n      <th>1</th>\n      <td>201011002</td>\n      <td>Ballarat</td>\n      <td>0</td>\n      <td>No change</td>\n      <td>20101</td>\n      <td>Ballarat</td>\n      <td>201</td>\n      <td>Ballarat</td>\n      <td>2RVIC</td>\n      <td>Rest of Vic.</td>\n      <td>2</td>\n      <td>Victoria</td>\n      <td>AUS</td>\n      <td>Australia</td>\n      <td>12.3787</td>\n      <td>http://linked.data.gov.au/dataset/asgsed3/SA2/...</td>\n      <td>POLYGON ((143.81896 -37.55583, 143.81644 -37.5...</td>\n    </tr>\n    <tr>\n      <th>2</th>\n      <td>201011005</td>\n      <td>Buninyong</td>\n      <td>0</td>\n      <td>No change</td>\n      <td>20101</td>\n      <td>Ballarat</td>\n      <td>201</td>\n      <td>Ballarat</td>\n      <td>2RVIC</td>\n      <td>Rest of Vic.</td>\n      <td>2</td>\n      <td>Victoria</td>\n      <td>AUS</td>\n      <td>Australia</td>\n      <td>51.5855</td>\n      <td>http://linked.data.gov.au/dataset/asgsed3/SA2/...</td>\n      <td>POLYGON ((143.8417 -37.61597, 143.84175 -37.61...</td>\n    </tr>\n    <tr>\n      <th>3</th>\n      <td>201011006</td>\n      <td>Delacombe</td>\n      <td>0</td>\n      <td>No change</td>\n      <td>20101</td>\n      <td>Ballarat</td>\n      <td>201</td>\n      <td>Ballarat</td>\n      <td>2RVIC</td>\n      <td>Rest of Vic.</td>\n      <td>2</td>\n      <td>Victoria</td>\n      <td>AUS</td>\n      <td>Australia</td>\n      <td>34.1607</td>\n      <td>http://linked.data.gov.au/dataset/asgsed3/SA2/...</td>\n      <td>POLYGON ((143.75049 -37.5912, 143.75044 -37.59...</td>\n    </tr>\n    <tr>\n      <th>4</th>\n      <td>201011007</td>\n      <td>Smythes Creek</td>\n      <td>0</td>\n      <td>No change</td>\n      <td>20101</td>\n      <td>Ballarat</td>\n      <td>201</td>\n      <td>Ballarat</td>\n      <td>2RVIC</td>\n      <td>Rest of Vic.</td>\n      <td>2</td>\n      <td>Victoria</td>\n      <td>AUS</td>\n      <td>Australia</td>\n      <td>104.7274</td>\n      <td>http://linked.data.gov.au/dataset/asgsed3/SA2/...</td>\n      <td>POLYGON ((143.73295 -37.62334, 143.73262 -37.6...</td>\n    </tr>\n  </tbody>\n</table>\n</div>"
     },
     "execution_count": 117,
     "metadata": {},
     "output_type": "execute_result"
    }
   ],
   "source": [
    "victoria_gdf = gpd.read_file('../data/landing/boundaries/Victoria/vic_dist_boundaries.shp')\n",
    "victoria_gdf.head()"
   ],
   "metadata": {
    "collapsed": false,
    "ExecuteTime": {
     "end_time": "2024-09-26T12:10:44.374621Z",
     "start_time": "2024-09-26T12:10:44.326931Z"
    }
   },
   "id": "7aa0b0ac911b66d2",
   "execution_count": 117
  },
  {
   "cell_type": "code",
   "outputs": [
    {
     "data": {
      "text/plain": "                                                 url              price  \\\n0  https://www.domain.com.au/10-allara-court-donv...          $1,400.00   \n1  https://www.domain.com.au/7-pine-ridge-donvale...      $750 per week   \n2  https://www.domain.com.au/20-mulsanne-way-donv...     $1300 per week   \n3  https://www.domain.com.au/3-monterey-crescent-...  $825pw / $3585pcm   \n4  https://www.domain.com.au/3-49-leslie-street-d...            $680.00   \n\n                                 address property_type   latitude   longitude  \\\n0      10 Allara Court, Donvale VIC 3111     Townhouse -37.774273  145.181126   \n1         7 Pine Ridge, Donvale VIC 3111         House -37.791251  145.175649   \n2      20 Mulsanne Way, Donvale VIC 3111         House -37.797232  145.181264   \n3  3 Monterey Crescent, Donvale VIC 3111         House -37.792402  145.174323   \n4   3/49 Leslie Street, Donvale VIC 3111     Townhouse -37.781012  145.180705   \n\n   Beds  Baths  Parking    bond  ...  sa4_code                sa4_name  \\\n0   4.0    3.0      2.0  9125.0  ...       211  Melbourne - Outer East   \n1   4.0    2.0      0.0  3259.0  ...       211  Melbourne - Outer East   \n2   5.0    2.0      2.0  5649.0  ...       211  Melbourne - Outer East   \n3   3.0    1.0      5.0  3585.0  ...       211  Melbourne - Outer East   \n4   3.0    2.0      2.0  2955.0  ...       211  Melbourne - Outer East   \n\n   gcc_code           gcc_name ste_code  ste_name aus_code   aus_name  \\\n0     2GMEL  Greater Melbourne        2  Victoria      AUS  Australia   \n1     2GMEL  Greater Melbourne        2  Victoria      AUS  Australia   \n2     2GMEL  Greater Melbourne        2  Victoria      AUS  Australia   \n3     2GMEL  Greater Melbourne        2  Victoria      AUS  Australia   \n4     2GMEL  Greater Melbourne        2  Victoria      AUS  Australia   \n\n  areasqkm                                           loci_uri  \n0  20.8028  http://linked.data.gov.au/dataset/asgsed3/SA2/...  \n1  20.8028  http://linked.data.gov.au/dataset/asgsed3/SA2/...  \n2  20.8028  http://linked.data.gov.au/dataset/asgsed3/SA2/...  \n3  20.8028  http://linked.data.gov.au/dataset/asgsed3/SA2/...  \n4  20.8028  http://linked.data.gov.au/dataset/asgsed3/SA2/...  \n\n[5 rows x 29 columns]",
      "text/html": "<div>\n<style scoped>\n    .dataframe tbody tr th:only-of-type {\n        vertical-align: middle;\n    }\n\n    .dataframe tbody tr th {\n        vertical-align: top;\n    }\n\n    .dataframe thead th {\n        text-align: right;\n    }\n</style>\n<table border=\"1\" class=\"dataframe\">\n  <thead>\n    <tr style=\"text-align: right;\">\n      <th></th>\n      <th>url</th>\n      <th>price</th>\n      <th>address</th>\n      <th>property_type</th>\n      <th>latitude</th>\n      <th>longitude</th>\n      <th>Beds</th>\n      <th>Baths</th>\n      <th>Parking</th>\n      <th>bond</th>\n      <th>...</th>\n      <th>sa4_code</th>\n      <th>sa4_name</th>\n      <th>gcc_code</th>\n      <th>gcc_name</th>\n      <th>ste_code</th>\n      <th>ste_name</th>\n      <th>aus_code</th>\n      <th>aus_name</th>\n      <th>areasqkm</th>\n      <th>loci_uri</th>\n    </tr>\n  </thead>\n  <tbody>\n    <tr>\n      <th>0</th>\n      <td>https://www.domain.com.au/10-allara-court-donv...</td>\n      <td>$1,400.00</td>\n      <td>10 Allara Court, Donvale VIC 3111</td>\n      <td>Townhouse</td>\n      <td>-37.774273</td>\n      <td>145.181126</td>\n      <td>4.0</td>\n      <td>3.0</td>\n      <td>2.0</td>\n      <td>9125.0</td>\n      <td>...</td>\n      <td>211</td>\n      <td>Melbourne - Outer East</td>\n      <td>2GMEL</td>\n      <td>Greater Melbourne</td>\n      <td>2</td>\n      <td>Victoria</td>\n      <td>AUS</td>\n      <td>Australia</td>\n      <td>20.8028</td>\n      <td>http://linked.data.gov.au/dataset/asgsed3/SA2/...</td>\n    </tr>\n    <tr>\n      <th>1</th>\n      <td>https://www.domain.com.au/7-pine-ridge-donvale...</td>\n      <td>$750 per week</td>\n      <td>7 Pine Ridge, Donvale VIC 3111</td>\n      <td>House</td>\n      <td>-37.791251</td>\n      <td>145.175649</td>\n      <td>4.0</td>\n      <td>2.0</td>\n      <td>0.0</td>\n      <td>3259.0</td>\n      <td>...</td>\n      <td>211</td>\n      <td>Melbourne - Outer East</td>\n      <td>2GMEL</td>\n      <td>Greater Melbourne</td>\n      <td>2</td>\n      <td>Victoria</td>\n      <td>AUS</td>\n      <td>Australia</td>\n      <td>20.8028</td>\n      <td>http://linked.data.gov.au/dataset/asgsed3/SA2/...</td>\n    </tr>\n    <tr>\n      <th>2</th>\n      <td>https://www.domain.com.au/20-mulsanne-way-donv...</td>\n      <td>$1300 per week</td>\n      <td>20 Mulsanne Way, Donvale VIC 3111</td>\n      <td>House</td>\n      <td>-37.797232</td>\n      <td>145.181264</td>\n      <td>5.0</td>\n      <td>2.0</td>\n      <td>2.0</td>\n      <td>5649.0</td>\n      <td>...</td>\n      <td>211</td>\n      <td>Melbourne - Outer East</td>\n      <td>2GMEL</td>\n      <td>Greater Melbourne</td>\n      <td>2</td>\n      <td>Victoria</td>\n      <td>AUS</td>\n      <td>Australia</td>\n      <td>20.8028</td>\n      <td>http://linked.data.gov.au/dataset/asgsed3/SA2/...</td>\n    </tr>\n    <tr>\n      <th>3</th>\n      <td>https://www.domain.com.au/3-monterey-crescent-...</td>\n      <td>$825pw / $3585pcm</td>\n      <td>3 Monterey Crescent, Donvale VIC 3111</td>\n      <td>House</td>\n      <td>-37.792402</td>\n      <td>145.174323</td>\n      <td>3.0</td>\n      <td>1.0</td>\n      <td>5.0</td>\n      <td>3585.0</td>\n      <td>...</td>\n      <td>211</td>\n      <td>Melbourne - Outer East</td>\n      <td>2GMEL</td>\n      <td>Greater Melbourne</td>\n      <td>2</td>\n      <td>Victoria</td>\n      <td>AUS</td>\n      <td>Australia</td>\n      <td>20.8028</td>\n      <td>http://linked.data.gov.au/dataset/asgsed3/SA2/...</td>\n    </tr>\n    <tr>\n      <th>4</th>\n      <td>https://www.domain.com.au/3-49-leslie-street-d...</td>\n      <td>$680.00</td>\n      <td>3/49 Leslie Street, Donvale VIC 3111</td>\n      <td>Townhouse</td>\n      <td>-37.781012</td>\n      <td>145.180705</td>\n      <td>3.0</td>\n      <td>2.0</td>\n      <td>2.0</td>\n      <td>2955.0</td>\n      <td>...</td>\n      <td>211</td>\n      <td>Melbourne - Outer East</td>\n      <td>2GMEL</td>\n      <td>Greater Melbourne</td>\n      <td>2</td>\n      <td>Victoria</td>\n      <td>AUS</td>\n      <td>Australia</td>\n      <td>20.8028</td>\n      <td>http://linked.data.gov.au/dataset/asgsed3/SA2/...</td>\n    </tr>\n  </tbody>\n</table>\n<p>5 rows × 29 columns</p>\n</div>"
     },
     "execution_count": 118,
     "metadata": {},
     "output_type": "execute_result"
    }
   ],
   "source": [
    "# Merge df with victoria_gdf based on latitude and longitude\n",
    "gdf = gpd.GeoDataFrame(df, geometry=gpd.points_from_xy(df.longitude, df.latitude), crs=victoria_gdf.crs)\n",
    "gdf = gpd.sjoin(gdf, victoria_gdf, how='left')\n",
    "gdf.head()"
   ],
   "metadata": {
    "collapsed": false,
    "ExecuteTime": {
     "end_time": "2024-09-26T12:10:44.455482Z",
     "start_time": "2024-09-26T12:10:44.375824Z"
    }
   },
   "id": "e49499aa58ebf8f5",
   "execution_count": 118
  },
  {
   "cell_type": "code",
   "outputs": [
    {
     "data": {
      "text/plain": "0       POINT (989259.417 -4291898.087)\n1        POINT (988607.824 -4293742.53)\n2       POINT (989043.875 -4294451.666)\n3       POINT (988479.464 -4293860.035)\n4       POINT (989155.458 -4292643.926)\n                     ...               \n9823    POINT (971982.558 -4304953.329)\n9824    POINT (971982.558 -4304953.329)\n9825    POINT (971982.558 -4304953.329)\n9826    POINT (971982.558 -4304953.329)\n9827    POINT (971982.558 -4304953.329)\nName: geometry_proj, Length: 9828, dtype: geometry"
     },
     "execution_count": 119,
     "metadata": {},
     "output_type": "execute_result"
    }
   ],
   "source": [
    "gdf[\"geometry_proj\"] = gdf[\"geometry\"].to_crs('EPSG:3112')\n",
    "gdf[\"geometry_proj\"]"
   ],
   "metadata": {
    "collapsed": false,
    "ExecuteTime": {
     "end_time": "2024-09-26T12:10:44.466592Z",
     "start_time": "2024-09-26T12:10:44.457615Z"
    }
   },
   "id": "ad490ecb9bb5562d",
   "execution_count": 119
  },
  {
   "cell_type": "code",
   "outputs": [
    {
     "data": {
      "text/plain": "                                                    url  \\\n0     https://www.domain.com.au/10-allara-court-donv...   \n1     https://www.domain.com.au/7-pine-ridge-donvale...   \n2     https://www.domain.com.au/20-mulsanne-way-donv...   \n3     https://www.domain.com.au/3-monterey-crescent-...   \n4     https://www.domain.com.au/3-49-leslie-street-d...   \n...                                                 ...   \n9823  https://www.domain.com.au/brighton-vic-3186-96...   \n9824  https://www.domain.com.au/brighton-vic-3186-10...   \n9825  https://www.domain.com.au/brighton-vic-3186-92...   \n9826  https://www.domain.com.au/brighton-vic-3186-91...   \n9827  https://www.domain.com.au/brighton-vic-3186-76...   \n\n                                         price  \\\n0                                    $1,400.00   \n1                                $750 per week   \n2                               $1300 per week   \n3                            $825pw / $3585pcm   \n4                                      $680.00   \n...                                        ...   \n9823  Fine Furnished Residences @ Westprecinct   \n9824  Fine Furnished Residences @ Westprecinct   \n9825  Fine Furnished Residences @ Westprecinct   \n9826  Fine Furnished Residences @ Westprecinct   \n9827  Fine Furnished Residences @ Westprecinct   \n\n                                    address            property_type  \\\n0         10 Allara Court, Donvale VIC 3111                Townhouse   \n1            7 Pine Ridge, Donvale VIC 3111                    House   \n2         20 Mulsanne Way, Donvale VIC 3111                    House   \n3     3 Monterey Crescent, Donvale VIC 3111                    House   \n4      3/49 Leslie Street, Donvale VIC 3111                Townhouse   \n...                                     ...                      ...   \n9823                      Brighton VIC 3186  Apartment / Unit / Flat   \n9824                      Brighton VIC 3186                Townhouse   \n9825                      Brighton VIC 3186  Apartment / Unit / Flat   \n9826                      Brighton VIC 3186  Apartment / Unit / Flat   \n9827                      Brighton VIC 3186  Apartment / Unit / Flat   \n\n       latitude   longitude  Beds  Baths  Parking    bond  ...  \\\n0    -37.774273  145.181126   4.0    3.0      2.0  9125.0  ...   \n1    -37.791251  145.175649   4.0    2.0      0.0  3259.0  ...   \n2    -37.797232  145.181264   5.0    2.0      2.0  5649.0  ...   \n3    -37.792402  145.174323   3.0    1.0      5.0  3585.0  ...   \n4    -37.781012  145.180705   3.0    2.0      2.0  2955.0  ...   \n...         ...         ...   ...    ...      ...     ...  ...   \n9823 -37.904400  144.999740   3.0    2.0      2.0     NaN  ...   \n9824 -37.904400  144.999740   3.0    2.0      2.0     NaN  ...   \n9825 -37.904400  144.999740   3.0    2.0      2.0     NaN  ...   \n9826 -37.904400  144.999740   2.0    2.0      1.0     NaN  ...   \n9827 -37.904400  144.999740   2.0    2.0      1.0     NaN  ...   \n\n                     sa4_name gcc_code           gcc_name ste_code  ste_name  \\\n0      Melbourne - Outer East    2GMEL  Greater Melbourne        2  Victoria   \n1      Melbourne - Outer East    2GMEL  Greater Melbourne        2  Victoria   \n2      Melbourne - Outer East    2GMEL  Greater Melbourne        2  Victoria   \n3      Melbourne - Outer East    2GMEL  Greater Melbourne        2  Victoria   \n4      Melbourne - Outer East    2GMEL  Greater Melbourne        2  Victoria   \n...                       ...      ...                ...      ...       ...   \n9823  Melbourne - Inner South    2GMEL  Greater Melbourne        2  Victoria   \n9824  Melbourne - Inner South    2GMEL  Greater Melbourne        2  Victoria   \n9825  Melbourne - Inner South    2GMEL  Greater Melbourne        2  Victoria   \n9826  Melbourne - Inner South    2GMEL  Greater Melbourne        2  Victoria   \n9827  Melbourne - Inner South    2GMEL  Greater Melbourne        2  Victoria   \n\n     aus_code   aus_name areasqkm  \\\n0         AUS  Australia  20.8028   \n1         AUS  Australia  20.8028   \n2         AUS  Australia  20.8028   \n3         AUS  Australia  20.8028   \n4         AUS  Australia  20.8028   \n...       ...        ...      ...   \n9823      AUS  Australia   8.2004   \n9824      AUS  Australia   8.2004   \n9825      AUS  Australia   8.2004   \n9826      AUS  Australia   8.2004   \n9827      AUS  Australia   8.2004   \n\n                                               loci_uri  \\\n0     http://linked.data.gov.au/dataset/asgsed3/SA2/...   \n1     http://linked.data.gov.au/dataset/asgsed3/SA2/...   \n2     http://linked.data.gov.au/dataset/asgsed3/SA2/...   \n3     http://linked.data.gov.au/dataset/asgsed3/SA2/...   \n4     http://linked.data.gov.au/dataset/asgsed3/SA2/...   \n...                                                 ...   \n9823  http://linked.data.gov.au/dataset/asgsed3/SA2/...   \n9824  http://linked.data.gov.au/dataset/asgsed3/SA2/...   \n9825  http://linked.data.gov.au/dataset/asgsed3/SA2/...   \n9826  http://linked.data.gov.au/dataset/asgsed3/SA2/...   \n9827  http://linked.data.gov.au/dataset/asgsed3/SA2/...   \n\n                        geometry_proj  \n0     POINT (989259.417 -4291898.087)  \n1      POINT (988607.824 -4293742.53)  \n2     POINT (989043.875 -4294451.666)  \n3     POINT (988479.464 -4293860.035)  \n4     POINT (989155.458 -4292643.926)  \n...                               ...  \n9823  POINT (971982.558 -4304953.329)  \n9824  POINT (971982.558 -4304953.329)  \n9825  POINT (971982.558 -4304953.329)  \n9826  POINT (971982.558 -4304953.329)  \n9827  POINT (971982.558 -4304953.329)  \n\n[9828 rows x 30 columns]",
      "text/html": "<div>\n<style scoped>\n    .dataframe tbody tr th:only-of-type {\n        vertical-align: middle;\n    }\n\n    .dataframe tbody tr th {\n        vertical-align: top;\n    }\n\n    .dataframe thead th {\n        text-align: right;\n    }\n</style>\n<table border=\"1\" class=\"dataframe\">\n  <thead>\n    <tr style=\"text-align: right;\">\n      <th></th>\n      <th>url</th>\n      <th>price</th>\n      <th>address</th>\n      <th>property_type</th>\n      <th>latitude</th>\n      <th>longitude</th>\n      <th>Beds</th>\n      <th>Baths</th>\n      <th>Parking</th>\n      <th>bond</th>\n      <th>...</th>\n      <th>sa4_name</th>\n      <th>gcc_code</th>\n      <th>gcc_name</th>\n      <th>ste_code</th>\n      <th>ste_name</th>\n      <th>aus_code</th>\n      <th>aus_name</th>\n      <th>areasqkm</th>\n      <th>loci_uri</th>\n      <th>geometry_proj</th>\n    </tr>\n  </thead>\n  <tbody>\n    <tr>\n      <th>0</th>\n      <td>https://www.domain.com.au/10-allara-court-donv...</td>\n      <td>$1,400.00</td>\n      <td>10 Allara Court, Donvale VIC 3111</td>\n      <td>Townhouse</td>\n      <td>-37.774273</td>\n      <td>145.181126</td>\n      <td>4.0</td>\n      <td>3.0</td>\n      <td>2.0</td>\n      <td>9125.0</td>\n      <td>...</td>\n      <td>Melbourne - Outer East</td>\n      <td>2GMEL</td>\n      <td>Greater Melbourne</td>\n      <td>2</td>\n      <td>Victoria</td>\n      <td>AUS</td>\n      <td>Australia</td>\n      <td>20.8028</td>\n      <td>http://linked.data.gov.au/dataset/asgsed3/SA2/...</td>\n      <td>POINT (989259.417 -4291898.087)</td>\n    </tr>\n    <tr>\n      <th>1</th>\n      <td>https://www.domain.com.au/7-pine-ridge-donvale...</td>\n      <td>$750 per week</td>\n      <td>7 Pine Ridge, Donvale VIC 3111</td>\n      <td>House</td>\n      <td>-37.791251</td>\n      <td>145.175649</td>\n      <td>4.0</td>\n      <td>2.0</td>\n      <td>0.0</td>\n      <td>3259.0</td>\n      <td>...</td>\n      <td>Melbourne - Outer East</td>\n      <td>2GMEL</td>\n      <td>Greater Melbourne</td>\n      <td>2</td>\n      <td>Victoria</td>\n      <td>AUS</td>\n      <td>Australia</td>\n      <td>20.8028</td>\n      <td>http://linked.data.gov.au/dataset/asgsed3/SA2/...</td>\n      <td>POINT (988607.824 -4293742.53)</td>\n    </tr>\n    <tr>\n      <th>2</th>\n      <td>https://www.domain.com.au/20-mulsanne-way-donv...</td>\n      <td>$1300 per week</td>\n      <td>20 Mulsanne Way, Donvale VIC 3111</td>\n      <td>House</td>\n      <td>-37.797232</td>\n      <td>145.181264</td>\n      <td>5.0</td>\n      <td>2.0</td>\n      <td>2.0</td>\n      <td>5649.0</td>\n      <td>...</td>\n      <td>Melbourne - Outer East</td>\n      <td>2GMEL</td>\n      <td>Greater Melbourne</td>\n      <td>2</td>\n      <td>Victoria</td>\n      <td>AUS</td>\n      <td>Australia</td>\n      <td>20.8028</td>\n      <td>http://linked.data.gov.au/dataset/asgsed3/SA2/...</td>\n      <td>POINT (989043.875 -4294451.666)</td>\n    </tr>\n    <tr>\n      <th>3</th>\n      <td>https://www.domain.com.au/3-monterey-crescent-...</td>\n      <td>$825pw / $3585pcm</td>\n      <td>3 Monterey Crescent, Donvale VIC 3111</td>\n      <td>House</td>\n      <td>-37.792402</td>\n      <td>145.174323</td>\n      <td>3.0</td>\n      <td>1.0</td>\n      <td>5.0</td>\n      <td>3585.0</td>\n      <td>...</td>\n      <td>Melbourne - Outer East</td>\n      <td>2GMEL</td>\n      <td>Greater Melbourne</td>\n      <td>2</td>\n      <td>Victoria</td>\n      <td>AUS</td>\n      <td>Australia</td>\n      <td>20.8028</td>\n      <td>http://linked.data.gov.au/dataset/asgsed3/SA2/...</td>\n      <td>POINT (988479.464 -4293860.035)</td>\n    </tr>\n    <tr>\n      <th>4</th>\n      <td>https://www.domain.com.au/3-49-leslie-street-d...</td>\n      <td>$680.00</td>\n      <td>3/49 Leslie Street, Donvale VIC 3111</td>\n      <td>Townhouse</td>\n      <td>-37.781012</td>\n      <td>145.180705</td>\n      <td>3.0</td>\n      <td>2.0</td>\n      <td>2.0</td>\n      <td>2955.0</td>\n      <td>...</td>\n      <td>Melbourne - Outer East</td>\n      <td>2GMEL</td>\n      <td>Greater Melbourne</td>\n      <td>2</td>\n      <td>Victoria</td>\n      <td>AUS</td>\n      <td>Australia</td>\n      <td>20.8028</td>\n      <td>http://linked.data.gov.au/dataset/asgsed3/SA2/...</td>\n      <td>POINT (989155.458 -4292643.926)</td>\n    </tr>\n    <tr>\n      <th>...</th>\n      <td>...</td>\n      <td>...</td>\n      <td>...</td>\n      <td>...</td>\n      <td>...</td>\n      <td>...</td>\n      <td>...</td>\n      <td>...</td>\n      <td>...</td>\n      <td>...</td>\n      <td>...</td>\n      <td>...</td>\n      <td>...</td>\n      <td>...</td>\n      <td>...</td>\n      <td>...</td>\n      <td>...</td>\n      <td>...</td>\n      <td>...</td>\n      <td>...</td>\n      <td>...</td>\n    </tr>\n    <tr>\n      <th>9823</th>\n      <td>https://www.domain.com.au/brighton-vic-3186-96...</td>\n      <td>Fine Furnished Residences @ Westprecinct</td>\n      <td>Brighton VIC 3186</td>\n      <td>Apartment / Unit / Flat</td>\n      <td>-37.904400</td>\n      <td>144.999740</td>\n      <td>3.0</td>\n      <td>2.0</td>\n      <td>2.0</td>\n      <td>NaN</td>\n      <td>...</td>\n      <td>Melbourne - Inner South</td>\n      <td>2GMEL</td>\n      <td>Greater Melbourne</td>\n      <td>2</td>\n      <td>Victoria</td>\n      <td>AUS</td>\n      <td>Australia</td>\n      <td>8.2004</td>\n      <td>http://linked.data.gov.au/dataset/asgsed3/SA2/...</td>\n      <td>POINT (971982.558 -4304953.329)</td>\n    </tr>\n    <tr>\n      <th>9824</th>\n      <td>https://www.domain.com.au/brighton-vic-3186-10...</td>\n      <td>Fine Furnished Residences @ Westprecinct</td>\n      <td>Brighton VIC 3186</td>\n      <td>Townhouse</td>\n      <td>-37.904400</td>\n      <td>144.999740</td>\n      <td>3.0</td>\n      <td>2.0</td>\n      <td>2.0</td>\n      <td>NaN</td>\n      <td>...</td>\n      <td>Melbourne - Inner South</td>\n      <td>2GMEL</td>\n      <td>Greater Melbourne</td>\n      <td>2</td>\n      <td>Victoria</td>\n      <td>AUS</td>\n      <td>Australia</td>\n      <td>8.2004</td>\n      <td>http://linked.data.gov.au/dataset/asgsed3/SA2/...</td>\n      <td>POINT (971982.558 -4304953.329)</td>\n    </tr>\n    <tr>\n      <th>9825</th>\n      <td>https://www.domain.com.au/brighton-vic-3186-92...</td>\n      <td>Fine Furnished Residences @ Westprecinct</td>\n      <td>Brighton VIC 3186</td>\n      <td>Apartment / Unit / Flat</td>\n      <td>-37.904400</td>\n      <td>144.999740</td>\n      <td>3.0</td>\n      <td>2.0</td>\n      <td>2.0</td>\n      <td>NaN</td>\n      <td>...</td>\n      <td>Melbourne - Inner South</td>\n      <td>2GMEL</td>\n      <td>Greater Melbourne</td>\n      <td>2</td>\n      <td>Victoria</td>\n      <td>AUS</td>\n      <td>Australia</td>\n      <td>8.2004</td>\n      <td>http://linked.data.gov.au/dataset/asgsed3/SA2/...</td>\n      <td>POINT (971982.558 -4304953.329)</td>\n    </tr>\n    <tr>\n      <th>9826</th>\n      <td>https://www.domain.com.au/brighton-vic-3186-91...</td>\n      <td>Fine Furnished Residences @ Westprecinct</td>\n      <td>Brighton VIC 3186</td>\n      <td>Apartment / Unit / Flat</td>\n      <td>-37.904400</td>\n      <td>144.999740</td>\n      <td>2.0</td>\n      <td>2.0</td>\n      <td>1.0</td>\n      <td>NaN</td>\n      <td>...</td>\n      <td>Melbourne - Inner South</td>\n      <td>2GMEL</td>\n      <td>Greater Melbourne</td>\n      <td>2</td>\n      <td>Victoria</td>\n      <td>AUS</td>\n      <td>Australia</td>\n      <td>8.2004</td>\n      <td>http://linked.data.gov.au/dataset/asgsed3/SA2/...</td>\n      <td>POINT (971982.558 -4304953.329)</td>\n    </tr>\n    <tr>\n      <th>9827</th>\n      <td>https://www.domain.com.au/brighton-vic-3186-76...</td>\n      <td>Fine Furnished Residences @ Westprecinct</td>\n      <td>Brighton VIC 3186</td>\n      <td>Apartment / Unit / Flat</td>\n      <td>-37.904400</td>\n      <td>144.999740</td>\n      <td>2.0</td>\n      <td>2.0</td>\n      <td>1.0</td>\n      <td>NaN</td>\n      <td>...</td>\n      <td>Melbourne - Inner South</td>\n      <td>2GMEL</td>\n      <td>Greater Melbourne</td>\n      <td>2</td>\n      <td>Victoria</td>\n      <td>AUS</td>\n      <td>Australia</td>\n      <td>8.2004</td>\n      <td>http://linked.data.gov.au/dataset/asgsed3/SA2/...</td>\n      <td>POINT (971982.558 -4304953.329)</td>\n    </tr>\n  </tbody>\n</table>\n<p>9828 rows × 30 columns</p>\n</div>"
     },
     "execution_count": 120,
     "metadata": {},
     "output_type": "execute_result"
    }
   ],
   "source": [
    "gdf"
   ],
   "metadata": {
    "collapsed": false,
    "ExecuteTime": {
     "end_time": "2024-09-26T12:10:44.487805Z",
     "start_time": "2024-09-26T12:10:44.467757Z"
    }
   },
   "id": "3a8e215bc9285321",
   "execution_count": 120
  },
  {
   "cell_type": "code",
   "outputs": [],
   "source": [
    "# Save as parquet\n",
    "gdf.to_csv(\"../data/raw/domain.csv\")"
   ],
   "metadata": {
    "collapsed": false,
    "ExecuteTime": {
     "end_time": "2024-09-26T12:10:44.723662Z",
     "start_time": "2024-09-26T12:10:44.489738Z"
    }
   },
   "id": "49714c1987c1fbeb",
   "execution_count": 121
  }
 ],
 "metadata": {
  "kernelspec": {
   "display_name": "Python 3",
   "language": "python",
   "name": "python3"
  },
  "language_info": {
   "codemirror_mode": {
    "name": "ipython",
    "version": 2
   },
   "file_extension": ".py",
   "mimetype": "text/x-python",
   "name": "python",
   "nbconvert_exporter": "python",
   "pygments_lexer": "ipython2",
   "version": "2.7.6"
  }
 },
 "nbformat": 4,
 "nbformat_minor": 5
}
