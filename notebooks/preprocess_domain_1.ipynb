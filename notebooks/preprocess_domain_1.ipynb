{
 "cells": [
  {
   "cell_type": "code",
   "outputs": [],
   "source": [
    "import json\n",
    "import os\n",
    "import re\n",
    "import pandas as pd"
   ],
   "metadata": {
    "collapsed": false,
    "ExecuteTime": {
     "end_time": "2024-09-13T01:40:54.894700Z",
     "start_time": "2024-09-13T01:40:54.885812Z"
    }
   },
   "id": "c60044210cd0302b",
   "execution_count": 123
  },
  {
   "cell_type": "code",
   "outputs": [],
   "source": [
    "DATA_DIRECTORY = \"../scrape_data/\""
   ],
   "metadata": {
    "collapsed": false,
    "ExecuteTime": {
     "end_time": "2024-09-13T01:40:54.905962Z",
     "start_time": "2024-09-13T01:40:54.903069Z"
    }
   },
   "id": "ef3fc6794a3c27db",
   "execution_count": 124
  },
  {
   "cell_type": "code",
   "outputs": [],
   "source": [
    "data_files = [file for file in os.listdir(DATA_DIRECTORY) if file.endswith(\".json\")]"
   ],
   "metadata": {
    "collapsed": false,
    "ExecuteTime": {
     "end_time": "2024-09-13T01:40:54.929813Z",
     "start_time": "2024-09-13T01:40:54.925407Z"
    }
   },
   "id": "cbb68dd131857482",
   "execution_count": 125
  },
  {
   "cell_type": "code",
   "outputs": [],
   "source": [
    "data_flat = []"
   ],
   "metadata": {
    "collapsed": false,
    "ExecuteTime": {
     "end_time": "2024-09-13T01:40:54.946960Z",
     "start_time": "2024-09-13T01:40:54.937712Z"
    }
   },
   "id": "5772383346ed6274",
   "execution_count": 126
  },
  {
   "cell_type": "code",
   "outputs": [],
   "source": [
    "def extract_number(text):\n",
    "    match = re.search(r'Bond\\s\\$(\\d+)', text)\n",
    "    if match:\n",
    "        return int(match.group(1))\n",
    "    return None"
   ],
   "metadata": {
    "collapsed": false,
    "ExecuteTime": {
     "end_time": "2024-09-13T01:40:54.951021Z",
     "start_time": "2024-09-13T01:40:54.947932Z"
    }
   },
   "id": "260d650c9402bb88",
   "execution_count": 127
  },
  {
   "cell_type": "code",
   "outputs": [],
   "source": [
    "def flatten_row(row):\n",
    "    try:\n",
    "        row_flat = {\"url\": row[\"url\"], \"price\": row[\"price\"], \"address\": row[\"address\"],\n",
    "                    \"property_type\": row[\"property_type\"], \"latitude\": row[\"latitude\"], \"longitude\": row[\"longitude\"]}\n",
    "\n",
    "        for feature in row[\"features\"]:\n",
    "            if len(feature.split()) == 2:\n",
    "                feature_value, feature_name, *_ = feature.replace(\"- \", \"\").split()\n",
    "                row_flat[feature_name] = feature_value\n",
    "\n",
    "        for summary_item in row[\"summary\"]:\n",
    "            row_flat[\"bond\"] = extract_number(summary_item)\n",
    "\n",
    "        return row_flat\n",
    "    except Exception as e:\n",
    "        print(e)\n",
    "        return None"
   ],
   "metadata": {
    "collapsed": false,
    "ExecuteTime": {
     "end_time": "2024-09-13T01:40:54.955494Z",
     "start_time": "2024-09-13T01:40:54.952756Z"
    }
   },
   "id": "91d792b6bd8f8566",
   "execution_count": 128
  },
  {
   "cell_type": "code",
   "outputs": [],
   "source": [],
   "metadata": {
    "collapsed": false,
    "ExecuteTime": {
     "end_time": "2024-09-13T01:40:54.957785Z",
     "start_time": "2024-09-13T01:40:54.956638Z"
    }
   },
   "id": "47f4c4623aa21cc5",
   "execution_count": 128
  },
  {
   "cell_type": "code",
   "outputs": [
    {
     "name": "stdout",
     "output_type": "stream",
     "text": [
      "'url'\n",
      "9828\n"
     ]
    }
   ],
   "source": [
    "for file in data_files:\n",
    "    with open(DATA_DIRECTORY + file) as f:\n",
    "        content = json.load(f)\n",
    "        for row in content:\n",
    "            flat_row = flatten_row(row)\n",
    "            if flat_row is not None:\n",
    "                data_flat.append(flat_row)\n",
    "\n",
    "print(len(data_flat))"
   ],
   "metadata": {
    "collapsed": false,
    "ExecuteTime": {
     "end_time": "2024-09-13T01:40:55.049929Z",
     "start_time": "2024-09-13T01:40:54.958211Z"
    }
   },
   "id": "259bbf27a7704789",
   "execution_count": 129
  },
  {
   "cell_type": "code",
   "outputs": [
    {
     "data": {
      "text/plain": "                                                 url              price  \\\n0  https://www.domain.com.au/10-allara-court-donv...          $1,400.00   \n1  https://www.domain.com.au/7-pine-ridge-donvale...      $750 per week   \n2  https://www.domain.com.au/20-mulsanne-way-donv...     $1300 per week   \n3  https://www.domain.com.au/3-monterey-crescent-...  $825pw / $3585pcm   \n4  https://www.domain.com.au/3-49-leslie-street-d...            $680.00   \n\n                                 address property_type   latitude   longitude  \\\n0      10 Allara Court, Donvale VIC 3111     Townhouse -37.774273  145.181126   \n1         7 Pine Ridge, Donvale VIC 3111         House -37.791251  145.175649   \n2      20 Mulsanne Way, Donvale VIC 3111         House -37.797232  145.181264   \n3  3 Monterey Crescent, Donvale VIC 3111         House -37.792402  145.174323   \n4   3/49 Leslie Street, Donvale VIC 3111     Townhouse -37.781012  145.180705   \n\n  Beds Baths Parking    bond Bath  Bed  \n0    4     3       2  9125.0  NaN  NaN  \n1    4     2       −  3259.0  NaN  NaN  \n2    5     2       2  5649.0  NaN  NaN  \n3    3   NaN       5  3585.0    1  NaN  \n4    3     2       2  2955.0  NaN  NaN  ",
      "text/html": "<div>\n<style scoped>\n    .dataframe tbody tr th:only-of-type {\n        vertical-align: middle;\n    }\n\n    .dataframe tbody tr th {\n        vertical-align: top;\n    }\n\n    .dataframe thead th {\n        text-align: right;\n    }\n</style>\n<table border=\"1\" class=\"dataframe\">\n  <thead>\n    <tr style=\"text-align: right;\">\n      <th></th>\n      <th>url</th>\n      <th>price</th>\n      <th>address</th>\n      <th>property_type</th>\n      <th>latitude</th>\n      <th>longitude</th>\n      <th>Beds</th>\n      <th>Baths</th>\n      <th>Parking</th>\n      <th>bond</th>\n      <th>Bath</th>\n      <th>Bed</th>\n    </tr>\n  </thead>\n  <tbody>\n    <tr>\n      <th>0</th>\n      <td>https://www.domain.com.au/10-allara-court-donv...</td>\n      <td>$1,400.00</td>\n      <td>10 Allara Court, Donvale VIC 3111</td>\n      <td>Townhouse</td>\n      <td>-37.774273</td>\n      <td>145.181126</td>\n      <td>4</td>\n      <td>3</td>\n      <td>2</td>\n      <td>9125.0</td>\n      <td>NaN</td>\n      <td>NaN</td>\n    </tr>\n    <tr>\n      <th>1</th>\n      <td>https://www.domain.com.au/7-pine-ridge-donvale...</td>\n      <td>$750 per week</td>\n      <td>7 Pine Ridge, Donvale VIC 3111</td>\n      <td>House</td>\n      <td>-37.791251</td>\n      <td>145.175649</td>\n      <td>4</td>\n      <td>2</td>\n      <td>−</td>\n      <td>3259.0</td>\n      <td>NaN</td>\n      <td>NaN</td>\n    </tr>\n    <tr>\n      <th>2</th>\n      <td>https://www.domain.com.au/20-mulsanne-way-donv...</td>\n      <td>$1300 per week</td>\n      <td>20 Mulsanne Way, Donvale VIC 3111</td>\n      <td>House</td>\n      <td>-37.797232</td>\n      <td>145.181264</td>\n      <td>5</td>\n      <td>2</td>\n      <td>2</td>\n      <td>5649.0</td>\n      <td>NaN</td>\n      <td>NaN</td>\n    </tr>\n    <tr>\n      <th>3</th>\n      <td>https://www.domain.com.au/3-monterey-crescent-...</td>\n      <td>$825pw / $3585pcm</td>\n      <td>3 Monterey Crescent, Donvale VIC 3111</td>\n      <td>House</td>\n      <td>-37.792402</td>\n      <td>145.174323</td>\n      <td>3</td>\n      <td>NaN</td>\n      <td>5</td>\n      <td>3585.0</td>\n      <td>1</td>\n      <td>NaN</td>\n    </tr>\n    <tr>\n      <th>4</th>\n      <td>https://www.domain.com.au/3-49-leslie-street-d...</td>\n      <td>$680.00</td>\n      <td>3/49 Leslie Street, Donvale VIC 3111</td>\n      <td>Townhouse</td>\n      <td>-37.781012</td>\n      <td>145.180705</td>\n      <td>3</td>\n      <td>2</td>\n      <td>2</td>\n      <td>2955.0</td>\n      <td>NaN</td>\n      <td>NaN</td>\n    </tr>\n  </tbody>\n</table>\n</div>"
     },
     "execution_count": 130,
     "metadata": {},
     "output_type": "execute_result"
    }
   ],
   "source": [
    "df = pd.DataFrame(data_flat)\n",
    "df.head()"
   ],
   "metadata": {
    "collapsed": false,
    "ExecuteTime": {
     "end_time": "2024-09-13T01:40:55.071533Z",
     "start_time": "2024-09-13T01:40:55.050624Z"
    }
   },
   "id": "91714b975c7ba3a4",
   "execution_count": 130
  },
  {
   "cell_type": "code",
   "outputs": [],
   "source": [
    "df[\"Beds\"] = df[\"Beds\"].replace([\"−\"], 0)\n",
    "df[\"Baths\"] = df[\"Baths\"].replace([\"−\"], 0)\n",
    "df[\"Parking\"] = df[\"Parking\"].replace([\"−\"], 0)\n",
    "\n",
    "df['Beds'] = df['Beds'].fillna(df['Bed'])\n",
    "df = df.drop(columns=['Bed'])\n",
    "\n",
    "df['Baths'] = df['Baths'].fillna(df['Bath'])\n",
    "df = df.drop(columns=['Bath'])\n",
    "\n",
    "df[\"Beds\"] = pd.to_numeric(df[\"Beds\"], errors='coerce')\n",
    "df[\"Baths\"] = pd.to_numeric(df[\"Baths\"], errors='coerce')\n",
    "df[\"Parking\"] = pd.to_numeric(df[\"Parking\"], errors='coerce')"
   ],
   "metadata": {
    "collapsed": false,
    "ExecuteTime": {
     "end_time": "2024-09-13T01:40:55.090979Z",
     "start_time": "2024-09-13T01:40:55.072163Z"
    }
   },
   "id": "f4061de5734542f1",
   "execution_count": 131
  },
  {
   "cell_type": "code",
   "outputs": [],
   "source": [
    "# Extract first price after $ sign, allowing for optional commas or no commas\n",
    "df['extracted_price'] = df['price'].str.extract(r'\\$(\\d+(?:,\\d+)*(?:\\.\\d{2})?)')"
   ],
   "metadata": {
    "collapsed": false,
    "ExecuteTime": {
     "end_time": "2024-09-13T01:40:55.101706Z",
     "start_time": "2024-09-13T01:40:55.092504Z"
    }
   },
   "id": "2dda9b237b1a0652",
   "execution_count": 132
  },
  {
   "cell_type": "code",
   "outputs": [],
   "source": [
    "def extract_all_numbers(text):\n",
    "    # Find all sequences of digits, including decimals\n",
    "    numbers = re.findall(r'\\d+(?:\\.\\d+)?', text)\n",
    "    # Return the first number if found, else None\n",
    "    return numbers[0] if numbers else None\n",
    "\n",
    "df['extracted_price'] = df['extracted_price'].fillna(df['price'].apply(extract_all_numbers))"
   ],
   "metadata": {
    "collapsed": false,
    "ExecuteTime": {
     "end_time": "2024-09-13T01:40:55.111469Z",
     "start_time": "2024-09-13T01:40:55.102266Z"
    }
   },
   "id": "fa140b92ff82c9e",
   "execution_count": 133
  },
  {
   "cell_type": "code",
   "outputs": [],
   "source": [
    "# Remove commas if any, and convert to numeric\n",
    "df['extracted_price'] = df['extracted_price'].str.replace(',', '').astype(float)"
   ],
   "metadata": {
    "collapsed": false,
    "ExecuteTime": {
     "end_time": "2024-09-13T01:40:55.115680Z",
     "start_time": "2024-09-13T01:40:55.112016Z"
    }
   },
   "id": "bd389d7c1a3bd2c",
   "execution_count": 134
  },
  {
   "cell_type": "code",
   "outputs": [
    {
     "data": {
      "text/plain": "                                                    url  \\\n0     https://www.domain.com.au/10-allara-court-donv...   \n1     https://www.domain.com.au/7-pine-ridge-donvale...   \n2     https://www.domain.com.au/20-mulsanne-way-donv...   \n3     https://www.domain.com.au/3-monterey-crescent-...   \n4     https://www.domain.com.au/3-49-leslie-street-d...   \n...                                                 ...   \n9823  https://www.domain.com.au/brighton-vic-3186-96...   \n9824  https://www.domain.com.au/brighton-vic-3186-10...   \n9825  https://www.domain.com.au/brighton-vic-3186-92...   \n9826  https://www.domain.com.au/brighton-vic-3186-91...   \n9827  https://www.domain.com.au/brighton-vic-3186-76...   \n\n                                         price  \\\n0                                    $1,400.00   \n1                                $750 per week   \n2                               $1300 per week   \n3                            $825pw / $3585pcm   \n4                                      $680.00   \n...                                        ...   \n9823  Fine Furnished Residences @ Westprecinct   \n9824  Fine Furnished Residences @ Westprecinct   \n9825  Fine Furnished Residences @ Westprecinct   \n9826  Fine Furnished Residences @ Westprecinct   \n9827  Fine Furnished Residences @ Westprecinct   \n\n                                    address            property_type  \\\n0         10 Allara Court, Donvale VIC 3111                Townhouse   \n1            7 Pine Ridge, Donvale VIC 3111                    House   \n2         20 Mulsanne Way, Donvale VIC 3111                    House   \n3     3 Monterey Crescent, Donvale VIC 3111                    House   \n4      3/49 Leslie Street, Donvale VIC 3111                Townhouse   \n...                                     ...                      ...   \n9823                      Brighton VIC 3186  Apartment / Unit / Flat   \n9824                      Brighton VIC 3186                Townhouse   \n9825                      Brighton VIC 3186  Apartment / Unit / Flat   \n9826                      Brighton VIC 3186  Apartment / Unit / Flat   \n9827                      Brighton VIC 3186  Apartment / Unit / Flat   \n\n       latitude   longitude  Beds  Baths  Parking    bond  extracted_price  \n0    -37.774273  145.181126   4.0    3.0      2.0  9125.0           1400.0  \n1    -37.791251  145.175649   4.0    2.0      0.0  3259.0            750.0  \n2    -37.797232  145.181264   5.0    2.0      2.0  5649.0           1300.0  \n3    -37.792402  145.174323   3.0    1.0      5.0  3585.0            825.0  \n4    -37.781012  145.180705   3.0    2.0      2.0  2955.0            680.0  \n...         ...         ...   ...    ...      ...     ...              ...  \n9823 -37.904400  144.999740   3.0    2.0      2.0     NaN              NaN  \n9824 -37.904400  144.999740   3.0    2.0      2.0     NaN              NaN  \n9825 -37.904400  144.999740   3.0    2.0      2.0     NaN              NaN  \n9826 -37.904400  144.999740   2.0    2.0      1.0     NaN              NaN  \n9827 -37.904400  144.999740   2.0    2.0      1.0     NaN              NaN  \n\n[9828 rows x 11 columns]",
      "text/html": "<div>\n<style scoped>\n    .dataframe tbody tr th:only-of-type {\n        vertical-align: middle;\n    }\n\n    .dataframe tbody tr th {\n        vertical-align: top;\n    }\n\n    .dataframe thead th {\n        text-align: right;\n    }\n</style>\n<table border=\"1\" class=\"dataframe\">\n  <thead>\n    <tr style=\"text-align: right;\">\n      <th></th>\n      <th>url</th>\n      <th>price</th>\n      <th>address</th>\n      <th>property_type</th>\n      <th>latitude</th>\n      <th>longitude</th>\n      <th>Beds</th>\n      <th>Baths</th>\n      <th>Parking</th>\n      <th>bond</th>\n      <th>extracted_price</th>\n    </tr>\n  </thead>\n  <tbody>\n    <tr>\n      <th>0</th>\n      <td>https://www.domain.com.au/10-allara-court-donv...</td>\n      <td>$1,400.00</td>\n      <td>10 Allara Court, Donvale VIC 3111</td>\n      <td>Townhouse</td>\n      <td>-37.774273</td>\n      <td>145.181126</td>\n      <td>4.0</td>\n      <td>3.0</td>\n      <td>2.0</td>\n      <td>9125.0</td>\n      <td>1400.0</td>\n    </tr>\n    <tr>\n      <th>1</th>\n      <td>https://www.domain.com.au/7-pine-ridge-donvale...</td>\n      <td>$750 per week</td>\n      <td>7 Pine Ridge, Donvale VIC 3111</td>\n      <td>House</td>\n      <td>-37.791251</td>\n      <td>145.175649</td>\n      <td>4.0</td>\n      <td>2.0</td>\n      <td>0.0</td>\n      <td>3259.0</td>\n      <td>750.0</td>\n    </tr>\n    <tr>\n      <th>2</th>\n      <td>https://www.domain.com.au/20-mulsanne-way-donv...</td>\n      <td>$1300 per week</td>\n      <td>20 Mulsanne Way, Donvale VIC 3111</td>\n      <td>House</td>\n      <td>-37.797232</td>\n      <td>145.181264</td>\n      <td>5.0</td>\n      <td>2.0</td>\n      <td>2.0</td>\n      <td>5649.0</td>\n      <td>1300.0</td>\n    </tr>\n    <tr>\n      <th>3</th>\n      <td>https://www.domain.com.au/3-monterey-crescent-...</td>\n      <td>$825pw / $3585pcm</td>\n      <td>3 Monterey Crescent, Donvale VIC 3111</td>\n      <td>House</td>\n      <td>-37.792402</td>\n      <td>145.174323</td>\n      <td>3.0</td>\n      <td>1.0</td>\n      <td>5.0</td>\n      <td>3585.0</td>\n      <td>825.0</td>\n    </tr>\n    <tr>\n      <th>4</th>\n      <td>https://www.domain.com.au/3-49-leslie-street-d...</td>\n      <td>$680.00</td>\n      <td>3/49 Leslie Street, Donvale VIC 3111</td>\n      <td>Townhouse</td>\n      <td>-37.781012</td>\n      <td>145.180705</td>\n      <td>3.0</td>\n      <td>2.0</td>\n      <td>2.0</td>\n      <td>2955.0</td>\n      <td>680.0</td>\n    </tr>\n    <tr>\n      <th>...</th>\n      <td>...</td>\n      <td>...</td>\n      <td>...</td>\n      <td>...</td>\n      <td>...</td>\n      <td>...</td>\n      <td>...</td>\n      <td>...</td>\n      <td>...</td>\n      <td>...</td>\n      <td>...</td>\n    </tr>\n    <tr>\n      <th>9823</th>\n      <td>https://www.domain.com.au/brighton-vic-3186-96...</td>\n      <td>Fine Furnished Residences @ Westprecinct</td>\n      <td>Brighton VIC 3186</td>\n      <td>Apartment / Unit / Flat</td>\n      <td>-37.904400</td>\n      <td>144.999740</td>\n      <td>3.0</td>\n      <td>2.0</td>\n      <td>2.0</td>\n      <td>NaN</td>\n      <td>NaN</td>\n    </tr>\n    <tr>\n      <th>9824</th>\n      <td>https://www.domain.com.au/brighton-vic-3186-10...</td>\n      <td>Fine Furnished Residences @ Westprecinct</td>\n      <td>Brighton VIC 3186</td>\n      <td>Townhouse</td>\n      <td>-37.904400</td>\n      <td>144.999740</td>\n      <td>3.0</td>\n      <td>2.0</td>\n      <td>2.0</td>\n      <td>NaN</td>\n      <td>NaN</td>\n    </tr>\n    <tr>\n      <th>9825</th>\n      <td>https://www.domain.com.au/brighton-vic-3186-92...</td>\n      <td>Fine Furnished Residences @ Westprecinct</td>\n      <td>Brighton VIC 3186</td>\n      <td>Apartment / Unit / Flat</td>\n      <td>-37.904400</td>\n      <td>144.999740</td>\n      <td>3.0</td>\n      <td>2.0</td>\n      <td>2.0</td>\n      <td>NaN</td>\n      <td>NaN</td>\n    </tr>\n    <tr>\n      <th>9826</th>\n      <td>https://www.domain.com.au/brighton-vic-3186-91...</td>\n      <td>Fine Furnished Residences @ Westprecinct</td>\n      <td>Brighton VIC 3186</td>\n      <td>Apartment / Unit / Flat</td>\n      <td>-37.904400</td>\n      <td>144.999740</td>\n      <td>2.0</td>\n      <td>2.0</td>\n      <td>1.0</td>\n      <td>NaN</td>\n      <td>NaN</td>\n    </tr>\n    <tr>\n      <th>9827</th>\n      <td>https://www.domain.com.au/brighton-vic-3186-76...</td>\n      <td>Fine Furnished Residences @ Westprecinct</td>\n      <td>Brighton VIC 3186</td>\n      <td>Apartment / Unit / Flat</td>\n      <td>-37.904400</td>\n      <td>144.999740</td>\n      <td>2.0</td>\n      <td>2.0</td>\n      <td>1.0</td>\n      <td>NaN</td>\n      <td>NaN</td>\n    </tr>\n  </tbody>\n</table>\n<p>9828 rows × 11 columns</p>\n</div>"
     },
     "execution_count": 135,
     "metadata": {},
     "output_type": "execute_result"
    }
   ],
   "source": [
    "df"
   ],
   "metadata": {
    "collapsed": false,
    "ExecuteTime": {
     "end_time": "2024-09-13T01:40:55.123831Z",
     "start_time": "2024-09-13T01:40:55.116453Z"
    }
   },
   "id": "efd5512b0ffa16e6",
   "execution_count": 135
  },
  {
   "cell_type": "code",
   "outputs": [],
   "source": [
    "# Save as parquet\n",
    "df.to_parquet(\"../data/raw/domain.parquet\")"
   ],
   "metadata": {
    "collapsed": false,
    "ExecuteTime": {
     "end_time": "2024-09-13T01:40:55.143429Z",
     "start_time": "2024-09-13T01:40:55.126268Z"
    }
   },
   "id": "49714c1987c1fbeb",
   "execution_count": 136
  }
 ],
 "metadata": {
  "kernelspec": {
   "display_name": "Python 3",
   "language": "python",
   "name": "python3"
  },
  "language_info": {
   "codemirror_mode": {
    "name": "ipython",
    "version": 2
   },
   "file_extension": ".py",
   "mimetype": "text/x-python",
   "name": "python",
   "nbconvert_exporter": "python",
   "pygments_lexer": "ipython2",
   "version": "2.7.6"
  }
 },
 "nbformat": 4,
 "nbformat_minor": 5
}
