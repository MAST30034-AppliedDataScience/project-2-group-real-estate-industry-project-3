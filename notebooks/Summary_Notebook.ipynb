{
 "cells": [
  {
   "cell_type": "markdown",
   "metadata": {},
   "source": [
    "# **Real Estate Industry Project**\n"
   ]
  },
  {
   "cell_type": "markdown",
   "metadata": {},
   "source": [
    "\n",
    "## **Data Collection and Pre-processing**\n",
    "\n",
    "The first step in our analysis involved scraping rental listings from domain.com.au. Basic preprocessing tasks were carried out, including joining listings with their corresponding SA2 zone, removing outliers, imputing missing values (primarily for beds, baths and parkings) and extracting prices from inconsistent listings using RegEx. "
   ]
  },
  {
   "cell_type": "markdown",
   "metadata": {},
   "source": [
    "## **Contextual Data Collection**\n",
    "In parallel, we gathered data on various socio-economic factors, utilities, and services to provide context for each property’s location within the Statistical Area Level 2 (SA2). This data offered a detailed understanding of the surrounding environment of the properties. Some of the data explored included:\n",
    "- Population (Current and Projected)\n",
    "- Income levels\n",
    "- Parks and green spaces\n",
    "- Recreational facilities\n",
    "- Crimes and property lost incidents\n",
    "- Hospitals and healthcare facilities\n",
    "- Public transport Accessibility\n",
    "- CBD distance\n",
    "- Schools and educational facilities\n",
    "- Shopping centres\n",
    "\n",
    "## **Distance Data Collection**\n",
    "We also calculated the distance from each property to the nearest train station and the Melbourne CBD using [OpenRouteService API](https://openrouteservice.org/) along with straight line distances from nearest Hospital, Park and School. This information was crucial in determining the accessibility of essential services and amenities for each property.\n",
    "\n",
    "Finally, to discover temporal trends in rental prices, we used the historical rental prices data to fit an [ARIMA model](https://en.wikipedia.org/wiki/Autoregressive_integrated_moving_average) and forecast growth over next 3 years."
   ]
  },
  {
   "cell_type": "markdown",
   "metadata": {},
   "source": [
    "## **Question 1:**\n",
    "###  What are the Most Important Internal and External Factors\n",
    "\n",
    "We implemented two machine learning models - Random Forest Regressor and XGBoost, to answer this question. \n",
    "We started with our final dataset where we combined various features relating to public transport (train stations), schools, income, parks, crime and shopping centres. Next, we performed correlation analysis to check for linear relationships between features. We identified pairs of features that were highly correlated with one another (Pearson correlation coefficient > 0.9) , using this information to remove redundant features. After this preprocessing, we implemented two machine learning models, a Random Forest Regressor and XGBoost. Once we had feature importance rankings, we proceeded to find the features with highest average importance across the two models, which we have identified as the top 10 most important features for predicting rental prices."
   ]
  },
  {
   "cell_type": "code",
   "execution_count": 1,
   "metadata": {
    "ExecuteTime": {
     "end_time": "2024-10-17T05:47:12.290607Z",
     "start_time": "2024-10-17T05:47:11.976046Z"
    }
   },
   "outputs": [],
   "source": [
    "import matplotlib.pyplot as plt\n",
    "import pandas as pd\n",
    "\n",
    "top_10_features = pd.read_csv(\"../data/curated/top_10\")\n",
    "def plot_fig():\n",
    "    plt.figure(figsize=(10, 6))\n",
    "    plt.barh(top_10_features['Feature'], top_10_features['avg_importance'], color='teal')\n",
    "    plt.xlabel('Average Importance')\n",
    "    plt.ylabel('Feature')\n",
    "    plt.title('Feature Importance (Average)')\n",
    "    plt.gca().invert_yaxis()  # To display the highest importance at the top\n",
    "    plt.tight_layout()\n",
    "\n",
    "    # Show the plot\n",
    "    plt.show()\n",
    "\n",
    "plot_fig()"
   ]
  },
  {
   "cell_type": "markdown",
   "metadata": {},
   "source": [
    "![Top 10 Features Importance](../plots/top_10_features.jpg)"
   ]
  },
  {
   "cell_type": "markdown",
   "metadata": {},
   "source": [
    "**The top 10 most important features after our modelling can be grouped into three key categories:**\n"
   ]
  },
  {
   "cell_type": "markdown",
   "metadata": {},
   "source": [
    "- Location of the property\n",
    "- Property structure, specifically its size\n",
    "- Suburb population demographics.\n",
    "\n",
    " Based on these insights, we have a few key recommendations to share.\n",
    "\n",
    "**For renters:**\n",
    "- Understand your affordability by comparing their earnings with the income levels of the population in the area. \n",
    "- Consider rental price growth - if they plan to stay long-term, aim for suburbs with slower rental price increases, which our further modelling can help them identify.\n",
    "- The third advice is to balance location and affordability by thinking about the trade-offs they’re willing to make between the two. \n",
    "\n",
    "**For investors:**\n",
    "- Unlike renters, they should target suburbs with high rent growth. When deciding where to invest, they should consider factors like proximity to the CBD, the nearest schools, and the size of the property, based on your investment capacity.\n",
    "\n",
    "**For policymakers:** \n",
    "- If the goal is to maintain a healthy and growing rental market, one approach is to invest in school infrastructure, as this can help drive growth in areas with potential\n"
   ]
  },
  {
   "cell_type": "markdown",
   "metadata": {},
   "source": [
    "## **Question 2:**\n",
    "\n",
    "### Where are the most liveable and affordable suburbs?\n",
    "\n",
    "The liveability and affordability metrics are displayed in the following two pie charts.\n",
    "\n",
    "<img src=\"../plots/pie_chart.png\" alt=\"Metrics Pie Chart\" width=\"900\" />\n",
    "\n",
    "### Liveability Metrics\n",
    "On the left, we have the *liveability metrics*, which consist of six key elements. Each segment highlights an essential aspect of what makes a place enjoyable and sustainable to live in. \n",
    "- **Mobility** holds the largest share at 35%, emphasizing the importance of transportation options and accessibility to the Central Business District (CBD). This metric reflects how well residents can move around the city, impacting their overall quality of life.\n",
    "- **Safety** accounts for 20%, highlighting the need for secure neighborhoods in relation to crime rates, specifically in property lost incidents. A safer environment contributes significantly to residents' peace of mind and overall satisfaction with their living conditions.\n",
    "- **Community Amenities** contributes 15%, focusing on the availability of green spaces, shopping centers, and entertainment facilities. Access to these amenities enhances residents' recreational options and promotes community engagement.\n",
    "- **Healthcare** also takes up 15%, indicating the proximity and availability of local hospitals and medical facilities. Access to healthcare services is crucial for residents' well-being and emergency care.\n",
    "- **Education** is next at 10%, emphasizing the number of independent schools available in the area. Quality educational options are vital for families and can significantly influence a neighborhood's attractiveness.\n",
    "- **Price** accounts for 5%, underscoring how housing costs impact liveability. This metric highlights the financial aspect of living in an area and its effect on residents' ability to maintain a good quality of life.\n",
    "\n",
    "\n",
    "### Affordability Metrics\n",
    "On the right, we have the *affordability metrics*, consisting of four factors.\n",
    "- **Income-to-Price Ratio (IPR)** stands out with 40%, indicating the relationship between income levels and housing costs. A higher ratio suggests that residents are less burdened by housing expenses, making it easier for them to afford their homes.\n",
    "- **Housing Pressure Index (HPI)** follows at 30%, measuring the stress on housing markets. This index helps assess whether the demand for housing exceeds the available supply, which can lead to increased prices and reduced affordability. \n",
    "- **Population Density Inverse (PDI)** accounts for 20%. This metric reflects the inverse of population density; lower density can imply more spacious living conditions and potentially more affordable housing options.\n",
    "- **Gini Inequality Inverse (GII)** contributes 10%, underscoring economic disparity in housing access. A higher GII value indicates greater income equality, suggesting that more individuals have a fair chance to access affordable housing.\n",
    "\n",
    "In summary, these metrics help us understand the balance between what makes a community livable and what is affordable, guiding our efforts in urban planning and policy development. "
   ]
  },
  {
   "cell_type": "markdown",
   "metadata": {
    "collapsed": false
   },
   "source": [
    "### Housing Affordability Metrics\n",
    "\n",
    "1. **Income-to-Price Ratio (IPR)**: Measures the affordability of housing relative to income.\n",
    "   It is calculated as:\n",
    "   $$ \\text{IPR} = \\frac{\\text{Median Income}}{\\text{Median Housing Price}} $$\n",
    "\n",
    "2. **Housing Pressure Index (HPI)**: Measures the availability of housing.\n",
    "   A higher HPI indicates less pressure on housing supply, calculated as:\n",
    "   $$ \\text{HPI} = 1 - \\left( \\frac{\\text{Occupied Housing}}{\\text{Estimated Resident Population}} \\right) $$\n",
    "\n",
    "3. **Population Density Inverse (PDI)**: The inverse of population density, indicating potential housing affordability.\n",
    "   It is calculated as:\n",
    "   $$ \\text{PDI} = \\frac{1}{\\text{Population Density (persons per km}^2\\text{)}} $$\n",
    "\n",
    "4. **Gini Inequality Inverse (GII)**: Represents income equality; higher values indicate less income inequality.\n",
    "   It is calculated as:\n",
    "   $$ \\text{GII} = 1 - \\text{Gini Coefficient} $$\n"
   ]
  },
  {
   "cell_type": "markdown",
   "metadata": {
    "collapsed": false
   },
   "source": [
    "## **Question 3:**\n",
    "Next, let's shift our focus to suburbs from an investment standpoint, specifically targeting areas with significant potential for rental price growth.\n",
    "\n",
    "To identify these high-growth suburbs, we utilized an ARIMA time-series model. This model incorporates historical trends, growth rates, and seasonal patterns to forecast rental prices over the next three years.\n",
    "\n",
    "Our analysis reveals that regional suburbs are set to experience the most notable growth with Some areas are projected to grow by as much as 23.6% within just three years."
   ]
  },
  {
   "cell_type": "code",
   "execution_count": null,
   "metadata": {
    "collapsed": false
   },
   "outputs": [],
   "source": [
    "import pandas as pd\n",
    "import seaborn as sns\n",
    "import matplotlib.pyplot as plt\n",
    "\n",
    "top_10_suburbs = pd.read_csv('../data/curated/top_10_suburbs.csv')\n",
    "# Bar plot of the top 10 suburbs with the highest growth percentage\n",
    "fig, ax = plt.subplots(figsize=(10, 5))\n",
    "sns.barplot(data=top_10_suburbs, y=\"suburb\", x=\"Growth Percentage\", ax=ax, color=\"#000F46\")\n",
    "plt.show()"
   ]
  },
  {
   "cell_type": "markdown",
   "metadata": {
    "collapsed": false
   },
   "source": [
    "<img src=\"../plots/top_10_suburbs.png\" alt=\"top_10_suburbs\" width=\"900\"/>\n",
    "\n",
    "While these suburbs may not initially stand out as prime investment candidates, they exhibit strong and stable growth trends, positioning them for substantial, reliable returns as they gain traction and become more mainstream.\n",
    "\n",
    "With rising demand driven by urban expansion and infrastructure developments, these suburbs are set to capitalize on emerging market dynamics.\n",
    "\n",
    "Investors looking for steady, long-term returns will find these areas particularly attractive, offering both resilience and significant ROIs."
   ]
  },
  {
   "cell_type": "code",
   "execution_count": null,
   "metadata": {
    "collapsed": false
   },
   "outputs": [],
   "source": [
    "historical_data_top_10 = pd.read_csv('../data/curated/historical_data_top_10.csv')\n",
    "predicted_data_top_10 = pd.read_csv('../data/curated/predicted_data_top_10.csv')\n",
    "\n",
    "historical_data_top_10[\"Date\"] = pd.to_datetime(historical_data_top_10[\"Date\"])\n",
    "predicted_data_top_10[\"Date\"] = pd.to_datetime(predicted_data_top_10[\"Date\"])\n",
    "\n",
    "fig, ax = plt.subplots(figsize=(10, 5))\n",
    "sns.lineplot(data=historical_data_top_10, x=\"Date\", y=\"Median\", hue=\"suburb\", ax=ax, errorbar=None, legend=False)\n",
    "sns.lineplot(data=predicted_data_top_10, x=\"Date\", y=\"Median\", hue=\"suburb\", ax=ax, errorbar=None)\n",
    "plt.legend(title='Suburb', bbox_to_anchor=(1.05, 1), loc='upper left')\n",
    "plt.savefig(\"../plots/top_10_suburbs_growth_rates.png\", transparent=True, dpi=300, bbox_inches = 'tight')\n",
    "plt.show()"
   ]
  },
  {
   "cell_type": "markdown",
   "metadata": {
    "collapsed": false
   },
   "source": [
    "<img src=\"../plots/top_10_suburbs_growth_rates.png\" alt=\"Top 10 Suburb Growth Rates\" width=\"900\"/>\n",
    "\n",
    "On the other hand, the currently well-regarded suburbs, despite showing the greatest overall growth over the entire timeframe, are marked by significant price volatility and a lack of consistent growth patterns. This combination makes them high-risk, low-return investments.\n",
    "\n",
    "Much of their growth can be attributed to the market recovery following the 2008 Wall Street crash. Now, reaching peak development, these suburbs—while highly desirable for liveability—no longer present strong potential for high investment returns.\n",
    "\n",
    "<img src=\"../plots/../plots/volatile_top_10.png\" alt=\"volatile suburbs\" width=\"900\"/>"
   ]
  },
  {
   "cell_type": "markdown",
   "metadata": {},
   "source": [
    "### Geospatial Visualization\n",
    "Next, we observe the geospatial visualization of the liveability and affordability Indexes. On the left, we have the *liveability index distribution in Victoria*, while the right displays the *affordability index distribution*. The color bar on the side indicates that lighter colors signify higher index values. Both distributions show significant variation across the region."
   ]
  },
  {
   "cell_type": "code",
   "execution_count": null,
   "metadata": {},
   "outputs": [],
   "source": [
    "import numpy as np\n",
    "import matplotlib.pyplot as plt\n",
    "from matplotlib.colors import BoundaryNorm\n",
    "import geopandas as gpd\n",
    "import contextily as ctx\n",
    "from mpl_toolkits.axes_grid1 import make_axes_locatable\n",
    "from matplotlib.ticker import FormatStrFormatter\n",
    "\n",
    "def plot_map_with_colorbar(sf, column, ax, cmap_name='viridis', n_colors=8, title=\"\", crs_string=\"\", alpha=0.5, bounds=None):\n",
    "    '''\n",
    "    Plots a geospatial map with a discrete color bar on the side.\n",
    "\n",
    "    Parameters:\n",
    "        sf: The GeoDataFrame containing the spatial data to be plotted\n",
    "        column: The name of the column in `sf` to be visualized on the map\n",
    "        ax: The matplotlib axis object on which the map will be plotted\n",
    "        cmap_name: The name of the colormap to use (default is 'viridis')\n",
    "        n_colors: The number of discrete colors in the colormap (default is 8)\n",
    "        title: The title of the map (default is an empty string)\n",
    "        crs_string: The Coordinate Reference System (CRS) as a string for adding the basemap (default is \"\")\n",
    "        alpha: The transparency level for the map elements (default is 0.5)\n",
    "        bounds: The boundaries for the color bar (default is None)\n",
    "\n",
    "    Returns:\n",
    "        ax: The axis object with the plotted map\n",
    "        cbar: The color bar associated with the plot\n",
    "    '''\n",
    "    if bounds is None:\n",
    "        bounds = np.linspace(sf[column].min(), sf[column].max(), n_colors + 1)\n",
    "    \n",
    "    cmap = plt.get_cmap(cmap_name, n_colors)\n",
    "    norm = BoundaryNorm(bounds, cmap.N)\n",
    "\n",
    "    im = sf.plot(column=column, ax=ax, legend=False, edgecolor='black', alpha=alpha, cmap=cmap, norm=norm)\n",
    "\n",
    "    ctx.add_basemap(ax, source=ctx.providers.CartoDB.Positron, crs=crs_string, alpha=1, attribution=False)\n",
    "\n",
    "    ax.set_title(title, weight=\"bold\", fontsize=14)\n",
    "    ax.set_xlabel(\"\")  \n",
    "    ax.set_ylabel(\"\")  \n",
    "    \n",
    "    ax.tick_params(axis='both', which='major', labelsize=7)\n",
    "    ax.spines['top'].set_visible(False)\n",
    "    ax.spines['right'].set_visible(False)\n",
    "\n",
    "    divider = make_axes_locatable(ax)\n",
    "    cax = divider.append_axes(\"right\", size=\"3%\", pad=0.1)\n",
    "    cbar = plt.colorbar(im.collections[0], cax=cax, norm=norm, boundaries=bounds, ticks=bounds)\n",
    "    cbar.ax.yaxis.set_major_formatter(FormatStrFormatter('%.1f'))\n",
    "\n",
    "    cbar.outline.set_linewidth(0)\n",
    "    cbar.ax.tick_params(size=0)  \n",
    "\n",
    "    return ax, cbar"
   ]
  },
  {
   "cell_type": "markdown",
   "metadata": {},
   "source": [
    "<img src=\"../plots/avg_liveability_affordability_metropolitan_plot_solid.png\" alt=\"Metrics Pie Chart\" width=\"1300\" />"
   ]
  },
  {
   "cell_type": "markdown",
   "metadata": {},
   "source": [
    "The top suburbs for liveability are located in Melbourne's **southeastern suburbs**. These areas are highly sought after for their excellent public transport, strong safety, quality healthcare, and outstanding schools. In contrast, suburbs known for **affordability** are found on the **outskirts** of Melbourne due to lower demand compared to central areas. "
   ]
  },
  {
   "cell_type": "markdown",
   "metadata": {},
   "source": [
    "#### **The Top 10 Suburbs Based on Our liveability & Affordability Metrics:**"
   ]
  },
  {
   "cell_type": "markdown",
   "metadata": {},
   "source": [
    "<img src=\"../plots/Top_liveability_and_affordability.png\" alt=\"Top Liveability and Affordability\" width=\"900\" />"
   ]
  },
  {
   "cell_type": "markdown",
   "metadata": {},
   "source": [
    "#### **Combined index of liveability and affordability:**"
   ]
  },
  {
   "cell_type": "markdown",
   "metadata": {},
   "source": [
    "<img src=\"../plots/combined_index_metropolitan_plot_solid.png\" alt=\"Metrics Pie Chart\" width=\"900\" />"
   ]
  },
  {
   "cell_type": "markdown",
   "metadata": {},
   "source": [
    "<img src=\"../plots/overall_top.png\" alt=\"Metrics Pie Chart\" width=\"900\" />"
   ]
  },
  {
   "cell_type": "markdown",
   "metadata": {},
   "source": [
    "After applying a 60%, 40% weights to liveability and affordability, **Prahran - Windsor** stands out for its vibrant lifestyle, offering excellent transport links, shopping, cafes, and nightlife, as well as strong connectivity to Melbourne’s CBD. These areas, located at a comfortable distance—within 15km to the city—provide valuable insights for renters seeking a perfect balance between livability and affordability. "
   ]
  },
  {
   "cell_type": "markdown",
   "metadata": {},
   "source": [
    "## **Challenges experienced:**\n",
    "\n",
    "1) The ORS API’s 2000 daily request limit challenged our need to process 10,000 properties, which we managed by batching, caching, and aggregating calls.\n",
    "2) We also faced a mismatch between SA2 codes and suburb names, resolved by mapping suburbs to their SA2 codes for consistent analysis. "
   ]
  },
  {
   "cell_type": "markdown",
   "metadata": {},
   "source": [
    "\n",
    "## **Key Assumptions:**\n",
    "\n",
    "### 1) Independence:\n",
    " We've assumed that each property in the dataset is independent, implying that the features of one property do not affect those of the others. Furthermore, we have assumed that the various features of an individual property are independent of one another.\n",
    "\n",
    "### 2) Linear Relationships: \n",
    "We've performed correlation analysis under the assumption that the relationships between features are linear. However, we acknowledge that this approach may overlook non-linear relationships in the data.\n",
    "\n",
    "### 3) Absence of Major Macroeconomic Factors:\n",
    "In our model, we’ve assumed that there won’t be any major disruptions, such as economic downturns or events like COVID-19, when predicting future rental growth.\n",
    "\n",
    "### 4) Data Representativeness: \n",
    "We’ve assumed that the dataset is a good representation of the broader property market, ensuring that our model's predictions are generalisable to other properties beyond our dataset.\n",
    "\n"
   ]
  },
  {
   "cell_type": "markdown",
   "metadata": {},
   "source": [
    "## **Limitations:**\n",
    "\n",
    "### 1) Historical growth limited to a few suburbs\n",
    "\n",
    "**Impact:**\n",
    "- Missing cyclical patterns over months & years.\n",
    "- Decreased accuracy in long-term predictions.\n",
    "\n",
    "**For Future:**\n",
    "- Acquire historical data through different vendors.\n",
    "- Perform feature engineering using similar suburb data determined by more comprehensive datasets.\n",
    "\n",
    "\n",
    "### 2) Government-provided dataset found online is incomplete in providing all details to date.\n",
    "\n",
    "**Impact:**\n",
    "- Biased prediction, giving advantage to suburbs with complete information.\n",
    "\n",
    "**For Future:**\n",
    "- Manual population of missing data if required.\n",
    "- Perform feature engineering using similar suburb data determined by more comprehensive datasets.\n"
   ]
  },
  {
   "cell_type": "markdown",
   "metadata": {
    "collapsed": false
   },
   "source": [
    "## **Security Practices:**\n",
    "With the large scale of the project, and the mostly online nature, our team ensured that industry standard security and privacy measures were followed.\n",
    "- All Private Data shared via Secured Medium (WhatsApp) with end-to-end encryption.\n",
    "- API Keys (mainly OpenRouteService) were kept Offline at all times (local `.env` files)\n",
    "- Rules in `robots.txt` followed while scraping domain.com.au"
   ]
  },
  {
   "cell_type": "markdown",
   "metadata": {
    "collapsed": false
   },
   "source": [
    "We strongly believe that this analysis can be used by various stakeholders like renters, investors and policymakers to understand Victoria's real estate market, and insights like Liveability, Affordability and Growth can be directly converted to profitable business models and development strategies.\n",
    "\n",
    "And thus to facilitate easy access to these insights, we are in process of building a comprehensive dashboard to explore our current findings and monitor how the market trends change in the future for sustainable growth and development. We expect to complete this by January 2025.\n",
    "\n",
    "#### **A first look at the dashboard is as follows:**\n"
   ]
  },
  {
   "cell_type": "markdown",
   "metadata": {
    "collapsed": false
   },
   "source": [
    "<img src=\"../extras/dashboard.jpg\" alt=\"Dashboard\" width=\"1500\"/>"
   ]
  }
 ],
 "metadata": {
  "kernelspec": {
   "display_name": "base",
   "language": "python",
   "name": "python3"
  },
  "language_info": {
   "codemirror_mode": {
    "name": "ipython",
    "version": 3
   },
   "file_extension": ".py",
   "mimetype": "text/x-python",
   "name": "python",
   "nbconvert_exporter": "python",
   "pygments_lexer": "ipython3",
   "version": "3.11.3"
  }
 },
 "nbformat": 4,
 "nbformat_minor": 2
}
