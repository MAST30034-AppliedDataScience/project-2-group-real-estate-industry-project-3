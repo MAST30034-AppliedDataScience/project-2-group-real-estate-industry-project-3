{
 "cells": [
  {
   "cell_type": "markdown",
   "metadata": {},
   "source": [
    "# **Real Estate Industry Project**\n"
   ]
  },
  {
   "cell_type": "markdown",
   "metadata": {},
   "source": [
    "\n",
    "## **Data Collection and Pre-processing**\n",
    "\n",
    "The first step in our analysis involved scraping rental listings from domain.com.au. Basic preprocessing tasks were carried out, including joining listings with their corresponding SA2 zone, removing outliers, imputing missing values (primarily for beds, baths and parkings) and extracting prices from inconsistent listings using RegEx. "
   ]
  },
  {
   "cell_type": "markdown",
   "metadata": {},
   "source": [
    "## **Contextual Data Collection**\n",
    "In parallel, we gathered data on various socio-economic factors, utilities, and services to provide context for each property’s location within the Statistical Area Level 2 (SA2). This data offered a detailed understanding of the surrounding environment of the properties. Some of the data explored included:\n"
   ]
  },
  {
   "cell_type": "markdown",
   "metadata": {},
   "source": [
    "## **Question 1:**\n",
    "###  What are the Most Important Internal and External Factors\n",
    "\n",
    "We implemented two machine learning models - Random Forest Regressor and XGBoost, to answer this question. \n",
    "We started with our final dataset where we combined various features relating to public transport (train stations), schools, income, parks, crime and shopping centres. Next, we performed correlation analysis to check for linear relationships between features. We identified pairs of features that were highly correlated with one another (Pearson correlation coefficient > 0.9) , using this information to remove redundant features. After this preprocessing, we implemented two machine learning models, a Random Forest Regressor and XGBoost. Once we had feature importance rankings, we proceeded to find the features with highest average importance across the two models, which we have identified as the top 10 most important features for predicting rental prices.\n",
    "\n",
    "\n"
   ]
  },
  {
   "cell_type": "code",
   "execution_count": null,
   "metadata": {},
   "outputs": [],
   "source": [
    "import matplotlib.pyplot as plt\n",
    "\n",
    "plt.figure(figsize=(10, 6))\n",
    "plt.barh(top_10_features['Feature'], top_10_features['avg_importance'], color='teal')\n",
    "plt.xlabel('Average Importance')\n",
    "plt.ylabel('Feature')\n",
    "plt.title('Feature Importance (Average)')\n",
    "plt.gca().invert_yaxis()  # To display the highest importance at the top\n",
    "plt.tight_layout()\n",
    "\n",
    "# Show the plot\n",
    "plt.show()"
   ]
  },
  {
   "cell_type": "markdown",
   "metadata": {},
   "source": [
    "![Top 10 Features Importance](../plots/top_10_features.jpg)"
   ]
  },
  {
   "cell_type": "markdown",
   "metadata": {},
   "source": [
    "The top 10 most important features after our modelling can be grouped into three key categories: \n",
    "- Location of the property\n",
    "- Property structure, specifically its size\n",
    "- Suburb population demographics.\n",
    "\n",
    " Based on these insights, we have a few key recommendations to share.\n",
    "\n",
    "For renters:\n",
    "- Understand your affordability by comparing their earnings with the income levels of the population in the area. \n",
    "- Consider rental price growth - if they plan to stay long-term, aim for suburbs with slower rental price increases, which our further modelling can help them identify.\n",
    "- The third advice is to balance location and affordability by thinking about the trade-offs they’re willing to make between the two. \n",
    "\n",
    "For investors: \n",
    "- Unlike renters, they should target suburbs with high rent growth. When deciding where to invest, they should consider factors like proximity to the CBD, the nearest schools, and the size of the property, based on your investment capacity.\n",
    "\n",
    "For policymakers:\n",
    "- If the goal is to maintain a healthy and growing rental market, one approach is to invest in school infrastructure, as this can help drive growth in areas with potential\n"
   ]
  },
  {
   "cell_type": "markdown",
   "metadata": {},
   "source": [
    "## **Question 2:**\n",
    "\n",
    "### Where are the most liveable and affordable suburbs?\n",
    "\n",
    "The liveability and affordability metrics are displayed in the following two pie charts.\n",
    "\n",
    "<img src=\"../plots/pie_chart.png\" alt=\"Metrics Pie Chart\" width=\"900\" />\n",
    "\n",
    "### Liveability Metrics\n",
    "On the left, we have the *liveability metrics*, which consist of six key elements. Each segment highlights an essential aspect of what makes a place enjoyable and sustainable to live in. \n",
    "- **Mobility** holds the largest share at 35%, emphasizing the importance of transportation options and accessibility to the Central Business District (CBD). This metric reflects how well residents can move around the city, impacting their overall quality of life.\n",
    "- **Safety** accounts for 20%, highlighting the need for secure neighborhoods in relation to crime rates, specifically in property lost incidents. A safer environment contributes significantly to residents' peace of mind and overall satisfaction with their living conditions.\n",
    "- **Community Amenities** contributes 15%, focusing on the availability of green spaces, shopping centers, and entertainment facilities. Access to these amenities enhances residents' recreational options and promotes community engagement.\n",
    "- **Healthcare** also takes up 15%, indicating the proximity and availability of local hospitals and medical facilities. Access to healthcare services is crucial for residents' well-being and emergency care.\n",
    "- **Education** is next at 10%, emphasizing the number of independent schools available in the area. Quality educational options are vital for families and can significantly influence a neighborhood's attractiveness.\n",
    "- **Price** accounts for 5%, underscoring how housing costs impact liveability. This metric highlights the financial aspect of living in an area and its effect on residents' ability to maintain a good quality of life.\n",
    "\n",
    "\n",
    "### Affordability Metrics\n",
    "On the right, we have the *affordability metrics*, consisting of four factors.\n",
    "- **Income-to-Price Ratio (IPR)** stands out with 40%, indicating the relationship between income levels and housing costs. A higher ratio suggests that residents are less burdened by housing expenses, making it easier for them to afford their homes.\n",
    "- **Housing Pressure Index (HPI)** follows at 30%, measuring the stress on housing markets. This index helps assess whether the demand for housing exceeds the available supply, which can lead to increased prices and reduced affordability. \n",
    "- **Population Density Inverse (PDI)** accounts for 20%. This metric reflects the inverse of population density; lower density can imply more spacious living conditions and potentially more affordable housing options.\n",
    "- **Gini Inequality Inverse (GII)** contributes 10%, underscoring economic disparity in housing access. A higher GII value indicates greater income equality, suggesting that more individuals have a fair chance to access affordable housing.\n",
    "\n",
    "In summary, these metrics help us understand the balance between what makes a community livable and what is affordable, guiding our efforts in urban planning and policy development. "
   ]
  },
  {
   "cell_type": "markdown",
   "metadata": {},
   "source": [
    "### Geospatial Visualization\n",
    "Next, we observe the geospatial visualization of the liveability and affordability Indexes. On the left, we have the *liveability index distribution in Victoria*, while the right displays the *affordability index distribution*. The color bar on the side indicates that lighter colors signify higher index values. Both distributions show significant variation across the region."
   ]
  },
  {
   "cell_type": "code",
   "execution_count": 2,
   "metadata": {},
   "outputs": [],
   "source": [
    "import numpy as np\n",
    "import matplotlib.pyplot as plt\n",
    "from matplotlib.colors import BoundaryNorm\n",
    "import geopandas as gpd\n",
    "import contextily as ctx\n",
    "from mpl_toolkits.axes_grid1 import make_axes_locatable\n",
    "from matplotlib.ticker import FormatStrFormatter\n",
    "\n",
    "def plot_map_with_colorbar(sf, column, ax, cmap_name='viridis', n_colors=8, title=\"\", crs_string=\"\", alpha=0.5, bounds=None):\n",
    "    '''\n",
    "    Plots a geospatial map with a discrete color bar on the side.\n",
    "\n",
    "    Parameters:\n",
    "        sf: The GeoDataFrame containing the spatial data to be plotted\n",
    "        column: The name of the column in `sf` to be visualized on the map\n",
    "        ax: The matplotlib axis object on which the map will be plotted\n",
    "        cmap_name: The name of the colormap to use (default is 'viridis')\n",
    "        n_colors: The number of discrete colors in the colormap (default is 8)\n",
    "        title: The title of the map (default is an empty string)\n",
    "        crs_string: The Coordinate Reference System (CRS) as a string for adding the basemap (default is \"\")\n",
    "        alpha: The transparency level for the map elements (default is 0.5)\n",
    "        bounds: The boundaries for the color bar (default is None)\n",
    "\n",
    "    Returns:\n",
    "        ax: The axis object with the plotted map\n",
    "        cbar: The color bar associated with the plot\n",
    "    '''\n",
    "    if bounds is None:\n",
    "        bounds = np.linspace(sf[column].min(), sf[column].max(), n_colors + 1)\n",
    "    \n",
    "    cmap = plt.get_cmap(cmap_name, n_colors)\n",
    "    norm = BoundaryNorm(bounds, cmap.N)\n",
    "\n",
    "    im = sf.plot(column=column, ax=ax, legend=False, edgecolor='black', alpha=alpha, cmap=cmap, norm=norm)\n",
    "\n",
    "    ctx.add_basemap(ax, source=ctx.providers.CartoDB.Positron, crs=crs_string, alpha=1, attribution=False)\n",
    "\n",
    "    ax.set_title(title, weight=\"bold\", fontsize=14)\n",
    "    ax.set_xlabel(\"\")  \n",
    "    ax.set_ylabel(\"\")  \n",
    "    \n",
    "    ax.tick_params(axis='both', which='major', labelsize=7)\n",
    "    ax.spines['top'].set_visible(False)\n",
    "    ax.spines['right'].set_visible(False)\n",
    "\n",
    "    divider = make_axes_locatable(ax)\n",
    "    cax = divider.append_axes(\"right\", size=\"3%\", pad=0.1)\n",
    "    cbar = plt.colorbar(im.collections[0], cax=cax, norm=norm, boundaries=bounds, ticks=bounds)\n",
    "    cbar.ax.yaxis.set_major_formatter(FormatStrFormatter('%.1f'))\n",
    "\n",
    "    cbar.outline.set_linewidth(0)\n",
    "    cbar.ax.tick_params(size=0)  \n",
    "\n",
    "    return ax, cbar"
   ]
  },
  {
   "cell_type": "markdown",
   "metadata": {},
   "source": [
    "<img src=\"../plots/avg_liveability_affordability_metropolitan_plot_solid.png\" alt=\"Metrics Pie Chart\" width=\"1100\" />"
   ]
  },
  {
   "cell_type": "markdown",
   "metadata": {},
   "source": [
    "Combined index of liveability and affordability"
   ]
  },
  {
   "cell_type": "markdown",
   "metadata": {},
   "source": [
    "<img src=\"../plots/combined_index_metropolitan_plot_solid.png\" alt=\"Metrics Pie Chart\" width=\"900\" />"
   ]
  },
  {
   "cell_type": "markdown",
   "metadata": {},
   "source": [
    "\n",
    "## **Key Assumptions:**\n",
    "\n",
    "### 1) Independence:\n",
    " We've assumed that each property in the dataset is independent, implying that the features of one property do not affect those of the others. Furthermore, we have assumed that the various features of an individual property are independent of one another.\n",
    "\n",
    "### 2) Linear Relationships: \n",
    "We've performed correlation analysis under the assumption that the relationships between features are linear. However, we acknowledge that this approach may overlook non-linear relationships in the data.\n",
    "\n",
    "### 3) Absence of Major Macroeconomic Factors:\n",
    "In our model, we’ve assumed that there won’t be any major disruptions, such as economic downturns or events like COVID-19, when predicting future rental growth.\n",
    "\n",
    "### 4) Data Representativeness: \n",
    "We’ve assumed that the dataset is a good representation of the broader property market, ensuring that our model's predictions are generalisable to other properties beyond our dataset.\n",
    "\n"
   ]
  },
  {
   "cell_type": "markdown",
   "metadata": {},
   "source": [
    "## **Limitations:**\n",
    "\n",
    "### 1) Historical growth limited to a few suburbs\n",
    "\n",
    "**Impact:**\n",
    "- Missing cyclical patterns over months & years.\n",
    "- Decreased accuracy in long-term predictions.\n",
    "\n",
    "**For Future:**\n",
    "- Acquire historical data through different vendors.\n",
    "- Perform feature engineering using similar suburb data determined by more comprehensive datasets.\n",
    "\n",
    "\n",
    "### 2) Government-provided dataset found online is incomplete in providing all details to date.\n",
    "\n",
    "**Impact:**\n",
    "- Biased prediction, giving advantage to suburbs with complete information.\n",
    "\n",
    "**For Future:**\n",
    "- Manual population of missing data if required.\n",
    "- Perform feature engineering using similar suburb data determined by more comprehensive datasets.\n"
   ]
  }
 ],
 "metadata": {
  "kernelspec": {
   "display_name": "Python 3",
   "language": "python",
   "name": "python3"
  },
  "language_info": {
   "codemirror_mode": {
    "name": "ipython",
    "version": 3
   },
   "file_extension": ".py",
   "mimetype": "text/x-python",
   "name": "python",
   "nbconvert_exporter": "python",
   "pygments_lexer": "ipython3",
   "version": "3.10.12"
  }
 },
 "nbformat": 4,
 "nbformat_minor": 2
}
